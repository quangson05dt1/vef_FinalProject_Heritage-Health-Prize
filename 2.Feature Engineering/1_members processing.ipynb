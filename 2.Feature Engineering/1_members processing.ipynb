{
 "cells": [
  {
   "cell_type": "code",
   "execution_count": 1,
   "metadata": {
    "ExecuteTime": {
     "end_time": "2020-12-13T17:37:23.426709Z",
     "start_time": "2020-12-13T17:37:22.633825Z"
    }
   },
   "outputs": [],
   "source": [
    "import numpy as np\n",
    "import pandas as pd\n",
    "import matplotlib.pyplot as plt\n",
    "import seaborn as sns\n",
    "%matplotlib inline\n",
    "import warnings"
   ]
  },
  {
   "cell_type": "code",
   "execution_count": 2,
   "metadata": {
    "ExecuteTime": {
     "end_time": "2020-12-13T17:37:23.465600Z",
     "start_time": "2020-12-13T17:37:23.431695Z"
    }
   },
   "outputs": [],
   "source": [
    "df_member = pd.read_csv('../0.Data/Members.csv')"
   ]
  },
  {
   "cell_type": "code",
   "execution_count": 3,
   "metadata": {
    "ExecuteTime": {
     "end_time": "2020-12-13T17:37:23.514470Z",
     "start_time": "2020-12-13T17:37:23.466598Z"
    }
   },
   "outputs": [
    {
     "data": {
      "text/plain": [
       "MemberID            int64\n",
       "AgeAtFirstClaim    object\n",
       "Sex                object\n",
       "dtype: object"
      ]
     },
     "execution_count": 3,
     "metadata": {},
     "output_type": "execute_result"
    }
   ],
   "source": [
    "df_member.dtypes"
   ]
  },
  {
   "cell_type": "code",
   "execution_count": 4,
   "metadata": {
    "ExecuteTime": {
     "end_time": "2020-12-13T17:37:23.603232Z",
     "start_time": "2020-12-13T17:37:23.515466Z"
    }
   },
   "outputs": [
    {
     "data": {
      "text/html": [
       "<div>\n",
       "<style scoped>\n",
       "    .dataframe tbody tr th:only-of-type {\n",
       "        vertical-align: middle;\n",
       "    }\n",
       "\n",
       "    .dataframe tbody tr th {\n",
       "        vertical-align: top;\n",
       "    }\n",
       "\n",
       "    .dataframe thead th {\n",
       "        text-align: right;\n",
       "    }\n",
       "</style>\n",
       "<table border=\"1\" class=\"dataframe\">\n",
       "  <thead>\n",
       "    <tr style=\"text-align: right;\">\n",
       "      <th></th>\n",
       "      <th>MemberID</th>\n",
       "      <th>AgeAtFirstClaim</th>\n",
       "      <th>Sex</th>\n",
       "    </tr>\n",
       "  </thead>\n",
       "  <tbody>\n",
       "    <tr>\n",
       "      <th>0</th>\n",
       "      <td>14723353</td>\n",
       "      <td>70-79</td>\n",
       "      <td>M</td>\n",
       "    </tr>\n",
       "    <tr>\n",
       "      <th>1</th>\n",
       "      <td>75706636</td>\n",
       "      <td>70-79</td>\n",
       "      <td>M</td>\n",
       "    </tr>\n",
       "    <tr>\n",
       "      <th>2</th>\n",
       "      <td>17320609</td>\n",
       "      <td>70-79</td>\n",
       "      <td>M</td>\n",
       "    </tr>\n",
       "    <tr>\n",
       "      <th>3</th>\n",
       "      <td>69690888</td>\n",
       "      <td>40-49</td>\n",
       "      <td>M</td>\n",
       "    </tr>\n",
       "    <tr>\n",
       "      <th>4</th>\n",
       "      <td>33004608</td>\n",
       "      <td>0-9</td>\n",
       "      <td>M</td>\n",
       "    </tr>\n",
       "  </tbody>\n",
       "</table>\n",
       "</div>"
      ],
      "text/plain": [
       "   MemberID AgeAtFirstClaim Sex\n",
       "0  14723353           70-79   M\n",
       "1  75706636           70-79   M\n",
       "2  17320609           70-79   M\n",
       "3  69690888           40-49   M\n",
       "4  33004608             0-9   M"
      ]
     },
     "execution_count": 4,
     "metadata": {},
     "output_type": "execute_result"
    }
   ],
   "source": [
    "df_member.head()"
   ]
  },
  {
   "cell_type": "code",
   "execution_count": 5,
   "metadata": {
    "ExecuteTime": {
     "end_time": "2020-12-13T17:37:23.757845Z",
     "start_time": "2020-12-13T17:37:23.604229Z"
    }
   },
   "outputs": [
    {
     "name": "stdout",
     "output_type": "stream",
     "text": [
      "                 Total   Percent\n",
      "Sex              17552  0.155327\n",
      "AgeAtFirstClaim   5753  0.050912\n",
      "MemberID             0  0.000000\n"
     ]
    },
    {
     "data": {
      "text/html": [
       "<div>\n",
       "<style scoped>\n",
       "    .dataframe tbody tr th:only-of-type {\n",
       "        vertical-align: middle;\n",
       "    }\n",
       "\n",
       "    .dataframe tbody tr th {\n",
       "        vertical-align: top;\n",
       "    }\n",
       "\n",
       "    .dataframe thead th {\n",
       "        text-align: right;\n",
       "    }\n",
       "</style>\n",
       "<table border=\"1\" class=\"dataframe\">\n",
       "  <thead>\n",
       "    <tr style=\"text-align: right;\">\n",
       "      <th></th>\n",
       "      <th>Total</th>\n",
       "      <th>Percent</th>\n",
       "    </tr>\n",
       "  </thead>\n",
       "  <tbody>\n",
       "    <tr>\n",
       "      <th>Sex</th>\n",
       "      <td>17552</td>\n",
       "      <td>0.155327</td>\n",
       "    </tr>\n",
       "    <tr>\n",
       "      <th>AgeAtFirstClaim</th>\n",
       "      <td>5753</td>\n",
       "      <td>0.050912</td>\n",
       "    </tr>\n",
       "    <tr>\n",
       "      <th>MemberID</th>\n",
       "      <td>0</td>\n",
       "      <td>0.000000</td>\n",
       "    </tr>\n",
       "  </tbody>\n",
       "</table>\n",
       "</div>"
      ],
      "text/plain": [
       "                 Total   Percent\n",
       "Sex              17552  0.155327\n",
       "AgeAtFirstClaim   5753  0.050912\n",
       "MemberID             0  0.000000"
      ]
     },
     "execution_count": 5,
     "metadata": {},
     "output_type": "execute_result"
    }
   ],
   "source": [
    "#Count missing data\n",
    "def count_missing(df):   \n",
    "    total = df.isnull().sum().sort_values(ascending=False)\n",
    "    percent = (df.isnull().sum()/df.isnull().count()).sort_values(ascending=False)\n",
    "    missing_data  = pd.concat([total, percent], axis=1, keys=['Total', 'Percent'])\n",
    "    print(missing_data.head(20))\n",
    "    return missing_data\n",
    "\n",
    "count_missing(df_member)"
   ]
  },
  {
   "cell_type": "code",
   "execution_count": 6,
   "metadata": {
    "ExecuteTime": {
     "end_time": "2020-12-13T17:37:24.106997Z",
     "start_time": "2020-12-13T17:37:23.758817Z"
    }
   },
   "outputs": [],
   "source": [
    "# One-Hot to Male, Female and MissSex\n",
    "df_member['Male'] = 0\n",
    "df_member['Female'] = 0\n",
    "df_member['MissSex'] = 0\n",
    "df_member.loc[df_member.Sex == 'M', 'Male'] = 1\n",
    "df_member.loc[df_member.Sex == 'F', 'Female'] = 1\n",
    "df_member.loc[df_member.Sex.isna(), 'MissSex'] = 1\n",
    "df_member.drop(columns=['Sex'], inplace=True)\n",
    "\n",
    "# Replace Age with mean\n",
    "df_member['MissAge'] = 0\n",
    "df_member.loc[df_member.AgeAtFirstClaim == '0-9', 'AgeAtFirstClaim'] = 5\n",
    "df_member.loc[df_member.AgeAtFirstClaim == '10-19', 'AgeAtFirstClaim'] = 15\n",
    "df_member.loc[df_member.AgeAtFirstClaim == '20-29', 'AgeAtFirstClaim'] = 25\n",
    "df_member.loc[df_member.AgeAtFirstClaim == '30-39', 'AgeAtFirstClaim'] = 35\n",
    "df_member.loc[df_member.AgeAtFirstClaim == '40-49', 'AgeAtFirstClaim'] = 45\n",
    "df_member.loc[df_member.AgeAtFirstClaim == '50-59', 'AgeAtFirstClaim'] = 55\n",
    "df_member.loc[df_member.AgeAtFirstClaim == '60-69', 'AgeAtFirstClaim'] = 65\n",
    "df_member.loc[df_member.AgeAtFirstClaim == '70-79', 'AgeAtFirstClaim'] = 75\n",
    "df_member.loc[df_member.AgeAtFirstClaim == '80+', 'AgeAtFirstClaim'] = 80\n",
    "df_member.loc[df_member.AgeAtFirstClaim.isna(), 'AgeAtFirstClaim'] = 45 # Average\n",
    "df_member.loc[df_member.AgeAtFirstClaim.isna(), 'MissAge'] = 1\n",
    "\n",
    "# Save to CSV file\n",
    "df_member.to_csv(path_or_buf='New Data/df_members_new.csv', index=False)"
   ]
  },
  {
   "cell_type": "code",
   "execution_count": 7,
   "metadata": {
    "ExecuteTime": {
     "end_time": "2020-12-13T17:37:24.114863Z",
     "start_time": "2020-12-13T17:37:24.107883Z"
    }
   },
   "outputs": [
    {
     "data": {
      "text/plain": [
       "<bound method NDFrame.describe of         MemberID AgeAtFirstClaim  Male  Female  MissSex  MissAge\n",
       "0       14723353              75     1       0        0        0\n",
       "1       75706636              75     1       0        0        0\n",
       "2       17320609              75     1       0        0        0\n",
       "3       69690888              45     1       0        0        0\n",
       "4       33004608               5     1       0        0        0\n",
       "...          ...             ...   ...     ...      ...      ...\n",
       "112995  99711514              45     0       1        0        0\n",
       "112996  31690877              55     0       1        0        0\n",
       "112997   9519985              35     0       1        0        0\n",
       "112998  92806272              55     0       1        0        0\n",
       "112999  81827173              45     0       1        0        0\n",
       "\n",
       "[113000 rows x 6 columns]>"
      ]
     },
     "execution_count": 7,
     "metadata": {},
     "output_type": "execute_result"
    }
   ],
   "source": [
    "df_member.describe"
   ]
  },
  {
   "cell_type": "code",
   "execution_count": 8,
   "metadata": {
    "ExecuteTime": {
     "end_time": "2020-12-13T17:37:24.217850Z",
     "start_time": "2020-12-13T17:37:24.115861Z"
    }
   },
   "outputs": [
    {
     "name": "stdout",
     "output_type": "stream",
     "text": [
      "<class 'pandas.core.frame.DataFrame'>\n",
      "RangeIndex: 113000 entries, 0 to 112999\n",
      "Data columns (total 6 columns):\n",
      " #   Column           Non-Null Count   Dtype \n",
      "---  ------           --------------   ----- \n",
      " 0   MemberID         113000 non-null  int64 \n",
      " 1   AgeAtFirstClaim  113000 non-null  object\n",
      " 2   Male             113000 non-null  int64 \n",
      " 3   Female           113000 non-null  int64 \n",
      " 4   MissSex          113000 non-null  int64 \n",
      " 5   MissAge          113000 non-null  int64 \n",
      "dtypes: int64(5), object(1)\n",
      "memory usage: 5.2+ MB\n"
     ]
    }
   ],
   "source": [
    "df_member.info()"
   ]
  },
  {
   "cell_type": "code",
   "execution_count": null,
   "metadata": {},
   "outputs": [],
   "source": []
  }
 ],
 "metadata": {
  "kernelspec": {
   "display_name": "Python 3",
   "language": "python",
   "name": "python3"
  },
  "language_info": {
   "codemirror_mode": {
    "name": "ipython",
    "version": 3
   },
   "file_extension": ".py",
   "mimetype": "text/x-python",
   "name": "python",
   "nbconvert_exporter": "python",
   "pygments_lexer": "ipython3",
   "version": "3.6.10"
  }
 },
 "nbformat": 4,
 "nbformat_minor": 4
}
