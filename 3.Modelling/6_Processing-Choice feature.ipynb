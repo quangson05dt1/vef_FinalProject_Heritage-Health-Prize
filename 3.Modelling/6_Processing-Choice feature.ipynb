{
 "cells": [
  {
   "cell_type": "code",
   "execution_count": 1,
   "metadata": {
    "ExecuteTime": {
     "end_time": "2020-12-18T12:58:45.693104Z",
     "start_time": "2020-12-18T12:58:44.798359Z"
    }
   },
   "outputs": [],
   "source": [
    "import pandas as pd\n",
    "import numpy as np\n",
    "import matplotlib.pyplot as plt\n",
    "import sys\n",
    "from sklearn.model_selection import train_test_split\n",
    "from sklearn import linear_model\n",
    "from sklearn.linear_model import LinearRegression\n",
    "import pandas as pd\n",
    "import math"
   ]
  },
  {
   "cell_type": "markdown",
   "metadata": {},
   "source": [
    "# Load dữ liệu"
   ]
  },
  {
   "cell_type": "code",
   "execution_count": 2,
   "metadata": {
    "ExecuteTime": {
     "end_time": "2020-12-18T12:58:50.520982Z",
     "start_time": "2020-12-18T12:58:47.858092Z"
    }
   },
   "outputs": [
    {
     "data": {
      "text/html": [
       "<div>\n",
       "<style scoped>\n",
       "    .dataframe tbody tr th:only-of-type {\n",
       "        vertical-align: middle;\n",
       "    }\n",
       "\n",
       "    .dataframe tbody tr th {\n",
       "        vertical-align: top;\n",
       "    }\n",
       "\n",
       "    .dataframe thead th {\n",
       "        text-align: right;\n",
       "    }\n",
       "</style>\n",
       "<table border=\"1\" class=\"dataframe\">\n",
       "  <thead>\n",
       "    <tr style=\"text-align: right;\">\n",
       "      <th></th>\n",
       "      <th>MemberID</th>\n",
       "      <th>LabCount_total</th>\n",
       "      <th>LabCount_max</th>\n",
       "      <th>LabCount_min</th>\n",
       "      <th>LabCount_ave</th>\n",
       "      <th>LabCount_months</th>\n",
       "      <th>LabCount_std</th>\n",
       "      <th>DrugCount_total</th>\n",
       "      <th>DrugCount_max</th>\n",
       "      <th>DrugCount_min</th>\n",
       "      <th>...</th>\n",
       "      <th>ProcedureGroup_Count_SO</th>\n",
       "      <th>ProcedureGroup_Count_SMCD</th>\n",
       "      <th>AgeAtFirstClaim</th>\n",
       "      <th>Male</th>\n",
       "      <th>Female</th>\n",
       "      <th>MissSex</th>\n",
       "      <th>MissAge</th>\n",
       "      <th>ClaimsTruncated</th>\n",
       "      <th>TARGET</th>\n",
       "      <th>trainset</th>\n",
       "    </tr>\n",
       "  </thead>\n",
       "  <tbody>\n",
       "    <tr>\n",
       "      <th>count</th>\n",
       "      <td>2.184150e+05</td>\n",
       "      <td>218415.000000</td>\n",
       "      <td>218415.000000</td>\n",
       "      <td>218415.000000</td>\n",
       "      <td>218415.000000</td>\n",
       "      <td>218415.000000</td>\n",
       "      <td>218415.000000</td>\n",
       "      <td>218415.000000</td>\n",
       "      <td>218415.000000</td>\n",
       "      <td>218415.000000</td>\n",
       "      <td>...</td>\n",
       "      <td>218415.000000</td>\n",
       "      <td>218415.000000</td>\n",
       "      <td>218415.000000</td>\n",
       "      <td>218415.000000</td>\n",
       "      <td>218415.000000</td>\n",
       "      <td>218415.000000</td>\n",
       "      <td>218415.0</td>\n",
       "      <td>218415.000000</td>\n",
       "      <td>147473.000000</td>\n",
       "      <td>218415.000000</td>\n",
       "    </tr>\n",
       "    <tr>\n",
       "      <th>mean</th>\n",
       "      <td>4.993458e+07</td>\n",
       "      <td>6.471827</td>\n",
       "      <td>3.829439</td>\n",
       "      <td>2.181860</td>\n",
       "      <td>2.918800</td>\n",
       "      <td>1.655033</td>\n",
       "      <td>0.578166</td>\n",
       "      <td>10.387318</td>\n",
       "      <td>2.193531</td>\n",
       "      <td>0.962237</td>\n",
       "      <td>...</td>\n",
       "      <td>0.001699</td>\n",
       "      <td>0.015457</td>\n",
       "      <td>47.750155</td>\n",
       "      <td>0.363524</td>\n",
       "      <td>0.448078</td>\n",
       "      <td>0.188398</td>\n",
       "      <td>0.0</td>\n",
       "      <td>0.054863</td>\n",
       "      <td>0.452951</td>\n",
       "      <td>0.675196</td>\n",
       "    </tr>\n",
       "    <tr>\n",
       "      <th>std</th>\n",
       "      <td>2.892479e+07</td>\n",
       "      <td>7.734678</td>\n",
       "      <td>3.440373</td>\n",
       "      <td>2.507408</td>\n",
       "      <td>2.676663</td>\n",
       "      <td>1.906704</td>\n",
       "      <td>1.683426</td>\n",
       "      <td>15.721582</td>\n",
       "      <td>2.271990</td>\n",
       "      <td>1.057978</td>\n",
       "      <td>...</td>\n",
       "      <td>0.047286</td>\n",
       "      <td>0.262061</td>\n",
       "      <td>23.238375</td>\n",
       "      <td>0.481015</td>\n",
       "      <td>0.497298</td>\n",
       "      <td>0.391031</td>\n",
       "      <td>0.0</td>\n",
       "      <td>0.227714</td>\n",
       "      <td>1.573818</td>\n",
       "      <td>0.468303</td>\n",
       "    </tr>\n",
       "    <tr>\n",
       "      <th>min</th>\n",
       "      <td>4.000000e+00</td>\n",
       "      <td>0.000000</td>\n",
       "      <td>0.000000</td>\n",
       "      <td>0.000000</td>\n",
       "      <td>0.000000</td>\n",
       "      <td>0.000000</td>\n",
       "      <td>-1.000000</td>\n",
       "      <td>0.000000</td>\n",
       "      <td>0.000000</td>\n",
       "      <td>0.000000</td>\n",
       "      <td>...</td>\n",
       "      <td>0.000000</td>\n",
       "      <td>0.000000</td>\n",
       "      <td>5.000000</td>\n",
       "      <td>0.000000</td>\n",
       "      <td>0.000000</td>\n",
       "      <td>0.000000</td>\n",
       "      <td>0.0</td>\n",
       "      <td>0.000000</td>\n",
       "      <td>0.000000</td>\n",
       "      <td>0.000000</td>\n",
       "    </tr>\n",
       "    <tr>\n",
       "      <th>25%</th>\n",
       "      <td>2.478774e+07</td>\n",
       "      <td>0.000000</td>\n",
       "      <td>0.000000</td>\n",
       "      <td>0.000000</td>\n",
       "      <td>0.000000</td>\n",
       "      <td>0.000000</td>\n",
       "      <td>-1.000000</td>\n",
       "      <td>0.000000</td>\n",
       "      <td>0.000000</td>\n",
       "      <td>0.000000</td>\n",
       "      <td>...</td>\n",
       "      <td>0.000000</td>\n",
       "      <td>0.000000</td>\n",
       "      <td>35.000000</td>\n",
       "      <td>0.000000</td>\n",
       "      <td>0.000000</td>\n",
       "      <td>0.000000</td>\n",
       "      <td>0.0</td>\n",
       "      <td>0.000000</td>\n",
       "      <td>0.000000</td>\n",
       "      <td>0.000000</td>\n",
       "    </tr>\n",
       "    <tr>\n",
       "      <th>50%</th>\n",
       "      <td>4.993677e+07</td>\n",
       "      <td>4.000000</td>\n",
       "      <td>4.000000</td>\n",
       "      <td>1.000000</td>\n",
       "      <td>2.666667</td>\n",
       "      <td>1.000000</td>\n",
       "      <td>0.000000</td>\n",
       "      <td>3.000000</td>\n",
       "      <td>2.000000</td>\n",
       "      <td>1.000000</td>\n",
       "      <td>...</td>\n",
       "      <td>0.000000</td>\n",
       "      <td>0.000000</td>\n",
       "      <td>45.000000</td>\n",
       "      <td>0.000000</td>\n",
       "      <td>0.000000</td>\n",
       "      <td>0.000000</td>\n",
       "      <td>0.0</td>\n",
       "      <td>0.000000</td>\n",
       "      <td>0.000000</td>\n",
       "      <td>1.000000</td>\n",
       "    </tr>\n",
       "    <tr>\n",
       "      <th>75%</th>\n",
       "      <td>7.515525e+07</td>\n",
       "      <td>10.000000</td>\n",
       "      <td>7.000000</td>\n",
       "      <td>3.000000</td>\n",
       "      <td>5.000000</td>\n",
       "      <td>2.000000</td>\n",
       "      <td>1.527525</td>\n",
       "      <td>14.000000</td>\n",
       "      <td>4.000000</td>\n",
       "      <td>1.000000</td>\n",
       "      <td>...</td>\n",
       "      <td>0.000000</td>\n",
       "      <td>0.000000</td>\n",
       "      <td>65.000000</td>\n",
       "      <td>1.000000</td>\n",
       "      <td>1.000000</td>\n",
       "      <td>0.000000</td>\n",
       "      <td>0.0</td>\n",
       "      <td>0.000000</td>\n",
       "      <td>0.000000</td>\n",
       "      <td>1.000000</td>\n",
       "    </tr>\n",
       "    <tr>\n",
       "      <th>max</th>\n",
       "      <td>9.999882e+07</td>\n",
       "      <td>111.000000</td>\n",
       "      <td>10.000000</td>\n",
       "      <td>10.000000</td>\n",
       "      <td>10.000000</td>\n",
       "      <td>12.000000</td>\n",
       "      <td>6.363961</td>\n",
       "      <td>84.000000</td>\n",
       "      <td>7.000000</td>\n",
       "      <td>7.000000</td>\n",
       "      <td>...</td>\n",
       "      <td>4.000000</td>\n",
       "      <td>23.000000</td>\n",
       "      <td>80.000000</td>\n",
       "      <td>1.000000</td>\n",
       "      <td>1.000000</td>\n",
       "      <td>1.000000</td>\n",
       "      <td>0.0</td>\n",
       "      <td>1.000000</td>\n",
       "      <td>15.000000</td>\n",
       "      <td>1.000000</td>\n",
       "    </tr>\n",
       "  </tbody>\n",
       "</table>\n",
       "<p>8 rows × 144 columns</p>\n",
       "</div>"
      ],
      "text/plain": [
       "           MemberID  LabCount_total   LabCount_max   LabCount_min  \\\n",
       "count  2.184150e+05   218415.000000  218415.000000  218415.000000   \n",
       "mean   4.993458e+07        6.471827       3.829439       2.181860   \n",
       "std    2.892479e+07        7.734678       3.440373       2.507408   \n",
       "min    4.000000e+00        0.000000       0.000000       0.000000   \n",
       "25%    2.478774e+07        0.000000       0.000000       0.000000   \n",
       "50%    4.993677e+07        4.000000       4.000000       1.000000   \n",
       "75%    7.515525e+07       10.000000       7.000000       3.000000   \n",
       "max    9.999882e+07      111.000000      10.000000      10.000000   \n",
       "\n",
       "        LabCount_ave  LabCount_months   LabCount_std  DrugCount_total  \\\n",
       "count  218415.000000    218415.000000  218415.000000    218415.000000   \n",
       "mean        2.918800         1.655033       0.578166        10.387318   \n",
       "std         2.676663         1.906704       1.683426        15.721582   \n",
       "min         0.000000         0.000000      -1.000000         0.000000   \n",
       "25%         0.000000         0.000000      -1.000000         0.000000   \n",
       "50%         2.666667         1.000000       0.000000         3.000000   \n",
       "75%         5.000000         2.000000       1.527525        14.000000   \n",
       "max        10.000000        12.000000       6.363961        84.000000   \n",
       "\n",
       "       DrugCount_max  DrugCount_min  ...  ProcedureGroup_Count_SO  \\\n",
       "count  218415.000000  218415.000000  ...            218415.000000   \n",
       "mean        2.193531       0.962237  ...                 0.001699   \n",
       "std         2.271990       1.057978  ...                 0.047286   \n",
       "min         0.000000       0.000000  ...                 0.000000   \n",
       "25%         0.000000       0.000000  ...                 0.000000   \n",
       "50%         2.000000       1.000000  ...                 0.000000   \n",
       "75%         4.000000       1.000000  ...                 0.000000   \n",
       "max         7.000000       7.000000  ...                 4.000000   \n",
       "\n",
       "       ProcedureGroup_Count_SMCD  AgeAtFirstClaim           Male  \\\n",
       "count              218415.000000    218415.000000  218415.000000   \n",
       "mean                    0.015457        47.750155       0.363524   \n",
       "std                     0.262061        23.238375       0.481015   \n",
       "min                     0.000000         5.000000       0.000000   \n",
       "25%                     0.000000        35.000000       0.000000   \n",
       "50%                     0.000000        45.000000       0.000000   \n",
       "75%                     0.000000        65.000000       1.000000   \n",
       "max                    23.000000        80.000000       1.000000   \n",
       "\n",
       "              Female        MissSex   MissAge  ClaimsTruncated         TARGET  \\\n",
       "count  218415.000000  218415.000000  218415.0    218415.000000  147473.000000   \n",
       "mean        0.448078       0.188398       0.0         0.054863       0.452951   \n",
       "std         0.497298       0.391031       0.0         0.227714       1.573818   \n",
       "min         0.000000       0.000000       0.0         0.000000       0.000000   \n",
       "25%         0.000000       0.000000       0.0         0.000000       0.000000   \n",
       "50%         0.000000       0.000000       0.0         0.000000       0.000000   \n",
       "75%         1.000000       0.000000       0.0         0.000000       0.000000   \n",
       "max         1.000000       1.000000       0.0         1.000000      15.000000   \n",
       "\n",
       "            trainset  \n",
       "count  218415.000000  \n",
       "mean        0.675196  \n",
       "std         0.468303  \n",
       "min         0.000000  \n",
       "25%         0.000000  \n",
       "50%         1.000000  \n",
       "75%         1.000000  \n",
       "max         1.000000  \n",
       "\n",
       "[8 rows x 144 columns]"
      ]
     },
     "execution_count": 2,
     "metadata": {},
     "output_type": "execute_result"
    }
   ],
   "source": [
    "df = pd.read_csv('../2.Feature Engineering/new data/modelling_set.csv')\n",
    "df.describe()"
   ]
  },
  {
   "cell_type": "code",
   "execution_count": 3,
   "metadata": {
    "ExecuteTime": {
     "end_time": "2020-12-18T13:01:59.228933Z",
     "start_time": "2020-12-18T13:01:59.081188Z"
    }
   },
   "outputs": [],
   "source": [
    "df_train = df[df['trainset']==1]\n",
    "df_target = df[df['trainset']==0]\n"
   ]
  },
  {
   "cell_type": "code",
   "execution_count": 4,
   "metadata": {
    "ExecuteTime": {
     "end_time": "2020-12-18T13:02:02.241272Z",
     "start_time": "2020-12-18T13:02:02.048770Z"
    }
   },
   "outputs": [
    {
     "name": "stdout",
     "output_type": "stream",
     "text": [
      "                                         Total  Percent\n",
      "trainset                                     0      0.0\n",
      "PlaceSvc_Count_Unknown                       0      0.0\n",
      "Specialty_Count_Surgery                      0      0.0\n",
      "CharlsonIndex_range                          0      0.0\n",
      "DSFS_range                                   0      0.0\n",
      "no_PrimaryConditionGroup_PlaceSvc            0      0.0\n",
      "no_ProcedureGroup_PrimaryConditionGroup      0      0.0\n",
      "no_ProcedureGroup_Specialty                  0      0.0\n",
      "no_PrimaryConditionGroup_Specialty           0      0.0\n",
      "CharlsonIndex_std                            0      0.0\n",
      "CharlsonIndex_ave                            0      0.0\n",
      "CharlsonIndex_min                            0      0.0\n",
      "CharlsonIndex_max                            0      0.0\n",
      "CharlsonIndex_sum                            0      0.0\n",
      "DSFS_std                                     0      0.0\n",
      "DSFS_ave                                     0      0.0\n",
      "DSFS_min                                     0      0.0\n",
      "Specialty_Count_Internal                     0      0.0\n",
      "Specialty_Count_Laboratory                   0      0.0\n",
      "Specialty_Count_Pediatrics                   0      0.0\n"
     ]
    },
    {
     "data": {
      "text/html": [
       "<div>\n",
       "<style scoped>\n",
       "    .dataframe tbody tr th:only-of-type {\n",
       "        vertical-align: middle;\n",
       "    }\n",
       "\n",
       "    .dataframe tbody tr th {\n",
       "        vertical-align: top;\n",
       "    }\n",
       "\n",
       "    .dataframe thead th {\n",
       "        text-align: right;\n",
       "    }\n",
       "</style>\n",
       "<table border=\"1\" class=\"dataframe\">\n",
       "  <thead>\n",
       "    <tr style=\"text-align: right;\">\n",
       "      <th></th>\n",
       "      <th>Total</th>\n",
       "      <th>Percent</th>\n",
       "    </tr>\n",
       "  </thead>\n",
       "  <tbody>\n",
       "    <tr>\n",
       "      <th>trainset</th>\n",
       "      <td>0</td>\n",
       "      <td>0.0</td>\n",
       "    </tr>\n",
       "    <tr>\n",
       "      <th>PlaceSvc_Count_Unknown</th>\n",
       "      <td>0</td>\n",
       "      <td>0.0</td>\n",
       "    </tr>\n",
       "    <tr>\n",
       "      <th>Specialty_Count_Surgery</th>\n",
       "      <td>0</td>\n",
       "      <td>0.0</td>\n",
       "    </tr>\n",
       "    <tr>\n",
       "      <th>CharlsonIndex_range</th>\n",
       "      <td>0</td>\n",
       "      <td>0.0</td>\n",
       "    </tr>\n",
       "    <tr>\n",
       "      <th>DSFS_range</th>\n",
       "      <td>0</td>\n",
       "      <td>0.0</td>\n",
       "    </tr>\n",
       "    <tr>\n",
       "      <th>...</th>\n",
       "      <td>...</td>\n",
       "      <td>...</td>\n",
       "    </tr>\n",
       "    <tr>\n",
       "      <th>PrimaryConditionGroup_Count_CANCRB</th>\n",
       "      <td>0</td>\n",
       "      <td>0.0</td>\n",
       "    </tr>\n",
       "    <tr>\n",
       "      <th>PrimaryConditionGroup_Count_SKNAUT</th>\n",
       "      <td>0</td>\n",
       "      <td>0.0</td>\n",
       "    </tr>\n",
       "    <tr>\n",
       "      <th>PrimaryConditionGroup_Count_HIPFX</th>\n",
       "      <td>0</td>\n",
       "      <td>0.0</td>\n",
       "    </tr>\n",
       "    <tr>\n",
       "      <th>PrimaryConditionGroup_Count_GIBLEED</th>\n",
       "      <td>0</td>\n",
       "      <td>0.0</td>\n",
       "    </tr>\n",
       "    <tr>\n",
       "      <th>Year</th>\n",
       "      <td>0</td>\n",
       "      <td>0.0</td>\n",
       "    </tr>\n",
       "  </tbody>\n",
       "</table>\n",
       "<p>145 rows × 2 columns</p>\n",
       "</div>"
      ],
      "text/plain": [
       "                                     Total  Percent\n",
       "trainset                                 0      0.0\n",
       "PlaceSvc_Count_Unknown                   0      0.0\n",
       "Specialty_Count_Surgery                  0      0.0\n",
       "CharlsonIndex_range                      0      0.0\n",
       "DSFS_range                               0      0.0\n",
       "...                                    ...      ...\n",
       "PrimaryConditionGroup_Count_CANCRB       0      0.0\n",
       "PrimaryConditionGroup_Count_SKNAUT       0      0.0\n",
       "PrimaryConditionGroup_Count_HIPFX        0      0.0\n",
       "PrimaryConditionGroup_Count_GIBLEED      0      0.0\n",
       "Year                                     0      0.0\n",
       "\n",
       "[145 rows x 2 columns]"
      ]
     },
     "execution_count": 4,
     "metadata": {},
     "output_type": "execute_result"
    }
   ],
   "source": [
    "#Count missing data\n",
    "def count_missing(df):   \n",
    "    total = df.isnull().sum().sort_values(ascending=False)\n",
    "    percent = (df.isnull().sum()/df.isnull().count()).sort_values(ascending=False)\n",
    "    missing_data  = pd.concat([total, percent], axis=1, keys=['Total', 'Percent'])\n",
    "    print(missing_data.head(20))\n",
    "    return missing_data\n",
    "\n",
    "count_missing(df_train)"
   ]
  },
  {
   "cell_type": "code",
   "execution_count": 5,
   "metadata": {
    "ExecuteTime": {
     "end_time": "2020-12-18T13:02:05.498489Z",
     "start_time": "2020-12-18T13:02:05.416709Z"
    }
   },
   "outputs": [
    {
     "data": {
      "text/plain": [
       "count    147473.000000\n",
       "mean          0.452951\n",
       "std           1.573818\n",
       "min           0.000000\n",
       "25%           0.000000\n",
       "50%           0.000000\n",
       "75%           0.000000\n",
       "max          15.000000\n",
       "Name: TARGET, dtype: float64"
      ]
     },
     "execution_count": 5,
     "metadata": {},
     "output_type": "execute_result"
    }
   ],
   "source": [
    "m = (df_train.columns != 'TARGET') & (df_train.columns != 'MemberID') & (df_train.columns != 'Year') & (df_train.columns != 'trainset')\n",
    "X = df_train.loc[:, m]\n",
    "y = df_train['TARGET']\n",
    "y.describe()"
   ]
  },
  {
   "cell_type": "code",
   "execution_count": 6,
   "metadata": {
    "ExecuteTime": {
     "end_time": "2020-12-18T13:02:09.046273Z",
     "start_time": "2020-12-18T13:02:08.462799Z"
    }
   },
   "outputs": [],
   "source": [
    "from sklearn.preprocessing import MinMaxScaler, StandardScaler\n",
    "\n",
    "scaler = MinMaxScaler(feature_range=(0,1)).fit(X)\n",
    "#scaler = StandardScaler().fit(X)\n",
    "\n",
    "\n",
    "new_X = scaler.transform(X)\n",
    "X_train, X_test, y_train, y_test = train_test_split(new_X, y, test_size=0.3, random_state=123)"
   ]
  },
  {
   "cell_type": "code",
   "execution_count": 7,
   "metadata": {
    "ExecuteTime": {
     "end_time": "2020-12-18T13:02:11.509079Z",
     "start_time": "2020-12-18T13:02:11.504093Z"
    }
   },
   "outputs": [],
   "source": [
    "def eval(model, X_test, y_test):\n",
    "    pred_y = model.predict(X_test) # your predicted y values\n",
    "    pred_y = pred_y.astype(int)\n",
    "    # The root mean square logarithmic error\n",
    "    msle = np.mean( (np.log(pred_y + 1) - np.log(y_test + 1)) ** 2)\n",
    "    rmsle = math.sqrt(msle)\n",
    "    from sklearn.metrics import r2_score\n",
    "    r2 = r2_score(pred_y, y_test)\n",
    "    return rmsle, r2"
   ]
  },
  {
   "cell_type": "code",
   "execution_count": 8,
   "metadata": {
    "ExecuteTime": {
     "end_time": "2020-12-18T13:02:14.075385Z",
     "start_time": "2020-12-18T13:02:14.032508Z"
    }
   },
   "outputs": [],
   "source": [
    "from sklearn import ensemble\n",
    "\n",
    "model= ensemble.RandomForestRegressor(bootstrap=True, criterion='mse', max_depth=10,\n",
    "            max_features='auto', max_leaf_nodes=None,\n",
    "            min_impurity_decrease=0.0, min_impurity_split=None,\n",
    "            min_samples_leaf=5, min_samples_split=500,\n",
    "            min_weight_fraction_leaf=0.0, n_estimators=1000, n_jobs=-1,\n",
    "            oob_score=False, random_state=None, verbose=1, warm_start=False)"
   ]
  },
  {
   "cell_type": "code",
   "execution_count": 9,
   "metadata": {
    "ExecuteTime": {
     "end_time": "2020-12-18T13:02:15.562266Z",
     "start_time": "2020-12-18T13:02:15.559264Z"
    }
   },
   "outputs": [],
   "source": [
    "model_linear = LinearRegression()"
   ]
  },
  {
   "cell_type": "markdown",
   "metadata": {},
   "source": [
    "# FIT trên dữ liệu nguyên gốc ban đầu với các models khác nhau\n",
    "Với model Random Forest cho ta lựa chọn được feature quan trọng để selection\n",
    "\n",
    "Với linear thì chọn ra số lượng feauture quan trọng nhất"
   ]
  },
  {
   "cell_type": "code",
   "execution_count": 10,
   "metadata": {
    "ExecuteTime": {
     "end_time": "2020-12-18T13:08:38.808151Z",
     "start_time": "2020-12-18T13:02:19.224282Z"
    }
   },
   "outputs": [
    {
     "name": "stderr",
     "output_type": "stream",
     "text": [
      "[Parallel(n_jobs=-1)]: Using backend ThreadingBackend with 12 concurrent workers.\n",
      "[Parallel(n_jobs=-1)]: Done  26 tasks      | elapsed:   13.5s\n",
      "[Parallel(n_jobs=-1)]: Done 176 tasks      | elapsed:  1.1min\n",
      "[Parallel(n_jobs=-1)]: Done 426 tasks      | elapsed:  2.7min\n",
      "[Parallel(n_jobs=-1)]: Done 776 tasks      | elapsed:  4.9min\n",
      "[Parallel(n_jobs=-1)]: Done 1000 out of 1000 | elapsed:  6.3min finished\n",
      "[Parallel(n_jobs=12)]: Using backend ThreadingBackend with 12 concurrent workers.\n",
      "[Parallel(n_jobs=12)]: Done  26 tasks      | elapsed:    0.0s\n",
      "[Parallel(n_jobs=12)]: Done 176 tasks      | elapsed:    0.0s\n",
      "[Parallel(n_jobs=12)]: Done 426 tasks      | elapsed:    0.1s\n",
      "[Parallel(n_jobs=12)]: Done 776 tasks      | elapsed:    0.3s\n",
      "[Parallel(n_jobs=12)]: Done 1000 out of 1000 | elapsed:    0.4s finished\n"
     ]
    },
    {
     "data": {
      "text/plain": [
       "(0.4934641574374976, -20.83256821704701)"
      ]
     },
     "execution_count": 10,
     "metadata": {},
     "output_type": "execute_result"
    }
   ],
   "source": [
    "model.fit(X_train, y_train)\n",
    "eval(model, X_test, y_test)"
   ]
  },
  {
   "cell_type": "markdown",
   "metadata": {},
   "source": [
    "# Lựa chọn các feature cần biến đổi"
   ]
  },
  {
   "cell_type": "code",
   "execution_count": 11,
   "metadata": {
    "ExecuteTime": {
     "end_time": "2020-12-18T13:10:07.497444Z",
     "start_time": "2020-12-18T13:10:07.287885Z"
    }
   },
   "outputs": [],
   "source": [
    "a = model.feature_importances_\n",
    "x = { i : a[i] for i in range(0, len(a) ) }"
   ]
  },
  {
   "cell_type": "code",
   "execution_count": 12,
   "metadata": {
    "ExecuteTime": {
     "end_time": "2020-12-18T13:10:09.913673Z",
     "start_time": "2020-12-18T13:10:08.118447Z"
    }
   },
   "outputs": [
    {
     "data": {
      "text/plain": [
       "<matplotlib.axes._subplots.AxesSubplot at 0x1fc56650eb8>"
      ]
     },
     "execution_count": 12,
     "metadata": {},
     "output_type": "execute_result"
    },
    {
     "data": {
      "image/png": "[encoded data removed]",
      "text/plain": [
       "<Figure size 1440x1440 with 1 Axes>"
      ]
     },
     "metadata": {
      "needs_background": "light"
     },
     "output_type": "display_data"
    }
   ],
   "source": [
    "feature_scores_rdfr = pd.Series(model.feature_importances_, index=X.columns).sort_values(ascending=True)\n",
    "feature_scores_rdfr.plot(kind='barh', figsize=(20, 20))"
   ]
  },
  {
   "cell_type": "code",
   "execution_count": 13,
   "metadata": {
    "ExecuteTime": {
     "end_time": "2020-12-18T13:10:16.787031Z",
     "start_time": "2020-12-18T13:10:16.783043Z"
    }
   },
   "outputs": [],
   "source": [
    "import operator\n",
    "sorted_x = sorted(x.items(), key=operator.itemgetter(1))"
   ]
  },
  {
   "cell_type": "code",
   "execution_count": 14,
   "metadata": {
    "ExecuteTime": {
     "end_time": "2020-12-18T13:10:17.833606Z",
     "start_time": "2020-12-18T13:10:17.830584Z"
    }
   },
   "outputs": [
    {
     "name": "stdout",
     "output_type": "stream",
     "text": [
      "[(27, 0.0), (32, 0.0), (139, 0.0), (134, 3.4724541996818143e-06), (136, 4.4270884204302524e-05), (133, 5.135217231454561e-05), (137, 0.00010675269662019558), (114, 0.00015633940793668047), (113, 0.00016739456742725117), (15, 0.0001939870361508079), (40, 0.00019938838382313608), (129, 0.0002796793399301189), (74, 0.0003017786645808942), (2, 0.0003678842480139938), (108, 0.0003700766191863294), (48, 0.00041011548797607064), (130, 0.0004443981552164903), (127, 0.0004715655929218948), (73, 0.000493500983744147), (17, 0.0005204663582219955), (119, 0.0005349921518945563), (132, 0.0005906080957837105), (76, 0.0006071030054245617), (75, 0.0006108253317587177), (69, 0.000616875218629853), (34, 0.0006579306820793008), (97, 0.0006659654350615644), (4, 0.0006717902989763745), (19, 0.0007001710912557956), (53, 0.000705467501654714), (120, 0.0007291653945020631), (52, 0.0007466056024782113), (10, 0.000760378559111976), (67, 0.0007726291411269876), (103, 0.0007863986544421215), (60, 0.0008319817045608559), (1, 0.0008352640116934905), (110, 0.0009445949966218308), (99, 0.000959838843928573), (58, 0.0009787926868576467), (131, 0.0010199955277309472), (117, 0.0010352677632457213), (63, 0.001037959316857148), (47, 0.0010792506096348874), (115, 0.0011092442240819825), (80, 0.0011202418419896233), (8, 0.0011255083068077534), (51, 0.0011458206657292346), (64, 0.0011472579353795545), (125, 0.0011906288724076615), (57, 0.0012334778818242108), (71, 0.0013136572848156133), (84, 0.001360602211918161), (121, 0.0013613965039542862), (77, 0.0014294030785549866), (59, 0.001437770547450432), (116, 0.0014630193122021078), (126, 0.0014770562514268698), (102, 0.0014795084034691483), (92, 0.001546608677004121), (86, 0.0015727065050600056), (122, 0.0015965398951826762), (39, 0.0015970385460238091), (50, 0.0016011125783398318), (83, 0.0016461017739528567), (16, 0.0016770773116390693), (5, 0.0017006874551173082), (72, 0.0017216669281949048), (128, 0.0017394321780765994), (112, 0.0018577896671033848), (111, 0.00188681627687434), (98, 0.0019012202603986195), (91, 0.001978930819414154), (54, 0.00197998625228929), (3, 0.002062416825814976), (26, 0.002073114031226375), (31, 0.0020792020543734676), (101, 0.0021048916902114316), (45, 0.0021071103435635), (123, 0.002187950633564248), (44, 0.002201960304700645), (35, 0.0023002558568880897), (105, 0.0023799479909158865), (30, 0.0024257627569043683), (85, 0.002439287120179672), (106, 0.002446192637714378), (88, 0.002454686525305651), (82, 0.002457842151911912), (78, 0.002482837526621948), (55, 0.0025017570019875883), (49, 0.0026988666246921763), (93, 0.002818511485238563), (25, 0.0029380075799544003), (81, 0.0031291587660144614), (109, 0.0031904403378772415), (107, 0.0032956745180524384), (61, 0.003609121087533663), (21, 0.003647407266143924), (68, 0.0037487702742075), (89, 0.003915049450768637), (43, 0.00417213658911886), (62, 0.0042725111703422036), (28, 0.004443294977201313), (95, 0.004631693019347809), (22, 0.004740767475190931), (13, 0.004792613005456424), (42, 0.004928084078048313), (94, 0.004963531721864158), (124, 0.005268906771207873), (90, 0.005545516999768988), (100, 0.00600907363115512), (46, 0.0060144072203092746), (24, 0.006066013468801414), (23, 0.0061513178835091685), (118, 0.00655385852881172), (79, 0.006592435609347545), (14, 0.00671331983863134), (7, 0.00673221759179512), (20, 0.007377871978888364), (70, 0.007554534748373886), (87, 0.008278727943176549), (66, 0.008304707019809137), (37, 0.008512406834488496), (29, 0.008837496435123786), (11, 0.009008850182720303), (36, 0.00923340976952464), (41, 0.009430628275873843), (0, 0.010001365845951387), (18, 0.011115629298743818), (104, 0.011328798051202175), (6, 0.01588273374727339), (9, 0.022532267329343856), (65, 0.027195099614572955), (56, 0.036668755068791484), (96, 0.047195469844118355), (33, 0.0549434883770965), (38, 0.05703238025106463), (135, 0.0602129524168056), (140, 0.10284103316319335), (138, 0.10947965946491918), (12, 0.11988322879220684)]\n"
     ]
    }
   ],
   "source": [
    "print(sorted_x)"
   ]
  },
  {
   "cell_type": "markdown",
   "metadata": {},
   "source": [
    "## Thử với 70 feature quan trọng đầu tiên xem sự thay đổi của perform, từ đó quyết định số lượng feature cần biến đổi"
   ]
  },
  {
   "cell_type": "code",
   "execution_count": 15,
   "metadata": {
    "ExecuteTime": {
     "end_time": "2020-12-18T13:10:49.339887Z",
     "start_time": "2020-12-18T13:10:37.335015Z"
    }
   },
   "outputs": [],
   "source": [
    "Df = pd.DataFrame()\n",
    "rmsle_test = []\n",
    "r2_test = []\n",
    "for i in range(50):\n",
    "    Df = pd.concat([Df, X.iloc[:, sorted_x[len(sorted_x)-i-1][0]]], axis = 1)\n",
    "    scaler = MinMaxScaler(feature_range=(0,1)).fit(Df)\n",
    "    new_X = scaler.transform(Df)\n",
    "    X_train, X_test, y_train, y_test = train_test_split(new_X, y, test_size=0.3, random_state=123)\n",
    "    model_linear.fit(X_train, y_train)\n",
    "    rmsle, r2 = eval(model_linear, X_test, y_test)\n",
    "    rmsle_test.append(rmsle)\n",
    "    r2_test.append(r2)"
   ]
  },
  {
   "cell_type": "code",
   "execution_count": 16,
   "metadata": {
    "ExecuteTime": {
     "end_time": "2020-12-18T13:10:51.970736Z",
     "start_time": "2020-12-18T13:10:51.967743Z"
    }
   },
   "outputs": [
    {
     "name": "stdout",
     "output_type": "stream",
     "text": [
      "[0.5107524636190317, 0.5086873885122146, 0.5051967585326445, 0.503922164387438, 0.5040322886612236, 0.5045688838944963, 0.5045616047202186, 0.5009578309126531, 0.501180280620613, 0.5002504006395199, 0.5001485118600608, 0.49987374631851317, 0.4996985892520739, 0.4996872544828648, 0.49979590722434114, 0.49980666504382326, 0.5000035817089056, 0.500156184603276, 0.4997482278786754, 0.499996142187023, 0.5001436150178261, 0.5005180200304885, 0.5000405680334721, 0.49987007297804725, 0.5002549539238899, 0.5002960570439067, 0.4989916248057057, 0.4989326271746422, 0.4990182273941062, 0.4993441372923961, 0.49909764310161625, 0.4986074374498728, 0.49866144365769305, 0.49900684690705766, 0.4987746264756075, 0.4988429634478212, 0.4988030608624167, 0.49853093227222417, 0.49857863933733587, 0.4985509441281518, 0.4983543329913453, 0.49828310492317746, 0.4982235307410446, 0.49828736142302643, 0.4984062096353465, 0.49834057522429126, 0.4985178930090308, 0.4985149793623359, 0.4987605769459294, 0.4985443760298402]\n",
      "[-34.006279663604275, -30.228566017867312, -34.36704873858621, -34.88486453119787, -31.257414577424733, -30.504190877800557, -29.558227883065783, -26.010304105519616, -24.886907893470617, -24.682827346637463, -24.243607300388692, -23.417640889878115, -22.896514746321788, -22.970072106728967, -22.94099517829997, -22.67081643964748, -22.74785960630046, -22.71416418586999, -22.82472373756777, -22.730547004781034, -22.53687865670526, -22.409017514132493, -22.181598560963174, -22.243735710815745, -22.138616223015802, -22.150420985237623, -22.007585279352007, -21.99670390865507, -22.00884345751208, -22.41826902336839, -22.08416323867921, -21.840988226197137, -21.875464758395193, -21.73853665708429, -21.799285893555396, -21.71257981700792, -21.706478122709083, -21.584087882216135, -21.582329747860346, -21.458801499685908, -21.523753386176566, -21.446981090947965, -21.412088776383342, -21.339052585850787, -21.43331674786389, -21.451906511648126, -21.459496043387855, -21.3852714081765, -21.36112245374414, -21.426033483393216]\n"
     ]
    }
   ],
   "source": [
    "print(rmsle_test)\n",
    "print(r2_test)"
   ]
  },
  {
   "cell_type": "code",
   "execution_count": 17,
   "metadata": {
    "ExecuteTime": {
     "end_time": "2020-12-18T13:10:54.488707Z",
     "start_time": "2020-12-18T13:10:54.398938Z"
    }
   },
   "outputs": [
    {
     "data": {
      "text/plain": [
       "[<matplotlib.lines.Line2D at 0x1fc8de6a438>]"
      ]
     },
     "execution_count": 17,
     "metadata": {},
     "output_type": "execute_result"
    },
    {
     "data": {
      "image/png": "[encoded data removed]",
      "text/plain": [
       "<Figure size 432x288 with 1 Axes>"
      ]
     },
     "metadata": {
      "needs_background": "light"
     },
     "output_type": "display_data"
    }
   ],
   "source": [
    "import matplotlib.pyplot as plt\n",
    "%matplotlib inline\n",
    "\n",
    "plt.plot(rmsle_test, 'b--')\n"
   ]
  },
  {
   "cell_type": "code",
   "execution_count": 18,
   "metadata": {
    "ExecuteTime": {
     "end_time": "2020-12-18T13:10:56.680140Z",
     "start_time": "2020-12-18T13:10:56.592344Z"
    }
   },
   "outputs": [
    {
     "data": {
      "text/plain": [
       "[<matplotlib.lines.Line2D at 0x1fc577830f0>]"
      ]
     },
     "execution_count": 18,
     "metadata": {},
     "output_type": "execute_result"
    },
    {
     "data": {
      "image/png": "[encoded data removed]",
      "text/plain": [
       "<Figure size 432x288 with 1 Axes>"
      ]
     },
     "metadata": {
      "needs_background": "light"
     },
     "output_type": "display_data"
    }
   ],
   "source": [
    "plt.plot(r2_test, 'r--')"
   ]
  },
  {
   "cell_type": "code",
   "execution_count": 19,
   "metadata": {
    "ExecuteTime": {
     "end_time": "2020-12-18T13:11:00.330601Z",
     "start_time": "2020-12-18T13:11:00.327612Z"
    },
    "scrolled": true
   },
   "outputs": [
    {
     "name": "stdout",
     "output_type": "stream",
     "text": [
      "-22.41826902336839\n",
      "0.4993441372923961\n"
     ]
    }
   ],
   "source": [
    "print(r2_test[29])\n",
    "print(rmsle_test[29])"
   ]
  },
  {
   "cell_type": "markdown",
   "metadata": {},
   "source": [
    "## Ta thấy có 12 feature quan trọng đầu tiên mới ảnh hưởng đến performance nhất"
   ]
  },
  {
   "cell_type": "code",
   "execution_count": 20,
   "metadata": {
    "ExecuteTime": {
     "end_time": "2020-12-18T13:11:20.447766Z",
     "start_time": "2020-12-18T13:11:20.152528Z"
    }
   },
   "outputs": [
    {
     "data": {
      "text/html": [
       "<div>\n",
       "<style scoped>\n",
       "    .dataframe tbody tr th:only-of-type {\n",
       "        vertical-align: middle;\n",
       "    }\n",
       "\n",
       "    .dataframe tbody tr th {\n",
       "        vertical-align: top;\n",
       "    }\n",
       "\n",
       "    .dataframe thead th {\n",
       "        text-align: right;\n",
       "    }\n",
       "</style>\n",
       "<table border=\"1\" class=\"dataframe\">\n",
       "  <thead>\n",
       "    <tr style=\"text-align: right;\">\n",
       "      <th></th>\n",
       "      <th>no_Claims</th>\n",
       "      <th>MissSex</th>\n",
       "      <th>ClaimsTruncated</th>\n",
       "      <th>AgeAtFirstClaim</th>\n",
       "      <th>CharlsonIndex_sum</th>\n",
       "      <th>DSFS_sum</th>\n",
       "      <th>PrimaryConditionGroup_Count_PRGNCY</th>\n",
       "      <th>Specialty_Count_Emergency</th>\n",
       "      <th>PlaceSvc_Count_Inpatient Hospital</th>\n",
       "      <th>DrugCount_ave</th>\n",
       "      <th>DrugCount_total</th>\n",
       "      <th>PrimaryConditionGroup_Count_RENAL2</th>\n",
       "    </tr>\n",
       "  </thead>\n",
       "  <tbody>\n",
       "    <tr>\n",
       "      <th>0</th>\n",
       "      <td>8</td>\n",
       "      <td>1</td>\n",
       "      <td>0</td>\n",
       "      <td>35</td>\n",
       "      <td>0</td>\n",
       "      <td>28</td>\n",
       "      <td>1</td>\n",
       "      <td>2</td>\n",
       "      <td>0</td>\n",
       "      <td>1.666667</td>\n",
       "      <td>5.0</td>\n",
       "      <td>0</td>\n",
       "    </tr>\n",
       "    <tr>\n",
       "      <th>1</th>\n",
       "      <td>6</td>\n",
       "      <td>1</td>\n",
       "      <td>0</td>\n",
       "      <td>35</td>\n",
       "      <td>0</td>\n",
       "      <td>27</td>\n",
       "      <td>5</td>\n",
       "      <td>0</td>\n",
       "      <td>0</td>\n",
       "      <td>0.000000</td>\n",
       "      <td>0.0</td>\n",
       "      <td>0</td>\n",
       "    </tr>\n",
       "    <tr>\n",
       "      <th>3</th>\n",
       "      <td>13</td>\n",
       "      <td>0</td>\n",
       "      <td>0</td>\n",
       "      <td>45</td>\n",
       "      <td>8</td>\n",
       "      <td>14</td>\n",
       "      <td>0</td>\n",
       "      <td>4</td>\n",
       "      <td>0</td>\n",
       "      <td>3.000000</td>\n",
       "      <td>30.0</td>\n",
       "      <td>0</td>\n",
       "    </tr>\n",
       "    <tr>\n",
       "      <th>4</th>\n",
       "      <td>6</td>\n",
       "      <td>0</td>\n",
       "      <td>0</td>\n",
       "      <td>15</td>\n",
       "      <td>0</td>\n",
       "      <td>26</td>\n",
       "      <td>0</td>\n",
       "      <td>0</td>\n",
       "      <td>0</td>\n",
       "      <td>0.000000</td>\n",
       "      <td>0.0</td>\n",
       "      <td>0</td>\n",
       "    </tr>\n",
       "    <tr>\n",
       "      <th>5</th>\n",
       "      <td>11</td>\n",
       "      <td>0</td>\n",
       "      <td>0</td>\n",
       "      <td>15</td>\n",
       "      <td>0</td>\n",
       "      <td>16</td>\n",
       "      <td>0</td>\n",
       "      <td>3</td>\n",
       "      <td>0</td>\n",
       "      <td>0.000000</td>\n",
       "      <td>0.0</td>\n",
       "      <td>0</td>\n",
       "    </tr>\n",
       "  </tbody>\n",
       "</table>\n",
       "</div>"
      ],
      "text/plain": [
       "   no_Claims  MissSex  ClaimsTruncated  AgeAtFirstClaim  CharlsonIndex_sum  \\\n",
       "0          8        1                0               35                  0   \n",
       "1          6        1                0               35                  0   \n",
       "3         13        0                0               45                  8   \n",
       "4          6        0                0               15                  0   \n",
       "5         11        0                0               15                  0   \n",
       "\n",
       "   DSFS_sum  PrimaryConditionGroup_Count_PRGNCY  Specialty_Count_Emergency  \\\n",
       "0        28                                   1                          2   \n",
       "1        27                                   5                          0   \n",
       "3        14                                   0                          4   \n",
       "4        26                                   0                          0   \n",
       "5        16                                   0                          3   \n",
       "\n",
       "   PlaceSvc_Count_Inpatient Hospital  DrugCount_ave  DrugCount_total  \\\n",
       "0                                  0       1.666667              5.0   \n",
       "1                                  0       0.000000              0.0   \n",
       "3                                  0       3.000000             30.0   \n",
       "4                                  0       0.000000              0.0   \n",
       "5                                  0       0.000000              0.0   \n",
       "\n",
       "   PrimaryConditionGroup_Count_RENAL2  \n",
       "0                                   0  \n",
       "1                                   0  \n",
       "3                                   0  \n",
       "4                                   0  \n",
       "5                                   0  "
      ]
     },
     "execution_count": 20,
     "metadata": {},
     "output_type": "execute_result"
    }
   ],
   "source": [
    "new_data = pd.DataFrame()\n",
    "for i in range(0,12):\n",
    "    new_data = pd.concat([new_data, X.iloc[:, sorted_x[len(sorted_x)-i-1][0]]], axis = 1)\n",
    "new_data.head()"
   ]
  },
  {
   "cell_type": "markdown",
   "metadata": {},
   "source": [
    "## Biến đổi 12 feature đầu tiên"
   ]
  },
  {
   "cell_type": "code",
   "execution_count": 33,
   "metadata": {
    "ExecuteTime": {
     "end_time": "2020-12-18T13:20:13.627284Z",
     "start_time": "2020-12-18T13:20:13.623288Z"
    }
   },
   "outputs": [],
   "source": [
    "importance_features = list()\n",
    "for i in range(0,12):\n",
    "    importance_features.append(X.columns[sorted_x[len(sorted_x)-i-1][0]])  "
   ]
  },
  {
   "cell_type": "code",
   "execution_count": 34,
   "metadata": {
    "ExecuteTime": {
     "end_time": "2020-12-18T13:20:15.635935Z",
     "start_time": "2020-12-18T13:20:15.630951Z"
    }
   },
   "outputs": [
    {
     "data": {
      "text/plain": [
       "['no_Claims',\n",
       " 'MissSex',\n",
       " 'ClaimsTruncated',\n",
       " 'AgeAtFirstClaim',\n",
       " 'CharlsonIndex_sum',\n",
       " 'DSFS_sum',\n",
       " 'PrimaryConditionGroup_Count_PRGNCY',\n",
       " 'Specialty_Count_Emergency',\n",
       " 'PlaceSvc_Count_Inpatient Hospital',\n",
       " 'DrugCount_ave',\n",
       " 'DrugCount_total',\n",
       " 'PrimaryConditionGroup_Count_RENAL2']"
      ]
     },
     "execution_count": 34,
     "metadata": {},
     "output_type": "execute_result"
    }
   ],
   "source": [
    "importance_features"
   ]
  },
  {
   "cell_type": "code",
   "execution_count": 50,
   "metadata": {
    "ExecuteTime": {
     "end_time": "2020-12-18T13:34:45.785342Z",
     "start_time": "2020-12-18T13:34:45.762403Z"
    }
   },
   "outputs": [
    {
     "data": {
      "text/html": [
       "<div>\n",
       "<style scoped>\n",
       "    .dataframe tbody tr th:only-of-type {\n",
       "        vertical-align: middle;\n",
       "    }\n",
       "\n",
       "    .dataframe tbody tr th {\n",
       "        vertical-align: top;\n",
       "    }\n",
       "\n",
       "    .dataframe thead th {\n",
       "        text-align: right;\n",
       "    }\n",
       "</style>\n",
       "<table border=\"1\" class=\"dataframe\">\n",
       "  <thead>\n",
       "    <tr style=\"text-align: right;\">\n",
       "      <th></th>\n",
       "      <th>no_Claims</th>\n",
       "      <th>MissSex</th>\n",
       "      <th>ClaimsTruncated</th>\n",
       "      <th>AgeAtFirstClaim</th>\n",
       "      <th>CharlsonIndex_sum</th>\n",
       "      <th>DSFS_sum</th>\n",
       "      <th>PrimaryConditionGroup_Count_PRGNCY</th>\n",
       "      <th>Specialty_Count_Emergency</th>\n",
       "      <th>PlaceSvc_Count_Inpatient Hospital</th>\n",
       "      <th>DrugCount_ave</th>\n",
       "      <th>DrugCount_total</th>\n",
       "      <th>PrimaryConditionGroup_Count_RENAL2</th>\n",
       "    </tr>\n",
       "  </thead>\n",
       "  <tbody>\n",
       "    <tr>\n",
       "      <th>0</th>\n",
       "      <td>8</td>\n",
       "      <td>1</td>\n",
       "      <td>0</td>\n",
       "      <td>35</td>\n",
       "      <td>0</td>\n",
       "      <td>28</td>\n",
       "      <td>1</td>\n",
       "      <td>2</td>\n",
       "      <td>0</td>\n",
       "      <td>1.666667</td>\n",
       "      <td>5.0</td>\n",
       "      <td>0</td>\n",
       "    </tr>\n",
       "    <tr>\n",
       "      <th>1</th>\n",
       "      <td>6</td>\n",
       "      <td>1</td>\n",
       "      <td>0</td>\n",
       "      <td>35</td>\n",
       "      <td>0</td>\n",
       "      <td>27</td>\n",
       "      <td>5</td>\n",
       "      <td>0</td>\n",
       "      <td>0</td>\n",
       "      <td>0.000000</td>\n",
       "      <td>0.0</td>\n",
       "      <td>0</td>\n",
       "    </tr>\n",
       "    <tr>\n",
       "      <th>2</th>\n",
       "      <td>4</td>\n",
       "      <td>1</td>\n",
       "      <td>0</td>\n",
       "      <td>35</td>\n",
       "      <td>0</td>\n",
       "      <td>15</td>\n",
       "      <td>3</td>\n",
       "      <td>0</td>\n",
       "      <td>0</td>\n",
       "      <td>1.250000</td>\n",
       "      <td>5.0</td>\n",
       "      <td>0</td>\n",
       "    </tr>\n",
       "    <tr>\n",
       "      <th>3</th>\n",
       "      <td>13</td>\n",
       "      <td>0</td>\n",
       "      <td>0</td>\n",
       "      <td>45</td>\n",
       "      <td>8</td>\n",
       "      <td>14</td>\n",
       "      <td>0</td>\n",
       "      <td>4</td>\n",
       "      <td>0</td>\n",
       "      <td>3.000000</td>\n",
       "      <td>30.0</td>\n",
       "      <td>0</td>\n",
       "    </tr>\n",
       "    <tr>\n",
       "      <th>4</th>\n",
       "      <td>6</td>\n",
       "      <td>0</td>\n",
       "      <td>0</td>\n",
       "      <td>15</td>\n",
       "      <td>0</td>\n",
       "      <td>26</td>\n",
       "      <td>0</td>\n",
       "      <td>0</td>\n",
       "      <td>0</td>\n",
       "      <td>0.000000</td>\n",
       "      <td>0.0</td>\n",
       "      <td>0</td>\n",
       "    </tr>\n",
       "    <tr>\n",
       "      <th>...</th>\n",
       "      <td>...</td>\n",
       "      <td>...</td>\n",
       "      <td>...</td>\n",
       "      <td>...</td>\n",
       "      <td>...</td>\n",
       "      <td>...</td>\n",
       "      <td>...</td>\n",
       "      <td>...</td>\n",
       "      <td>...</td>\n",
       "      <td>...</td>\n",
       "      <td>...</td>\n",
       "      <td>...</td>\n",
       "    </tr>\n",
       "    <tr>\n",
       "      <th>218410</th>\n",
       "      <td>3</td>\n",
       "      <td>0</td>\n",
       "      <td>0</td>\n",
       "      <td>15</td>\n",
       "      <td>0</td>\n",
       "      <td>5</td>\n",
       "      <td>0</td>\n",
       "      <td>0</td>\n",
       "      <td>0</td>\n",
       "      <td>0.000000</td>\n",
       "      <td>0.0</td>\n",
       "      <td>0</td>\n",
       "    </tr>\n",
       "    <tr>\n",
       "      <th>218411</th>\n",
       "      <td>4</td>\n",
       "      <td>0</td>\n",
       "      <td>0</td>\n",
       "      <td>5</td>\n",
       "      <td>0</td>\n",
       "      <td>4</td>\n",
       "      <td>0</td>\n",
       "      <td>2</td>\n",
       "      <td>0</td>\n",
       "      <td>0.000000</td>\n",
       "      <td>0.0</td>\n",
       "      <td>0</td>\n",
       "    </tr>\n",
       "    <tr>\n",
       "      <th>218412</th>\n",
       "      <td>3</td>\n",
       "      <td>0</td>\n",
       "      <td>0</td>\n",
       "      <td>25</td>\n",
       "      <td>0</td>\n",
       "      <td>3</td>\n",
       "      <td>0</td>\n",
       "      <td>2</td>\n",
       "      <td>0</td>\n",
       "      <td>0.000000</td>\n",
       "      <td>0.0</td>\n",
       "      <td>0</td>\n",
       "    </tr>\n",
       "    <tr>\n",
       "      <th>218413</th>\n",
       "      <td>12</td>\n",
       "      <td>0</td>\n",
       "      <td>0</td>\n",
       "      <td>35</td>\n",
       "      <td>0</td>\n",
       "      <td>14</td>\n",
       "      <td>0</td>\n",
       "      <td>0</td>\n",
       "      <td>0</td>\n",
       "      <td>0.000000</td>\n",
       "      <td>0.0</td>\n",
       "      <td>0</td>\n",
       "    </tr>\n",
       "    <tr>\n",
       "      <th>218414</th>\n",
       "      <td>2</td>\n",
       "      <td>0</td>\n",
       "      <td>0</td>\n",
       "      <td>35</td>\n",
       "      <td>0</td>\n",
       "      <td>2</td>\n",
       "      <td>0</td>\n",
       "      <td>0</td>\n",
       "      <td>0</td>\n",
       "      <td>0.000000</td>\n",
       "      <td>0.0</td>\n",
       "      <td>0</td>\n",
       "    </tr>\n",
       "  </tbody>\n",
       "</table>\n",
       "<p>218415 rows × 12 columns</p>\n",
       "</div>"
      ],
      "text/plain": [
       "        no_Claims  MissSex  ClaimsTruncated  AgeAtFirstClaim  \\\n",
       "0               8        1                0               35   \n",
       "1               6        1                0               35   \n",
       "2               4        1                0               35   \n",
       "3              13        0                0               45   \n",
       "4               6        0                0               15   \n",
       "...           ...      ...              ...              ...   \n",
       "218410          3        0                0               15   \n",
       "218411          4        0                0                5   \n",
       "218412          3        0                0               25   \n",
       "218413         12        0                0               35   \n",
       "218414          2        0                0               35   \n",
       "\n",
       "        CharlsonIndex_sum  DSFS_sum  PrimaryConditionGroup_Count_PRGNCY  \\\n",
       "0                       0        28                                   1   \n",
       "1                       0        27                                   5   \n",
       "2                       0        15                                   3   \n",
       "3                       8        14                                   0   \n",
       "4                       0        26                                   0   \n",
       "...                   ...       ...                                 ...   \n",
       "218410                  0         5                                   0   \n",
       "218411                  0         4                                   0   \n",
       "218412                  0         3                                   0   \n",
       "218413                  0        14                                   0   \n",
       "218414                  0         2                                   0   \n",
       "\n",
       "        Specialty_Count_Emergency  PlaceSvc_Count_Inpatient Hospital  \\\n",
       "0                               2                                  0   \n",
       "1                               0                                  0   \n",
       "2                               0                                  0   \n",
       "3                               4                                  0   \n",
       "4                               0                                  0   \n",
       "...                           ...                                ...   \n",
       "218410                          0                                  0   \n",
       "218411                          2                                  0   \n",
       "218412                          2                                  0   \n",
       "218413                          0                                  0   \n",
       "218414                          0                                  0   \n",
       "\n",
       "        DrugCount_ave  DrugCount_total  PrimaryConditionGroup_Count_RENAL2  \n",
       "0            1.666667              5.0                                   0  \n",
       "1            0.000000              0.0                                   0  \n",
       "2            1.250000              5.0                                   0  \n",
       "3            3.000000             30.0                                   0  \n",
       "4            0.000000              0.0                                   0  \n",
       "...               ...              ...                                 ...  \n",
       "218410       0.000000              0.0                                   0  \n",
       "218411       0.000000              0.0                                   0  \n",
       "218412       0.000000              0.0                                   0  \n",
       "218413       0.000000              0.0                                   0  \n",
       "218414       0.000000              0.0                                   0  \n",
       "\n",
       "[218415 rows x 12 columns]"
      ]
     },
     "execution_count": 50,
     "metadata": {},
     "output_type": "execute_result"
    }
   ],
   "source": [
    "df[importance_features]"
   ]
  },
  {
   "cell_type": "code",
   "execution_count": 55,
   "metadata": {
    "ExecuteTime": {
     "end_time": "2020-12-18T13:36:23.793455Z",
     "start_time": "2020-12-18T13:36:23.769417Z"
    }
   },
   "outputs": [],
   "source": [
    "new_data = pd.DataFrame()\n",
    "new_data = df[importance_features].copy()"
   ]
  },
  {
   "cell_type": "code",
   "execution_count": 56,
   "metadata": {
    "ExecuteTime": {
     "end_time": "2020-12-18T13:36:36.534012Z",
     "start_time": "2020-12-18T13:36:36.525036Z"
    }
   },
   "outputs": [
    {
     "data": {
      "text/html": [
       "<div>\n",
       "<style scoped>\n",
       "    .dataframe tbody tr th:only-of-type {\n",
       "        vertical-align: middle;\n",
       "    }\n",
       "\n",
       "    .dataframe tbody tr th {\n",
       "        vertical-align: top;\n",
       "    }\n",
       "\n",
       "    .dataframe thead th {\n",
       "        text-align: right;\n",
       "    }\n",
       "</style>\n",
       "<table border=\"1\" class=\"dataframe\">\n",
       "  <thead>\n",
       "    <tr style=\"text-align: right;\">\n",
       "      <th></th>\n",
       "      <th>no_Claims</th>\n",
       "      <th>MissSex</th>\n",
       "      <th>ClaimsTruncated</th>\n",
       "      <th>AgeAtFirstClaim</th>\n",
       "      <th>CharlsonIndex_sum</th>\n",
       "      <th>DSFS_sum</th>\n",
       "      <th>PrimaryConditionGroup_Count_PRGNCY</th>\n",
       "      <th>Specialty_Count_Emergency</th>\n",
       "      <th>PlaceSvc_Count_Inpatient Hospital</th>\n",
       "      <th>DrugCount_ave</th>\n",
       "      <th>DrugCount_total</th>\n",
       "      <th>PrimaryConditionGroup_Count_RENAL2</th>\n",
       "    </tr>\n",
       "  </thead>\n",
       "  <tbody>\n",
       "    <tr>\n",
       "      <th>0</th>\n",
       "      <td>8</td>\n",
       "      <td>1</td>\n",
       "      <td>0</td>\n",
       "      <td>35</td>\n",
       "      <td>0</td>\n",
       "      <td>28</td>\n",
       "      <td>1</td>\n",
       "      <td>2</td>\n",
       "      <td>0</td>\n",
       "      <td>1.666667</td>\n",
       "      <td>5.0</td>\n",
       "      <td>0</td>\n",
       "    </tr>\n",
       "    <tr>\n",
       "      <th>1</th>\n",
       "      <td>6</td>\n",
       "      <td>1</td>\n",
       "      <td>0</td>\n",
       "      <td>35</td>\n",
       "      <td>0</td>\n",
       "      <td>27</td>\n",
       "      <td>5</td>\n",
       "      <td>0</td>\n",
       "      <td>0</td>\n",
       "      <td>0.000000</td>\n",
       "      <td>0.0</td>\n",
       "      <td>0</td>\n",
       "    </tr>\n",
       "    <tr>\n",
       "      <th>2</th>\n",
       "      <td>4</td>\n",
       "      <td>1</td>\n",
       "      <td>0</td>\n",
       "      <td>35</td>\n",
       "      <td>0</td>\n",
       "      <td>15</td>\n",
       "      <td>3</td>\n",
       "      <td>0</td>\n",
       "      <td>0</td>\n",
       "      <td>1.250000</td>\n",
       "      <td>5.0</td>\n",
       "      <td>0</td>\n",
       "    </tr>\n",
       "    <tr>\n",
       "      <th>3</th>\n",
       "      <td>13</td>\n",
       "      <td>0</td>\n",
       "      <td>0</td>\n",
       "      <td>45</td>\n",
       "      <td>8</td>\n",
       "      <td>14</td>\n",
       "      <td>0</td>\n",
       "      <td>4</td>\n",
       "      <td>0</td>\n",
       "      <td>3.000000</td>\n",
       "      <td>30.0</td>\n",
       "      <td>0</td>\n",
       "    </tr>\n",
       "    <tr>\n",
       "      <th>4</th>\n",
       "      <td>6</td>\n",
       "      <td>0</td>\n",
       "      <td>0</td>\n",
       "      <td>15</td>\n",
       "      <td>0</td>\n",
       "      <td>26</td>\n",
       "      <td>0</td>\n",
       "      <td>0</td>\n",
       "      <td>0</td>\n",
       "      <td>0.000000</td>\n",
       "      <td>0.0</td>\n",
       "      <td>0</td>\n",
       "    </tr>\n",
       "  </tbody>\n",
       "</table>\n",
       "</div>"
      ],
      "text/plain": [
       "   no_Claims  MissSex  ClaimsTruncated  AgeAtFirstClaim  CharlsonIndex_sum  \\\n",
       "0          8        1                0               35                  0   \n",
       "1          6        1                0               35                  0   \n",
       "2          4        1                0               35                  0   \n",
       "3         13        0                0               45                  8   \n",
       "4          6        0                0               15                  0   \n",
       "\n",
       "   DSFS_sum  PrimaryConditionGroup_Count_PRGNCY  Specialty_Count_Emergency  \\\n",
       "0        28                                   1                          2   \n",
       "1        27                                   5                          0   \n",
       "2        15                                   3                          0   \n",
       "3        14                                   0                          4   \n",
       "4        26                                   0                          0   \n",
       "\n",
       "   PlaceSvc_Count_Inpatient Hospital  DrugCount_ave  DrugCount_total  \\\n",
       "0                                  0       1.666667              5.0   \n",
       "1                                  0       0.000000              0.0   \n",
       "2                                  0       1.250000              5.0   \n",
       "3                                  0       3.000000             30.0   \n",
       "4                                  0       0.000000              0.0   \n",
       "\n",
       "   PrimaryConditionGroup_Count_RENAL2  \n",
       "0                                   0  \n",
       "1                                   0  \n",
       "2                                   0  \n",
       "3                                   0  \n",
       "4                                   0  "
      ]
     },
     "execution_count": 56,
     "metadata": {},
     "output_type": "execute_result"
    }
   ],
   "source": [
    "new_data.head()"
   ]
  },
  {
   "cell_type": "code",
   "execution_count": 60,
   "metadata": {
    "ExecuteTime": {
     "end_time": "2020-12-18T13:38:58.488287Z",
     "start_time": "2020-12-18T13:38:58.483271Z"
    }
   },
   "outputs": [
    {
     "name": "stdout",
     "output_type": "stream",
     "text": [
      "no_Claims_no_Claims\n",
      "no_Claims_MissSex\n",
      "no_Claims_ClaimsTruncated\n",
      "no_Claims_AgeAtFirstClaim\n",
      "no_Claims_CharlsonIndex_sum\n",
      "no_Claims_DSFS_sum\n",
      "no_Claims_PrimaryConditionGroup_Count_PRGNCY\n",
      "no_Claims_Specialty_Count_Emergency\n",
      "no_Claims_PlaceSvc_Count_Inpatient Hospital\n",
      "no_Claims_DrugCount_ave\n",
      "no_Claims_DrugCount_total\n",
      "no_Claims_PrimaryConditionGroup_Count_RENAL2\n",
      "MissSex_MissSex\n",
      "MissSex_ClaimsTruncated\n",
      "MissSex_AgeAtFirstClaim\n",
      "MissSex_CharlsonIndex_sum\n",
      "MissSex_DSFS_sum\n",
      "MissSex_PrimaryConditionGroup_Count_PRGNCY\n",
      "MissSex_Specialty_Count_Emergency\n",
      "MissSex_PlaceSvc_Count_Inpatient Hospital\n",
      "MissSex_DrugCount_ave\n",
      "MissSex_DrugCount_total\n",
      "MissSex_PrimaryConditionGroup_Count_RENAL2\n",
      "ClaimsTruncated_ClaimsTruncated\n",
      "ClaimsTruncated_AgeAtFirstClaim\n",
      "ClaimsTruncated_CharlsonIndex_sum\n",
      "ClaimsTruncated_DSFS_sum\n",
      "ClaimsTruncated_PrimaryConditionGroup_Count_PRGNCY\n",
      "ClaimsTruncated_Specialty_Count_Emergency\n",
      "ClaimsTruncated_PlaceSvc_Count_Inpatient Hospital\n",
      "ClaimsTruncated_DrugCount_ave\n",
      "ClaimsTruncated_DrugCount_total\n",
      "ClaimsTruncated_PrimaryConditionGroup_Count_RENAL2\n",
      "AgeAtFirstClaim_AgeAtFirstClaim\n",
      "AgeAtFirstClaim_CharlsonIndex_sum\n",
      "AgeAtFirstClaim_DSFS_sum\n",
      "AgeAtFirstClaim_PrimaryConditionGroup_Count_PRGNCY\n",
      "AgeAtFirstClaim_Specialty_Count_Emergency\n",
      "AgeAtFirstClaim_PlaceSvc_Count_Inpatient Hospital\n",
      "AgeAtFirstClaim_DrugCount_ave\n",
      "AgeAtFirstClaim_DrugCount_total\n",
      "AgeAtFirstClaim_PrimaryConditionGroup_Count_RENAL2\n",
      "CharlsonIndex_sum_CharlsonIndex_sum\n",
      "CharlsonIndex_sum_DSFS_sum\n",
      "CharlsonIndex_sum_PrimaryConditionGroup_Count_PRGNCY\n",
      "CharlsonIndex_sum_Specialty_Count_Emergency\n",
      "CharlsonIndex_sum_PlaceSvc_Count_Inpatient Hospital\n",
      "CharlsonIndex_sum_DrugCount_ave\n",
      "CharlsonIndex_sum_DrugCount_total\n",
      "CharlsonIndex_sum_PrimaryConditionGroup_Count_RENAL2\n",
      "DSFS_sum_DSFS_sum\n",
      "DSFS_sum_PrimaryConditionGroup_Count_PRGNCY\n",
      "DSFS_sum_Specialty_Count_Emergency\n",
      "DSFS_sum_PlaceSvc_Count_Inpatient Hospital\n",
      "DSFS_sum_DrugCount_ave\n",
      "DSFS_sum_DrugCount_total\n",
      "DSFS_sum_PrimaryConditionGroup_Count_RENAL2\n",
      "PrimaryConditionGroup_Count_PRGNCY_PrimaryConditionGroup_Count_PRGNCY\n",
      "PrimaryConditionGroup_Count_PRGNCY_Specialty_Count_Emergency\n",
      "PrimaryConditionGroup_Count_PRGNCY_PlaceSvc_Count_Inpatient Hospital\n",
      "PrimaryConditionGroup_Count_PRGNCY_DrugCount_ave\n",
      "PrimaryConditionGroup_Count_PRGNCY_DrugCount_total\n",
      "PrimaryConditionGroup_Count_PRGNCY_PrimaryConditionGroup_Count_RENAL2\n",
      "Specialty_Count_Emergency_Specialty_Count_Emergency\n",
      "Specialty_Count_Emergency_PlaceSvc_Count_Inpatient Hospital\n",
      "Specialty_Count_Emergency_DrugCount_ave\n",
      "Specialty_Count_Emergency_DrugCount_total\n",
      "Specialty_Count_Emergency_PrimaryConditionGroup_Count_RENAL2\n",
      "PlaceSvc_Count_Inpatient Hospital_PlaceSvc_Count_Inpatient Hospital\n",
      "PlaceSvc_Count_Inpatient Hospital_DrugCount_ave\n",
      "PlaceSvc_Count_Inpatient Hospital_DrugCount_total\n",
      "PlaceSvc_Count_Inpatient Hospital_PrimaryConditionGroup_Count_RENAL2\n",
      "DrugCount_ave_DrugCount_ave\n",
      "DrugCount_ave_DrugCount_total\n",
      "DrugCount_ave_PrimaryConditionGroup_Count_RENAL2\n",
      "DrugCount_total_DrugCount_total\n",
      "DrugCount_total_PrimaryConditionGroup_Count_RENAL2\n",
      "PrimaryConditionGroup_Count_RENAL2_PrimaryConditionGroup_Count_RENAL2\n"
     ]
    }
   ],
   "source": [
    "for i in range(0,12):\n",
    "    for j in range(i,12):\n",
    "        print(new_data.columns[i]+ '_' + str(new_data.columns[j]))\n",
    "        "
   ]
  },
  {
   "cell_type": "code",
   "execution_count": 63,
   "metadata": {
    "ExecuteTime": {
     "end_time": "2020-12-18T13:40:34.955597Z",
     "start_time": "2020-12-18T13:40:34.950611Z"
    }
   },
   "outputs": [
    {
     "data": {
      "text/plain": [
       "0         0\n",
       "1         0\n",
       "2         0\n",
       "3         0\n",
       "4         0\n",
       "         ..\n",
       "218410    0\n",
       "218411    0\n",
       "218412    0\n",
       "218413    0\n",
       "218414    0\n",
       "Name: ClaimsTruncated, Length: 218415, dtype: int64"
      ]
     },
     "execution_count": 63,
     "metadata": {},
     "output_type": "execute_result"
    }
   ],
   "source": [
    "new_data[importance_features[2]]"
   ]
  },
  {
   "cell_type": "code",
   "execution_count": 64,
   "metadata": {
    "ExecuteTime": {
     "end_time": "2020-12-18T13:41:06.874841Z",
     "start_time": "2020-12-18T13:41:06.704297Z"
    }
   },
   "outputs": [
    {
     "data": {
      "text/html": [
       "<div>\n",
       "<style scoped>\n",
       "    .dataframe tbody tr th:only-of-type {\n",
       "        vertical-align: middle;\n",
       "    }\n",
       "\n",
       "    .dataframe tbody tr th {\n",
       "        vertical-align: top;\n",
       "    }\n",
       "\n",
       "    .dataframe thead th {\n",
       "        text-align: right;\n",
       "    }\n",
       "</style>\n",
       "<table border=\"1\" class=\"dataframe\">\n",
       "  <thead>\n",
       "    <tr style=\"text-align: right;\">\n",
       "      <th></th>\n",
       "      <th>no_Claims</th>\n",
       "      <th>MissSex</th>\n",
       "      <th>ClaimsTruncated</th>\n",
       "      <th>AgeAtFirstClaim</th>\n",
       "      <th>CharlsonIndex_sum</th>\n",
       "      <th>DSFS_sum</th>\n",
       "      <th>PrimaryConditionGroup_Count_PRGNCY</th>\n",
       "      <th>Specialty_Count_Emergency</th>\n",
       "      <th>PlaceSvc_Count_Inpatient Hospital</th>\n",
       "      <th>DrugCount_ave</th>\n",
       "      <th>...</th>\n",
       "      <th>PlaceSvc_Count_Inpatient Hospital_PlaceSvc_Count_Inpatient Hospital</th>\n",
       "      <th>PlaceSvc_Count_Inpatient Hospital_DrugCount_ave</th>\n",
       "      <th>PlaceSvc_Count_Inpatient Hospital_DrugCount_total</th>\n",
       "      <th>PlaceSvc_Count_Inpatient Hospital_PrimaryConditionGroup_Count_RENAL2</th>\n",
       "      <th>DrugCount_ave_DrugCount_ave</th>\n",
       "      <th>DrugCount_ave_DrugCount_total</th>\n",
       "      <th>DrugCount_ave_PrimaryConditionGroup_Count_RENAL2</th>\n",
       "      <th>DrugCount_total_DrugCount_total</th>\n",
       "      <th>DrugCount_total_PrimaryConditionGroup_Count_RENAL2</th>\n",
       "      <th>PrimaryConditionGroup_Count_RENAL2_PrimaryConditionGroup_Count_RENAL2</th>\n",
       "    </tr>\n",
       "  </thead>\n",
       "  <tbody>\n",
       "    <tr>\n",
       "      <th>0</th>\n",
       "      <td>8</td>\n",
       "      <td>1</td>\n",
       "      <td>0</td>\n",
       "      <td>35</td>\n",
       "      <td>0</td>\n",
       "      <td>28</td>\n",
       "      <td>1</td>\n",
       "      <td>2</td>\n",
       "      <td>0</td>\n",
       "      <td>1.666667</td>\n",
       "      <td>...</td>\n",
       "      <td>0</td>\n",
       "      <td>0.0</td>\n",
       "      <td>0.0</td>\n",
       "      <td>0</td>\n",
       "      <td>2.777778</td>\n",
       "      <td>8.333333</td>\n",
       "      <td>0.0</td>\n",
       "      <td>25.0</td>\n",
       "      <td>0.0</td>\n",
       "      <td>0</td>\n",
       "    </tr>\n",
       "    <tr>\n",
       "      <th>1</th>\n",
       "      <td>6</td>\n",
       "      <td>1</td>\n",
       "      <td>0</td>\n",
       "      <td>35</td>\n",
       "      <td>0</td>\n",
       "      <td>27</td>\n",
       "      <td>5</td>\n",
       "      <td>0</td>\n",
       "      <td>0</td>\n",
       "      <td>0.000000</td>\n",
       "      <td>...</td>\n",
       "      <td>0</td>\n",
       "      <td>0.0</td>\n",
       "      <td>0.0</td>\n",
       "      <td>0</td>\n",
       "      <td>0.000000</td>\n",
       "      <td>0.000000</td>\n",
       "      <td>0.0</td>\n",
       "      <td>0.0</td>\n",
       "      <td>0.0</td>\n",
       "      <td>0</td>\n",
       "    </tr>\n",
       "    <tr>\n",
       "      <th>2</th>\n",
       "      <td>4</td>\n",
       "      <td>1</td>\n",
       "      <td>0</td>\n",
       "      <td>35</td>\n",
       "      <td>0</td>\n",
       "      <td>15</td>\n",
       "      <td>3</td>\n",
       "      <td>0</td>\n",
       "      <td>0</td>\n",
       "      <td>1.250000</td>\n",
       "      <td>...</td>\n",
       "      <td>0</td>\n",
       "      <td>0.0</td>\n",
       "      <td>0.0</td>\n",
       "      <td>0</td>\n",
       "      <td>1.562500</td>\n",
       "      <td>6.250000</td>\n",
       "      <td>0.0</td>\n",
       "      <td>25.0</td>\n",
       "      <td>0.0</td>\n",
       "      <td>0</td>\n",
       "    </tr>\n",
       "    <tr>\n",
       "      <th>3</th>\n",
       "      <td>13</td>\n",
       "      <td>0</td>\n",
       "      <td>0</td>\n",
       "      <td>45</td>\n",
       "      <td>8</td>\n",
       "      <td>14</td>\n",
       "      <td>0</td>\n",
       "      <td>4</td>\n",
       "      <td>0</td>\n",
       "      <td>3.000000</td>\n",
       "      <td>...</td>\n",
       "      <td>0</td>\n",
       "      <td>0.0</td>\n",
       "      <td>0.0</td>\n",
       "      <td>0</td>\n",
       "      <td>9.000000</td>\n",
       "      <td>90.000000</td>\n",
       "      <td>0.0</td>\n",
       "      <td>900.0</td>\n",
       "      <td>0.0</td>\n",
       "      <td>0</td>\n",
       "    </tr>\n",
       "    <tr>\n",
       "      <th>4</th>\n",
       "      <td>6</td>\n",
       "      <td>0</td>\n",
       "      <td>0</td>\n",
       "      <td>15</td>\n",
       "      <td>0</td>\n",
       "      <td>26</td>\n",
       "      <td>0</td>\n",
       "      <td>0</td>\n",
       "      <td>0</td>\n",
       "      <td>0.000000</td>\n",
       "      <td>...</td>\n",
       "      <td>0</td>\n",
       "      <td>0.0</td>\n",
       "      <td>0.0</td>\n",
       "      <td>0</td>\n",
       "      <td>0.000000</td>\n",
       "      <td>0.000000</td>\n",
       "      <td>0.0</td>\n",
       "      <td>0.0</td>\n",
       "      <td>0.0</td>\n",
       "      <td>0</td>\n",
       "    </tr>\n",
       "  </tbody>\n",
       "</table>\n",
       "<p>5 rows × 90 columns</p>\n",
       "</div>"
      ],
      "text/plain": [
       "   no_Claims  MissSex  ClaimsTruncated  AgeAtFirstClaim  CharlsonIndex_sum  \\\n",
       "0          8        1                0               35                  0   \n",
       "1          6        1                0               35                  0   \n",
       "2          4        1                0               35                  0   \n",
       "3         13        0                0               45                  8   \n",
       "4          6        0                0               15                  0   \n",
       "\n",
       "   DSFS_sum  PrimaryConditionGroup_Count_PRGNCY  Specialty_Count_Emergency  \\\n",
       "0        28                                   1                          2   \n",
       "1        27                                   5                          0   \n",
       "2        15                                   3                          0   \n",
       "3        14                                   0                          4   \n",
       "4        26                                   0                          0   \n",
       "\n",
       "   PlaceSvc_Count_Inpatient Hospital  DrugCount_ave  ...  \\\n",
       "0                                  0       1.666667  ...   \n",
       "1                                  0       0.000000  ...   \n",
       "2                                  0       1.250000  ...   \n",
       "3                                  0       3.000000  ...   \n",
       "4                                  0       0.000000  ...   \n",
       "\n",
       "   PlaceSvc_Count_Inpatient Hospital_PlaceSvc_Count_Inpatient Hospital  \\\n",
       "0                                                  0                     \n",
       "1                                                  0                     \n",
       "2                                                  0                     \n",
       "3                                                  0                     \n",
       "4                                                  0                     \n",
       "\n",
       "   PlaceSvc_Count_Inpatient Hospital_DrugCount_ave  \\\n",
       "0                                              0.0   \n",
       "1                                              0.0   \n",
       "2                                              0.0   \n",
       "3                                              0.0   \n",
       "4                                              0.0   \n",
       "\n",
       "   PlaceSvc_Count_Inpatient Hospital_DrugCount_total  \\\n",
       "0                                                0.0   \n",
       "1                                                0.0   \n",
       "2                                                0.0   \n",
       "3                                                0.0   \n",
       "4                                                0.0   \n",
       "\n",
       "   PlaceSvc_Count_Inpatient Hospital_PrimaryConditionGroup_Count_RENAL2  \\\n",
       "0                                                  0                      \n",
       "1                                                  0                      \n",
       "2                                                  0                      \n",
       "3                                                  0                      \n",
       "4                                                  0                      \n",
       "\n",
       "   DrugCount_ave_DrugCount_ave  DrugCount_ave_DrugCount_total  \\\n",
       "0                     2.777778                       8.333333   \n",
       "1                     0.000000                       0.000000   \n",
       "2                     1.562500                       6.250000   \n",
       "3                     9.000000                      90.000000   \n",
       "4                     0.000000                       0.000000   \n",
       "\n",
       "   DrugCount_ave_PrimaryConditionGroup_Count_RENAL2  \\\n",
       "0                                               0.0   \n",
       "1                                               0.0   \n",
       "2                                               0.0   \n",
       "3                                               0.0   \n",
       "4                                               0.0   \n",
       "\n",
       "   DrugCount_total_DrugCount_total  \\\n",
       "0                             25.0   \n",
       "1                              0.0   \n",
       "2                             25.0   \n",
       "3                            900.0   \n",
       "4                              0.0   \n",
       "\n",
       "   DrugCount_total_PrimaryConditionGroup_Count_RENAL2  \\\n",
       "0                                                0.0    \n",
       "1                                                0.0    \n",
       "2                                                0.0    \n",
       "3                                                0.0    \n",
       "4                                                0.0    \n",
       "\n",
       "   PrimaryConditionGroup_Count_RENAL2_PrimaryConditionGroup_Count_RENAL2  \n",
       "0                                                  0                      \n",
       "1                                                  0                      \n",
       "2                                                  0                      \n",
       "3                                                  0                      \n",
       "4                                                  0                      \n",
       "\n",
       "[5 rows x 90 columns]"
      ]
     },
     "execution_count": 64,
     "metadata": {},
     "output_type": "execute_result"
    }
   ],
   "source": [
    "for i in range(0,12):\n",
    "    for j in range(i,12):\n",
    "        new_data[str(new_data.columns[i]) + '_' + str(new_data.columns[j])] = new_data[importance_features[i]] * new_data[importance_features[j]]\n",
    "new_data.head()"
   ]
  },
  {
   "cell_type": "code",
   "execution_count": 66,
   "metadata": {
    "ExecuteTime": {
     "end_time": "2020-12-18T13:41:48.078384Z",
     "start_time": "2020-12-18T13:41:48.074421Z"
    }
   },
   "outputs": [
    {
     "data": {
      "text/plain": [
       "(218415, 90)"
      ]
     },
     "execution_count": 66,
     "metadata": {},
     "output_type": "execute_result"
    }
   ],
   "source": [
    "new_data.shape"
   ]
  },
  {
   "cell_type": "code",
   "execution_count": null,
   "metadata": {},
   "outputs": [],
   "source": [
    "new_data.drop(new_data.columns[[0, 1, 2, 3, 4, 5, 6, 7, 8, 9,10,11]], axis=1, inplace=True)"
   ]
  },
  {
   "cell_type": "code",
   "execution_count": 67,
   "metadata": {
    "ExecuteTime": {
     "end_time": "2020-12-18T13:42:34.165655Z",
     "start_time": "2020-12-18T13:42:33.646396Z"
    }
   },
   "outputs": [],
   "source": [
    "df_new = pd.concat([df, new_data], axis = 1)"
   ]
  },
  {
   "cell_type": "code",
   "execution_count": 68,
   "metadata": {
    "ExecuteTime": {
     "end_time": "2020-12-18T13:44:36.158423Z",
     "start_time": "2020-12-18T13:44:25.502355Z"
    }
   },
   "outputs": [],
   "source": [
    "df_new.to_csv('../2.Feature Engineering/new data/modelling_set_newfeature.csv',index=False)"
   ]
  },
  {
   "cell_type": "markdown",
   "metadata": {},
   "source": [
    "# Test thử trên data mới sau khi biến đổi feature"
   ]
  },
  {
   "cell_type": "code",
   "execution_count": 69,
   "metadata": {
    "ExecuteTime": {
     "end_time": "2020-12-18T13:47:37.935306Z",
     "start_time": "2020-12-18T13:47:37.324892Z"
    }
   },
   "outputs": [],
   "source": [
    "df_train = df_new[df_new['trainset']==1]\n",
    "df_target = df_new[df_new['trainset']==0]"
   ]
  },
  {
   "cell_type": "code",
   "execution_count": 70,
   "metadata": {
    "ExecuteTime": {
     "end_time": "2020-12-18T13:47:39.624612Z",
     "start_time": "2020-12-18T13:47:39.500916Z"
    }
   },
   "outputs": [
    {
     "data": {
      "text/plain": [
       "count    147473.000000\n",
       "mean          0.452951\n",
       "std           1.573818\n",
       "min           0.000000\n",
       "25%           0.000000\n",
       "50%           0.000000\n",
       "75%           0.000000\n",
       "max          15.000000\n",
       "Name: TARGET, dtype: float64"
      ]
     },
     "execution_count": 70,
     "metadata": {},
     "output_type": "execute_result"
    }
   ],
   "source": [
    "m = (df_train.columns != 'TARGET') & (df_train.columns != 'MemberID') & (df_train.columns != 'Year') & (df_train.columns != 'trainset')\n",
    "X = df_train.loc[:, m]\n",
    "y = df_train['TARGET']\n",
    "y.describe()"
   ]
  },
  {
   "cell_type": "code",
   "execution_count": 71,
   "metadata": {
    "ExecuteTime": {
     "end_time": "2020-12-18T13:47:43.394846Z",
     "start_time": "2020-12-18T13:47:42.411403Z"
    }
   },
   "outputs": [],
   "source": [
    "from sklearn.preprocessing import MinMaxScaler, StandardScaler\n",
    "\n",
    "scaler = MinMaxScaler(feature_range=(0,1)).fit(X)\n",
    "#scaler = StandardScaler().fit(X)\n",
    "\n",
    "new_X = scaler.transform(X)\n",
    "X_train, X_test, y_train, y_test = train_test_split(new_X, y, test_size=0.3, random_state=123)"
   ]
  },
  {
   "cell_type": "code",
   "execution_count": 73,
   "metadata": {
    "ExecuteTime": {
     "end_time": "2020-12-18T13:48:03.721670Z",
     "start_time": "2020-12-18T13:48:03.468066Z"
    }
   },
   "outputs": [],
   "source": [
    "model= ensemble.RandomForestRegressor(bootstrap=True, criterion='mse', max_depth=10,\n",
    "            max_features='auto', max_leaf_nodes=None,\n",
    "            min_impurity_decrease=0.0, min_impurity_split=None,\n",
    "            min_samples_leaf=5, min_samples_split=500,\n",
    "            min_weight_fraction_leaf=0.0, n_estimators=1000, n_jobs=-1,\n",
    "            oob_score=False, random_state=None, verbose=1, warm_start=False)"
   ]
  },
  {
   "cell_type": "code",
   "execution_count": 74,
   "metadata": {
    "ExecuteTime": {
     "end_time": "2020-12-18T13:59:11.255697Z",
     "start_time": "2020-12-18T13:48:05.443992Z"
    }
   },
   "outputs": [
    {
     "name": "stderr",
     "output_type": "stream",
     "text": [
      "[Parallel(n_jobs=-1)]: Using backend ThreadingBackend with 12 concurrent workers.\n",
      "[Parallel(n_jobs=-1)]: Done  26 tasks      | elapsed:   23.2s\n",
      "[Parallel(n_jobs=-1)]: Done 176 tasks      | elapsed:  2.0min\n",
      "[Parallel(n_jobs=-1)]: Done 426 tasks      | elapsed:  4.8min\n",
      "[Parallel(n_jobs=-1)]: Done 776 tasks      | elapsed:  8.6min\n",
      "[Parallel(n_jobs=-1)]: Done 1000 out of 1000 | elapsed: 11.0min finished\n",
      "[Parallel(n_jobs=12)]: Using backend ThreadingBackend with 12 concurrent workers.\n",
      "[Parallel(n_jobs=12)]: Done  26 tasks      | elapsed:    0.0s\n",
      "[Parallel(n_jobs=12)]: Done 176 tasks      | elapsed:    0.2s\n",
      "[Parallel(n_jobs=12)]: Done 426 tasks      | elapsed:    0.7s\n",
      "[Parallel(n_jobs=12)]: Done 776 tasks      | elapsed:    1.3s\n",
      "[Parallel(n_jobs=12)]: Done 1000 out of 1000 | elapsed:    1.7s finished\n",
      "[Parallel(n_jobs=12)]: Using backend ThreadingBackend with 12 concurrent workers.\n",
      "[Parallel(n_jobs=12)]: Done  26 tasks      | elapsed:    0.0s\n",
      "[Parallel(n_jobs=12)]: Done 176 tasks      | elapsed:    0.0s\n",
      "[Parallel(n_jobs=12)]: Done 426 tasks      | elapsed:    0.2s\n"
     ]
    },
    {
     "name": "stdout",
     "output_type": "stream",
     "text": [
      "0.47433270544618783 -17.074495201750654\n",
      "0.49612154091404176 -19.653960480463642\n"
     ]
    },
    {
     "name": "stderr",
     "output_type": "stream",
     "text": [
      "[Parallel(n_jobs=12)]: Done 776 tasks      | elapsed:    0.4s\n",
      "[Parallel(n_jobs=12)]: Done 1000 out of 1000 | elapsed:    0.5s finished\n"
     ]
    }
   ],
   "source": [
    "model.fit(X_train, y_train)\n",
    "rmsle_train, r2_train = eval(model, X_train, y_train)\n",
    "rmsle_test, r2_test = eval(model, X_test, y_test)\n",
    "print(rmsle_train, r2_train)\n",
    "print(rmsle_test, r2_test)"
   ]
  },
  {
   "cell_type": "markdown",
   "metadata": {},
   "source": [
    "# Chạy với max feuture"
   ]
  },
  {
   "cell_type": "code",
   "execution_count": 75,
   "metadata": {
    "ExecuteTime": {
     "end_time": "2020-12-18T14:11:27.189436Z",
     "start_time": "2020-12-18T14:02:51.794595Z"
    }
   },
   "outputs": [
    {
     "name": "stderr",
     "output_type": "stream",
     "text": [
      "[Parallel(n_jobs=-1)]: Using backend ThreadingBackend with 12 concurrent workers.\n",
      "[Parallel(n_jobs=-1)]: Done  26 tasks      | elapsed:    1.3s\n",
      "[Parallel(n_jobs=-1)]: Done 176 tasks      | elapsed:    6.7s\n",
      "[Parallel(n_jobs=-1)]: Done 426 tasks      | elapsed:   16.1s\n",
      "[Parallel(n_jobs=-1)]: Done 776 tasks      | elapsed:   29.4s\n",
      "[Parallel(n_jobs=-1)]: Done 1000 out of 1000 | elapsed:   37.6s finished\n",
      "[Parallel(n_jobs=12)]: Using backend ThreadingBackend with 12 concurrent workers.\n",
      "[Parallel(n_jobs=12)]: Done  26 tasks      | elapsed:    0.0s\n",
      "[Parallel(n_jobs=12)]: Done 176 tasks      | elapsed:    0.1s\n",
      "[Parallel(n_jobs=12)]: Done 426 tasks      | elapsed:    0.5s\n",
      "[Parallel(n_jobs=12)]: Done 776 tasks      | elapsed:    1.0s\n",
      "[Parallel(n_jobs=12)]: Done 1000 out of 1000 | elapsed:    1.3s finished\n",
      "[Parallel(n_jobs=12)]: Using backend ThreadingBackend with 12 concurrent workers.\n",
      "[Parallel(n_jobs=12)]: Done  26 tasks      | elapsed:    0.0s\n",
      "[Parallel(n_jobs=12)]: Done 176 tasks      | elapsed:    0.0s\n",
      "[Parallel(n_jobs=12)]: Done 426 tasks      | elapsed:    0.1s\n",
      "[Parallel(n_jobs=12)]: Done 776 tasks      | elapsed:    0.3s\n",
      "[Parallel(n_jobs=12)]: Done 1000 out of 1000 | elapsed:    0.5s finished\n"
     ]
    },
    {
     "name": "stdout",
     "output_type": "stream",
     "text": [
      "max_feature: 12\n",
      "0.47686166852085893 -19.42583398314811\n",
      "0.4946407010554566 -21.904189875105885\n"
     ]
    },
    {
     "name": "stderr",
     "output_type": "stream",
     "text": [
      "[Parallel(n_jobs=-1)]: Using backend ThreadingBackend with 12 concurrent workers.\n",
      "[Parallel(n_jobs=-1)]: Done  26 tasks      | elapsed:    1.4s\n",
      "[Parallel(n_jobs=-1)]: Done 176 tasks      | elapsed:    7.8s\n",
      "[Parallel(n_jobs=-1)]: Done 426 tasks      | elapsed:   18.5s\n",
      "[Parallel(n_jobs=-1)]: Done 776 tasks      | elapsed:   33.5s\n",
      "[Parallel(n_jobs=-1)]: Done 1000 out of 1000 | elapsed:   42.9s finished\n",
      "[Parallel(n_jobs=12)]: Using backend ThreadingBackend with 12 concurrent workers.\n",
      "[Parallel(n_jobs=12)]: Done  26 tasks      | elapsed:    0.0s\n",
      "[Parallel(n_jobs=12)]: Done 176 tasks      | elapsed:    0.2s\n",
      "[Parallel(n_jobs=12)]: Done 426 tasks      | elapsed:    0.5s\n",
      "[Parallel(n_jobs=12)]: Done 776 tasks      | elapsed:    0.9s\n",
      "[Parallel(n_jobs=12)]: Done 1000 out of 1000 | elapsed:    1.3s finished\n",
      "[Parallel(n_jobs=12)]: Using backend ThreadingBackend with 12 concurrent workers.\n",
      "[Parallel(n_jobs=12)]: Done  26 tasks      | elapsed:    0.0s\n",
      "[Parallel(n_jobs=12)]: Done 176 tasks      | elapsed:    0.0s\n",
      "[Parallel(n_jobs=12)]: Done 426 tasks      | elapsed:    0.1s\n",
      "[Parallel(n_jobs=12)]: Done 776 tasks      | elapsed:    0.3s\n",
      "[Parallel(n_jobs=12)]: Done 1000 out of 1000 | elapsed:    0.5s finished\n"
     ]
    },
    {
     "name": "stdout",
     "output_type": "stream",
     "text": [
      "max_feature: 14\n",
      "0.4763510022554095 -19.164840257239153\n",
      "0.4944984200639377 -21.50574259414654\n"
     ]
    },
    {
     "name": "stderr",
     "output_type": "stream",
     "text": [
      "[Parallel(n_jobs=-1)]: Using backend ThreadingBackend with 12 concurrent workers.\n",
      "[Parallel(n_jobs=-1)]: Done  26 tasks      | elapsed:    1.6s\n",
      "[Parallel(n_jobs=-1)]: Done 176 tasks      | elapsed:    8.7s\n",
      "[Parallel(n_jobs=-1)]: Done 426 tasks      | elapsed:   20.8s\n",
      "[Parallel(n_jobs=-1)]: Done 776 tasks      | elapsed:   37.8s\n",
      "[Parallel(n_jobs=-1)]: Done 1000 out of 1000 | elapsed:   48.3s finished\n",
      "[Parallel(n_jobs=12)]: Using backend ThreadingBackend with 12 concurrent workers.\n",
      "[Parallel(n_jobs=12)]: Done  26 tasks      | elapsed:    0.0s\n",
      "[Parallel(n_jobs=12)]: Done 176 tasks      | elapsed:    0.1s\n",
      "[Parallel(n_jobs=12)]: Done 426 tasks      | elapsed:    0.5s\n",
      "[Parallel(n_jobs=12)]: Done 776 tasks      | elapsed:    0.9s\n",
      "[Parallel(n_jobs=12)]: Done 1000 out of 1000 | elapsed:    1.2s finished\n",
      "[Parallel(n_jobs=12)]: Using backend ThreadingBackend with 12 concurrent workers.\n",
      "[Parallel(n_jobs=12)]: Done  26 tasks      | elapsed:    0.0s\n",
      "[Parallel(n_jobs=12)]: Done 176 tasks      | elapsed:    0.0s\n",
      "[Parallel(n_jobs=12)]: Done 426 tasks      | elapsed:    0.1s\n",
      "[Parallel(n_jobs=12)]: Done 776 tasks      | elapsed:    0.3s\n",
      "[Parallel(n_jobs=12)]: Done 1000 out of 1000 | elapsed:    0.4s finished\n"
     ]
    },
    {
     "name": "stdout",
     "output_type": "stream",
     "text": [
      "max_feature: 16\n",
      "0.4763036892328889 -18.85172422632781\n",
      "0.4943421367636227 -21.398641393231262\n"
     ]
    },
    {
     "name": "stderr",
     "output_type": "stream",
     "text": [
      "[Parallel(n_jobs=-1)]: Using backend ThreadingBackend with 12 concurrent workers.\n",
      "[Parallel(n_jobs=-1)]: Done  26 tasks      | elapsed:    1.8s\n",
      "[Parallel(n_jobs=-1)]: Done 176 tasks      | elapsed:    9.6s\n",
      "[Parallel(n_jobs=-1)]: Done 426 tasks      | elapsed:   23.2s\n",
      "[Parallel(n_jobs=-1)]: Done 776 tasks      | elapsed:   42.5s\n",
      "[Parallel(n_jobs=-1)]: Done 1000 out of 1000 | elapsed:   54.5s finished\n",
      "[Parallel(n_jobs=12)]: Using backend ThreadingBackend with 12 concurrent workers.\n",
      "[Parallel(n_jobs=12)]: Done  26 tasks      | elapsed:    0.0s\n",
      "[Parallel(n_jobs=12)]: Done 176 tasks      | elapsed:    0.2s\n",
      "[Parallel(n_jobs=12)]: Done 426 tasks      | elapsed:    0.6s\n",
      "[Parallel(n_jobs=12)]: Done 776 tasks      | elapsed:    1.2s\n",
      "[Parallel(n_jobs=12)]: Done 1000 out of 1000 | elapsed:    1.6s finished\n",
      "[Parallel(n_jobs=12)]: Using backend ThreadingBackend with 12 concurrent workers.\n",
      "[Parallel(n_jobs=12)]: Done  26 tasks      | elapsed:    0.0s\n",
      "[Parallel(n_jobs=12)]: Done 176 tasks      | elapsed:    0.0s\n",
      "[Parallel(n_jobs=12)]: Done 426 tasks      | elapsed:    0.2s\n",
      "[Parallel(n_jobs=12)]: Done 776 tasks      | elapsed:    0.4s\n",
      "[Parallel(n_jobs=12)]: Done 1000 out of 1000 | elapsed:    0.5s finished\n"
     ]
    },
    {
     "name": "stdout",
     "output_type": "stream",
     "text": [
      "max_feature: 18\n",
      "0.47614729555411983 -18.733889531488963\n",
      "0.49484391275972667 -21.218822968996147\n"
     ]
    },
    {
     "name": "stderr",
     "output_type": "stream",
     "text": [
      "[Parallel(n_jobs=-1)]: Using backend ThreadingBackend with 12 concurrent workers.\n",
      "[Parallel(n_jobs=-1)]: Done  26 tasks      | elapsed:    1.9s\n",
      "[Parallel(n_jobs=-1)]: Done 176 tasks      | elapsed:   10.8s\n",
      "[Parallel(n_jobs=-1)]: Done 426 tasks      | elapsed:   25.8s\n",
      "[Parallel(n_jobs=-1)]: Done 776 tasks      | elapsed:   47.1s\n",
      "[Parallel(n_jobs=-1)]: Done 1000 out of 1000 | elapsed:  1.0min finished\n",
      "[Parallel(n_jobs=12)]: Using backend ThreadingBackend with 12 concurrent workers.\n",
      "[Parallel(n_jobs=12)]: Done  26 tasks      | elapsed:    0.0s\n",
      "[Parallel(n_jobs=12)]: Done 176 tasks      | elapsed:    0.1s\n",
      "[Parallel(n_jobs=12)]: Done 426 tasks      | elapsed:    0.5s\n",
      "[Parallel(n_jobs=12)]: Done 776 tasks      | elapsed:    0.9s\n",
      "[Parallel(n_jobs=12)]: Done 1000 out of 1000 | elapsed:    1.2s finished\n",
      "[Parallel(n_jobs=12)]: Using backend ThreadingBackend with 12 concurrent workers.\n",
      "[Parallel(n_jobs=12)]: Done  26 tasks      | elapsed:    0.0s\n",
      "[Parallel(n_jobs=12)]: Done 176 tasks      | elapsed:    0.0s\n",
      "[Parallel(n_jobs=12)]: Done 426 tasks      | elapsed:    0.1s\n",
      "[Parallel(n_jobs=12)]: Done 776 tasks      | elapsed:    0.3s\n",
      "[Parallel(n_jobs=12)]: Done 1000 out of 1000 | elapsed:    0.4s finished\n"
     ]
    },
    {
     "name": "stdout",
     "output_type": "stream",
     "text": [
      "max_feature: 20\n",
      "0.47605642806074977 -18.525892206935684\n",
      "0.49403253015233456 -20.982808741409862\n"
     ]
    },
    {
     "name": "stderr",
     "output_type": "stream",
     "text": [
      "[Parallel(n_jobs=-1)]: Using backend ThreadingBackend with 12 concurrent workers.\n",
      "[Parallel(n_jobs=-1)]: Done  26 tasks      | elapsed:    2.8s\n",
      "[Parallel(n_jobs=-1)]: Done 176 tasks      | elapsed:   14.4s\n",
      "[Parallel(n_jobs=-1)]: Done 426 tasks      | elapsed:   34.6s\n",
      "[Parallel(n_jobs=-1)]: Done 776 tasks      | elapsed:  1.0min\n",
      "[Parallel(n_jobs=-1)]: Done 1000 out of 1000 | elapsed:  1.3min finished\n",
      "[Parallel(n_jobs=12)]: Using backend ThreadingBackend with 12 concurrent workers.\n",
      "[Parallel(n_jobs=12)]: Done  26 tasks      | elapsed:    0.0s\n",
      "[Parallel(n_jobs=12)]: Done 176 tasks      | elapsed:    0.2s\n",
      "[Parallel(n_jobs=12)]: Done 426 tasks      | elapsed:    0.5s\n",
      "[Parallel(n_jobs=12)]: Done 776 tasks      | elapsed:    1.0s\n",
      "[Parallel(n_jobs=12)]: Done 1000 out of 1000 | elapsed:    1.5s finished\n",
      "[Parallel(n_jobs=12)]: Using backend ThreadingBackend with 12 concurrent workers.\n",
      "[Parallel(n_jobs=12)]: Done  26 tasks      | elapsed:    0.0s\n",
      "[Parallel(n_jobs=12)]: Done 176 tasks      | elapsed:    0.0s\n",
      "[Parallel(n_jobs=12)]: Done 426 tasks      | elapsed:    0.2s\n",
      "[Parallel(n_jobs=12)]: Done 776 tasks      | elapsed:    0.4s\n",
      "[Parallel(n_jobs=12)]: Done 1000 out of 1000 | elapsed:    0.5s finished\n"
     ]
    },
    {
     "name": "stdout",
     "output_type": "stream",
     "text": [
      "max_feature: 27\n",
      "0.47557986227790966 -18.156509511127013\n",
      "0.4939803155699845 -20.899037116609563\n"
     ]
    },
    {
     "name": "stderr",
     "output_type": "stream",
     "text": [
      "[Parallel(n_jobs=-1)]: Using backend ThreadingBackend with 12 concurrent workers.\n",
      "[Parallel(n_jobs=-1)]: Done  26 tasks      | elapsed:    2.8s\n",
      "[Parallel(n_jobs=-1)]: Done 176 tasks      | elapsed:   14.5s\n",
      "[Parallel(n_jobs=-1)]: Done 426 tasks      | elapsed:   35.2s\n",
      "[Parallel(n_jobs=-1)]: Done 776 tasks      | elapsed:  1.1min\n",
      "[Parallel(n_jobs=-1)]: Done 1000 out of 1000 | elapsed:  1.4min finished\n",
      "[Parallel(n_jobs=12)]: Using backend ThreadingBackend with 12 concurrent workers.\n",
      "[Parallel(n_jobs=12)]: Done  26 tasks      | elapsed:    0.0s\n",
      "[Parallel(n_jobs=12)]: Done 176 tasks      | elapsed:    0.2s\n",
      "[Parallel(n_jobs=12)]: Done 426 tasks      | elapsed:    0.7s\n",
      "[Parallel(n_jobs=12)]: Done 776 tasks      | elapsed:    1.3s\n",
      "[Parallel(n_jobs=12)]: Done 1000 out of 1000 | elapsed:    1.7s finished\n",
      "[Parallel(n_jobs=12)]: Using backend ThreadingBackend with 12 concurrent workers.\n",
      "[Parallel(n_jobs=12)]: Done  26 tasks      | elapsed:    0.0s\n",
      "[Parallel(n_jobs=12)]: Done 176 tasks      | elapsed:    0.0s\n",
      "[Parallel(n_jobs=12)]: Done 426 tasks      | elapsed:    0.2s\n",
      "[Parallel(n_jobs=12)]: Done 776 tasks      | elapsed:    0.4s\n",
      "[Parallel(n_jobs=12)]: Done 1000 out of 1000 | elapsed:    0.5s finished\n"
     ]
    },
    {
     "name": "stdout",
     "output_type": "stream",
     "text": [
      "max_feature: 28\n",
      "0.47573686708600377 -18.181667416335035\n",
      "0.4937092395918872 -20.812471025715887\n"
     ]
    },
    {
     "name": "stderr",
     "output_type": "stream",
     "text": [
      "[Parallel(n_jobs=-1)]: Using backend ThreadingBackend with 12 concurrent workers.\n",
      "[Parallel(n_jobs=-1)]: Done  26 tasks      | elapsed:    3.0s\n",
      "[Parallel(n_jobs=-1)]: Done 176 tasks      | elapsed:   15.2s\n",
      "[Parallel(n_jobs=-1)]: Done 426 tasks      | elapsed:   36.4s\n",
      "[Parallel(n_jobs=-1)]: Done 776 tasks      | elapsed:  1.1min\n",
      "[Parallel(n_jobs=-1)]: Done 1000 out of 1000 | elapsed:  1.4min finished\n",
      "[Parallel(n_jobs=12)]: Using backend ThreadingBackend with 12 concurrent workers.\n",
      "[Parallel(n_jobs=12)]: Done  26 tasks      | elapsed:    0.0s\n",
      "[Parallel(n_jobs=12)]: Done 176 tasks      | elapsed:    0.2s\n",
      "[Parallel(n_jobs=12)]: Done 426 tasks      | elapsed:    0.7s\n",
      "[Parallel(n_jobs=12)]: Done 776 tasks      | elapsed:    1.4s\n",
      "[Parallel(n_jobs=12)]: Done 1000 out of 1000 | elapsed:    1.9s finished\n",
      "[Parallel(n_jobs=12)]: Using backend ThreadingBackend with 12 concurrent workers.\n",
      "[Parallel(n_jobs=12)]: Done  26 tasks      | elapsed:    0.0s\n",
      "[Parallel(n_jobs=12)]: Done 176 tasks      | elapsed:    0.1s\n",
      "[Parallel(n_jobs=12)]: Done 426 tasks      | elapsed:    0.3s\n",
      "[Parallel(n_jobs=12)]: Done 776 tasks      | elapsed:    0.6s\n",
      "[Parallel(n_jobs=12)]: Done 1000 out of 1000 | elapsed:    0.8s finished\n"
     ]
    },
    {
     "name": "stdout",
     "output_type": "stream",
     "text": [
      "max_feature: 29\n",
      "0.47526309699570074 -18.068151098793027\n",
      "0.4934384158396036 -20.63520389512241\n"
     ]
    }
   ],
   "source": [
    "max_features = [12, 14,16,18,20, 27, 28, 29]\n",
    "for max_feature in max_features:\n",
    "    model= ensemble.RandomForestRegressor(bootstrap=True, criterion='mse', max_depth=10,\n",
    "                max_features=max_feature, max_leaf_nodes=None,\n",
    "                min_impurity_decrease=0.0, min_impurity_split=None,\n",
    "                min_samples_leaf=5, min_samples_split=500,\n",
    "                min_weight_fraction_leaf=0.0, n_estimators=1000, n_jobs=-1,\n",
    "                oob_score=False, random_state=None, verbose=1, warm_start=False)\n",
    "    model.fit(X_train, y_train)\n",
    "    rmsle_train, r2_train = eval(model, X_train, y_train)\n",
    "    rmsle_test, r2_test = eval(model, X_test, y_test)\n",
    "    print('max_feature: ' + str(max_feature))\n",
    "    print(rmsle_train, r2_train)\n",
    "    print(rmsle_test, r2_test)"
   ]
  },
  {
   "cell_type": "markdown",
   "metadata": {},
   "source": [
    "n_estimators len 2000"
   ]
  },
  {
   "cell_type": "code",
   "execution_count": 76,
   "metadata": {
    "ExecuteTime": {
     "end_time": "2020-12-18T14:30:32.688880Z",
     "start_time": "2020-12-18T14:13:02.057610Z"
    }
   },
   "outputs": [
    {
     "name": "stderr",
     "output_type": "stream",
     "text": [
      "[Parallel(n_jobs=-1)]: Using backend ThreadingBackend with 12 concurrent workers.\n",
      "[Parallel(n_jobs=-1)]: Done  26 tasks      | elapsed:    1.2s\n",
      "[Parallel(n_jobs=-1)]: Done 176 tasks      | elapsed:    6.9s\n",
      "[Parallel(n_jobs=-1)]: Done 426 tasks      | elapsed:   16.9s\n",
      "[Parallel(n_jobs=-1)]: Done 776 tasks      | elapsed:   30.8s\n",
      "[Parallel(n_jobs=-1)]: Done 1226 tasks      | elapsed:   48.2s\n",
      "[Parallel(n_jobs=-1)]: Done 1776 tasks      | elapsed:  1.2min\n",
      "[Parallel(n_jobs=-1)]: Done 2000 out of 2000 | elapsed:  1.3min finished\n",
      "[Parallel(n_jobs=12)]: Using backend ThreadingBackend with 12 concurrent workers.\n",
      "[Parallel(n_jobs=12)]: Done  26 tasks      | elapsed:    0.0s\n",
      "[Parallel(n_jobs=12)]: Done 176 tasks      | elapsed:    0.3s\n",
      "[Parallel(n_jobs=12)]: Done 426 tasks      | elapsed:    0.9s\n",
      "[Parallel(n_jobs=12)]: Done 776 tasks      | elapsed:    1.7s\n",
      "[Parallel(n_jobs=12)]: Done 1226 tasks      | elapsed:    2.5s\n",
      "[Parallel(n_jobs=12)]: Done 1776 tasks      | elapsed:    3.5s\n",
      "[Parallel(n_jobs=12)]: Done 2000 out of 2000 | elapsed:    3.9s finished\n",
      "[Parallel(n_jobs=12)]: Using backend ThreadingBackend with 12 concurrent workers.\n",
      "[Parallel(n_jobs=12)]: Done  26 tasks      | elapsed:    0.0s\n",
      "[Parallel(n_jobs=12)]: Done 176 tasks      | elapsed:    0.1s\n",
      "[Parallel(n_jobs=12)]: Done 426 tasks      | elapsed:    0.2s\n",
      "[Parallel(n_jobs=12)]: Done 776 tasks      | elapsed:    0.4s\n",
      "[Parallel(n_jobs=12)]: Done 1226 tasks      | elapsed:    0.8s\n",
      "[Parallel(n_jobs=12)]: Done 1776 tasks      | elapsed:    1.2s\n",
      "[Parallel(n_jobs=12)]: Done 2000 out of 2000 | elapsed:    1.4s finished\n"
     ]
    },
    {
     "name": "stdout",
     "output_type": "stream",
     "text": [
      "max_feature: 12\n",
      "0.47687381296920517 -19.492685501540347\n",
      "0.4946262208910128 -22.000741460923276\n"
     ]
    },
    {
     "name": "stderr",
     "output_type": "stream",
     "text": [
      "[Parallel(n_jobs=-1)]: Using backend ThreadingBackend with 12 concurrent workers.\n",
      "[Parallel(n_jobs=-1)]: Done  26 tasks      | elapsed:    1.5s\n",
      "[Parallel(n_jobs=-1)]: Done 176 tasks      | elapsed:    8.7s\n",
      "[Parallel(n_jobs=-1)]: Done 426 tasks      | elapsed:   21.0s\n",
      "[Parallel(n_jobs=-1)]: Done 776 tasks      | elapsed:   37.3s\n",
      "[Parallel(n_jobs=-1)]: Done 1226 tasks      | elapsed:   57.7s\n",
      "[Parallel(n_jobs=-1)]: Done 1776 tasks      | elapsed:  1.4min\n",
      "[Parallel(n_jobs=-1)]: Done 2000 out of 2000 | elapsed:  1.5min finished\n",
      "[Parallel(n_jobs=12)]: Using backend ThreadingBackend with 12 concurrent workers.\n",
      "[Parallel(n_jobs=12)]: Done  26 tasks      | elapsed:    0.0s\n",
      "[Parallel(n_jobs=12)]: Done 176 tasks      | elapsed:    0.2s\n",
      "[Parallel(n_jobs=12)]: Done 426 tasks      | elapsed:    0.7s\n",
      "[Parallel(n_jobs=12)]: Done 776 tasks      | elapsed:    1.2s\n",
      "[Parallel(n_jobs=12)]: Done 1226 tasks      | elapsed:    1.9s\n",
      "[Parallel(n_jobs=12)]: Done 1776 tasks      | elapsed:    2.7s\n",
      "[Parallel(n_jobs=12)]: Done 2000 out of 2000 | elapsed:    3.1s finished\n",
      "[Parallel(n_jobs=12)]: Using backend ThreadingBackend with 12 concurrent workers.\n",
      "[Parallel(n_jobs=12)]: Done  26 tasks      | elapsed:    0.0s\n",
      "[Parallel(n_jobs=12)]: Done 176 tasks      | elapsed:    0.0s\n",
      "[Parallel(n_jobs=12)]: Done 426 tasks      | elapsed:    0.1s\n",
      "[Parallel(n_jobs=12)]: Done 776 tasks      | elapsed:    0.3s\n",
      "[Parallel(n_jobs=12)]: Done 1226 tasks      | elapsed:    0.6s\n",
      "[Parallel(n_jobs=12)]: Done 1776 tasks      | elapsed:    0.9s\n",
      "[Parallel(n_jobs=12)]: Done 2000 out of 2000 | elapsed:    1.0s finished\n"
     ]
    },
    {
     "name": "stdout",
     "output_type": "stream",
     "text": [
      "max_feature: 14\n",
      "0.4763287069364971 -19.11146127196481\n",
      "0.4944043011214889 -21.622129973848505\n"
     ]
    },
    {
     "name": "stderr",
     "output_type": "stream",
     "text": [
      "[Parallel(n_jobs=-1)]: Using backend ThreadingBackend with 12 concurrent workers.\n",
      "[Parallel(n_jobs=-1)]: Done  26 tasks      | elapsed:    1.7s\n",
      "[Parallel(n_jobs=-1)]: Done 176 tasks      | elapsed:    9.2s\n",
      "[Parallel(n_jobs=-1)]: Done 426 tasks      | elapsed:   21.6s\n",
      "[Parallel(n_jobs=-1)]: Done 776 tasks      | elapsed:   39.1s\n",
      "[Parallel(n_jobs=-1)]: Done 1226 tasks      | elapsed:  1.0min\n",
      "[Parallel(n_jobs=-1)]: Done 1776 tasks      | elapsed:  1.5min\n",
      "[Parallel(n_jobs=-1)]: Done 2000 out of 2000 | elapsed:  1.7min finished\n",
      "[Parallel(n_jobs=12)]: Using backend ThreadingBackend with 12 concurrent workers.\n",
      "[Parallel(n_jobs=12)]: Done  26 tasks      | elapsed:    0.0s\n",
      "[Parallel(n_jobs=12)]: Done 176 tasks      | elapsed:    0.2s\n",
      "[Parallel(n_jobs=12)]: Done 426 tasks      | elapsed:    0.6s\n",
      "[Parallel(n_jobs=12)]: Done 776 tasks      | elapsed:    1.2s\n",
      "[Parallel(n_jobs=12)]: Done 1226 tasks      | elapsed:    2.0s\n",
      "[Parallel(n_jobs=12)]: Done 1776 tasks      | elapsed:    2.9s\n",
      "[Parallel(n_jobs=12)]: Done 2000 out of 2000 | elapsed:    3.2s finished\n",
      "[Parallel(n_jobs=12)]: Using backend ThreadingBackend with 12 concurrent workers.\n",
      "[Parallel(n_jobs=12)]: Done  26 tasks      | elapsed:    0.0s\n",
      "[Parallel(n_jobs=12)]: Done 176 tasks      | elapsed:    0.0s\n",
      "[Parallel(n_jobs=12)]: Done 426 tasks      | elapsed:    0.2s\n",
      "[Parallel(n_jobs=12)]: Done 776 tasks      | elapsed:    0.4s\n",
      "[Parallel(n_jobs=12)]: Done 1226 tasks      | elapsed:    0.7s\n",
      "[Parallel(n_jobs=12)]: Done 1776 tasks      | elapsed:    1.0s\n",
      "[Parallel(n_jobs=12)]: Done 2000 out of 2000 | elapsed:    1.1s finished\n"
     ]
    },
    {
     "name": "stdout",
     "output_type": "stream",
     "text": [
      "max_feature: 16\n",
      "0.47608656587693216 -18.878569054620666\n",
      "0.4942104801997467 -21.313722422569814\n"
     ]
    },
    {
     "name": "stderr",
     "output_type": "stream",
     "text": [
      "[Parallel(n_jobs=-1)]: Using backend ThreadingBackend with 12 concurrent workers.\n",
      "[Parallel(n_jobs=-1)]: Done  26 tasks      | elapsed:    1.8s\n",
      "[Parallel(n_jobs=-1)]: Done 176 tasks      | elapsed:    9.6s\n",
      "[Parallel(n_jobs=-1)]: Done 426 tasks      | elapsed:   23.5s\n",
      "[Parallel(n_jobs=-1)]: Done 776 tasks      | elapsed:   43.0s\n",
      "[Parallel(n_jobs=-1)]: Done 1226 tasks      | elapsed:  1.1min\n",
      "[Parallel(n_jobs=-1)]: Done 1776 tasks      | elapsed:  1.7min\n",
      "[Parallel(n_jobs=-1)]: Done 2000 out of 2000 | elapsed:  1.9min finished\n",
      "[Parallel(n_jobs=12)]: Using backend ThreadingBackend with 12 concurrent workers.\n",
      "[Parallel(n_jobs=12)]: Done  26 tasks      | elapsed:    0.0s\n",
      "[Parallel(n_jobs=12)]: Done 176 tasks      | elapsed:    0.2s\n",
      "[Parallel(n_jobs=12)]: Done 426 tasks      | elapsed:    0.7s\n",
      "[Parallel(n_jobs=12)]: Done 776 tasks      | elapsed:    1.3s\n",
      "[Parallel(n_jobs=12)]: Done 1226 tasks      | elapsed:    2.0s\n",
      "[Parallel(n_jobs=12)]: Done 1776 tasks      | elapsed:    2.9s\n",
      "[Parallel(n_jobs=12)]: Done 2000 out of 2000 | elapsed:    3.2s finished\n",
      "[Parallel(n_jobs=12)]: Using backend ThreadingBackend with 12 concurrent workers.\n",
      "[Parallel(n_jobs=12)]: Done  26 tasks      | elapsed:    0.0s\n",
      "[Parallel(n_jobs=12)]: Done 176 tasks      | elapsed:    0.0s\n",
      "[Parallel(n_jobs=12)]: Done 426 tasks      | elapsed:    0.2s\n",
      "[Parallel(n_jobs=12)]: Done 776 tasks      | elapsed:    0.4s\n",
      "[Parallel(n_jobs=12)]: Done 1226 tasks      | elapsed:    0.7s\n",
      "[Parallel(n_jobs=12)]: Done 1776 tasks      | elapsed:    1.0s\n",
      "[Parallel(n_jobs=12)]: Done 2000 out of 2000 | elapsed:    1.1s finished\n"
     ]
    },
    {
     "name": "stdout",
     "output_type": "stream",
     "text": [
      "max_feature: 18\n",
      "0.4759235823678149 -18.700457695828657\n",
      "0.4943197832306718 -21.195739591813787\n"
     ]
    },
    {
     "name": "stderr",
     "output_type": "stream",
     "text": [
      "[Parallel(n_jobs=-1)]: Using backend ThreadingBackend with 12 concurrent workers.\n",
      "[Parallel(n_jobs=-1)]: Done  26 tasks      | elapsed:    2.1s\n",
      "[Parallel(n_jobs=-1)]: Done 176 tasks      | elapsed:   11.0s\n",
      "[Parallel(n_jobs=-1)]: Done 426 tasks      | elapsed:   26.6s\n",
      "[Parallel(n_jobs=-1)]: Done 776 tasks      | elapsed:   47.9s\n",
      "[Parallel(n_jobs=-1)]: Done 1226 tasks      | elapsed:  1.3min\n",
      "[Parallel(n_jobs=-1)]: Done 1776 tasks      | elapsed:  1.8min\n",
      "[Parallel(n_jobs=-1)]: Done 2000 out of 2000 | elapsed:  2.0min finished\n",
      "[Parallel(n_jobs=12)]: Using backend ThreadingBackend with 12 concurrent workers.\n",
      "[Parallel(n_jobs=12)]: Done  26 tasks      | elapsed:    0.0s\n",
      "[Parallel(n_jobs=12)]: Done 176 tasks      | elapsed:    0.3s\n",
      "[Parallel(n_jobs=12)]: Done 426 tasks      | elapsed:    0.7s\n",
      "[Parallel(n_jobs=12)]: Done 776 tasks      | elapsed:    1.4s\n",
      "[Parallel(n_jobs=12)]: Done 1226 tasks      | elapsed:    2.2s\n",
      "[Parallel(n_jobs=12)]: Done 1776 tasks      | elapsed:    3.2s\n",
      "[Parallel(n_jobs=12)]: Done 2000 out of 2000 | elapsed:    3.5s finished\n",
      "[Parallel(n_jobs=12)]: Using backend ThreadingBackend with 12 concurrent workers.\n",
      "[Parallel(n_jobs=12)]: Done  26 tasks      | elapsed:    0.0s\n",
      "[Parallel(n_jobs=12)]: Done 176 tasks      | elapsed:    0.0s\n",
      "[Parallel(n_jobs=12)]: Done 426 tasks      | elapsed:    0.2s\n",
      "[Parallel(n_jobs=12)]: Done 776 tasks      | elapsed:    0.4s\n",
      "[Parallel(n_jobs=12)]: Done 1226 tasks      | elapsed:    0.7s\n",
      "[Parallel(n_jobs=12)]: Done 1776 tasks      | elapsed:    1.0s\n",
      "[Parallel(n_jobs=12)]: Done 2000 out of 2000 | elapsed:    1.1s finished\n"
     ]
    },
    {
     "name": "stdout",
     "output_type": "stream",
     "text": [
      "max_feature: 20\n",
      "0.47591176069099006 -18.4443334987473\n",
      "0.49409496844138207 -21.055655090745912\n"
     ]
    },
    {
     "name": "stderr",
     "output_type": "stream",
     "text": [
      "[Parallel(n_jobs=-1)]: Using backend ThreadingBackend with 12 concurrent workers.\n",
      "[Parallel(n_jobs=-1)]: Done  26 tasks      | elapsed:    2.7s\n",
      "[Parallel(n_jobs=-1)]: Done 176 tasks      | elapsed:   14.7s\n",
      "[Parallel(n_jobs=-1)]: Done 426 tasks      | elapsed:   34.6s\n",
      "[Parallel(n_jobs=-1)]: Done 776 tasks      | elapsed:  1.0min\n",
      "[Parallel(n_jobs=-1)]: Done 1226 tasks      | elapsed:  1.6min\n",
      "[Parallel(n_jobs=-1)]: Done 1776 tasks      | elapsed:  2.4min\n",
      "[Parallel(n_jobs=-1)]: Done 2000 out of 2000 | elapsed:  2.7min finished\n",
      "[Parallel(n_jobs=12)]: Using backend ThreadingBackend with 12 concurrent workers.\n",
      "[Parallel(n_jobs=12)]: Done  26 tasks      | elapsed:    0.2s\n",
      "[Parallel(n_jobs=12)]: Done 176 tasks      | elapsed:    0.4s\n",
      "[Parallel(n_jobs=12)]: Done 426 tasks      | elapsed:    0.8s\n",
      "[Parallel(n_jobs=12)]: Done 776 tasks      | elapsed:    1.5s\n",
      "[Parallel(n_jobs=12)]: Done 1226 tasks      | elapsed:    2.2s\n",
      "[Parallel(n_jobs=12)]: Done 1776 tasks      | elapsed:    3.0s\n",
      "[Parallel(n_jobs=12)]: Done 2000 out of 2000 | elapsed:    3.4s finished\n",
      "[Parallel(n_jobs=12)]: Using backend ThreadingBackend with 12 concurrent workers.\n",
      "[Parallel(n_jobs=12)]: Done  26 tasks      | elapsed:    0.0s\n",
      "[Parallel(n_jobs=12)]: Done 176 tasks      | elapsed:    0.0s\n",
      "[Parallel(n_jobs=12)]: Done 426 tasks      | elapsed:    0.1s\n",
      "[Parallel(n_jobs=12)]: Done 776 tasks      | elapsed:    0.4s\n",
      "[Parallel(n_jobs=12)]: Done 1226 tasks      | elapsed:    0.6s\n",
      "[Parallel(n_jobs=12)]: Done 1776 tasks      | elapsed:    0.9s\n",
      "[Parallel(n_jobs=12)]: Done 2000 out of 2000 | elapsed:    1.0s finished\n"
     ]
    },
    {
     "name": "stdout",
     "output_type": "stream",
     "text": [
      "max_feature: 27\n",
      "0.4754115769241422 -18.20841380951742\n",
      "0.4939799308020903 -20.708773625542385\n"
     ]
    },
    {
     "name": "stderr",
     "output_type": "stream",
     "text": [
      "[Parallel(n_jobs=-1)]: Using backend ThreadingBackend with 12 concurrent workers.\n",
      "[Parallel(n_jobs=-1)]: Done  26 tasks      | elapsed:    2.9s\n",
      "[Parallel(n_jobs=-1)]: Done 176 tasks      | elapsed:   14.6s\n",
      "[Parallel(n_jobs=-1)]: Done 426 tasks      | elapsed:   35.6s\n",
      "[Parallel(n_jobs=-1)]: Done 776 tasks      | elapsed:  1.1min\n",
      "[Parallel(n_jobs=-1)]: Done 1226 tasks      | elapsed:  1.7min\n",
      "[Parallel(n_jobs=-1)]: Done 1776 tasks      | elapsed:  2.5min\n",
      "[Parallel(n_jobs=-1)]: Done 2000 out of 2000 | elapsed:  2.8min finished\n",
      "[Parallel(n_jobs=12)]: Using backend ThreadingBackend with 12 concurrent workers.\n",
      "[Parallel(n_jobs=12)]: Done  26 tasks      | elapsed:    0.0s\n",
      "[Parallel(n_jobs=12)]: Done 176 tasks      | elapsed:    0.2s\n",
      "[Parallel(n_jobs=12)]: Done 426 tasks      | elapsed:    0.5s\n",
      "[Parallel(n_jobs=12)]: Done 776 tasks      | elapsed:    1.1s\n",
      "[Parallel(n_jobs=12)]: Done 1226 tasks      | elapsed:    1.8s\n",
      "[Parallel(n_jobs=12)]: Done 1776 tasks      | elapsed:    2.5s\n",
      "[Parallel(n_jobs=12)]: Done 2000 out of 2000 | elapsed:    2.9s finished\n",
      "[Parallel(n_jobs=12)]: Using backend ThreadingBackend with 12 concurrent workers.\n",
      "[Parallel(n_jobs=12)]: Done  26 tasks      | elapsed:    0.0s\n",
      "[Parallel(n_jobs=12)]: Done 176 tasks      | elapsed:    0.0s\n",
      "[Parallel(n_jobs=12)]: Done 426 tasks      | elapsed:    0.1s\n",
      "[Parallel(n_jobs=12)]: Done 776 tasks      | elapsed:    0.3s\n",
      "[Parallel(n_jobs=12)]: Done 1226 tasks      | elapsed:    0.6s\n",
      "[Parallel(n_jobs=12)]: Done 1776 tasks      | elapsed:    0.9s\n",
      "[Parallel(n_jobs=12)]: Done 2000 out of 2000 | elapsed:    1.1s finished\n"
     ]
    },
    {
     "name": "stdout",
     "output_type": "stream",
     "text": [
      "max_feature: 28\n",
      "0.4753649177791714 -18.107924373273597\n",
      "0.4935660111337339 -20.681923565707315\n"
     ]
    },
    {
     "name": "stderr",
     "output_type": "stream",
     "text": [
      "[Parallel(n_jobs=-1)]: Using backend ThreadingBackend with 12 concurrent workers.\n",
      "[Parallel(n_jobs=-1)]: Done  26 tasks      | elapsed:    2.9s\n",
      "[Parallel(n_jobs=-1)]: Done 176 tasks      | elapsed:   15.0s\n",
      "[Parallel(n_jobs=-1)]: Done 426 tasks      | elapsed:   36.3s\n",
      "[Parallel(n_jobs=-1)]: Done 776 tasks      | elapsed:  1.1min\n",
      "[Parallel(n_jobs=-1)]: Done 1226 tasks      | elapsed:  1.8min\n",
      "[Parallel(n_jobs=-1)]: Done 1776 tasks      | elapsed:  2.6min\n",
      "[Parallel(n_jobs=-1)]: Done 2000 out of 2000 | elapsed:  2.9min finished\n",
      "[Parallel(n_jobs=12)]: Using backend ThreadingBackend with 12 concurrent workers.\n",
      "[Parallel(n_jobs=12)]: Done  26 tasks      | elapsed:    0.0s\n",
      "[Parallel(n_jobs=12)]: Done 176 tasks      | elapsed:    0.1s\n",
      "[Parallel(n_jobs=12)]: Done 426 tasks      | elapsed:    0.5s\n",
      "[Parallel(n_jobs=12)]: Done 776 tasks      | elapsed:    1.0s\n",
      "[Parallel(n_jobs=12)]: Done 1226 tasks      | elapsed:    1.6s\n",
      "[Parallel(n_jobs=12)]: Done 1776 tasks      | elapsed:    2.5s\n",
      "[Parallel(n_jobs=12)]: Done 2000 out of 2000 | elapsed:    2.8s finished\n",
      "[Parallel(n_jobs=12)]: Using backend ThreadingBackend with 12 concurrent workers.\n",
      "[Parallel(n_jobs=12)]: Done  26 tasks      | elapsed:    0.0s\n",
      "[Parallel(n_jobs=12)]: Done 176 tasks      | elapsed:    0.0s\n",
      "[Parallel(n_jobs=12)]: Done 426 tasks      | elapsed:    0.1s\n",
      "[Parallel(n_jobs=12)]: Done 776 tasks      | elapsed:    0.4s\n",
      "[Parallel(n_jobs=12)]: Done 1226 tasks      | elapsed:    0.6s\n",
      "[Parallel(n_jobs=12)]: Done 1776 tasks      | elapsed:    0.9s\n",
      "[Parallel(n_jobs=12)]: Done 2000 out of 2000 | elapsed:    1.0s finished\n"
     ]
    },
    {
     "name": "stdout",
     "output_type": "stream",
     "text": [
      "max_feature: 29\n",
      "0.4752964830595131 -18.076847902107126\n",
      "0.4936232244126179 -20.649887081213688\n"
     ]
    }
   ],
   "source": [
    "max_features = [12, 14,16,18,20, 27, 28, 29]\n",
    "for max_feature in max_features:\n",
    "    model= ensemble.RandomForestRegressor(bootstrap=True, criterion='mse', max_depth=10,\n",
    "                max_features=max_feature, max_leaf_nodes=None,\n",
    "                min_impurity_decrease=0.0, min_impurity_split=None,\n",
    "                min_samples_leaf=5, min_samples_split=500,\n",
    "                min_weight_fraction_leaf=0.0, n_estimators=2000, n_jobs=-1,\n",
    "                oob_score=False, random_state=None, verbose=1, warm_start=False)\n",
    "    model.fit(X_train, y_train)\n",
    "    rmsle_train, r2_train = eval(model, X_train, y_train)\n",
    "    rmsle_test, r2_test = eval(model, X_test, y_test)\n",
    "    print('max_feature: ' + str(max_feature))\n",
    "    print(rmsle_train, r2_train)\n",
    "    print(rmsle_test, r2_test)"
   ]
  },
  {
   "cell_type": "code",
   "execution_count": null,
   "metadata": {},
   "outputs": [],
   "source": []
  }
 ],
 "metadata": {
  "kernelspec": {
   "display_name": "Python 3",
   "language": "python",
   "name": "python3"
  },
  "language_info": {
   "codemirror_mode": {
    "name": "ipython",
    "version": 3
   },
   "file_extension": ".py",
   "mimetype": "text/x-python",
   "name": "python",
   "nbconvert_exporter": "python",
   "pygments_lexer": "ipython3",
   "version": "3.6.10"
  }
 },
 "nbformat": 4,
 "nbformat_minor": 2
}
