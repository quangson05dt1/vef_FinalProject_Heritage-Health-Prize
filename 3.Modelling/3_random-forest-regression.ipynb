{
 "cells": [
  {
   "cell_type": "code",
   "execution_count": 1,
   "metadata": {
    "ExecuteTime": {
     "end_time": "2020-12-18T20:13:56.888412Z",
     "start_time": "2020-12-18T20:13:56.032699Z"
    }
   },
   "outputs": [],
   "source": [
    "import pandas as pd\n",
    "import numpy as np\n",
    "import matplotlib.pyplot as plt\n",
    "import sys\n",
    "from sklearn.model_selection import train_test_split\n",
    "from sklearn import linear_model\n",
    "import pandas as pd\n",
    "import math"
   ]
  },
  {
   "cell_type": "code",
   "execution_count": 2,
   "metadata": {
    "ExecuteTime": {
     "end_time": "2020-12-18T20:14:00.059981Z",
     "start_time": "2020-12-18T20:13:57.416023Z"
    }
   },
   "outputs": [
    {
     "data": {
      "text/html": [
       "<div>\n",
       "<style scoped>\n",
       "    .dataframe tbody tr th:only-of-type {\n",
       "        vertical-align: middle;\n",
       "    }\n",
       "\n",
       "    .dataframe tbody tr th {\n",
       "        vertical-align: top;\n",
       "    }\n",
       "\n",
       "    .dataframe thead th {\n",
       "        text-align: right;\n",
       "    }\n",
       "</style>\n",
       "<table border=\"1\" class=\"dataframe\">\n",
       "  <thead>\n",
       "    <tr style=\"text-align: right;\">\n",
       "      <th></th>\n",
       "      <th>MemberID</th>\n",
       "      <th>LabCount_total</th>\n",
       "      <th>LabCount_max</th>\n",
       "      <th>LabCount_min</th>\n",
       "      <th>LabCount_ave</th>\n",
       "      <th>LabCount_months</th>\n",
       "      <th>LabCount_std</th>\n",
       "      <th>DrugCount_total</th>\n",
       "      <th>DrugCount_max</th>\n",
       "      <th>DrugCount_min</th>\n",
       "      <th>...</th>\n",
       "      <th>ProcedureGroup_Count_SO</th>\n",
       "      <th>ProcedureGroup_Count_SMCD</th>\n",
       "      <th>AgeAtFirstClaim</th>\n",
       "      <th>Male</th>\n",
       "      <th>Female</th>\n",
       "      <th>MissSex</th>\n",
       "      <th>MissAge</th>\n",
       "      <th>ClaimsTruncated</th>\n",
       "      <th>TARGET</th>\n",
       "      <th>trainset</th>\n",
       "    </tr>\n",
       "  </thead>\n",
       "  <tbody>\n",
       "    <tr>\n",
       "      <th>count</th>\n",
       "      <td>2.184150e+05</td>\n",
       "      <td>218415.000000</td>\n",
       "      <td>218415.000000</td>\n",
       "      <td>218415.000000</td>\n",
       "      <td>218415.000000</td>\n",
       "      <td>218415.000000</td>\n",
       "      <td>218415.000000</td>\n",
       "      <td>218415.000000</td>\n",
       "      <td>218415.000000</td>\n",
       "      <td>218415.000000</td>\n",
       "      <td>...</td>\n",
       "      <td>218415.000000</td>\n",
       "      <td>218415.000000</td>\n",
       "      <td>218415.000000</td>\n",
       "      <td>218415.000000</td>\n",
       "      <td>218415.000000</td>\n",
       "      <td>218415.000000</td>\n",
       "      <td>218415.0</td>\n",
       "      <td>218415.000000</td>\n",
       "      <td>147473.000000</td>\n",
       "      <td>218415.000000</td>\n",
       "    </tr>\n",
       "    <tr>\n",
       "      <th>mean</th>\n",
       "      <td>4.993458e+07</td>\n",
       "      <td>6.471827</td>\n",
       "      <td>3.829439</td>\n",
       "      <td>2.181860</td>\n",
       "      <td>2.918800</td>\n",
       "      <td>1.655033</td>\n",
       "      <td>0.578166</td>\n",
       "      <td>10.387318</td>\n",
       "      <td>2.193531</td>\n",
       "      <td>0.962237</td>\n",
       "      <td>...</td>\n",
       "      <td>0.001699</td>\n",
       "      <td>0.015457</td>\n",
       "      <td>47.750155</td>\n",
       "      <td>0.363524</td>\n",
       "      <td>0.448078</td>\n",
       "      <td>0.188398</td>\n",
       "      <td>0.0</td>\n",
       "      <td>0.054863</td>\n",
       "      <td>0.452951</td>\n",
       "      <td>0.675196</td>\n",
       "    </tr>\n",
       "    <tr>\n",
       "      <th>std</th>\n",
       "      <td>2.892479e+07</td>\n",
       "      <td>7.734678</td>\n",
       "      <td>3.440373</td>\n",
       "      <td>2.507408</td>\n",
       "      <td>2.676663</td>\n",
       "      <td>1.906704</td>\n",
       "      <td>1.683426</td>\n",
       "      <td>15.721582</td>\n",
       "      <td>2.271990</td>\n",
       "      <td>1.057978</td>\n",
       "      <td>...</td>\n",
       "      <td>0.047286</td>\n",
       "      <td>0.262061</td>\n",
       "      <td>23.238375</td>\n",
       "      <td>0.481015</td>\n",
       "      <td>0.497298</td>\n",
       "      <td>0.391031</td>\n",
       "      <td>0.0</td>\n",
       "      <td>0.227714</td>\n",
       "      <td>1.573818</td>\n",
       "      <td>0.468303</td>\n",
       "    </tr>\n",
       "    <tr>\n",
       "      <th>min</th>\n",
       "      <td>4.000000e+00</td>\n",
       "      <td>0.000000</td>\n",
       "      <td>0.000000</td>\n",
       "      <td>0.000000</td>\n",
       "      <td>0.000000</td>\n",
       "      <td>0.000000</td>\n",
       "      <td>-1.000000</td>\n",
       "      <td>0.000000</td>\n",
       "      <td>0.000000</td>\n",
       "      <td>0.000000</td>\n",
       "      <td>...</td>\n",
       "      <td>0.000000</td>\n",
       "      <td>0.000000</td>\n",
       "      <td>5.000000</td>\n",
       "      <td>0.000000</td>\n",
       "      <td>0.000000</td>\n",
       "      <td>0.000000</td>\n",
       "      <td>0.0</td>\n",
       "      <td>0.000000</td>\n",
       "      <td>0.000000</td>\n",
       "      <td>0.000000</td>\n",
       "    </tr>\n",
       "    <tr>\n",
       "      <th>25%</th>\n",
       "      <td>2.478774e+07</td>\n",
       "      <td>0.000000</td>\n",
       "      <td>0.000000</td>\n",
       "      <td>0.000000</td>\n",
       "      <td>0.000000</td>\n",
       "      <td>0.000000</td>\n",
       "      <td>-1.000000</td>\n",
       "      <td>0.000000</td>\n",
       "      <td>0.000000</td>\n",
       "      <td>0.000000</td>\n",
       "      <td>...</td>\n",
       "      <td>0.000000</td>\n",
       "      <td>0.000000</td>\n",
       "      <td>35.000000</td>\n",
       "      <td>0.000000</td>\n",
       "      <td>0.000000</td>\n",
       "      <td>0.000000</td>\n",
       "      <td>0.0</td>\n",
       "      <td>0.000000</td>\n",
       "      <td>0.000000</td>\n",
       "      <td>0.000000</td>\n",
       "    </tr>\n",
       "    <tr>\n",
       "      <th>50%</th>\n",
       "      <td>4.993677e+07</td>\n",
       "      <td>4.000000</td>\n",
       "      <td>4.000000</td>\n",
       "      <td>1.000000</td>\n",
       "      <td>2.666667</td>\n",
       "      <td>1.000000</td>\n",
       "      <td>0.000000</td>\n",
       "      <td>3.000000</td>\n",
       "      <td>2.000000</td>\n",
       "      <td>1.000000</td>\n",
       "      <td>...</td>\n",
       "      <td>0.000000</td>\n",
       "      <td>0.000000</td>\n",
       "      <td>45.000000</td>\n",
       "      <td>0.000000</td>\n",
       "      <td>0.000000</td>\n",
       "      <td>0.000000</td>\n",
       "      <td>0.0</td>\n",
       "      <td>0.000000</td>\n",
       "      <td>0.000000</td>\n",
       "      <td>1.000000</td>\n",
       "    </tr>\n",
       "    <tr>\n",
       "      <th>75%</th>\n",
       "      <td>7.515525e+07</td>\n",
       "      <td>10.000000</td>\n",
       "      <td>7.000000</td>\n",
       "      <td>3.000000</td>\n",
       "      <td>5.000000</td>\n",
       "      <td>2.000000</td>\n",
       "      <td>1.527525</td>\n",
       "      <td>14.000000</td>\n",
       "      <td>4.000000</td>\n",
       "      <td>1.000000</td>\n",
       "      <td>...</td>\n",
       "      <td>0.000000</td>\n",
       "      <td>0.000000</td>\n",
       "      <td>65.000000</td>\n",
       "      <td>1.000000</td>\n",
       "      <td>1.000000</td>\n",
       "      <td>0.000000</td>\n",
       "      <td>0.0</td>\n",
       "      <td>0.000000</td>\n",
       "      <td>0.000000</td>\n",
       "      <td>1.000000</td>\n",
       "    </tr>\n",
       "    <tr>\n",
       "      <th>max</th>\n",
       "      <td>9.999882e+07</td>\n",
       "      <td>111.000000</td>\n",
       "      <td>10.000000</td>\n",
       "      <td>10.000000</td>\n",
       "      <td>10.000000</td>\n",
       "      <td>12.000000</td>\n",
       "      <td>6.363961</td>\n",
       "      <td>84.000000</td>\n",
       "      <td>7.000000</td>\n",
       "      <td>7.000000</td>\n",
       "      <td>...</td>\n",
       "      <td>4.000000</td>\n",
       "      <td>23.000000</td>\n",
       "      <td>80.000000</td>\n",
       "      <td>1.000000</td>\n",
       "      <td>1.000000</td>\n",
       "      <td>1.000000</td>\n",
       "      <td>0.0</td>\n",
       "      <td>1.000000</td>\n",
       "      <td>15.000000</td>\n",
       "      <td>1.000000</td>\n",
       "    </tr>\n",
       "  </tbody>\n",
       "</table>\n",
       "<p>8 rows × 144 columns</p>\n",
       "</div>"
      ],
      "text/plain": [
       "           MemberID  LabCount_total   LabCount_max   LabCount_min  \\\n",
       "count  2.184150e+05   218415.000000  218415.000000  218415.000000   \n",
       "mean   4.993458e+07        6.471827       3.829439       2.181860   \n",
       "std    2.892479e+07        7.734678       3.440373       2.507408   \n",
       "min    4.000000e+00        0.000000       0.000000       0.000000   \n",
       "25%    2.478774e+07        0.000000       0.000000       0.000000   \n",
       "50%    4.993677e+07        4.000000       4.000000       1.000000   \n",
       "75%    7.515525e+07       10.000000       7.000000       3.000000   \n",
       "max    9.999882e+07      111.000000      10.000000      10.000000   \n",
       "\n",
       "        LabCount_ave  LabCount_months   LabCount_std  DrugCount_total  \\\n",
       "count  218415.000000    218415.000000  218415.000000    218415.000000   \n",
       "mean        2.918800         1.655033       0.578166        10.387318   \n",
       "std         2.676663         1.906704       1.683426        15.721582   \n",
       "min         0.000000         0.000000      -1.000000         0.000000   \n",
       "25%         0.000000         0.000000      -1.000000         0.000000   \n",
       "50%         2.666667         1.000000       0.000000         3.000000   \n",
       "75%         5.000000         2.000000       1.527525        14.000000   \n",
       "max        10.000000        12.000000       6.363961        84.000000   \n",
       "\n",
       "       DrugCount_max  DrugCount_min  ...  ProcedureGroup_Count_SO  \\\n",
       "count  218415.000000  218415.000000  ...            218415.000000   \n",
       "mean        2.193531       0.962237  ...                 0.001699   \n",
       "std         2.271990       1.057978  ...                 0.047286   \n",
       "min         0.000000       0.000000  ...                 0.000000   \n",
       "25%         0.000000       0.000000  ...                 0.000000   \n",
       "50%         2.000000       1.000000  ...                 0.000000   \n",
       "75%         4.000000       1.000000  ...                 0.000000   \n",
       "max         7.000000       7.000000  ...                 4.000000   \n",
       "\n",
       "       ProcedureGroup_Count_SMCD  AgeAtFirstClaim           Male  \\\n",
       "count              218415.000000    218415.000000  218415.000000   \n",
       "mean                    0.015457        47.750155       0.363524   \n",
       "std                     0.262061        23.238375       0.481015   \n",
       "min                     0.000000         5.000000       0.000000   \n",
       "25%                     0.000000        35.000000       0.000000   \n",
       "50%                     0.000000        45.000000       0.000000   \n",
       "75%                     0.000000        65.000000       1.000000   \n",
       "max                    23.000000        80.000000       1.000000   \n",
       "\n",
       "              Female        MissSex   MissAge  ClaimsTruncated         TARGET  \\\n",
       "count  218415.000000  218415.000000  218415.0    218415.000000  147473.000000   \n",
       "mean        0.448078       0.188398       0.0         0.054863       0.452951   \n",
       "std         0.497298       0.391031       0.0         0.227714       1.573818   \n",
       "min         0.000000       0.000000       0.0         0.000000       0.000000   \n",
       "25%         0.000000       0.000000       0.0         0.000000       0.000000   \n",
       "50%         0.000000       0.000000       0.0         0.000000       0.000000   \n",
       "75%         1.000000       0.000000       0.0         0.000000       0.000000   \n",
       "max         1.000000       1.000000       0.0         1.000000      15.000000   \n",
       "\n",
       "            trainset  \n",
       "count  218415.000000  \n",
       "mean        0.675196  \n",
       "std         0.468303  \n",
       "min         0.000000  \n",
       "25%         0.000000  \n",
       "50%         1.000000  \n",
       "75%         1.000000  \n",
       "max         1.000000  \n",
       "\n",
       "[8 rows x 144 columns]"
      ]
     },
     "execution_count": 2,
     "metadata": {},
     "output_type": "execute_result"
    }
   ],
   "source": [
    "df = pd.read_csv('../2.Feature Engineering/new data/modelling_set.csv')\n",
    "df.describe()"
   ]
  },
  {
   "cell_type": "code",
   "execution_count": 3,
   "metadata": {
    "ExecuteTime": {
     "end_time": "2020-12-18T20:14:01.222854Z",
     "start_time": "2020-12-18T20:14:01.141952Z"
    }
   },
   "outputs": [],
   "source": [
    "df_train = df[df['trainset']==1]"
   ]
  },
  {
   "cell_type": "code",
   "execution_count": 4,
   "metadata": {
    "ExecuteTime": {
     "end_time": "2020-12-18T20:14:03.151561Z",
     "start_time": "2020-12-18T20:14:03.102690Z"
    }
   },
   "outputs": [],
   "source": [
    "df_target = df[df['trainset']==0]"
   ]
  },
  {
   "cell_type": "code",
   "execution_count": 5,
   "metadata": {
    "ExecuteTime": {
     "end_time": "2020-12-18T20:14:04.145468Z",
     "start_time": "2020-12-18T20:14:04.062689Z"
    }
   },
   "outputs": [
    {
     "data": {
      "text/plain": [
       "count    147473.000000\n",
       "mean          0.452951\n",
       "std           1.573818\n",
       "min           0.000000\n",
       "25%           0.000000\n",
       "50%           0.000000\n",
       "75%           0.000000\n",
       "max          15.000000\n",
       "Name: TARGET, dtype: float64"
      ]
     },
     "execution_count": 5,
     "metadata": {},
     "output_type": "execute_result"
    }
   ],
   "source": [
    "m = (df_train.columns != 'TARGET') & (df_train.columns != 'MemberID') & (df_train.columns != 'Year') & (df_train.columns != 'trainset')\n",
    "X = df_train.loc[:, m]\n",
    "y = df_train['TARGET']\n",
    "y.describe()"
   ]
  },
  {
   "cell_type": "code",
   "execution_count": 6,
   "metadata": {
    "ExecuteTime": {
     "end_time": "2020-12-18T20:14:20.392776Z",
     "start_time": "2020-12-18T20:14:20.085488Z"
    }
   },
   "outputs": [],
   "source": [
    "from sklearn.preprocessing import MinMaxScaler, StandardScaler\n",
    "\n",
    "scaler = MinMaxScaler(feature_range=(0,1)).fit(X)\n",
    "X_scl = scaler.transform(X)"
   ]
  },
  {
   "cell_type": "code",
   "execution_count": 7,
   "metadata": {
    "ExecuteTime": {
     "end_time": "2020-12-18T20:14:22.343954Z",
     "start_time": "2020-12-18T20:14:22.053618Z"
    }
   },
   "outputs": [],
   "source": [
    "X_train, X_test, y_train, y_test = train_test_split(X_scl, y, test_size=0.3, random_state=123)"
   ]
  },
  {
   "cell_type": "code",
   "execution_count": 8,
   "metadata": {
    "ExecuteTime": {
     "end_time": "2020-12-18T20:14:25.242837Z",
     "start_time": "2020-12-18T20:14:25.237851Z"
    }
   },
   "outputs": [],
   "source": [
    "def eval(model, X_test, y_test):\n",
    "    y_pred = model.predict(X_test) # your predicted y values\n",
    "    y_pred_int64 = y_pred.round(0).astype(int)\n",
    "    # The root mean square logarithmic error\n",
    "    msle = np.mean((np.log(y_pred_int64 + 1) - np.log(y_test + 1)) ** 2)\n",
    "    rmsle = math.sqrt(msle)\n",
    "    \n",
    "    print (\"RMSLE: %.4f\" % rmsle)\n",
    "    from sklearn.metrics import r2_score\n",
    "    r2 = r2_score(y_pred, y_test)\n",
    "    print (\"R2 value: %.4f\" % r2)\n",
    "    return rmsle, r2"
   ]
  },
  {
   "cell_type": "code",
   "execution_count": 9,
   "metadata": {
    "ExecuteTime": {
     "end_time": "2020-12-18T20:20:59.985184Z",
     "start_time": "2020-12-18T20:14:39.452658Z"
    }
   },
   "outputs": [
    {
     "name": "stderr",
     "output_type": "stream",
     "text": [
      "[Parallel(n_jobs=-1)]: Using backend ThreadingBackend with 12 concurrent workers.\n",
      "[Parallel(n_jobs=-1)]: Done  26 tasks      | elapsed:   13.4s\n",
      "[Parallel(n_jobs=-1)]: Done 176 tasks      | elapsed:  1.1min\n",
      "[Parallel(n_jobs=-1)]: Done 426 tasks      | elapsed:  2.7min\n",
      "[Parallel(n_jobs=-1)]: Done 776 tasks      | elapsed:  4.9min\n",
      "[Parallel(n_jobs=-1)]: Done 1000 out of 1000 | elapsed:  6.3min finished\n",
      "[Parallel(n_jobs=12)]: Using backend ThreadingBackend with 12 concurrent workers.\n",
      "[Parallel(n_jobs=12)]: Done  26 tasks      | elapsed:    0.0s\n",
      "[Parallel(n_jobs=12)]: Done 176 tasks      | elapsed:    0.0s\n",
      "[Parallel(n_jobs=12)]: Done 426 tasks      | elapsed:    0.1s\n",
      "[Parallel(n_jobs=12)]: Done 776 tasks      | elapsed:    0.2s\n"
     ]
    },
    {
     "name": "stdout",
     "output_type": "stream",
     "text": [
      "RMSLE: 0.5160\n",
      "R2 value: -12.9170\n"
     ]
    },
    {
     "name": "stderr",
     "output_type": "stream",
     "text": [
      "[Parallel(n_jobs=12)]: Done 1000 out of 1000 | elapsed:    0.3s finished\n"
     ]
    },
    {
     "data": {
      "text/plain": [
       "(0.5160180810686386, -12.917024989425094)"
      ]
     },
     "execution_count": 9,
     "metadata": {},
     "output_type": "execute_result"
    }
   ],
   "source": [
    "from sklearn import ensemble\n",
    "\n",
    "model= ensemble.RandomForestRegressor(bootstrap=True, criterion='mse', max_depth=10,\n",
    "            max_features='auto', max_leaf_nodes=None,\n",
    "            min_impurity_decrease=0.0, min_impurity_split=None,\n",
    "            min_samples_leaf=5, min_samples_split=500,\n",
    "            min_weight_fraction_leaf=0.0, n_estimators=1000, n_jobs=-1,\n",
    "            oob_score=False, random_state=None, verbose=1, warm_start=False)\n",
    "\n",
    "model.fit(X_train, y_train)\n",
    "eval(model, X_test, y_test)"
   ]
  },
  {
   "cell_type": "code",
   "execution_count": null,
   "metadata": {
    "ExecuteTime": {
     "start_time": "2020-12-15T18:52:24.327Z"
    }
   },
   "outputs": [],
   "source": [
    "feature_scores_rdfr = pd.Series(model.feature_importances_, index=X.columns).sort_values(ascending=True)\n",
    "feature_scores_rdfr.plot(kind='barh', figsize=(20, 20))"
   ]
  },
  {
   "cell_type": "code",
   "execution_count": null,
   "metadata": {
    "ExecuteTime": {
     "start_time": "2020-12-15T18:52:24.330Z"
    }
   },
   "outputs": [],
   "source": [
    "m = (df_target.columns != 'TARGET') & (df_target.columns != 'MemberID') & (df_target.columns != 'Year') & (df_target.columns != 'trainset')\n",
    "X_submit = df_target.loc[:, m]\n",
    "y_submit = df_target['TARGET']\n",
    "y_submit.describe()"
   ]
  },
  {
   "cell_type": "code",
   "execution_count": null,
   "metadata": {
    "ExecuteTime": {
     "start_time": "2020-12-15T18:52:24.332Z"
    }
   },
   "outputs": [],
   "source": [
    "X_submit_scl = scaler.transform(X_submit)"
   ]
  },
  {
   "cell_type": "code",
   "execution_count": null,
   "metadata": {
    "ExecuteTime": {
     "start_time": "2020-12-15T18:52:24.332Z"
    }
   },
   "outputs": [],
   "source": [
    "yrdf_pred_submit = best_model.predict(X_submit_scl)\n",
    "\n",
    "submission = pd.DataFrame()\n",
    "submission['MemberID'] = df_target['MemberID']\n",
    "\n",
    "yrdf_pred_submit = yrdf_pred_submit.clip(min=0)\n",
    "yrdf_pred_submit = yrdf_pred_submit.clip(max=15)\n",
    "#pred_y = pred_y.astype(int)\n",
    "\n",
    "submission['DIH'] = yrdf_pred_submit\n",
    "submission.groupby(['DIH']).size()\n",
    "submission.to_csv('../4.Evaluation/randfr.csv',index=False)"
   ]
  },
  {
   "cell_type": "code",
   "execution_count": null,
   "metadata": {},
   "outputs": [],
   "source": []
  }
 ],
 "metadata": {
  "kernelspec": {
   "display_name": "Python 3",
   "language": "python",
   "name": "python3"
  },
  "language_info": {
   "codemirror_mode": {
    "name": "ipython",
    "version": 3
   },
   "file_extension": ".py",
   "mimetype": "text/x-python",
   "name": "python",
   "nbconvert_exporter": "python",
   "pygments_lexer": "ipython3",
   "version": "3.6.10"
  }
 },
 "nbformat": 4,
 "nbformat_minor": 4
}
