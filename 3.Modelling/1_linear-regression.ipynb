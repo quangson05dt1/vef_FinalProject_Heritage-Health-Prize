{
 "cells": [
  {
   "cell_type": "code",
   "execution_count": 1,
   "metadata": {
    "ExecuteTime": {
     "end_time": "2020-12-18T09:23:08.602481Z",
     "start_time": "2020-12-18T09:23:07.763636Z"
    }
   },
   "outputs": [],
   "source": [
    "import pandas as pd\n",
    "import numpy as np\n",
    "import matplotlib.pyplot as plt\n",
    "import sys\n",
    "from sklearn.model_selection import train_test_split\n",
    "from sklearn import linear_model\n",
    "import pandas as pd\n",
    "import math"
   ]
  },
  {
   "cell_type": "code",
   "execution_count": 2,
   "metadata": {
    "ExecuteTime": {
     "end_time": "2020-12-18T09:23:11.795163Z",
     "start_time": "2020-12-18T09:23:09.227007Z"
    }
   },
   "outputs": [
    {
     "data": {
      "text/html": [
       "<div>\n",
       "<style scoped>\n",
       "    .dataframe tbody tr th:only-of-type {\n",
       "        vertical-align: middle;\n",
       "    }\n",
       "\n",
       "    .dataframe tbody tr th {\n",
       "        vertical-align: top;\n",
       "    }\n",
       "\n",
       "    .dataframe thead th {\n",
       "        text-align: right;\n",
       "    }\n",
       "</style>\n",
       "<table border=\"1\" class=\"dataframe\">\n",
       "  <thead>\n",
       "    <tr style=\"text-align: right;\">\n",
       "      <th></th>\n",
       "      <th>MemberID</th>\n",
       "      <th>LabCount_total</th>\n",
       "      <th>LabCount_max</th>\n",
       "      <th>LabCount_min</th>\n",
       "      <th>LabCount_ave</th>\n",
       "      <th>LabCount_months</th>\n",
       "      <th>LabCount_std</th>\n",
       "      <th>DrugCount_total</th>\n",
       "      <th>DrugCount_max</th>\n",
       "      <th>DrugCount_min</th>\n",
       "      <th>...</th>\n",
       "      <th>ProcedureGroup_Count_SO</th>\n",
       "      <th>ProcedureGroup_Count_SMCD</th>\n",
       "      <th>AgeAtFirstClaim</th>\n",
       "      <th>Male</th>\n",
       "      <th>Female</th>\n",
       "      <th>MissSex</th>\n",
       "      <th>MissAge</th>\n",
       "      <th>ClaimsTruncated</th>\n",
       "      <th>TARGET</th>\n",
       "      <th>trainset</th>\n",
       "    </tr>\n",
       "  </thead>\n",
       "  <tbody>\n",
       "    <tr>\n",
       "      <th>count</th>\n",
       "      <td>2.184150e+05</td>\n",
       "      <td>218415.000000</td>\n",
       "      <td>218415.000000</td>\n",
       "      <td>218415.000000</td>\n",
       "      <td>218415.000000</td>\n",
       "      <td>218415.000000</td>\n",
       "      <td>218415.000000</td>\n",
       "      <td>218415.000000</td>\n",
       "      <td>218415.000000</td>\n",
       "      <td>218415.000000</td>\n",
       "      <td>...</td>\n",
       "      <td>218415.000000</td>\n",
       "      <td>218415.000000</td>\n",
       "      <td>218415.000000</td>\n",
       "      <td>218415.000000</td>\n",
       "      <td>218415.000000</td>\n",
       "      <td>218415.000000</td>\n",
       "      <td>218415.0</td>\n",
       "      <td>218415.000000</td>\n",
       "      <td>147473.000000</td>\n",
       "      <td>218415.000000</td>\n",
       "    </tr>\n",
       "    <tr>\n",
       "      <th>mean</th>\n",
       "      <td>4.993458e+07</td>\n",
       "      <td>6.471827</td>\n",
       "      <td>3.829439</td>\n",
       "      <td>2.181860</td>\n",
       "      <td>2.918800</td>\n",
       "      <td>1.655033</td>\n",
       "      <td>0.578166</td>\n",
       "      <td>10.387318</td>\n",
       "      <td>2.193531</td>\n",
       "      <td>0.962237</td>\n",
       "      <td>...</td>\n",
       "      <td>0.001699</td>\n",
       "      <td>0.015457</td>\n",
       "      <td>47.750155</td>\n",
       "      <td>0.363524</td>\n",
       "      <td>0.448078</td>\n",
       "      <td>0.188398</td>\n",
       "      <td>0.0</td>\n",
       "      <td>0.054863</td>\n",
       "      <td>0.452951</td>\n",
       "      <td>0.675196</td>\n",
       "    </tr>\n",
       "    <tr>\n",
       "      <th>std</th>\n",
       "      <td>2.892479e+07</td>\n",
       "      <td>7.734678</td>\n",
       "      <td>3.440373</td>\n",
       "      <td>2.507408</td>\n",
       "      <td>2.676663</td>\n",
       "      <td>1.906704</td>\n",
       "      <td>1.683426</td>\n",
       "      <td>15.721582</td>\n",
       "      <td>2.271990</td>\n",
       "      <td>1.057978</td>\n",
       "      <td>...</td>\n",
       "      <td>0.047286</td>\n",
       "      <td>0.262061</td>\n",
       "      <td>23.238375</td>\n",
       "      <td>0.481015</td>\n",
       "      <td>0.497298</td>\n",
       "      <td>0.391031</td>\n",
       "      <td>0.0</td>\n",
       "      <td>0.227714</td>\n",
       "      <td>1.573818</td>\n",
       "      <td>0.468303</td>\n",
       "    </tr>\n",
       "    <tr>\n",
       "      <th>min</th>\n",
       "      <td>4.000000e+00</td>\n",
       "      <td>0.000000</td>\n",
       "      <td>0.000000</td>\n",
       "      <td>0.000000</td>\n",
       "      <td>0.000000</td>\n",
       "      <td>0.000000</td>\n",
       "      <td>-1.000000</td>\n",
       "      <td>0.000000</td>\n",
       "      <td>0.000000</td>\n",
       "      <td>0.000000</td>\n",
       "      <td>...</td>\n",
       "      <td>0.000000</td>\n",
       "      <td>0.000000</td>\n",
       "      <td>5.000000</td>\n",
       "      <td>0.000000</td>\n",
       "      <td>0.000000</td>\n",
       "      <td>0.000000</td>\n",
       "      <td>0.0</td>\n",
       "      <td>0.000000</td>\n",
       "      <td>0.000000</td>\n",
       "      <td>0.000000</td>\n",
       "    </tr>\n",
       "    <tr>\n",
       "      <th>25%</th>\n",
       "      <td>2.478774e+07</td>\n",
       "      <td>0.000000</td>\n",
       "      <td>0.000000</td>\n",
       "      <td>0.000000</td>\n",
       "      <td>0.000000</td>\n",
       "      <td>0.000000</td>\n",
       "      <td>-1.000000</td>\n",
       "      <td>0.000000</td>\n",
       "      <td>0.000000</td>\n",
       "      <td>0.000000</td>\n",
       "      <td>...</td>\n",
       "      <td>0.000000</td>\n",
       "      <td>0.000000</td>\n",
       "      <td>35.000000</td>\n",
       "      <td>0.000000</td>\n",
       "      <td>0.000000</td>\n",
       "      <td>0.000000</td>\n",
       "      <td>0.0</td>\n",
       "      <td>0.000000</td>\n",
       "      <td>0.000000</td>\n",
       "      <td>0.000000</td>\n",
       "    </tr>\n",
       "    <tr>\n",
       "      <th>50%</th>\n",
       "      <td>4.993677e+07</td>\n",
       "      <td>4.000000</td>\n",
       "      <td>4.000000</td>\n",
       "      <td>1.000000</td>\n",
       "      <td>2.666667</td>\n",
       "      <td>1.000000</td>\n",
       "      <td>0.000000</td>\n",
       "      <td>3.000000</td>\n",
       "      <td>2.000000</td>\n",
       "      <td>1.000000</td>\n",
       "      <td>...</td>\n",
       "      <td>0.000000</td>\n",
       "      <td>0.000000</td>\n",
       "      <td>45.000000</td>\n",
       "      <td>0.000000</td>\n",
       "      <td>0.000000</td>\n",
       "      <td>0.000000</td>\n",
       "      <td>0.0</td>\n",
       "      <td>0.000000</td>\n",
       "      <td>0.000000</td>\n",
       "      <td>1.000000</td>\n",
       "    </tr>\n",
       "    <tr>\n",
       "      <th>75%</th>\n",
       "      <td>7.515525e+07</td>\n",
       "      <td>10.000000</td>\n",
       "      <td>7.000000</td>\n",
       "      <td>3.000000</td>\n",
       "      <td>5.000000</td>\n",
       "      <td>2.000000</td>\n",
       "      <td>1.527525</td>\n",
       "      <td>14.000000</td>\n",
       "      <td>4.000000</td>\n",
       "      <td>1.000000</td>\n",
       "      <td>...</td>\n",
       "      <td>0.000000</td>\n",
       "      <td>0.000000</td>\n",
       "      <td>65.000000</td>\n",
       "      <td>1.000000</td>\n",
       "      <td>1.000000</td>\n",
       "      <td>0.000000</td>\n",
       "      <td>0.0</td>\n",
       "      <td>0.000000</td>\n",
       "      <td>0.000000</td>\n",
       "      <td>1.000000</td>\n",
       "    </tr>\n",
       "    <tr>\n",
       "      <th>max</th>\n",
       "      <td>9.999882e+07</td>\n",
       "      <td>111.000000</td>\n",
       "      <td>10.000000</td>\n",
       "      <td>10.000000</td>\n",
       "      <td>10.000000</td>\n",
       "      <td>12.000000</td>\n",
       "      <td>6.363961</td>\n",
       "      <td>84.000000</td>\n",
       "      <td>7.000000</td>\n",
       "      <td>7.000000</td>\n",
       "      <td>...</td>\n",
       "      <td>4.000000</td>\n",
       "      <td>23.000000</td>\n",
       "      <td>80.000000</td>\n",
       "      <td>1.000000</td>\n",
       "      <td>1.000000</td>\n",
       "      <td>1.000000</td>\n",
       "      <td>0.0</td>\n",
       "      <td>1.000000</td>\n",
       "      <td>15.000000</td>\n",
       "      <td>1.000000</td>\n",
       "    </tr>\n",
       "  </tbody>\n",
       "</table>\n",
       "<p>8 rows × 144 columns</p>\n",
       "</div>"
      ],
      "text/plain": [
       "           MemberID  LabCount_total   LabCount_max   LabCount_min  \\\n",
       "count  2.184150e+05   218415.000000  218415.000000  218415.000000   \n",
       "mean   4.993458e+07        6.471827       3.829439       2.181860   \n",
       "std    2.892479e+07        7.734678       3.440373       2.507408   \n",
       "min    4.000000e+00        0.000000       0.000000       0.000000   \n",
       "25%    2.478774e+07        0.000000       0.000000       0.000000   \n",
       "50%    4.993677e+07        4.000000       4.000000       1.000000   \n",
       "75%    7.515525e+07       10.000000       7.000000       3.000000   \n",
       "max    9.999882e+07      111.000000      10.000000      10.000000   \n",
       "\n",
       "        LabCount_ave  LabCount_months   LabCount_std  DrugCount_total  \\\n",
       "count  218415.000000    218415.000000  218415.000000    218415.000000   \n",
       "mean        2.918800         1.655033       0.578166        10.387318   \n",
       "std         2.676663         1.906704       1.683426        15.721582   \n",
       "min         0.000000         0.000000      -1.000000         0.000000   \n",
       "25%         0.000000         0.000000      -1.000000         0.000000   \n",
       "50%         2.666667         1.000000       0.000000         3.000000   \n",
       "75%         5.000000         2.000000       1.527525        14.000000   \n",
       "max        10.000000        12.000000       6.363961        84.000000   \n",
       "\n",
       "       DrugCount_max  DrugCount_min  ...  ProcedureGroup_Count_SO  \\\n",
       "count  218415.000000  218415.000000  ...            218415.000000   \n",
       "mean        2.193531       0.962237  ...                 0.001699   \n",
       "std         2.271990       1.057978  ...                 0.047286   \n",
       "min         0.000000       0.000000  ...                 0.000000   \n",
       "25%         0.000000       0.000000  ...                 0.000000   \n",
       "50%         2.000000       1.000000  ...                 0.000000   \n",
       "75%         4.000000       1.000000  ...                 0.000000   \n",
       "max         7.000000       7.000000  ...                 4.000000   \n",
       "\n",
       "       ProcedureGroup_Count_SMCD  AgeAtFirstClaim           Male  \\\n",
       "count              218415.000000    218415.000000  218415.000000   \n",
       "mean                    0.015457        47.750155       0.363524   \n",
       "std                     0.262061        23.238375       0.481015   \n",
       "min                     0.000000         5.000000       0.000000   \n",
       "25%                     0.000000        35.000000       0.000000   \n",
       "50%                     0.000000        45.000000       0.000000   \n",
       "75%                     0.000000        65.000000       1.000000   \n",
       "max                    23.000000        80.000000       1.000000   \n",
       "\n",
       "              Female        MissSex   MissAge  ClaimsTruncated         TARGET  \\\n",
       "count  218415.000000  218415.000000  218415.0    218415.000000  147473.000000   \n",
       "mean        0.448078       0.188398       0.0         0.054863       0.452951   \n",
       "std         0.497298       0.391031       0.0         0.227714       1.573818   \n",
       "min         0.000000       0.000000       0.0         0.000000       0.000000   \n",
       "25%         0.000000       0.000000       0.0         0.000000       0.000000   \n",
       "50%         0.000000       0.000000       0.0         0.000000       0.000000   \n",
       "75%         1.000000       0.000000       0.0         0.000000       0.000000   \n",
       "max         1.000000       1.000000       0.0         1.000000      15.000000   \n",
       "\n",
       "            trainset  \n",
       "count  218415.000000  \n",
       "mean        0.675196  \n",
       "std         0.468303  \n",
       "min         0.000000  \n",
       "25%         0.000000  \n",
       "50%         1.000000  \n",
       "75%         1.000000  \n",
       "max         1.000000  \n",
       "\n",
       "[8 rows x 144 columns]"
      ]
     },
     "execution_count": 2,
     "metadata": {},
     "output_type": "execute_result"
    }
   ],
   "source": [
    "df = pd.read_csv('../2.Feature Engineering/new data/modelling_set.csv')\n",
    "df.describe()"
   ]
  },
  {
   "cell_type": "code",
   "execution_count": 3,
   "metadata": {
    "ExecuteTime": {
     "end_time": "2020-12-18T09:23:20.943471Z",
     "start_time": "2020-12-18T09:23:20.860692Z"
    }
   },
   "outputs": [],
   "source": [
    "df_train = df[df['trainset']==1]"
   ]
  },
  {
   "cell_type": "code",
   "execution_count": 4,
   "metadata": {
    "ExecuteTime": {
     "end_time": "2020-12-18T09:23:23.648081Z",
     "start_time": "2020-12-18T09:23:22.746522Z"
    }
   },
   "outputs": [
    {
     "data": {
      "text/html": [
       "<div>\n",
       "<style scoped>\n",
       "    .dataframe tbody tr th:only-of-type {\n",
       "        vertical-align: middle;\n",
       "    }\n",
       "\n",
       "    .dataframe tbody tr th {\n",
       "        vertical-align: top;\n",
       "    }\n",
       "\n",
       "    .dataframe thead th {\n",
       "        text-align: right;\n",
       "    }\n",
       "</style>\n",
       "<table border=\"1\" class=\"dataframe\">\n",
       "  <thead>\n",
       "    <tr style=\"text-align: right;\">\n",
       "      <th></th>\n",
       "      <th>MemberID</th>\n",
       "      <th>LabCount_total</th>\n",
       "      <th>LabCount_max</th>\n",
       "      <th>LabCount_min</th>\n",
       "      <th>LabCount_ave</th>\n",
       "      <th>LabCount_months</th>\n",
       "      <th>LabCount_std</th>\n",
       "      <th>DrugCount_total</th>\n",
       "      <th>DrugCount_max</th>\n",
       "      <th>DrugCount_min</th>\n",
       "      <th>...</th>\n",
       "      <th>ProcedureGroup_Count_SO</th>\n",
       "      <th>ProcedureGroup_Count_SMCD</th>\n",
       "      <th>AgeAtFirstClaim</th>\n",
       "      <th>Male</th>\n",
       "      <th>Female</th>\n",
       "      <th>MissSex</th>\n",
       "      <th>MissAge</th>\n",
       "      <th>ClaimsTruncated</th>\n",
       "      <th>TARGET</th>\n",
       "      <th>trainset</th>\n",
       "    </tr>\n",
       "  </thead>\n",
       "  <tbody>\n",
       "    <tr>\n",
       "      <th>count</th>\n",
       "      <td>1.474730e+05</td>\n",
       "      <td>147473.000000</td>\n",
       "      <td>147473.000000</td>\n",
       "      <td>147473.000000</td>\n",
       "      <td>147473.000000</td>\n",
       "      <td>147473.000000</td>\n",
       "      <td>147473.000000</td>\n",
       "      <td>147473.000000</td>\n",
       "      <td>147473.000000</td>\n",
       "      <td>147473.000000</td>\n",
       "      <td>...</td>\n",
       "      <td>147473.000000</td>\n",
       "      <td>147473.000000</td>\n",
       "      <td>147473.000000</td>\n",
       "      <td>147473.000000</td>\n",
       "      <td>147473.000000</td>\n",
       "      <td>147473.000000</td>\n",
       "      <td>147473.0</td>\n",
       "      <td>147473.000000</td>\n",
       "      <td>147473.000000</td>\n",
       "      <td>147473.0</td>\n",
       "    </tr>\n",
       "    <tr>\n",
       "      <th>mean</th>\n",
       "      <td>4.994386e+07</td>\n",
       "      <td>6.391699</td>\n",
       "      <td>3.817465</td>\n",
       "      <td>2.179124</td>\n",
       "      <td>2.910567</td>\n",
       "      <td>1.644898</td>\n",
       "      <td>0.576201</td>\n",
       "      <td>10.409309</td>\n",
       "      <td>2.190754</td>\n",
       "      <td>0.959057</td>\n",
       "      <td>...</td>\n",
       "      <td>0.001478</td>\n",
       "      <td>0.015949</td>\n",
       "      <td>47.884731</td>\n",
       "      <td>0.362907</td>\n",
       "      <td>0.446678</td>\n",
       "      <td>0.190415</td>\n",
       "      <td>0.0</td>\n",
       "      <td>0.054349</td>\n",
       "      <td>0.452951</td>\n",
       "      <td>1.0</td>\n",
       "    </tr>\n",
       "    <tr>\n",
       "      <th>std</th>\n",
       "      <td>2.892040e+07</td>\n",
       "      <td>7.555581</td>\n",
       "      <td>3.428776</td>\n",
       "      <td>2.503624</td>\n",
       "      <td>2.669596</td>\n",
       "      <td>1.895061</td>\n",
       "      <td>1.683874</td>\n",
       "      <td>15.681812</td>\n",
       "      <td>2.261954</td>\n",
       "      <td>1.043603</td>\n",
       "      <td>...</td>\n",
       "      <td>0.043549</td>\n",
       "      <td>0.270775</td>\n",
       "      <td>23.342989</td>\n",
       "      <td>0.480840</td>\n",
       "      <td>0.497150</td>\n",
       "      <td>0.392629</td>\n",
       "      <td>0.0</td>\n",
       "      <td>0.226706</td>\n",
       "      <td>1.573818</td>\n",
       "      <td>0.0</td>\n",
       "    </tr>\n",
       "    <tr>\n",
       "      <th>min</th>\n",
       "      <td>4.000000e+00</td>\n",
       "      <td>0.000000</td>\n",
       "      <td>0.000000</td>\n",
       "      <td>0.000000</td>\n",
       "      <td>0.000000</td>\n",
       "      <td>0.000000</td>\n",
       "      <td>-1.000000</td>\n",
       "      <td>0.000000</td>\n",
       "      <td>0.000000</td>\n",
       "      <td>0.000000</td>\n",
       "      <td>...</td>\n",
       "      <td>0.000000</td>\n",
       "      <td>0.000000</td>\n",
       "      <td>5.000000</td>\n",
       "      <td>0.000000</td>\n",
       "      <td>0.000000</td>\n",
       "      <td>0.000000</td>\n",
       "      <td>0.0</td>\n",
       "      <td>0.000000</td>\n",
       "      <td>0.000000</td>\n",
       "      <td>1.0</td>\n",
       "    </tr>\n",
       "    <tr>\n",
       "      <th>25%</th>\n",
       "      <td>2.481269e+07</td>\n",
       "      <td>0.000000</td>\n",
       "      <td>0.000000</td>\n",
       "      <td>0.000000</td>\n",
       "      <td>0.000000</td>\n",
       "      <td>0.000000</td>\n",
       "      <td>-1.000000</td>\n",
       "      <td>0.000000</td>\n",
       "      <td>0.000000</td>\n",
       "      <td>0.000000</td>\n",
       "      <td>...</td>\n",
       "      <td>0.000000</td>\n",
       "      <td>0.000000</td>\n",
       "      <td>35.000000</td>\n",
       "      <td>0.000000</td>\n",
       "      <td>0.000000</td>\n",
       "      <td>0.000000</td>\n",
       "      <td>0.0</td>\n",
       "      <td>0.000000</td>\n",
       "      <td>0.000000</td>\n",
       "      <td>1.0</td>\n",
       "    </tr>\n",
       "    <tr>\n",
       "      <th>50%</th>\n",
       "      <td>4.993194e+07</td>\n",
       "      <td>4.000000</td>\n",
       "      <td>4.000000</td>\n",
       "      <td>1.000000</td>\n",
       "      <td>2.666667</td>\n",
       "      <td>1.000000</td>\n",
       "      <td>0.000000</td>\n",
       "      <td>3.000000</td>\n",
       "      <td>2.000000</td>\n",
       "      <td>1.000000</td>\n",
       "      <td>...</td>\n",
       "      <td>0.000000</td>\n",
       "      <td>0.000000</td>\n",
       "      <td>45.000000</td>\n",
       "      <td>0.000000</td>\n",
       "      <td>0.000000</td>\n",
       "      <td>0.000000</td>\n",
       "      <td>0.0</td>\n",
       "      <td>0.000000</td>\n",
       "      <td>0.000000</td>\n",
       "      <td>1.0</td>\n",
       "    </tr>\n",
       "    <tr>\n",
       "      <th>75%</th>\n",
       "      <td>7.516935e+07</td>\n",
       "      <td>10.000000</td>\n",
       "      <td>6.000000</td>\n",
       "      <td>3.000000</td>\n",
       "      <td>4.800000</td>\n",
       "      <td>2.000000</td>\n",
       "      <td>1.527525</td>\n",
       "      <td>15.000000</td>\n",
       "      <td>4.000000</td>\n",
       "      <td>1.000000</td>\n",
       "      <td>...</td>\n",
       "      <td>0.000000</td>\n",
       "      <td>0.000000</td>\n",
       "      <td>65.000000</td>\n",
       "      <td>1.000000</td>\n",
       "      <td>1.000000</td>\n",
       "      <td>0.000000</td>\n",
       "      <td>0.0</td>\n",
       "      <td>0.000000</td>\n",
       "      <td>0.000000</td>\n",
       "      <td>1.0</td>\n",
       "    </tr>\n",
       "    <tr>\n",
       "      <th>max</th>\n",
       "      <td>9.999882e+07</td>\n",
       "      <td>94.000000</td>\n",
       "      <td>10.000000</td>\n",
       "      <td>10.000000</td>\n",
       "      <td>10.000000</td>\n",
       "      <td>12.000000</td>\n",
       "      <td>6.363961</td>\n",
       "      <td>84.000000</td>\n",
       "      <td>7.000000</td>\n",
       "      <td>7.000000</td>\n",
       "      <td>...</td>\n",
       "      <td>4.000000</td>\n",
       "      <td>23.000000</td>\n",
       "      <td>80.000000</td>\n",
       "      <td>1.000000</td>\n",
       "      <td>1.000000</td>\n",
       "      <td>1.000000</td>\n",
       "      <td>0.0</td>\n",
       "      <td>1.000000</td>\n",
       "      <td>15.000000</td>\n",
       "      <td>1.0</td>\n",
       "    </tr>\n",
       "  </tbody>\n",
       "</table>\n",
       "<p>8 rows × 144 columns</p>\n",
       "</div>"
      ],
      "text/plain": [
       "           MemberID  LabCount_total   LabCount_max   LabCount_min  \\\n",
       "count  1.474730e+05   147473.000000  147473.000000  147473.000000   \n",
       "mean   4.994386e+07        6.391699       3.817465       2.179124   \n",
       "std    2.892040e+07        7.555581       3.428776       2.503624   \n",
       "min    4.000000e+00        0.000000       0.000000       0.000000   \n",
       "25%    2.481269e+07        0.000000       0.000000       0.000000   \n",
       "50%    4.993194e+07        4.000000       4.000000       1.000000   \n",
       "75%    7.516935e+07       10.000000       6.000000       3.000000   \n",
       "max    9.999882e+07       94.000000      10.000000      10.000000   \n",
       "\n",
       "        LabCount_ave  LabCount_months   LabCount_std  DrugCount_total  \\\n",
       "count  147473.000000    147473.000000  147473.000000    147473.000000   \n",
       "mean        2.910567         1.644898       0.576201        10.409309   \n",
       "std         2.669596         1.895061       1.683874        15.681812   \n",
       "min         0.000000         0.000000      -1.000000         0.000000   \n",
       "25%         0.000000         0.000000      -1.000000         0.000000   \n",
       "50%         2.666667         1.000000       0.000000         3.000000   \n",
       "75%         4.800000         2.000000       1.527525        15.000000   \n",
       "max        10.000000        12.000000       6.363961        84.000000   \n",
       "\n",
       "       DrugCount_max  DrugCount_min  ...  ProcedureGroup_Count_SO  \\\n",
       "count  147473.000000  147473.000000  ...            147473.000000   \n",
       "mean        2.190754       0.959057  ...                 0.001478   \n",
       "std         2.261954       1.043603  ...                 0.043549   \n",
       "min         0.000000       0.000000  ...                 0.000000   \n",
       "25%         0.000000       0.000000  ...                 0.000000   \n",
       "50%         2.000000       1.000000  ...                 0.000000   \n",
       "75%         4.000000       1.000000  ...                 0.000000   \n",
       "max         7.000000       7.000000  ...                 4.000000   \n",
       "\n",
       "       ProcedureGroup_Count_SMCD  AgeAtFirstClaim           Male  \\\n",
       "count              147473.000000    147473.000000  147473.000000   \n",
       "mean                    0.015949        47.884731       0.362907   \n",
       "std                     0.270775        23.342989       0.480840   \n",
       "min                     0.000000         5.000000       0.000000   \n",
       "25%                     0.000000        35.000000       0.000000   \n",
       "50%                     0.000000        45.000000       0.000000   \n",
       "75%                     0.000000        65.000000       1.000000   \n",
       "max                    23.000000        80.000000       1.000000   \n",
       "\n",
       "              Female        MissSex   MissAge  ClaimsTruncated         TARGET  \\\n",
       "count  147473.000000  147473.000000  147473.0    147473.000000  147473.000000   \n",
       "mean        0.446678       0.190415       0.0         0.054349       0.452951   \n",
       "std         0.497150       0.392629       0.0         0.226706       1.573818   \n",
       "min         0.000000       0.000000       0.0         0.000000       0.000000   \n",
       "25%         0.000000       0.000000       0.0         0.000000       0.000000   \n",
       "50%         0.000000       0.000000       0.0         0.000000       0.000000   \n",
       "75%         1.000000       0.000000       0.0         0.000000       0.000000   \n",
       "max         1.000000       1.000000       0.0         1.000000      15.000000   \n",
       "\n",
       "       trainset  \n",
       "count  147473.0  \n",
       "mean        1.0  \n",
       "std         0.0  \n",
       "min         1.0  \n",
       "25%         1.0  \n",
       "50%         1.0  \n",
       "75%         1.0  \n",
       "max         1.0  \n",
       "\n",
       "[8 rows x 144 columns]"
      ]
     },
     "execution_count": 4,
     "metadata": {},
     "output_type": "execute_result"
    }
   ],
   "source": [
    "df_train.describe()"
   ]
  },
  {
   "cell_type": "code",
   "execution_count": 5,
   "metadata": {
    "ExecuteTime": {
     "end_time": "2020-12-18T09:23:24.720156Z",
     "start_time": "2020-12-18T09:23:24.537644Z"
    }
   },
   "outputs": [
    {
     "name": "stdout",
     "output_type": "stream",
     "text": [
      "                                         Total  Percent\n",
      "trainset                                     0      0.0\n",
      "PlaceSvc_Count_Unknown                       0      0.0\n",
      "Specialty_Count_Surgery                      0      0.0\n",
      "CharlsonIndex_range                          0      0.0\n",
      "DSFS_range                                   0      0.0\n",
      "no_PrimaryConditionGroup_PlaceSvc            0      0.0\n",
      "no_ProcedureGroup_PrimaryConditionGroup      0      0.0\n",
      "no_ProcedureGroup_Specialty                  0      0.0\n",
      "no_PrimaryConditionGroup_Specialty           0      0.0\n",
      "CharlsonIndex_std                            0      0.0\n",
      "CharlsonIndex_ave                            0      0.0\n",
      "CharlsonIndex_min                            0      0.0\n",
      "CharlsonIndex_max                            0      0.0\n",
      "CharlsonIndex_sum                            0      0.0\n",
      "DSFS_std                                     0      0.0\n",
      "DSFS_ave                                     0      0.0\n",
      "DSFS_min                                     0      0.0\n",
      "Specialty_Count_Internal                     0      0.0\n",
      "Specialty_Count_Laboratory                   0      0.0\n",
      "Specialty_Count_Pediatrics                   0      0.0\n"
     ]
    },
    {
     "data": {
      "text/html": [
       "<div>\n",
       "<style scoped>\n",
       "    .dataframe tbody tr th:only-of-type {\n",
       "        vertical-align: middle;\n",
       "    }\n",
       "\n",
       "    .dataframe tbody tr th {\n",
       "        vertical-align: top;\n",
       "    }\n",
       "\n",
       "    .dataframe thead th {\n",
       "        text-align: right;\n",
       "    }\n",
       "</style>\n",
       "<table border=\"1\" class=\"dataframe\">\n",
       "  <thead>\n",
       "    <tr style=\"text-align: right;\">\n",
       "      <th></th>\n",
       "      <th>Total</th>\n",
       "      <th>Percent</th>\n",
       "    </tr>\n",
       "  </thead>\n",
       "  <tbody>\n",
       "    <tr>\n",
       "      <th>trainset</th>\n",
       "      <td>0</td>\n",
       "      <td>0.0</td>\n",
       "    </tr>\n",
       "    <tr>\n",
       "      <th>PlaceSvc_Count_Unknown</th>\n",
       "      <td>0</td>\n",
       "      <td>0.0</td>\n",
       "    </tr>\n",
       "    <tr>\n",
       "      <th>Specialty_Count_Surgery</th>\n",
       "      <td>0</td>\n",
       "      <td>0.0</td>\n",
       "    </tr>\n",
       "    <tr>\n",
       "      <th>CharlsonIndex_range</th>\n",
       "      <td>0</td>\n",
       "      <td>0.0</td>\n",
       "    </tr>\n",
       "    <tr>\n",
       "      <th>DSFS_range</th>\n",
       "      <td>0</td>\n",
       "      <td>0.0</td>\n",
       "    </tr>\n",
       "    <tr>\n",
       "      <th>...</th>\n",
       "      <td>...</td>\n",
       "      <td>...</td>\n",
       "    </tr>\n",
       "    <tr>\n",
       "      <th>PrimaryConditionGroup_Count_CANCRB</th>\n",
       "      <td>0</td>\n",
       "      <td>0.0</td>\n",
       "    </tr>\n",
       "    <tr>\n",
       "      <th>PrimaryConditionGroup_Count_SKNAUT</th>\n",
       "      <td>0</td>\n",
       "      <td>0.0</td>\n",
       "    </tr>\n",
       "    <tr>\n",
       "      <th>PrimaryConditionGroup_Count_HIPFX</th>\n",
       "      <td>0</td>\n",
       "      <td>0.0</td>\n",
       "    </tr>\n",
       "    <tr>\n",
       "      <th>PrimaryConditionGroup_Count_GIBLEED</th>\n",
       "      <td>0</td>\n",
       "      <td>0.0</td>\n",
       "    </tr>\n",
       "    <tr>\n",
       "      <th>Year</th>\n",
       "      <td>0</td>\n",
       "      <td>0.0</td>\n",
       "    </tr>\n",
       "  </tbody>\n",
       "</table>\n",
       "<p>145 rows × 2 columns</p>\n",
       "</div>"
      ],
      "text/plain": [
       "                                     Total  Percent\n",
       "trainset                                 0      0.0\n",
       "PlaceSvc_Count_Unknown                   0      0.0\n",
       "Specialty_Count_Surgery                  0      0.0\n",
       "CharlsonIndex_range                      0      0.0\n",
       "DSFS_range                               0      0.0\n",
       "...                                    ...      ...\n",
       "PrimaryConditionGroup_Count_CANCRB       0      0.0\n",
       "PrimaryConditionGroup_Count_SKNAUT       0      0.0\n",
       "PrimaryConditionGroup_Count_HIPFX        0      0.0\n",
       "PrimaryConditionGroup_Count_GIBLEED      0      0.0\n",
       "Year                                     0      0.0\n",
       "\n",
       "[145 rows x 2 columns]"
      ]
     },
     "execution_count": 5,
     "metadata": {},
     "output_type": "execute_result"
    }
   ],
   "source": [
    "#Count missing data\n",
    "def count_missing(df):   \n",
    "    total = df.isnull().sum().sort_values(ascending=False)\n",
    "    percent = (df.isnull().sum()/df.isnull().count()).sort_values(ascending=False)\n",
    "    missing_data  = pd.concat([total, percent], axis=1, keys=['Total', 'Percent'])\n",
    "    print(missing_data.head(20))\n",
    "    return missing_data\n",
    "\n",
    "count_missing(df_train)"
   ]
  },
  {
   "cell_type": "code",
   "execution_count": 6,
   "metadata": {
    "ExecuteTime": {
     "end_time": "2020-12-18T09:23:27.258139Z",
     "start_time": "2020-12-18T09:23:27.208158Z"
    }
   },
   "outputs": [],
   "source": [
    "df_target = df[df['trainset']==0]"
   ]
  },
  {
   "cell_type": "code",
   "execution_count": 7,
   "metadata": {
    "ExecuteTime": {
     "end_time": "2020-12-18T09:23:29.802272Z",
     "start_time": "2020-12-18T09:23:29.720491Z"
    }
   },
   "outputs": [
    {
     "data": {
      "text/plain": [
       "count    147473.000000\n",
       "mean          0.452951\n",
       "std           1.573818\n",
       "min           0.000000\n",
       "25%           0.000000\n",
       "50%           0.000000\n",
       "75%           0.000000\n",
       "max          15.000000\n",
       "Name: TARGET, dtype: float64"
      ]
     },
     "execution_count": 7,
     "metadata": {},
     "output_type": "execute_result"
    }
   ],
   "source": [
    "#df_train.drop(\"MemberID\", axis = 1, inplace = True)\n",
    "#df_train.drop(\"Year\", axis = 1, inplace = True)\n",
    "#df_train.drop(\"trainset\", axis = 1, inplace = True)\n",
    "m = (df_train.columns != 'TARGET') & (df_train.columns != 'MemberID') & (df_train.columns != 'Year') & (df_train.columns != 'trainset')\n",
    "X = df_train.loc[:, m]\n",
    "y = df_train['TARGET']\n",
    "y.describe()"
   ]
  },
  {
   "cell_type": "code",
   "execution_count": 8,
   "metadata": {
    "ExecuteTime": {
     "end_time": "2020-12-18T09:23:31.910847Z",
     "start_time": "2020-12-18T09:23:31.896860Z"
    }
   },
   "outputs": [
    {
     "data": {
      "text/html": [
       "<div>\n",
       "<style scoped>\n",
       "    .dataframe tbody tr th:only-of-type {\n",
       "        vertical-align: middle;\n",
       "    }\n",
       "\n",
       "    .dataframe tbody tr th {\n",
       "        vertical-align: top;\n",
       "    }\n",
       "\n",
       "    .dataframe thead th {\n",
       "        text-align: right;\n",
       "    }\n",
       "</style>\n",
       "<table border=\"1\" class=\"dataframe\">\n",
       "  <thead>\n",
       "    <tr style=\"text-align: right;\">\n",
       "      <th></th>\n",
       "      <th>LabCount_total</th>\n",
       "      <th>LabCount_max</th>\n",
       "      <th>LabCount_min</th>\n",
       "      <th>LabCount_ave</th>\n",
       "      <th>LabCount_months</th>\n",
       "      <th>LabCount_std</th>\n",
       "      <th>DrugCount_total</th>\n",
       "      <th>DrugCount_max</th>\n",
       "      <th>DrugCount_min</th>\n",
       "      <th>DrugCount_ave</th>\n",
       "      <th>...</th>\n",
       "      <th>ProcedureGroup_Count_SRS</th>\n",
       "      <th>ProcedureGroup_Count_SUS</th>\n",
       "      <th>ProcedureGroup_Count_SO</th>\n",
       "      <th>ProcedureGroup_Count_SMCD</th>\n",
       "      <th>AgeAtFirstClaim</th>\n",
       "      <th>Male</th>\n",
       "      <th>Female</th>\n",
       "      <th>MissSex</th>\n",
       "      <th>MissAge</th>\n",
       "      <th>ClaimsTruncated</th>\n",
       "    </tr>\n",
       "  </thead>\n",
       "  <tbody>\n",
       "    <tr>\n",
       "      <th>0</th>\n",
       "      <td>2.0</td>\n",
       "      <td>2.0</td>\n",
       "      <td>2.0</td>\n",
       "      <td>2.0</td>\n",
       "      <td>1.0</td>\n",
       "      <td>-1.0</td>\n",
       "      <td>5.0</td>\n",
       "      <td>2.0</td>\n",
       "      <td>1.0</td>\n",
       "      <td>1.666667</td>\n",
       "      <td>...</td>\n",
       "      <td>0</td>\n",
       "      <td>0</td>\n",
       "      <td>0</td>\n",
       "      <td>0</td>\n",
       "      <td>35</td>\n",
       "      <td>0</td>\n",
       "      <td>0</td>\n",
       "      <td>1</td>\n",
       "      <td>0</td>\n",
       "      <td>0</td>\n",
       "    </tr>\n",
       "    <tr>\n",
       "      <th>1</th>\n",
       "      <td>1.0</td>\n",
       "      <td>1.0</td>\n",
       "      <td>1.0</td>\n",
       "      <td>1.0</td>\n",
       "      <td>1.0</td>\n",
       "      <td>-1.0</td>\n",
       "      <td>0.0</td>\n",
       "      <td>0.0</td>\n",
       "      <td>0.0</td>\n",
       "      <td>0.000000</td>\n",
       "      <td>...</td>\n",
       "      <td>0</td>\n",
       "      <td>0</td>\n",
       "      <td>0</td>\n",
       "      <td>0</td>\n",
       "      <td>35</td>\n",
       "      <td>0</td>\n",
       "      <td>0</td>\n",
       "      <td>1</td>\n",
       "      <td>0</td>\n",
       "      <td>0</td>\n",
       "    </tr>\n",
       "    <tr>\n",
       "      <th>3</th>\n",
       "      <td>10.0</td>\n",
       "      <td>10.0</td>\n",
       "      <td>10.0</td>\n",
       "      <td>10.0</td>\n",
       "      <td>1.0</td>\n",
       "      <td>-1.0</td>\n",
       "      <td>30.0</td>\n",
       "      <td>5.0</td>\n",
       "      <td>2.0</td>\n",
       "      <td>3.000000</td>\n",
       "      <td>...</td>\n",
       "      <td>0</td>\n",
       "      <td>0</td>\n",
       "      <td>0</td>\n",
       "      <td>0</td>\n",
       "      <td>45</td>\n",
       "      <td>0</td>\n",
       "      <td>1</td>\n",
       "      <td>0</td>\n",
       "      <td>0</td>\n",
       "      <td>0</td>\n",
       "    </tr>\n",
       "    <tr>\n",
       "      <th>4</th>\n",
       "      <td>3.0</td>\n",
       "      <td>3.0</td>\n",
       "      <td>3.0</td>\n",
       "      <td>3.0</td>\n",
       "      <td>1.0</td>\n",
       "      <td>-1.0</td>\n",
       "      <td>0.0</td>\n",
       "      <td>0.0</td>\n",
       "      <td>0.0</td>\n",
       "      <td>0.000000</td>\n",
       "      <td>...</td>\n",
       "      <td>0</td>\n",
       "      <td>0</td>\n",
       "      <td>0</td>\n",
       "      <td>0</td>\n",
       "      <td>15</td>\n",
       "      <td>0</td>\n",
       "      <td>1</td>\n",
       "      <td>0</td>\n",
       "      <td>0</td>\n",
       "      <td>0</td>\n",
       "    </tr>\n",
       "    <tr>\n",
       "      <th>5</th>\n",
       "      <td>3.0</td>\n",
       "      <td>3.0</td>\n",
       "      <td>3.0</td>\n",
       "      <td>3.0</td>\n",
       "      <td>1.0</td>\n",
       "      <td>-1.0</td>\n",
       "      <td>0.0</td>\n",
       "      <td>0.0</td>\n",
       "      <td>0.0</td>\n",
       "      <td>0.000000</td>\n",
       "      <td>...</td>\n",
       "      <td>0</td>\n",
       "      <td>0</td>\n",
       "      <td>0</td>\n",
       "      <td>0</td>\n",
       "      <td>15</td>\n",
       "      <td>0</td>\n",
       "      <td>1</td>\n",
       "      <td>0</td>\n",
       "      <td>0</td>\n",
       "      <td>0</td>\n",
       "    </tr>\n",
       "  </tbody>\n",
       "</table>\n",
       "<p>5 rows × 141 columns</p>\n",
       "</div>"
      ],
      "text/plain": [
       "   LabCount_total  LabCount_max  LabCount_min  LabCount_ave  LabCount_months  \\\n",
       "0             2.0           2.0           2.0           2.0              1.0   \n",
       "1             1.0           1.0           1.0           1.0              1.0   \n",
       "3            10.0          10.0          10.0          10.0              1.0   \n",
       "4             3.0           3.0           3.0           3.0              1.0   \n",
       "5             3.0           3.0           3.0           3.0              1.0   \n",
       "\n",
       "   LabCount_std  DrugCount_total  DrugCount_max  DrugCount_min  DrugCount_ave  \\\n",
       "0          -1.0              5.0            2.0            1.0       1.666667   \n",
       "1          -1.0              0.0            0.0            0.0       0.000000   \n",
       "3          -1.0             30.0            5.0            2.0       3.000000   \n",
       "4          -1.0              0.0            0.0            0.0       0.000000   \n",
       "5          -1.0              0.0            0.0            0.0       0.000000   \n",
       "\n",
       "   ...  ProcedureGroup_Count_SRS  ProcedureGroup_Count_SUS  \\\n",
       "0  ...                         0                         0   \n",
       "1  ...                         0                         0   \n",
       "3  ...                         0                         0   \n",
       "4  ...                         0                         0   \n",
       "5  ...                         0                         0   \n",
       "\n",
       "   ProcedureGroup_Count_SO  ProcedureGroup_Count_SMCD  AgeAtFirstClaim  Male  \\\n",
       "0                        0                          0               35     0   \n",
       "1                        0                          0               35     0   \n",
       "3                        0                          0               45     0   \n",
       "4                        0                          0               15     0   \n",
       "5                        0                          0               15     0   \n",
       "\n",
       "   Female  MissSex  MissAge  ClaimsTruncated  \n",
       "0       0        1        0                0  \n",
       "1       0        1        0                0  \n",
       "3       1        0        0                0  \n",
       "4       1        0        0                0  \n",
       "5       1        0        0                0  \n",
       "\n",
       "[5 rows x 141 columns]"
      ]
     },
     "execution_count": 8,
     "metadata": {},
     "output_type": "execute_result"
    }
   ],
   "source": [
    "X.head()"
   ]
  },
  {
   "cell_type": "code",
   "execution_count": 9,
   "metadata": {
    "ExecuteTime": {
     "end_time": "2020-12-18T09:23:33.894164Z",
     "start_time": "2020-12-18T09:23:33.728576Z"
    }
   },
   "outputs": [
    {
     "name": "stdout",
     "output_type": "stream",
     "text": [
      "                                         Total  Percent\n",
      "ClaimsTruncated                              0      0.0\n",
      "no_PrimaryConditionGroup_Specialty           0      0.0\n",
      "Specialty_Count_Surgery                      0      0.0\n",
      "CharlsonIndex_range                          0      0.0\n",
      "DSFS_range                                   0      0.0\n",
      "no_PrimaryConditionGroup_PlaceSvc            0      0.0\n",
      "no_ProcedureGroup_PrimaryConditionGroup      0      0.0\n",
      "no_ProcedureGroup_Specialty                  0      0.0\n",
      "CharlsonIndex_std                            0      0.0\n",
      "Specialty_Count_Laboratory                   0      0.0\n",
      "CharlsonIndex_ave                            0      0.0\n",
      "CharlsonIndex_min                            0      0.0\n",
      "CharlsonIndex_max                            0      0.0\n",
      "CharlsonIndex_sum                            0      0.0\n",
      "DSFS_std                                     0      0.0\n",
      "DSFS_ave                                     0      0.0\n",
      "Specialty_Count_Internal                     0      0.0\n",
      "Specialty_Count_Pediatrics                   0      0.0\n",
      "PlaceSvc_Count_Unknown                       0      0.0\n",
      "Specialty_Count_Unknown                      0      0.0\n"
     ]
    },
    {
     "data": {
      "text/html": [
       "<div>\n",
       "<style scoped>\n",
       "    .dataframe tbody tr th:only-of-type {\n",
       "        vertical-align: middle;\n",
       "    }\n",
       "\n",
       "    .dataframe tbody tr th {\n",
       "        vertical-align: top;\n",
       "    }\n",
       "\n",
       "    .dataframe thead th {\n",
       "        text-align: right;\n",
       "    }\n",
       "</style>\n",
       "<table border=\"1\" class=\"dataframe\">\n",
       "  <thead>\n",
       "    <tr style=\"text-align: right;\">\n",
       "      <th></th>\n",
       "      <th>Total</th>\n",
       "      <th>Percent</th>\n",
       "    </tr>\n",
       "  </thead>\n",
       "  <tbody>\n",
       "    <tr>\n",
       "      <th>ClaimsTruncated</th>\n",
       "      <td>0</td>\n",
       "      <td>0.0</td>\n",
       "    </tr>\n",
       "    <tr>\n",
       "      <th>no_PrimaryConditionGroup_Specialty</th>\n",
       "      <td>0</td>\n",
       "      <td>0.0</td>\n",
       "    </tr>\n",
       "    <tr>\n",
       "      <th>Specialty_Count_Surgery</th>\n",
       "      <td>0</td>\n",
       "      <td>0.0</td>\n",
       "    </tr>\n",
       "    <tr>\n",
       "      <th>CharlsonIndex_range</th>\n",
       "      <td>0</td>\n",
       "      <td>0.0</td>\n",
       "    </tr>\n",
       "    <tr>\n",
       "      <th>DSFS_range</th>\n",
       "      <td>0</td>\n",
       "      <td>0.0</td>\n",
       "    </tr>\n",
       "    <tr>\n",
       "      <th>...</th>\n",
       "      <td>...</td>\n",
       "      <td>...</td>\n",
       "    </tr>\n",
       "    <tr>\n",
       "      <th>PrimaryConditionGroup_Count_ODaBNCA</th>\n",
       "      <td>0</td>\n",
       "      <td>0.0</td>\n",
       "    </tr>\n",
       "    <tr>\n",
       "      <th>PrimaryConditionGroup_Count_HEMTOL</th>\n",
       "      <td>0</td>\n",
       "      <td>0.0</td>\n",
       "    </tr>\n",
       "    <tr>\n",
       "      <th>PrimaryConditionGroup_Count_GYNECA</th>\n",
       "      <td>0</td>\n",
       "      <td>0.0</td>\n",
       "    </tr>\n",
       "    <tr>\n",
       "      <th>PrimaryConditionGroup_Count_APPCHOL</th>\n",
       "      <td>0</td>\n",
       "      <td>0.0</td>\n",
       "    </tr>\n",
       "    <tr>\n",
       "      <th>LabCount_total</th>\n",
       "      <td>0</td>\n",
       "      <td>0.0</td>\n",
       "    </tr>\n",
       "  </tbody>\n",
       "</table>\n",
       "<p>141 rows × 2 columns</p>\n",
       "</div>"
      ],
      "text/plain": [
       "                                     Total  Percent\n",
       "ClaimsTruncated                          0      0.0\n",
       "no_PrimaryConditionGroup_Specialty       0      0.0\n",
       "Specialty_Count_Surgery                  0      0.0\n",
       "CharlsonIndex_range                      0      0.0\n",
       "DSFS_range                               0      0.0\n",
       "...                                    ...      ...\n",
       "PrimaryConditionGroup_Count_ODaBNCA      0      0.0\n",
       "PrimaryConditionGroup_Count_HEMTOL       0      0.0\n",
       "PrimaryConditionGroup_Count_GYNECA       0      0.0\n",
       "PrimaryConditionGroup_Count_APPCHOL      0      0.0\n",
       "LabCount_total                           0      0.0\n",
       "\n",
       "[141 rows x 2 columns]"
      ]
     },
     "execution_count": 9,
     "metadata": {},
     "output_type": "execute_result"
    }
   ],
   "source": [
    "count_missing(X)"
   ]
  },
  {
   "cell_type": "code",
   "execution_count": 10,
   "metadata": {
    "ExecuteTime": {
     "end_time": "2020-12-18T09:23:37.282694Z",
     "start_time": "2020-12-18T09:23:36.656730Z"
    }
   },
   "outputs": [],
   "source": [
    "from sklearn.preprocessing import MinMaxScaler, StandardScaler\n",
    "\n",
    "scaler = StandardScaler().fit(X)\n",
    "X_scl = scaler.transform(X)"
   ]
  },
  {
   "cell_type": "code",
   "execution_count": 11,
   "metadata": {
    "ExecuteTime": {
     "end_time": "2020-12-18T09:23:39.413897Z",
     "start_time": "2020-12-18T09:23:39.136639Z"
    }
   },
   "outputs": [],
   "source": [
    "X_train, X_test, y_train, y_test = train_test_split(X_scl, y, test_size=0.3, random_state=123)"
   ]
  },
  {
   "cell_type": "code",
   "execution_count": 12,
   "metadata": {
    "ExecuteTime": {
     "end_time": "2020-12-18T09:23:44.460390Z",
     "start_time": "2020-12-18T09:23:44.456400Z"
    }
   },
   "outputs": [],
   "source": [
    "def eval(model, X_test, y_test):\n",
    "    y_pred = model.predict(X_test) # your predicted y values\n",
    "    y_pred_int64 = y_pred.round(0).astype(int)\n",
    "    # The root mean square logarithmic error\n",
    "    msle = np.mean((np.log(y_pred_int64 + 1) - np.log(y_test + 1)) ** 2)\n",
    "    rmsle = math.sqrt(msle)\n",
    "    \n",
    "    print (\"RMSLE: %.4f\" % rmsle)\n",
    "    from sklearn.metrics import r2_score\n",
    "    r2 = r2_score(y_pred, y_test)\n",
    "    print (\"R2 value: %.4f\" % r2)\n",
    "    return rmsle, r2"
   ]
  },
  {
   "cell_type": "code",
   "execution_count": 13,
   "metadata": {
    "ExecuteTime": {
     "end_time": "2020-12-18T09:23:47.864351Z",
     "start_time": "2020-12-18T09:23:46.904600Z"
    }
   },
   "outputs": [
    {
     "data": {
      "text/plain": [
       "LinearRegression()"
      ]
     },
     "execution_count": 13,
     "metadata": {},
     "output_type": "execute_result"
    }
   ],
   "source": [
    "from sklearn.linear_model import LinearRegression\n",
    "regr = LinearRegression()\n",
    "regr.fit(X_train, y_train)"
   ]
  },
  {
   "cell_type": "code",
   "execution_count": 14,
   "metadata": {
    "ExecuteTime": {
     "end_time": "2020-12-18T09:23:50.285029Z",
     "start_time": "2020-12-18T09:23:50.272061Z"
    }
   },
   "outputs": [],
   "source": [
    "y_pred = regr.predict(X_test)"
   ]
  },
  {
   "cell_type": "code",
   "execution_count": 15,
   "metadata": {
    "ExecuteTime": {
     "end_time": "2020-12-18T09:24:00.421057Z",
     "start_time": "2020-12-18T09:24:00.407095Z"
    }
   },
   "outputs": [
    {
     "data": {
      "text/plain": [
       "array([0.08126748, 0.082183  , 1.60128701, ..., 0.51156533, 0.43575966,\n",
       "       0.7250663 ])"
      ]
     },
     "execution_count": 15,
     "metadata": {},
     "output_type": "execute_result"
    }
   ],
   "source": [
    "y_pred"
   ]
  },
  {
   "cell_type": "code",
   "execution_count": 16,
   "metadata": {
    "ExecuteTime": {
     "end_time": "2020-12-18T09:24:02.740581Z",
     "start_time": "2020-12-18T09:24:02.720637Z"
    }
   },
   "outputs": [
    {
     "name": "stdout",
     "output_type": "stream",
     "text": [
      "RMSLE: inf\n",
      "R2 value: -0.0000\n"
     ]
    },
    {
     "name": "stderr",
     "output_type": "stream",
     "text": [
      "c:\\users\\radio_pc\\.conda\\envs\\bml3.6\\lib\\site-packages\\ipykernel_launcher.py:5: RuntimeWarning: divide by zero encountered in log\n",
      "  \"\"\"\n",
      "c:\\users\\radio_pc\\.conda\\envs\\bml3.6\\lib\\site-packages\\ipykernel_launcher.py:5: RuntimeWarning: invalid value encountered in log\n",
      "  \"\"\"\n"
     ]
    },
    {
     "data": {
      "text/plain": [
       "(inf, -2.2603467298321078e-05)"
      ]
     },
     "execution_count": 16,
     "metadata": {},
     "output_type": "execute_result"
    }
   ],
   "source": [
    "eval(regr, X_test, y_test)"
   ]
  },
  {
   "cell_type": "code",
   "execution_count": 17,
   "metadata": {
    "ExecuteTime": {
     "end_time": "2020-12-18T09:24:12.920340Z",
     "start_time": "2020-12-18T09:24:12.880445Z"
    }
   },
   "outputs": [
    {
     "data": {
      "text/plain": [
       "count    0.0\n",
       "mean     NaN\n",
       "std      NaN\n",
       "min      NaN\n",
       "25%      NaN\n",
       "50%      NaN\n",
       "75%      NaN\n",
       "max      NaN\n",
       "Name: TARGET, dtype: float64"
      ]
     },
     "execution_count": 17,
     "metadata": {},
     "output_type": "execute_result"
    }
   ],
   "source": [
    "#Data submit \n",
    "#df_target.drop(\"MemberID\", axis = 1, inplace = True)\n",
    "#df_target.drop(\"Year\", axis = 1, inplace = True)\n",
    "#df_target.drop(\"trainset\", axis = 1, inplace = True)\n",
    "m = (df_target.columns != 'TARGET') & (df_target.columns != 'MemberID') & (df_target.columns != 'Year') & (df_target.columns != 'trainset')\n",
    "X_submit = df_target.loc[:, m]\n",
    "y_submit = df_target['TARGET']\n",
    "y_submit.describe()"
   ]
  },
  {
   "cell_type": "code",
   "execution_count": 18,
   "metadata": {
    "ExecuteTime": {
     "end_time": "2020-12-18T09:24:15.145982Z",
     "start_time": "2020-12-18T09:24:15.060183Z"
    }
   },
   "outputs": [
    {
     "name": "stdout",
     "output_type": "stream",
     "text": [
      "                                         Total  Percent\n",
      "ClaimsTruncated                              0      0.0\n",
      "no_PrimaryConditionGroup_Specialty           0      0.0\n",
      "Specialty_Count_Surgery                      0      0.0\n",
      "CharlsonIndex_range                          0      0.0\n",
      "DSFS_range                                   0      0.0\n",
      "no_PrimaryConditionGroup_PlaceSvc            0      0.0\n",
      "no_ProcedureGroup_PrimaryConditionGroup      0      0.0\n",
      "no_ProcedureGroup_Specialty                  0      0.0\n",
      "CharlsonIndex_std                            0      0.0\n",
      "Specialty_Count_Laboratory                   0      0.0\n",
      "CharlsonIndex_ave                            0      0.0\n",
      "CharlsonIndex_min                            0      0.0\n",
      "CharlsonIndex_max                            0      0.0\n",
      "CharlsonIndex_sum                            0      0.0\n",
      "DSFS_std                                     0      0.0\n",
      "DSFS_ave                                     0      0.0\n",
      "Specialty_Count_Internal                     0      0.0\n",
      "Specialty_Count_Pediatrics                   0      0.0\n",
      "PlaceSvc_Count_Unknown                       0      0.0\n",
      "Specialty_Count_Unknown                      0      0.0\n"
     ]
    },
    {
     "data": {
      "text/html": [
       "<div>\n",
       "<style scoped>\n",
       "    .dataframe tbody tr th:only-of-type {\n",
       "        vertical-align: middle;\n",
       "    }\n",
       "\n",
       "    .dataframe tbody tr th {\n",
       "        vertical-align: top;\n",
       "    }\n",
       "\n",
       "    .dataframe thead th {\n",
       "        text-align: right;\n",
       "    }\n",
       "</style>\n",
       "<table border=\"1\" class=\"dataframe\">\n",
       "  <thead>\n",
       "    <tr style=\"text-align: right;\">\n",
       "      <th></th>\n",
       "      <th>Total</th>\n",
       "      <th>Percent</th>\n",
       "    </tr>\n",
       "  </thead>\n",
       "  <tbody>\n",
       "    <tr>\n",
       "      <th>ClaimsTruncated</th>\n",
       "      <td>0</td>\n",
       "      <td>0.0</td>\n",
       "    </tr>\n",
       "    <tr>\n",
       "      <th>no_PrimaryConditionGroup_Specialty</th>\n",
       "      <td>0</td>\n",
       "      <td>0.0</td>\n",
       "    </tr>\n",
       "    <tr>\n",
       "      <th>Specialty_Count_Surgery</th>\n",
       "      <td>0</td>\n",
       "      <td>0.0</td>\n",
       "    </tr>\n",
       "    <tr>\n",
       "      <th>CharlsonIndex_range</th>\n",
       "      <td>0</td>\n",
       "      <td>0.0</td>\n",
       "    </tr>\n",
       "    <tr>\n",
       "      <th>DSFS_range</th>\n",
       "      <td>0</td>\n",
       "      <td>0.0</td>\n",
       "    </tr>\n",
       "    <tr>\n",
       "      <th>...</th>\n",
       "      <td>...</td>\n",
       "      <td>...</td>\n",
       "    </tr>\n",
       "    <tr>\n",
       "      <th>PrimaryConditionGroup_Count_ODaBNCA</th>\n",
       "      <td>0</td>\n",
       "      <td>0.0</td>\n",
       "    </tr>\n",
       "    <tr>\n",
       "      <th>PrimaryConditionGroup_Count_HEMTOL</th>\n",
       "      <td>0</td>\n",
       "      <td>0.0</td>\n",
       "    </tr>\n",
       "    <tr>\n",
       "      <th>PrimaryConditionGroup_Count_GYNECA</th>\n",
       "      <td>0</td>\n",
       "      <td>0.0</td>\n",
       "    </tr>\n",
       "    <tr>\n",
       "      <th>PrimaryConditionGroup_Count_APPCHOL</th>\n",
       "      <td>0</td>\n",
       "      <td>0.0</td>\n",
       "    </tr>\n",
       "    <tr>\n",
       "      <th>LabCount_total</th>\n",
       "      <td>0</td>\n",
       "      <td>0.0</td>\n",
       "    </tr>\n",
       "  </tbody>\n",
       "</table>\n",
       "<p>141 rows × 2 columns</p>\n",
       "</div>"
      ],
      "text/plain": [
       "                                     Total  Percent\n",
       "ClaimsTruncated                          0      0.0\n",
       "no_PrimaryConditionGroup_Specialty       0      0.0\n",
       "Specialty_Count_Surgery                  0      0.0\n",
       "CharlsonIndex_range                      0      0.0\n",
       "DSFS_range                               0      0.0\n",
       "...                                    ...      ...\n",
       "PrimaryConditionGroup_Count_ODaBNCA      0      0.0\n",
       "PrimaryConditionGroup_Count_HEMTOL       0      0.0\n",
       "PrimaryConditionGroup_Count_GYNECA       0      0.0\n",
       "PrimaryConditionGroup_Count_APPCHOL      0      0.0\n",
       "LabCount_total                           0      0.0\n",
       "\n",
       "[141 rows x 2 columns]"
      ]
     },
     "execution_count": 18,
     "metadata": {},
     "output_type": "execute_result"
    }
   ],
   "source": [
    "count_missing(X_submit)"
   ]
  },
  {
   "cell_type": "code",
   "execution_count": 19,
   "metadata": {
    "ExecuteTime": {
     "end_time": "2020-12-18T09:24:18.660945Z",
     "start_time": "2020-12-18T09:24:18.569075Z"
    }
   },
   "outputs": [],
   "source": [
    "X_submit_scl = scaler.transform(X_submit)"
   ]
  },
  {
   "cell_type": "code",
   "execution_count": 20,
   "metadata": {
    "ExecuteTime": {
     "end_time": "2020-12-18T09:24:21.485028Z",
     "start_time": "2020-12-18T09:24:21.304510Z"
    }
   },
   "outputs": [],
   "source": [
    "y_pred_submit = regr.predict(X_submit_scl)\n",
    "\n",
    "submission = pd.DataFrame()\n",
    "submission['MemberID'] = df_target['MemberID']\n",
    "\n",
    "y_pred_submit = y_pred_submit.clip(min=0)\n",
    "y_pred_submit = y_pred_submit.clip(max=15)\n",
    "# pred_y = pred_y.astype(int)\n",
    "\n",
    "submission['DIH'] = y_pred_submit\n",
    "submission.groupby(['DIH']).size()\n",
    "submission.to_csv('../4.Evaluation/linear.csv',index=False)"
   ]
  },
  {
   "cell_type": "code",
   "execution_count": 21,
   "metadata": {
    "ExecuteTime": {
     "end_time": "2020-12-18T09:24:24.215457Z",
     "start_time": "2020-12-18T09:24:24.200470Z"
    }
   },
   "outputs": [
    {
     "data": {
      "text/plain": [
       "DIH\n",
       "0.000000    2304\n",
       "0.000019       1\n",
       "0.000043       2\n",
       "0.000141       1\n",
       "0.000165       4\n",
       "            ... \n",
       "3.919026       1\n",
       "3.940757       1\n",
       "3.973743       1\n",
       "4.235970       1\n",
       "4.687651       1\n",
       "Length: 57738, dtype: int64"
      ]
     },
     "execution_count": 21,
     "metadata": {},
     "output_type": "execute_result"
    }
   ],
   "source": [
    "submission.groupby(['DIH']).size()"
   ]
  },
  {
   "cell_type": "code",
   "execution_count": 22,
   "metadata": {
    "ExecuteTime": {
     "end_time": "2020-12-18T09:24:26.652546Z",
     "start_time": "2020-12-18T09:24:26.648529Z"
    }
   },
   "outputs": [],
   "source": [
    "from sklearn.linear_model import Ridge"
   ]
  },
  {
   "cell_type": "code",
   "execution_count": 23,
   "metadata": {
    "ExecuteTime": {
     "end_time": "2020-12-18T09:24:28.907388Z",
     "start_time": "2020-12-18T09:24:28.904396Z"
    }
   },
   "outputs": [],
   "source": [
    "ridge = Ridge(alpha=0.0154159369284227, normalize=True)"
   ]
  },
  {
   "cell_type": "code",
   "execution_count": 24,
   "metadata": {
    "ExecuteTime": {
     "end_time": "2020-12-18T09:24:29.960266Z",
     "start_time": "2020-12-18T09:24:29.704963Z"
    }
   },
   "outputs": [
    {
     "data": {
      "text/plain": [
       "Ridge(alpha=0.0154159369284227, normalize=True)"
      ]
     },
     "execution_count": 24,
     "metadata": {},
     "output_type": "execute_result"
    }
   ],
   "source": [
    "ridge.fit(X_train, y_train)"
   ]
  },
  {
   "cell_type": "code",
   "execution_count": 25,
   "metadata": {
    "ExecuteTime": {
     "end_time": "2020-12-18T09:24:31.778774Z",
     "start_time": "2020-12-18T09:24:31.752840Z"
    }
   },
   "outputs": [
    {
     "data": {
      "text/plain": [
       "0.08031983687680355"
      ]
     },
     "execution_count": 25,
     "metadata": {},
     "output_type": "execute_result"
    }
   ],
   "source": [
    "ridge.score(X_train,y_train)"
   ]
  },
  {
   "cell_type": "code",
   "execution_count": 26,
   "metadata": {
    "ExecuteTime": {
     "end_time": "2020-12-18T09:24:36.001359Z",
     "start_time": "2020-12-18T09:24:35.984402Z"
    }
   },
   "outputs": [
    {
     "data": {
      "text/plain": [
       "-0.02846826376226841"
      ]
     },
     "execution_count": 26,
     "metadata": {},
     "output_type": "execute_result"
    }
   ],
   "source": [
    "ridge.score(X_test, y_test)"
   ]
  },
  {
   "cell_type": "code",
   "execution_count": 27,
   "metadata": {
    "ExecuteTime": {
     "end_time": "2020-12-18T09:24:39.465278Z",
     "start_time": "2020-12-18T09:24:39.432339Z"
    }
   },
   "outputs": [
    {
     "name": "stdout",
     "output_type": "stream",
     "text": [
      "RMSLE: inf\n",
      "R2 value: -10.7979\n"
     ]
    },
    {
     "name": "stderr",
     "output_type": "stream",
     "text": [
      "c:\\users\\radio_pc\\.conda\\envs\\bml3.6\\lib\\site-packages\\ipykernel_launcher.py:5: RuntimeWarning: divide by zero encountered in log\n",
      "  \"\"\"\n",
      "c:\\users\\radio_pc\\.conda\\envs\\bml3.6\\lib\\site-packages\\ipykernel_launcher.py:5: RuntimeWarning: invalid value encountered in log\n",
      "  \"\"\"\n"
     ]
    }
   ],
   "source": [
    "rmsle, r2 = eval(ridge, X_train, y_train)"
   ]
  },
  {
   "cell_type": "code",
   "execution_count": 28,
   "metadata": {
    "ExecuteTime": {
     "end_time": "2020-12-18T09:24:41.442086Z",
     "start_time": "2020-12-18T09:24:41.425131Z"
    }
   },
   "outputs": [
    {
     "name": "stdout",
     "output_type": "stream",
     "text": [
      "RMSLE: inf\n",
      "R2 value: -5.0225\n"
     ]
    },
    {
     "name": "stderr",
     "output_type": "stream",
     "text": [
      "c:\\users\\radio_pc\\.conda\\envs\\bml3.6\\lib\\site-packages\\ipykernel_launcher.py:5: RuntimeWarning: divide by zero encountered in log\n",
      "  \"\"\"\n",
      "c:\\users\\radio_pc\\.conda\\envs\\bml3.6\\lib\\site-packages\\ipykernel_launcher.py:5: RuntimeWarning: invalid value encountered in log\n",
      "  \"\"\"\n"
     ]
    }
   ],
   "source": [
    "rmsle, r2 = eval(ridge, X_test, y_test)"
   ]
  },
  {
   "cell_type": "code",
   "execution_count": 29,
   "metadata": {
    "ExecuteTime": {
     "end_time": "2020-12-18T09:24:44.500081Z",
     "start_time": "2020-12-18T09:24:44.496061Z"
    }
   },
   "outputs": [],
   "source": [
    "alphas = np.logspace(-10, 1, 400)"
   ]
  },
  {
   "cell_type": "code",
   "execution_count": 30,
   "metadata": {
    "ExecuteTime": {
     "end_time": "2020-12-18T09:26:13.551291Z",
     "start_time": "2020-12-18T09:24:45.516047Z"
    },
    "scrolled": true
   },
   "outputs": [
    {
     "name": "stderr",
     "output_type": "stream",
     "text": [
      "c:\\users\\radio_pc\\.conda\\envs\\bml3.6\\lib\\site-packages\\ipykernel_launcher.py:5: RuntimeWarning: divide by zero encountered in log\n",
      "  \"\"\"\n",
      "c:\\users\\radio_pc\\.conda\\envs\\bml3.6\\lib\\site-packages\\ipykernel_launcher.py:5: RuntimeWarning: invalid value encountered in log\n",
      "  \"\"\"\n",
      "c:\\users\\radio_pc\\.conda\\envs\\bml3.6\\lib\\site-packages\\ipykernel_launcher.py:5: RuntimeWarning: divide by zero encountered in log\n",
      "  \"\"\"\n",
      "c:\\users\\radio_pc\\.conda\\envs\\bml3.6\\lib\\site-packages\\ipykernel_launcher.py:5: RuntimeWarning: invalid value encountered in log\n",
      "  \"\"\"\n"
     ]
    },
    {
     "name": "stdout",
     "output_type": "stream",
     "text": [
      "RMSLE: inf\n",
      "R2 value: -10.4162\n",
      "RMSLE: inf\n",
      "R2 value: -6.2428\n"
     ]
    },
    {
     "name": "stderr",
     "output_type": "stream",
     "text": [
      "c:\\users\\radio_pc\\.conda\\envs\\bml3.6\\lib\\site-packages\\ipykernel_launcher.py:5: RuntimeWarning: divide by zero encountered in log\n",
      "  \"\"\"\n",
      "c:\\users\\radio_pc\\.conda\\envs\\bml3.6\\lib\\site-packages\\ipykernel_launcher.py:5: RuntimeWarning: invalid value encountered in log\n",
      "  \"\"\"\n",
      "c:\\users\\radio_pc\\.conda\\envs\\bml3.6\\lib\\site-packages\\ipykernel_launcher.py:5: RuntimeWarning: divide by zero encountered in log\n",
      "  \"\"\"\n",
      "c:\\users\\radio_pc\\.conda\\envs\\bml3.6\\lib\\site-packages\\ipykernel_launcher.py:5: RuntimeWarning: invalid value encountered in log\n",
      "  \"\"\"\n"
     ]
    },
    {
     "name": "stdout",
     "output_type": "stream",
     "text": [
      "RMSLE: inf\n",
      "R2 value: -10.4162\n",
      "RMSLE: inf\n",
      "R2 value: -6.2433\n"
     ]
    },
    {
     "name": "stderr",
     "output_type": "stream",
     "text": [
      "c:\\users\\radio_pc\\.conda\\envs\\bml3.6\\lib\\site-packages\\ipykernel_launcher.py:5: RuntimeWarning: divide by zero encountered in log\n",
      "  \"\"\"\n",
      "c:\\users\\radio_pc\\.conda\\envs\\bml3.6\\lib\\site-packages\\ipykernel_launcher.py:5: RuntimeWarning: invalid value encountered in log\n",
      "  \"\"\"\n",
      "c:\\users\\radio_pc\\.conda\\envs\\bml3.6\\lib\\site-packages\\ipykernel_launcher.py:5: RuntimeWarning: divide by zero encountered in log\n",
      "  \"\"\"\n",
      "c:\\users\\radio_pc\\.conda\\envs\\bml3.6\\lib\\site-packages\\ipykernel_launcher.py:5: RuntimeWarning: invalid value encountered in log\n",
      "  \"\"\"\n"
     ]
    },
    {
     "name": "stdout",
     "output_type": "stream",
     "text": [
      "RMSLE: inf\n",
      "R2 value: -10.4162\n",
      "RMSLE: inf\n",
      "R2 value: -6.2435\n"
     ]
    },
    {
     "name": "stderr",
     "output_type": "stream",
     "text": [
      "c:\\users\\radio_pc\\.conda\\envs\\bml3.6\\lib\\site-packages\\ipykernel_launcher.py:5: RuntimeWarning: divide by zero encountered in log\n",
      "  \"\"\"\n",
      "c:\\users\\radio_pc\\.conda\\envs\\bml3.6\\lib\\site-packages\\ipykernel_launcher.py:5: RuntimeWarning: invalid value encountered in log\n",
      "  \"\"\"\n",
      "c:\\users\\radio_pc\\.conda\\envs\\bml3.6\\lib\\site-packages\\ipykernel_launcher.py:5: RuntimeWarning: divide by zero encountered in log\n",
      "  \"\"\"\n",
      "c:\\users\\radio_pc\\.conda\\envs\\bml3.6\\lib\\site-packages\\ipykernel_launcher.py:5: RuntimeWarning: invalid value encountered in log\n",
      "  \"\"\"\n"
     ]
    },
    {
     "name": "stdout",
     "output_type": "stream",
     "text": [
      "RMSLE: inf\n",
      "R2 value: -10.4162\n",
      "RMSLE: inf\n",
      "R2 value: -6.2439\n"
     ]
    },
    {
     "name": "stderr",
     "output_type": "stream",
     "text": [
      "c:\\users\\radio_pc\\.conda\\envs\\bml3.6\\lib\\site-packages\\ipykernel_launcher.py:5: RuntimeWarning: divide by zero encountered in log\n",
      "  \"\"\"\n",
      "c:\\users\\radio_pc\\.conda\\envs\\bml3.6\\lib\\site-packages\\ipykernel_launcher.py:5: RuntimeWarning: invalid value encountered in log\n",
      "  \"\"\"\n",
      "c:\\users\\radio_pc\\.conda\\envs\\bml3.6\\lib\\site-packages\\ipykernel_launcher.py:5: RuntimeWarning: divide by zero encountered in log\n",
      "  \"\"\"\n",
      "c:\\users\\radio_pc\\.conda\\envs\\bml3.6\\lib\\site-packages\\ipykernel_launcher.py:5: RuntimeWarning: invalid value encountered in log\n",
      "  \"\"\"\n"
     ]
    },
    {
     "name": "stdout",
     "output_type": "stream",
     "text": [
      "RMSLE: inf\n",
      "R2 value: -10.4162\n",
      "RMSLE: inf\n",
      "R2 value: -6.2442\n"
     ]
    },
    {
     "name": "stderr",
     "output_type": "stream",
     "text": [
      "c:\\users\\radio_pc\\.conda\\envs\\bml3.6\\lib\\site-packages\\ipykernel_launcher.py:5: RuntimeWarning: divide by zero encountered in log\n",
      "  \"\"\"\n",
      "c:\\users\\radio_pc\\.conda\\envs\\bml3.6\\lib\\site-packages\\ipykernel_launcher.py:5: RuntimeWarning: invalid value encountered in log\n",
      "  \"\"\"\n",
      "c:\\users\\radio_pc\\.conda\\envs\\bml3.6\\lib\\site-packages\\ipykernel_launcher.py:5: RuntimeWarning: divide by zero encountered in log\n",
      "  \"\"\"\n",
      "c:\\users\\radio_pc\\.conda\\envs\\bml3.6\\lib\\site-packages\\ipykernel_launcher.py:5: RuntimeWarning: invalid value encountered in log\n",
      "  \"\"\"\n"
     ]
    },
    {
     "name": "stdout",
     "output_type": "stream",
     "text": [
      "RMSLE: inf\n",
      "R2 value: -10.4162\n",
      "RMSLE: inf\n",
      "R2 value: -6.2445\n"
     ]
    },
    {
     "name": "stderr",
     "output_type": "stream",
     "text": [
      "c:\\users\\radio_pc\\.conda\\envs\\bml3.6\\lib\\site-packages\\ipykernel_launcher.py:5: RuntimeWarning: divide by zero encountered in log\n",
      "  \"\"\"\n",
      "c:\\users\\radio_pc\\.conda\\envs\\bml3.6\\lib\\site-packages\\ipykernel_launcher.py:5: RuntimeWarning: invalid value encountered in log\n",
      "  \"\"\"\n",
      "c:\\users\\radio_pc\\.conda\\envs\\bml3.6\\lib\\site-packages\\ipykernel_launcher.py:5: RuntimeWarning: divide by zero encountered in log\n",
      "  \"\"\"\n",
      "c:\\users\\radio_pc\\.conda\\envs\\bml3.6\\lib\\site-packages\\ipykernel_launcher.py:5: RuntimeWarning: invalid value encountered in log\n",
      "  \"\"\"\n"
     ]
    },
    {
     "name": "stdout",
     "output_type": "stream",
     "text": [
      "RMSLE: inf\n",
      "R2 value: -10.4162\n",
      "RMSLE: inf\n",
      "R2 value: -6.2448\n"
     ]
    },
    {
     "name": "stderr",
     "output_type": "stream",
     "text": [
      "c:\\users\\radio_pc\\.conda\\envs\\bml3.6\\lib\\site-packages\\ipykernel_launcher.py:5: RuntimeWarning: divide by zero encountered in log\n",
      "  \"\"\"\n",
      "c:\\users\\radio_pc\\.conda\\envs\\bml3.6\\lib\\site-packages\\ipykernel_launcher.py:5: RuntimeWarning: invalid value encountered in log\n",
      "  \"\"\"\n",
      "c:\\users\\radio_pc\\.conda\\envs\\bml3.6\\lib\\site-packages\\ipykernel_launcher.py:5: RuntimeWarning: divide by zero encountered in log\n",
      "  \"\"\"\n",
      "c:\\users\\radio_pc\\.conda\\envs\\bml3.6\\lib\\site-packages\\ipykernel_launcher.py:5: RuntimeWarning: invalid value encountered in log\n",
      "  \"\"\"\n"
     ]
    },
    {
     "name": "stdout",
     "output_type": "stream",
     "text": [
      "RMSLE: inf\n",
      "R2 value: -10.4162\n",
      "RMSLE: inf\n",
      "R2 value: -6.2451\n"
     ]
    },
    {
     "name": "stderr",
     "output_type": "stream",
     "text": [
      "c:\\users\\radio_pc\\.conda\\envs\\bml3.6\\lib\\site-packages\\ipykernel_launcher.py:5: RuntimeWarning: divide by zero encountered in log\n",
      "  \"\"\"\n",
      "c:\\users\\radio_pc\\.conda\\envs\\bml3.6\\lib\\site-packages\\ipykernel_launcher.py:5: RuntimeWarning: invalid value encountered in log\n",
      "  \"\"\"\n",
      "c:\\users\\radio_pc\\.conda\\envs\\bml3.6\\lib\\site-packages\\ipykernel_launcher.py:5: RuntimeWarning: divide by zero encountered in log\n",
      "  \"\"\"\n",
      "c:\\users\\radio_pc\\.conda\\envs\\bml3.6\\lib\\site-packages\\ipykernel_launcher.py:5: RuntimeWarning: invalid value encountered in log\n",
      "  \"\"\"\n"
     ]
    },
    {
     "name": "stdout",
     "output_type": "stream",
     "text": [
      "RMSLE: inf\n",
      "R2 value: -10.4162\n",
      "RMSLE: inf\n",
      "R2 value: -6.2453\n"
     ]
    },
    {
     "name": "stderr",
     "output_type": "stream",
     "text": [
      "c:\\users\\radio_pc\\.conda\\envs\\bml3.6\\lib\\site-packages\\ipykernel_launcher.py:5: RuntimeWarning: divide by zero encountered in log\n",
      "  \"\"\"\n",
      "c:\\users\\radio_pc\\.conda\\envs\\bml3.6\\lib\\site-packages\\ipykernel_launcher.py:5: RuntimeWarning: invalid value encountered in log\n",
      "  \"\"\"\n",
      "c:\\users\\radio_pc\\.conda\\envs\\bml3.6\\lib\\site-packages\\ipykernel_launcher.py:5: RuntimeWarning: divide by zero encountered in log\n",
      "  \"\"\"\n",
      "c:\\users\\radio_pc\\.conda\\envs\\bml3.6\\lib\\site-packages\\ipykernel_launcher.py:5: RuntimeWarning: invalid value encountered in log\n",
      "  \"\"\"\n"
     ]
    },
    {
     "name": "stdout",
     "output_type": "stream",
     "text": [
      "RMSLE: inf\n",
      "R2 value: -10.4162\n",
      "RMSLE: inf\n",
      "R2 value: -6.2455\n"
     ]
    },
    {
     "name": "stderr",
     "output_type": "stream",
     "text": [
      "c:\\users\\radio_pc\\.conda\\envs\\bml3.6\\lib\\site-packages\\ipykernel_launcher.py:5: RuntimeWarning: divide by zero encountered in log\n",
      "  \"\"\"\n",
      "c:\\users\\radio_pc\\.conda\\envs\\bml3.6\\lib\\site-packages\\ipykernel_launcher.py:5: RuntimeWarning: invalid value encountered in log\n",
      "  \"\"\"\n",
      "c:\\users\\radio_pc\\.conda\\envs\\bml3.6\\lib\\site-packages\\ipykernel_launcher.py:5: RuntimeWarning: divide by zero encountered in log\n",
      "  \"\"\"\n",
      "c:\\users\\radio_pc\\.conda\\envs\\bml3.6\\lib\\site-packages\\ipykernel_launcher.py:5: RuntimeWarning: invalid value encountered in log\n",
      "  \"\"\"\n"
     ]
    },
    {
     "name": "stdout",
     "output_type": "stream",
     "text": [
      "RMSLE: inf\n",
      "R2 value: -10.4162\n",
      "RMSLE: inf\n",
      "R2 value: -6.2458\n"
     ]
    },
    {
     "name": "stderr",
     "output_type": "stream",
     "text": [
      "c:\\users\\radio_pc\\.conda\\envs\\bml3.6\\lib\\site-packages\\ipykernel_launcher.py:5: RuntimeWarning: divide by zero encountered in log\n",
      "  \"\"\"\n",
      "c:\\users\\radio_pc\\.conda\\envs\\bml3.6\\lib\\site-packages\\ipykernel_launcher.py:5: RuntimeWarning: invalid value encountered in log\n",
      "  \"\"\"\n",
      "c:\\users\\radio_pc\\.conda\\envs\\bml3.6\\lib\\site-packages\\ipykernel_launcher.py:5: RuntimeWarning: divide by zero encountered in log\n",
      "  \"\"\"\n",
      "c:\\users\\radio_pc\\.conda\\envs\\bml3.6\\lib\\site-packages\\ipykernel_launcher.py:5: RuntimeWarning: invalid value encountered in log\n",
      "  \"\"\"\n"
     ]
    },
    {
     "name": "stdout",
     "output_type": "stream",
     "text": [
      "RMSLE: inf\n",
      "R2 value: -10.4162\n",
      "RMSLE: inf\n",
      "R2 value: -6.2460\n"
     ]
    },
    {
     "name": "stderr",
     "output_type": "stream",
     "text": [
      "c:\\users\\radio_pc\\.conda\\envs\\bml3.6\\lib\\site-packages\\ipykernel_launcher.py:5: RuntimeWarning: divide by zero encountered in log\n",
      "  \"\"\"\n",
      "c:\\users\\radio_pc\\.conda\\envs\\bml3.6\\lib\\site-packages\\ipykernel_launcher.py:5: RuntimeWarning: invalid value encountered in log\n",
      "  \"\"\"\n",
      "c:\\users\\radio_pc\\.conda\\envs\\bml3.6\\lib\\site-packages\\ipykernel_launcher.py:5: RuntimeWarning: divide by zero encountered in log\n",
      "  \"\"\"\n",
      "c:\\users\\radio_pc\\.conda\\envs\\bml3.6\\lib\\site-packages\\ipykernel_launcher.py:5: RuntimeWarning: invalid value encountered in log\n",
      "  \"\"\"\n"
     ]
    },
    {
     "name": "stdout",
     "output_type": "stream",
     "text": [
      "RMSLE: inf\n",
      "R2 value: -10.4162\n",
      "RMSLE: inf\n",
      "R2 value: -6.2461\n"
     ]
    },
    {
     "name": "stderr",
     "output_type": "stream",
     "text": [
      "c:\\users\\radio_pc\\.conda\\envs\\bml3.6\\lib\\site-packages\\ipykernel_launcher.py:5: RuntimeWarning: divide by zero encountered in log\n",
      "  \"\"\"\n",
      "c:\\users\\radio_pc\\.conda\\envs\\bml3.6\\lib\\site-packages\\ipykernel_launcher.py:5: RuntimeWarning: invalid value encountered in log\n",
      "  \"\"\"\n",
      "c:\\users\\radio_pc\\.conda\\envs\\bml3.6\\lib\\site-packages\\ipykernel_launcher.py:5: RuntimeWarning: divide by zero encountered in log\n",
      "  \"\"\"\n",
      "c:\\users\\radio_pc\\.conda\\envs\\bml3.6\\lib\\site-packages\\ipykernel_launcher.py:5: RuntimeWarning: invalid value encountered in log\n",
      "  \"\"\"\n"
     ]
    },
    {
     "name": "stdout",
     "output_type": "stream",
     "text": [
      "RMSLE: inf\n",
      "R2 value: -10.4162\n",
      "RMSLE: inf\n",
      "R2 value: -6.2463\n"
     ]
    },
    {
     "name": "stderr",
     "output_type": "stream",
     "text": [
      "c:\\users\\radio_pc\\.conda\\envs\\bml3.6\\lib\\site-packages\\ipykernel_launcher.py:5: RuntimeWarning: divide by zero encountered in log\n",
      "  \"\"\"\n",
      "c:\\users\\radio_pc\\.conda\\envs\\bml3.6\\lib\\site-packages\\ipykernel_launcher.py:5: RuntimeWarning: invalid value encountered in log\n",
      "  \"\"\"\n",
      "c:\\users\\radio_pc\\.conda\\envs\\bml3.6\\lib\\site-packages\\ipykernel_launcher.py:5: RuntimeWarning: divide by zero encountered in log\n",
      "  \"\"\"\n",
      "c:\\users\\radio_pc\\.conda\\envs\\bml3.6\\lib\\site-packages\\ipykernel_launcher.py:5: RuntimeWarning: invalid value encountered in log\n",
      "  \"\"\"\n"
     ]
    },
    {
     "name": "stdout",
     "output_type": "stream",
     "text": [
      "RMSLE: inf\n",
      "R2 value: -10.4162\n",
      "RMSLE: inf\n",
      "R2 value: -6.2465\n"
     ]
    },
    {
     "name": "stderr",
     "output_type": "stream",
     "text": [
      "c:\\users\\radio_pc\\.conda\\envs\\bml3.6\\lib\\site-packages\\ipykernel_launcher.py:5: RuntimeWarning: divide by zero encountered in log\n",
      "  \"\"\"\n",
      "c:\\users\\radio_pc\\.conda\\envs\\bml3.6\\lib\\site-packages\\ipykernel_launcher.py:5: RuntimeWarning: invalid value encountered in log\n",
      "  \"\"\"\n",
      "c:\\users\\radio_pc\\.conda\\envs\\bml3.6\\lib\\site-packages\\ipykernel_launcher.py:5: RuntimeWarning: divide by zero encountered in log\n",
      "  \"\"\"\n",
      "c:\\users\\radio_pc\\.conda\\envs\\bml3.6\\lib\\site-packages\\ipykernel_launcher.py:5: RuntimeWarning: invalid value encountered in log\n",
      "  \"\"\"\n"
     ]
    },
    {
     "name": "stdout",
     "output_type": "stream",
     "text": [
      "RMSLE: inf\n",
      "R2 value: -10.4162\n",
      "RMSLE: inf\n",
      "R2 value: -6.2467\n"
     ]
    },
    {
     "name": "stderr",
     "output_type": "stream",
     "text": [
      "c:\\users\\radio_pc\\.conda\\envs\\bml3.6\\lib\\site-packages\\ipykernel_launcher.py:5: RuntimeWarning: divide by zero encountered in log\n",
      "  \"\"\"\n",
      "c:\\users\\radio_pc\\.conda\\envs\\bml3.6\\lib\\site-packages\\ipykernel_launcher.py:5: RuntimeWarning: invalid value encountered in log\n",
      "  \"\"\"\n",
      "c:\\users\\radio_pc\\.conda\\envs\\bml3.6\\lib\\site-packages\\ipykernel_launcher.py:5: RuntimeWarning: divide by zero encountered in log\n",
      "  \"\"\"\n",
      "c:\\users\\radio_pc\\.conda\\envs\\bml3.6\\lib\\site-packages\\ipykernel_launcher.py:5: RuntimeWarning: invalid value encountered in log\n",
      "  \"\"\"\n"
     ]
    },
    {
     "name": "stdout",
     "output_type": "stream",
     "text": [
      "RMSLE: inf\n",
      "R2 value: -10.4162\n",
      "RMSLE: inf\n",
      "R2 value: -6.2468\n"
     ]
    },
    {
     "name": "stderr",
     "output_type": "stream",
     "text": [
      "c:\\users\\radio_pc\\.conda\\envs\\bml3.6\\lib\\site-packages\\ipykernel_launcher.py:5: RuntimeWarning: divide by zero encountered in log\n",
      "  \"\"\"\n",
      "c:\\users\\radio_pc\\.conda\\envs\\bml3.6\\lib\\site-packages\\ipykernel_launcher.py:5: RuntimeWarning: invalid value encountered in log\n",
      "  \"\"\"\n",
      "c:\\users\\radio_pc\\.conda\\envs\\bml3.6\\lib\\site-packages\\ipykernel_launcher.py:5: RuntimeWarning: divide by zero encountered in log\n",
      "  \"\"\"\n",
      "c:\\users\\radio_pc\\.conda\\envs\\bml3.6\\lib\\site-packages\\ipykernel_launcher.py:5: RuntimeWarning: invalid value encountered in log\n",
      "  \"\"\"\n"
     ]
    },
    {
     "name": "stdout",
     "output_type": "stream",
     "text": [
      "RMSLE: inf\n",
      "R2 value: -10.4162\n",
      "RMSLE: inf\n",
      "R2 value: -6.2469\n"
     ]
    },
    {
     "name": "stderr",
     "output_type": "stream",
     "text": [
      "c:\\users\\radio_pc\\.conda\\envs\\bml3.6\\lib\\site-packages\\ipykernel_launcher.py:5: RuntimeWarning: divide by zero encountered in log\n",
      "  \"\"\"\n",
      "c:\\users\\radio_pc\\.conda\\envs\\bml3.6\\lib\\site-packages\\ipykernel_launcher.py:5: RuntimeWarning: invalid value encountered in log\n",
      "  \"\"\"\n",
      "c:\\users\\radio_pc\\.conda\\envs\\bml3.6\\lib\\site-packages\\ipykernel_launcher.py:5: RuntimeWarning: divide by zero encountered in log\n",
      "  \"\"\"\n",
      "c:\\users\\radio_pc\\.conda\\envs\\bml3.6\\lib\\site-packages\\ipykernel_launcher.py:5: RuntimeWarning: invalid value encountered in log\n",
      "  \"\"\"\n"
     ]
    },
    {
     "name": "stdout",
     "output_type": "stream",
     "text": [
      "RMSLE: inf\n",
      "R2 value: -10.4162\n",
      "RMSLE: inf\n",
      "R2 value: -6.2471\n"
     ]
    },
    {
     "name": "stderr",
     "output_type": "stream",
     "text": [
      "c:\\users\\radio_pc\\.conda\\envs\\bml3.6\\lib\\site-packages\\ipykernel_launcher.py:5: RuntimeWarning: divide by zero encountered in log\n",
      "  \"\"\"\n",
      "c:\\users\\radio_pc\\.conda\\envs\\bml3.6\\lib\\site-packages\\ipykernel_launcher.py:5: RuntimeWarning: invalid value encountered in log\n",
      "  \"\"\"\n",
      "c:\\users\\radio_pc\\.conda\\envs\\bml3.6\\lib\\site-packages\\ipykernel_launcher.py:5: RuntimeWarning: divide by zero encountered in log\n",
      "  \"\"\"\n",
      "c:\\users\\radio_pc\\.conda\\envs\\bml3.6\\lib\\site-packages\\ipykernel_launcher.py:5: RuntimeWarning: invalid value encountered in log\n",
      "  \"\"\"\n"
     ]
    },
    {
     "name": "stdout",
     "output_type": "stream",
     "text": [
      "RMSLE: inf\n",
      "R2 value: -10.4162\n",
      "RMSLE: inf\n",
      "R2 value: -6.2472\n"
     ]
    },
    {
     "name": "stderr",
     "output_type": "stream",
     "text": [
      "c:\\users\\radio_pc\\.conda\\envs\\bml3.6\\lib\\site-packages\\ipykernel_launcher.py:5: RuntimeWarning: divide by zero encountered in log\n",
      "  \"\"\"\n",
      "c:\\users\\radio_pc\\.conda\\envs\\bml3.6\\lib\\site-packages\\ipykernel_launcher.py:5: RuntimeWarning: invalid value encountered in log\n",
      "  \"\"\"\n",
      "c:\\users\\radio_pc\\.conda\\envs\\bml3.6\\lib\\site-packages\\ipykernel_launcher.py:5: RuntimeWarning: divide by zero encountered in log\n",
      "  \"\"\"\n",
      "c:\\users\\radio_pc\\.conda\\envs\\bml3.6\\lib\\site-packages\\ipykernel_launcher.py:5: RuntimeWarning: invalid value encountered in log\n",
      "  \"\"\"\n"
     ]
    },
    {
     "name": "stdout",
     "output_type": "stream",
     "text": [
      "RMSLE: inf\n",
      "R2 value: -10.4162\n",
      "RMSLE: inf\n",
      "R2 value: -6.2473\n"
     ]
    },
    {
     "name": "stderr",
     "output_type": "stream",
     "text": [
      "c:\\users\\radio_pc\\.conda\\envs\\bml3.6\\lib\\site-packages\\ipykernel_launcher.py:5: RuntimeWarning: divide by zero encountered in log\n",
      "  \"\"\"\n",
      "c:\\users\\radio_pc\\.conda\\envs\\bml3.6\\lib\\site-packages\\ipykernel_launcher.py:5: RuntimeWarning: invalid value encountered in log\n",
      "  \"\"\"\n",
      "c:\\users\\radio_pc\\.conda\\envs\\bml3.6\\lib\\site-packages\\ipykernel_launcher.py:5: RuntimeWarning: divide by zero encountered in log\n",
      "  \"\"\"\n",
      "c:\\users\\radio_pc\\.conda\\envs\\bml3.6\\lib\\site-packages\\ipykernel_launcher.py:5: RuntimeWarning: invalid value encountered in log\n",
      "  \"\"\"\n"
     ]
    },
    {
     "name": "stdout",
     "output_type": "stream",
     "text": [
      "RMSLE: inf\n",
      "R2 value: -10.4162\n",
      "RMSLE: inf\n",
      "R2 value: -6.2474\n"
     ]
    },
    {
     "name": "stderr",
     "output_type": "stream",
     "text": [
      "c:\\users\\radio_pc\\.conda\\envs\\bml3.6\\lib\\site-packages\\ipykernel_launcher.py:5: RuntimeWarning: divide by zero encountered in log\n",
      "  \"\"\"\n",
      "c:\\users\\radio_pc\\.conda\\envs\\bml3.6\\lib\\site-packages\\ipykernel_launcher.py:5: RuntimeWarning: invalid value encountered in log\n",
      "  \"\"\"\n",
      "c:\\users\\radio_pc\\.conda\\envs\\bml3.6\\lib\\site-packages\\ipykernel_launcher.py:5: RuntimeWarning: divide by zero encountered in log\n",
      "  \"\"\"\n",
      "c:\\users\\radio_pc\\.conda\\envs\\bml3.6\\lib\\site-packages\\ipykernel_launcher.py:5: RuntimeWarning: invalid value encountered in log\n",
      "  \"\"\"\n"
     ]
    },
    {
     "name": "stdout",
     "output_type": "stream",
     "text": [
      "RMSLE: inf\n",
      "R2 value: -10.4162\n",
      "RMSLE: inf\n",
      "R2 value: -6.2475\n"
     ]
    },
    {
     "name": "stderr",
     "output_type": "stream",
     "text": [
      "c:\\users\\radio_pc\\.conda\\envs\\bml3.6\\lib\\site-packages\\ipykernel_launcher.py:5: RuntimeWarning: divide by zero encountered in log\n",
      "  \"\"\"\n",
      "c:\\users\\radio_pc\\.conda\\envs\\bml3.6\\lib\\site-packages\\ipykernel_launcher.py:5: RuntimeWarning: invalid value encountered in log\n",
      "  \"\"\"\n",
      "c:\\users\\radio_pc\\.conda\\envs\\bml3.6\\lib\\site-packages\\ipykernel_launcher.py:5: RuntimeWarning: divide by zero encountered in log\n",
      "  \"\"\"\n",
      "c:\\users\\radio_pc\\.conda\\envs\\bml3.6\\lib\\site-packages\\ipykernel_launcher.py:5: RuntimeWarning: invalid value encountered in log\n",
      "  \"\"\"\n"
     ]
    },
    {
     "name": "stdout",
     "output_type": "stream",
     "text": [
      "RMSLE: inf\n",
      "R2 value: -10.4162\n",
      "RMSLE: inf\n",
      "R2 value: -6.2476\n"
     ]
    },
    {
     "name": "stderr",
     "output_type": "stream",
     "text": [
      "c:\\users\\radio_pc\\.conda\\envs\\bml3.6\\lib\\site-packages\\ipykernel_launcher.py:5: RuntimeWarning: divide by zero encountered in log\n",
      "  \"\"\"\n",
      "c:\\users\\radio_pc\\.conda\\envs\\bml3.6\\lib\\site-packages\\ipykernel_launcher.py:5: RuntimeWarning: invalid value encountered in log\n",
      "  \"\"\"\n",
      "c:\\users\\radio_pc\\.conda\\envs\\bml3.6\\lib\\site-packages\\ipykernel_launcher.py:5: RuntimeWarning: divide by zero encountered in log\n",
      "  \"\"\"\n",
      "c:\\users\\radio_pc\\.conda\\envs\\bml3.6\\lib\\site-packages\\ipykernel_launcher.py:5: RuntimeWarning: invalid value encountered in log\n",
      "  \"\"\"\n"
     ]
    },
    {
     "name": "stdout",
     "output_type": "stream",
     "text": [
      "RMSLE: inf\n",
      "R2 value: -10.4162\n",
      "RMSLE: inf\n",
      "R2 value: -6.2477\n"
     ]
    },
    {
     "name": "stderr",
     "output_type": "stream",
     "text": [
      "c:\\users\\radio_pc\\.conda\\envs\\bml3.6\\lib\\site-packages\\ipykernel_launcher.py:5: RuntimeWarning: divide by zero encountered in log\n",
      "  \"\"\"\n",
      "c:\\users\\radio_pc\\.conda\\envs\\bml3.6\\lib\\site-packages\\ipykernel_launcher.py:5: RuntimeWarning: invalid value encountered in log\n",
      "  \"\"\"\n",
      "c:\\users\\radio_pc\\.conda\\envs\\bml3.6\\lib\\site-packages\\ipykernel_launcher.py:5: RuntimeWarning: divide by zero encountered in log\n",
      "  \"\"\"\n",
      "c:\\users\\radio_pc\\.conda\\envs\\bml3.6\\lib\\site-packages\\ipykernel_launcher.py:5: RuntimeWarning: invalid value encountered in log\n",
      "  \"\"\"\n"
     ]
    },
    {
     "name": "stdout",
     "output_type": "stream",
     "text": [
      "RMSLE: inf\n",
      "R2 value: -10.4162\n",
      "RMSLE: inf\n",
      "R2 value: -6.2478\n"
     ]
    },
    {
     "name": "stderr",
     "output_type": "stream",
     "text": [
      "c:\\users\\radio_pc\\.conda\\envs\\bml3.6\\lib\\site-packages\\ipykernel_launcher.py:5: RuntimeWarning: divide by zero encountered in log\n",
      "  \"\"\"\n",
      "c:\\users\\radio_pc\\.conda\\envs\\bml3.6\\lib\\site-packages\\ipykernel_launcher.py:5: RuntimeWarning: invalid value encountered in log\n",
      "  \"\"\"\n",
      "c:\\users\\radio_pc\\.conda\\envs\\bml3.6\\lib\\site-packages\\ipykernel_launcher.py:5: RuntimeWarning: divide by zero encountered in log\n",
      "  \"\"\"\n",
      "c:\\users\\radio_pc\\.conda\\envs\\bml3.6\\lib\\site-packages\\ipykernel_launcher.py:5: RuntimeWarning: invalid value encountered in log\n",
      "  \"\"\"\n"
     ]
    },
    {
     "name": "stdout",
     "output_type": "stream",
     "text": [
      "RMSLE: inf\n",
      "R2 value: -10.4162\n",
      "RMSLE: inf\n",
      "R2 value: -6.2479\n"
     ]
    },
    {
     "name": "stderr",
     "output_type": "stream",
     "text": [
      "c:\\users\\radio_pc\\.conda\\envs\\bml3.6\\lib\\site-packages\\ipykernel_launcher.py:5: RuntimeWarning: divide by zero encountered in log\n",
      "  \"\"\"\n",
      "c:\\users\\radio_pc\\.conda\\envs\\bml3.6\\lib\\site-packages\\ipykernel_launcher.py:5: RuntimeWarning: invalid value encountered in log\n",
      "  \"\"\"\n",
      "c:\\users\\radio_pc\\.conda\\envs\\bml3.6\\lib\\site-packages\\ipykernel_launcher.py:5: RuntimeWarning: divide by zero encountered in log\n",
      "  \"\"\"\n",
      "c:\\users\\radio_pc\\.conda\\envs\\bml3.6\\lib\\site-packages\\ipykernel_launcher.py:5: RuntimeWarning: invalid value encountered in log\n",
      "  \"\"\"\n"
     ]
    },
    {
     "name": "stdout",
     "output_type": "stream",
     "text": [
      "RMSLE: inf\n",
      "R2 value: -10.4162\n",
      "RMSLE: inf\n",
      "R2 value: -6.2479\n"
     ]
    },
    {
     "name": "stderr",
     "output_type": "stream",
     "text": [
      "c:\\users\\radio_pc\\.conda\\envs\\bml3.6\\lib\\site-packages\\ipykernel_launcher.py:5: RuntimeWarning: divide by zero encountered in log\n",
      "  \"\"\"\n",
      "c:\\users\\radio_pc\\.conda\\envs\\bml3.6\\lib\\site-packages\\ipykernel_launcher.py:5: RuntimeWarning: invalid value encountered in log\n",
      "  \"\"\"\n",
      "c:\\users\\radio_pc\\.conda\\envs\\bml3.6\\lib\\site-packages\\ipykernel_launcher.py:5: RuntimeWarning: divide by zero encountered in log\n",
      "  \"\"\"\n",
      "c:\\users\\radio_pc\\.conda\\envs\\bml3.6\\lib\\site-packages\\ipykernel_launcher.py:5: RuntimeWarning: invalid value encountered in log\n",
      "  \"\"\"\n"
     ]
    },
    {
     "name": "stdout",
     "output_type": "stream",
     "text": [
      "RMSLE: inf\n",
      "R2 value: -10.4162\n",
      "RMSLE: inf\n",
      "R2 value: -6.2480\n"
     ]
    },
    {
     "name": "stderr",
     "output_type": "stream",
     "text": [
      "c:\\users\\radio_pc\\.conda\\envs\\bml3.6\\lib\\site-packages\\ipykernel_launcher.py:5: RuntimeWarning: divide by zero encountered in log\n",
      "  \"\"\"\n",
      "c:\\users\\radio_pc\\.conda\\envs\\bml3.6\\lib\\site-packages\\ipykernel_launcher.py:5: RuntimeWarning: invalid value encountered in log\n",
      "  \"\"\"\n",
      "c:\\users\\radio_pc\\.conda\\envs\\bml3.6\\lib\\site-packages\\ipykernel_launcher.py:5: RuntimeWarning: divide by zero encountered in log\n",
      "  \"\"\"\n",
      "c:\\users\\radio_pc\\.conda\\envs\\bml3.6\\lib\\site-packages\\ipykernel_launcher.py:5: RuntimeWarning: invalid value encountered in log\n",
      "  \"\"\"\n"
     ]
    },
    {
     "name": "stdout",
     "output_type": "stream",
     "text": [
      "RMSLE: inf\n",
      "R2 value: -10.4162\n",
      "RMSLE: inf\n",
      "R2 value: -6.2481\n"
     ]
    },
    {
     "name": "stderr",
     "output_type": "stream",
     "text": [
      "c:\\users\\radio_pc\\.conda\\envs\\bml3.6\\lib\\site-packages\\ipykernel_launcher.py:5: RuntimeWarning: divide by zero encountered in log\n",
      "  \"\"\"\n",
      "c:\\users\\radio_pc\\.conda\\envs\\bml3.6\\lib\\site-packages\\ipykernel_launcher.py:5: RuntimeWarning: invalid value encountered in log\n",
      "  \"\"\"\n",
      "c:\\users\\radio_pc\\.conda\\envs\\bml3.6\\lib\\site-packages\\ipykernel_launcher.py:5: RuntimeWarning: divide by zero encountered in log\n",
      "  \"\"\"\n",
      "c:\\users\\radio_pc\\.conda\\envs\\bml3.6\\lib\\site-packages\\ipykernel_launcher.py:5: RuntimeWarning: invalid value encountered in log\n",
      "  \"\"\"\n"
     ]
    },
    {
     "name": "stdout",
     "output_type": "stream",
     "text": [
      "RMSLE: inf\n",
      "R2 value: -10.4162\n",
      "RMSLE: inf\n",
      "R2 value: -6.2481\n"
     ]
    },
    {
     "name": "stderr",
     "output_type": "stream",
     "text": [
      "c:\\users\\radio_pc\\.conda\\envs\\bml3.6\\lib\\site-packages\\ipykernel_launcher.py:5: RuntimeWarning: divide by zero encountered in log\n",
      "  \"\"\"\n",
      "c:\\users\\radio_pc\\.conda\\envs\\bml3.6\\lib\\site-packages\\ipykernel_launcher.py:5: RuntimeWarning: invalid value encountered in log\n",
      "  \"\"\"\n",
      "c:\\users\\radio_pc\\.conda\\envs\\bml3.6\\lib\\site-packages\\ipykernel_launcher.py:5: RuntimeWarning: divide by zero encountered in log\n",
      "  \"\"\"\n",
      "c:\\users\\radio_pc\\.conda\\envs\\bml3.6\\lib\\site-packages\\ipykernel_launcher.py:5: RuntimeWarning: invalid value encountered in log\n",
      "  \"\"\"\n"
     ]
    },
    {
     "name": "stdout",
     "output_type": "stream",
     "text": [
      "RMSLE: inf\n",
      "R2 value: -10.4162\n",
      "RMSLE: inf\n",
      "R2 value: -6.2482\n"
     ]
    },
    {
     "name": "stderr",
     "output_type": "stream",
     "text": [
      "c:\\users\\radio_pc\\.conda\\envs\\bml3.6\\lib\\site-packages\\ipykernel_launcher.py:5: RuntimeWarning: divide by zero encountered in log\n",
      "  \"\"\"\n",
      "c:\\users\\radio_pc\\.conda\\envs\\bml3.6\\lib\\site-packages\\ipykernel_launcher.py:5: RuntimeWarning: invalid value encountered in log\n",
      "  \"\"\"\n",
      "c:\\users\\radio_pc\\.conda\\envs\\bml3.6\\lib\\site-packages\\ipykernel_launcher.py:5: RuntimeWarning: divide by zero encountered in log\n",
      "  \"\"\"\n",
      "c:\\users\\radio_pc\\.conda\\envs\\bml3.6\\lib\\site-packages\\ipykernel_launcher.py:5: RuntimeWarning: invalid value encountered in log\n",
      "  \"\"\"\n"
     ]
    },
    {
     "name": "stdout",
     "output_type": "stream",
     "text": [
      "RMSLE: inf\n",
      "R2 value: -10.4162\n",
      "RMSLE: inf\n",
      "R2 value: -6.2482\n"
     ]
    },
    {
     "name": "stderr",
     "output_type": "stream",
     "text": [
      "c:\\users\\radio_pc\\.conda\\envs\\bml3.6\\lib\\site-packages\\ipykernel_launcher.py:5: RuntimeWarning: divide by zero encountered in log\n",
      "  \"\"\"\n",
      "c:\\users\\radio_pc\\.conda\\envs\\bml3.6\\lib\\site-packages\\ipykernel_launcher.py:5: RuntimeWarning: invalid value encountered in log\n",
      "  \"\"\"\n",
      "c:\\users\\radio_pc\\.conda\\envs\\bml3.6\\lib\\site-packages\\ipykernel_launcher.py:5: RuntimeWarning: divide by zero encountered in log\n",
      "  \"\"\"\n",
      "c:\\users\\radio_pc\\.conda\\envs\\bml3.6\\lib\\site-packages\\ipykernel_launcher.py:5: RuntimeWarning: invalid value encountered in log\n",
      "  \"\"\"\n"
     ]
    },
    {
     "name": "stdout",
     "output_type": "stream",
     "text": [
      "RMSLE: inf\n",
      "R2 value: -10.4162\n",
      "RMSLE: inf\n",
      "R2 value: -6.2483\n"
     ]
    },
    {
     "name": "stderr",
     "output_type": "stream",
     "text": [
      "c:\\users\\radio_pc\\.conda\\envs\\bml3.6\\lib\\site-packages\\ipykernel_launcher.py:5: RuntimeWarning: divide by zero encountered in log\n",
      "  \"\"\"\n",
      "c:\\users\\radio_pc\\.conda\\envs\\bml3.6\\lib\\site-packages\\ipykernel_launcher.py:5: RuntimeWarning: invalid value encountered in log\n",
      "  \"\"\"\n",
      "c:\\users\\radio_pc\\.conda\\envs\\bml3.6\\lib\\site-packages\\ipykernel_launcher.py:5: RuntimeWarning: divide by zero encountered in log\n",
      "  \"\"\"\n",
      "c:\\users\\radio_pc\\.conda\\envs\\bml3.6\\lib\\site-packages\\ipykernel_launcher.py:5: RuntimeWarning: invalid value encountered in log\n",
      "  \"\"\"\n"
     ]
    },
    {
     "name": "stdout",
     "output_type": "stream",
     "text": [
      "RMSLE: inf\n",
      "R2 value: -10.4162\n",
      "RMSLE: inf\n",
      "R2 value: -6.2483\n"
     ]
    },
    {
     "name": "stderr",
     "output_type": "stream",
     "text": [
      "c:\\users\\radio_pc\\.conda\\envs\\bml3.6\\lib\\site-packages\\ipykernel_launcher.py:5: RuntimeWarning: divide by zero encountered in log\n",
      "  \"\"\"\n",
      "c:\\users\\radio_pc\\.conda\\envs\\bml3.6\\lib\\site-packages\\ipykernel_launcher.py:5: RuntimeWarning: invalid value encountered in log\n",
      "  \"\"\"\n",
      "c:\\users\\radio_pc\\.conda\\envs\\bml3.6\\lib\\site-packages\\ipykernel_launcher.py:5: RuntimeWarning: divide by zero encountered in log\n",
      "  \"\"\"\n",
      "c:\\users\\radio_pc\\.conda\\envs\\bml3.6\\lib\\site-packages\\ipykernel_launcher.py:5: RuntimeWarning: invalid value encountered in log\n",
      "  \"\"\"\n"
     ]
    },
    {
     "name": "stdout",
     "output_type": "stream",
     "text": [
      "RMSLE: inf\n",
      "R2 value: -10.4162\n",
      "RMSLE: inf\n",
      "R2 value: -6.2484\n"
     ]
    },
    {
     "name": "stderr",
     "output_type": "stream",
     "text": [
      "c:\\users\\radio_pc\\.conda\\envs\\bml3.6\\lib\\site-packages\\ipykernel_launcher.py:5: RuntimeWarning: divide by zero encountered in log\n",
      "  \"\"\"\n",
      "c:\\users\\radio_pc\\.conda\\envs\\bml3.6\\lib\\site-packages\\ipykernel_launcher.py:5: RuntimeWarning: invalid value encountered in log\n",
      "  \"\"\"\n",
      "c:\\users\\radio_pc\\.conda\\envs\\bml3.6\\lib\\site-packages\\ipykernel_launcher.py:5: RuntimeWarning: divide by zero encountered in log\n",
      "  \"\"\"\n",
      "c:\\users\\radio_pc\\.conda\\envs\\bml3.6\\lib\\site-packages\\ipykernel_launcher.py:5: RuntimeWarning: invalid value encountered in log\n",
      "  \"\"\"\n"
     ]
    },
    {
     "name": "stdout",
     "output_type": "stream",
     "text": [
      "RMSLE: inf\n",
      "R2 value: -10.4162\n",
      "RMSLE: inf\n",
      "R2 value: -6.2484\n"
     ]
    },
    {
     "name": "stderr",
     "output_type": "stream",
     "text": [
      "c:\\users\\radio_pc\\.conda\\envs\\bml3.6\\lib\\site-packages\\ipykernel_launcher.py:5: RuntimeWarning: divide by zero encountered in log\n",
      "  \"\"\"\n",
      "c:\\users\\radio_pc\\.conda\\envs\\bml3.6\\lib\\site-packages\\ipykernel_launcher.py:5: RuntimeWarning: invalid value encountered in log\n",
      "  \"\"\"\n",
      "c:\\users\\radio_pc\\.conda\\envs\\bml3.6\\lib\\site-packages\\ipykernel_launcher.py:5: RuntimeWarning: divide by zero encountered in log\n",
      "  \"\"\"\n",
      "c:\\users\\radio_pc\\.conda\\envs\\bml3.6\\lib\\site-packages\\ipykernel_launcher.py:5: RuntimeWarning: invalid value encountered in log\n",
      "  \"\"\"\n"
     ]
    },
    {
     "name": "stdout",
     "output_type": "stream",
     "text": [
      "RMSLE: inf\n",
      "R2 value: -10.4162\n",
      "RMSLE: inf\n",
      "R2 value: -6.2485\n"
     ]
    },
    {
     "name": "stderr",
     "output_type": "stream",
     "text": [
      "c:\\users\\radio_pc\\.conda\\envs\\bml3.6\\lib\\site-packages\\ipykernel_launcher.py:5: RuntimeWarning: divide by zero encountered in log\n",
      "  \"\"\"\n",
      "c:\\users\\radio_pc\\.conda\\envs\\bml3.6\\lib\\site-packages\\ipykernel_launcher.py:5: RuntimeWarning: invalid value encountered in log\n",
      "  \"\"\"\n",
      "c:\\users\\radio_pc\\.conda\\envs\\bml3.6\\lib\\site-packages\\ipykernel_launcher.py:5: RuntimeWarning: divide by zero encountered in log\n",
      "  \"\"\"\n",
      "c:\\users\\radio_pc\\.conda\\envs\\bml3.6\\lib\\site-packages\\ipykernel_launcher.py:5: RuntimeWarning: invalid value encountered in log\n",
      "  \"\"\"\n"
     ]
    },
    {
     "name": "stdout",
     "output_type": "stream",
     "text": [
      "RMSLE: inf\n",
      "R2 value: -10.4162\n",
      "RMSLE: inf\n",
      "R2 value: -6.2485\n"
     ]
    },
    {
     "name": "stderr",
     "output_type": "stream",
     "text": [
      "c:\\users\\radio_pc\\.conda\\envs\\bml3.6\\lib\\site-packages\\ipykernel_launcher.py:5: RuntimeWarning: divide by zero encountered in log\n",
      "  \"\"\"\n",
      "c:\\users\\radio_pc\\.conda\\envs\\bml3.6\\lib\\site-packages\\ipykernel_launcher.py:5: RuntimeWarning: invalid value encountered in log\n",
      "  \"\"\"\n",
      "c:\\users\\radio_pc\\.conda\\envs\\bml3.6\\lib\\site-packages\\ipykernel_launcher.py:5: RuntimeWarning: divide by zero encountered in log\n",
      "  \"\"\"\n",
      "c:\\users\\radio_pc\\.conda\\envs\\bml3.6\\lib\\site-packages\\ipykernel_launcher.py:5: RuntimeWarning: invalid value encountered in log\n",
      "  \"\"\"\n"
     ]
    },
    {
     "name": "stdout",
     "output_type": "stream",
     "text": [
      "RMSLE: inf\n",
      "R2 value: -10.4162\n",
      "RMSLE: inf\n",
      "R2 value: -6.2485\n"
     ]
    },
    {
     "name": "stderr",
     "output_type": "stream",
     "text": [
      "c:\\users\\radio_pc\\.conda\\envs\\bml3.6\\lib\\site-packages\\ipykernel_launcher.py:5: RuntimeWarning: divide by zero encountered in log\n",
      "  \"\"\"\n",
      "c:\\users\\radio_pc\\.conda\\envs\\bml3.6\\lib\\site-packages\\ipykernel_launcher.py:5: RuntimeWarning: invalid value encountered in log\n",
      "  \"\"\"\n",
      "c:\\users\\radio_pc\\.conda\\envs\\bml3.6\\lib\\site-packages\\ipykernel_launcher.py:5: RuntimeWarning: divide by zero encountered in log\n",
      "  \"\"\"\n",
      "c:\\users\\radio_pc\\.conda\\envs\\bml3.6\\lib\\site-packages\\ipykernel_launcher.py:5: RuntimeWarning: invalid value encountered in log\n",
      "  \"\"\"\n"
     ]
    },
    {
     "name": "stdout",
     "output_type": "stream",
     "text": [
      "RMSLE: inf\n",
      "R2 value: -10.4162\n",
      "RMSLE: inf\n",
      "R2 value: -6.2486\n"
     ]
    },
    {
     "name": "stderr",
     "output_type": "stream",
     "text": [
      "c:\\users\\radio_pc\\.conda\\envs\\bml3.6\\lib\\site-packages\\ipykernel_launcher.py:5: RuntimeWarning: divide by zero encountered in log\n",
      "  \"\"\"\n",
      "c:\\users\\radio_pc\\.conda\\envs\\bml3.6\\lib\\site-packages\\ipykernel_launcher.py:5: RuntimeWarning: invalid value encountered in log\n",
      "  \"\"\"\n",
      "c:\\users\\radio_pc\\.conda\\envs\\bml3.6\\lib\\site-packages\\ipykernel_launcher.py:5: RuntimeWarning: divide by zero encountered in log\n",
      "  \"\"\"\n",
      "c:\\users\\radio_pc\\.conda\\envs\\bml3.6\\lib\\site-packages\\ipykernel_launcher.py:5: RuntimeWarning: invalid value encountered in log\n",
      "  \"\"\"\n"
     ]
    },
    {
     "name": "stdout",
     "output_type": "stream",
     "text": [
      "RMSLE: inf\n",
      "R2 value: -10.4162\n",
      "RMSLE: inf\n",
      "R2 value: -6.2486\n"
     ]
    },
    {
     "name": "stderr",
     "output_type": "stream",
     "text": [
      "c:\\users\\radio_pc\\.conda\\envs\\bml3.6\\lib\\site-packages\\ipykernel_launcher.py:5: RuntimeWarning: divide by zero encountered in log\n",
      "  \"\"\"\n",
      "c:\\users\\radio_pc\\.conda\\envs\\bml3.6\\lib\\site-packages\\ipykernel_launcher.py:5: RuntimeWarning: invalid value encountered in log\n",
      "  \"\"\"\n",
      "c:\\users\\radio_pc\\.conda\\envs\\bml3.6\\lib\\site-packages\\ipykernel_launcher.py:5: RuntimeWarning: divide by zero encountered in log\n",
      "  \"\"\"\n",
      "c:\\users\\radio_pc\\.conda\\envs\\bml3.6\\lib\\site-packages\\ipykernel_launcher.py:5: RuntimeWarning: invalid value encountered in log\n",
      "  \"\"\"\n"
     ]
    },
    {
     "name": "stdout",
     "output_type": "stream",
     "text": [
      "RMSLE: inf\n",
      "R2 value: -10.4162\n",
      "RMSLE: inf\n",
      "R2 value: -6.2486\n"
     ]
    },
    {
     "name": "stderr",
     "output_type": "stream",
     "text": [
      "c:\\users\\radio_pc\\.conda\\envs\\bml3.6\\lib\\site-packages\\ipykernel_launcher.py:5: RuntimeWarning: divide by zero encountered in log\n",
      "  \"\"\"\n",
      "c:\\users\\radio_pc\\.conda\\envs\\bml3.6\\lib\\site-packages\\ipykernel_launcher.py:5: RuntimeWarning: invalid value encountered in log\n",
      "  \"\"\"\n",
      "c:\\users\\radio_pc\\.conda\\envs\\bml3.6\\lib\\site-packages\\ipykernel_launcher.py:5: RuntimeWarning: divide by zero encountered in log\n",
      "  \"\"\"\n",
      "c:\\users\\radio_pc\\.conda\\envs\\bml3.6\\lib\\site-packages\\ipykernel_launcher.py:5: RuntimeWarning: invalid value encountered in log\n",
      "  \"\"\"\n"
     ]
    },
    {
     "name": "stdout",
     "output_type": "stream",
     "text": [
      "RMSLE: inf\n",
      "R2 value: -10.4162\n",
      "RMSLE: inf\n",
      "R2 value: -6.2487\n"
     ]
    },
    {
     "name": "stderr",
     "output_type": "stream",
     "text": [
      "c:\\users\\radio_pc\\.conda\\envs\\bml3.6\\lib\\site-packages\\ipykernel_launcher.py:5: RuntimeWarning: divide by zero encountered in log\n",
      "  \"\"\"\n",
      "c:\\users\\radio_pc\\.conda\\envs\\bml3.6\\lib\\site-packages\\ipykernel_launcher.py:5: RuntimeWarning: invalid value encountered in log\n",
      "  \"\"\"\n",
      "c:\\users\\radio_pc\\.conda\\envs\\bml3.6\\lib\\site-packages\\ipykernel_launcher.py:5: RuntimeWarning: divide by zero encountered in log\n",
      "  \"\"\"\n",
      "c:\\users\\radio_pc\\.conda\\envs\\bml3.6\\lib\\site-packages\\ipykernel_launcher.py:5: RuntimeWarning: invalid value encountered in log\n",
      "  \"\"\"\n"
     ]
    },
    {
     "name": "stdout",
     "output_type": "stream",
     "text": [
      "RMSLE: inf\n",
      "R2 value: -10.4162\n",
      "RMSLE: inf\n",
      "R2 value: -6.2487\n"
     ]
    },
    {
     "name": "stderr",
     "output_type": "stream",
     "text": [
      "c:\\users\\radio_pc\\.conda\\envs\\bml3.6\\lib\\site-packages\\ipykernel_launcher.py:5: RuntimeWarning: divide by zero encountered in log\n",
      "  \"\"\"\n",
      "c:\\users\\radio_pc\\.conda\\envs\\bml3.6\\lib\\site-packages\\ipykernel_launcher.py:5: RuntimeWarning: invalid value encountered in log\n",
      "  \"\"\"\n",
      "c:\\users\\radio_pc\\.conda\\envs\\bml3.6\\lib\\site-packages\\ipykernel_launcher.py:5: RuntimeWarning: divide by zero encountered in log\n",
      "  \"\"\"\n",
      "c:\\users\\radio_pc\\.conda\\envs\\bml3.6\\lib\\site-packages\\ipykernel_launcher.py:5: RuntimeWarning: invalid value encountered in log\n",
      "  \"\"\"\n"
     ]
    },
    {
     "name": "stdout",
     "output_type": "stream",
     "text": [
      "RMSLE: inf\n",
      "R2 value: -10.4162\n",
      "RMSLE: inf\n",
      "R2 value: -6.2487\n"
     ]
    },
    {
     "name": "stderr",
     "output_type": "stream",
     "text": [
      "c:\\users\\radio_pc\\.conda\\envs\\bml3.6\\lib\\site-packages\\ipykernel_launcher.py:5: RuntimeWarning: divide by zero encountered in log\n",
      "  \"\"\"\n",
      "c:\\users\\radio_pc\\.conda\\envs\\bml3.6\\lib\\site-packages\\ipykernel_launcher.py:5: RuntimeWarning: invalid value encountered in log\n",
      "  \"\"\"\n",
      "c:\\users\\radio_pc\\.conda\\envs\\bml3.6\\lib\\site-packages\\ipykernel_launcher.py:5: RuntimeWarning: divide by zero encountered in log\n",
      "  \"\"\"\n",
      "c:\\users\\radio_pc\\.conda\\envs\\bml3.6\\lib\\site-packages\\ipykernel_launcher.py:5: RuntimeWarning: invalid value encountered in log\n",
      "  \"\"\"\n"
     ]
    },
    {
     "name": "stdout",
     "output_type": "stream",
     "text": [
      "RMSLE: inf\n",
      "R2 value: -10.4162\n",
      "RMSLE: inf\n",
      "R2 value: -6.2487\n"
     ]
    },
    {
     "name": "stderr",
     "output_type": "stream",
     "text": [
      "c:\\users\\radio_pc\\.conda\\envs\\bml3.6\\lib\\site-packages\\ipykernel_launcher.py:5: RuntimeWarning: divide by zero encountered in log\n",
      "  \"\"\"\n",
      "c:\\users\\radio_pc\\.conda\\envs\\bml3.6\\lib\\site-packages\\ipykernel_launcher.py:5: RuntimeWarning: invalid value encountered in log\n",
      "  \"\"\"\n",
      "c:\\users\\radio_pc\\.conda\\envs\\bml3.6\\lib\\site-packages\\ipykernel_launcher.py:5: RuntimeWarning: divide by zero encountered in log\n",
      "  \"\"\"\n",
      "c:\\users\\radio_pc\\.conda\\envs\\bml3.6\\lib\\site-packages\\ipykernel_launcher.py:5: RuntimeWarning: invalid value encountered in log\n",
      "  \"\"\"\n"
     ]
    },
    {
     "name": "stdout",
     "output_type": "stream",
     "text": [
      "RMSLE: inf\n",
      "R2 value: -10.4162\n",
      "RMSLE: inf\n",
      "R2 value: -6.2487\n"
     ]
    },
    {
     "name": "stderr",
     "output_type": "stream",
     "text": [
      "c:\\users\\radio_pc\\.conda\\envs\\bml3.6\\lib\\site-packages\\ipykernel_launcher.py:5: RuntimeWarning: divide by zero encountered in log\n",
      "  \"\"\"\n",
      "c:\\users\\radio_pc\\.conda\\envs\\bml3.6\\lib\\site-packages\\ipykernel_launcher.py:5: RuntimeWarning: invalid value encountered in log\n",
      "  \"\"\"\n",
      "c:\\users\\radio_pc\\.conda\\envs\\bml3.6\\lib\\site-packages\\ipykernel_launcher.py:5: RuntimeWarning: divide by zero encountered in log\n",
      "  \"\"\"\n",
      "c:\\users\\radio_pc\\.conda\\envs\\bml3.6\\lib\\site-packages\\ipykernel_launcher.py:5: RuntimeWarning: invalid value encountered in log\n",
      "  \"\"\"\n"
     ]
    },
    {
     "name": "stdout",
     "output_type": "stream",
     "text": [
      "RMSLE: inf\n",
      "R2 value: -10.4162\n",
      "RMSLE: inf\n",
      "R2 value: -6.2488\n"
     ]
    },
    {
     "name": "stderr",
     "output_type": "stream",
     "text": [
      "c:\\users\\radio_pc\\.conda\\envs\\bml3.6\\lib\\site-packages\\ipykernel_launcher.py:5: RuntimeWarning: divide by zero encountered in log\n",
      "  \"\"\"\n",
      "c:\\users\\radio_pc\\.conda\\envs\\bml3.6\\lib\\site-packages\\ipykernel_launcher.py:5: RuntimeWarning: invalid value encountered in log\n",
      "  \"\"\"\n",
      "c:\\users\\radio_pc\\.conda\\envs\\bml3.6\\lib\\site-packages\\ipykernel_launcher.py:5: RuntimeWarning: divide by zero encountered in log\n",
      "  \"\"\"\n",
      "c:\\users\\radio_pc\\.conda\\envs\\bml3.6\\lib\\site-packages\\ipykernel_launcher.py:5: RuntimeWarning: invalid value encountered in log\n",
      "  \"\"\"\n"
     ]
    },
    {
     "name": "stdout",
     "output_type": "stream",
     "text": [
      "RMSLE: inf\n",
      "R2 value: -10.4162\n",
      "RMSLE: inf\n",
      "R2 value: -6.2488\n"
     ]
    },
    {
     "name": "stderr",
     "output_type": "stream",
     "text": [
      "c:\\users\\radio_pc\\.conda\\envs\\bml3.6\\lib\\site-packages\\ipykernel_launcher.py:5: RuntimeWarning: divide by zero encountered in log\n",
      "  \"\"\"\n",
      "c:\\users\\radio_pc\\.conda\\envs\\bml3.6\\lib\\site-packages\\ipykernel_launcher.py:5: RuntimeWarning: invalid value encountered in log\n",
      "  \"\"\"\n",
      "c:\\users\\radio_pc\\.conda\\envs\\bml3.6\\lib\\site-packages\\ipykernel_launcher.py:5: RuntimeWarning: divide by zero encountered in log\n",
      "  \"\"\"\n",
      "c:\\users\\radio_pc\\.conda\\envs\\bml3.6\\lib\\site-packages\\ipykernel_launcher.py:5: RuntimeWarning: invalid value encountered in log\n",
      "  \"\"\"\n"
     ]
    },
    {
     "name": "stdout",
     "output_type": "stream",
     "text": [
      "RMSLE: inf\n",
      "R2 value: -10.4162\n",
      "RMSLE: inf\n",
      "R2 value: -6.2488\n"
     ]
    },
    {
     "name": "stderr",
     "output_type": "stream",
     "text": [
      "c:\\users\\radio_pc\\.conda\\envs\\bml3.6\\lib\\site-packages\\ipykernel_launcher.py:5: RuntimeWarning: divide by zero encountered in log\n",
      "  \"\"\"\n",
      "c:\\users\\radio_pc\\.conda\\envs\\bml3.6\\lib\\site-packages\\ipykernel_launcher.py:5: RuntimeWarning: invalid value encountered in log\n",
      "  \"\"\"\n",
      "c:\\users\\radio_pc\\.conda\\envs\\bml3.6\\lib\\site-packages\\ipykernel_launcher.py:5: RuntimeWarning: divide by zero encountered in log\n",
      "  \"\"\"\n",
      "c:\\users\\radio_pc\\.conda\\envs\\bml3.6\\lib\\site-packages\\ipykernel_launcher.py:5: RuntimeWarning: invalid value encountered in log\n",
      "  \"\"\"\n"
     ]
    },
    {
     "name": "stdout",
     "output_type": "stream",
     "text": [
      "RMSLE: inf\n",
      "R2 value: -10.4162\n",
      "RMSLE: inf\n",
      "R2 value: -6.2488\n"
     ]
    },
    {
     "name": "stderr",
     "output_type": "stream",
     "text": [
      "c:\\users\\radio_pc\\.conda\\envs\\bml3.6\\lib\\site-packages\\ipykernel_launcher.py:5: RuntimeWarning: divide by zero encountered in log\n",
      "  \"\"\"\n",
      "c:\\users\\radio_pc\\.conda\\envs\\bml3.6\\lib\\site-packages\\ipykernel_launcher.py:5: RuntimeWarning: invalid value encountered in log\n",
      "  \"\"\"\n",
      "c:\\users\\radio_pc\\.conda\\envs\\bml3.6\\lib\\site-packages\\ipykernel_launcher.py:5: RuntimeWarning: divide by zero encountered in log\n",
      "  \"\"\"\n",
      "c:\\users\\radio_pc\\.conda\\envs\\bml3.6\\lib\\site-packages\\ipykernel_launcher.py:5: RuntimeWarning: invalid value encountered in log\n",
      "  \"\"\"\n"
     ]
    },
    {
     "name": "stdout",
     "output_type": "stream",
     "text": [
      "RMSLE: inf\n",
      "R2 value: -10.4162\n",
      "RMSLE: inf\n",
      "R2 value: -6.2488\n"
     ]
    },
    {
     "name": "stderr",
     "output_type": "stream",
     "text": [
      "c:\\users\\radio_pc\\.conda\\envs\\bml3.6\\lib\\site-packages\\ipykernel_launcher.py:5: RuntimeWarning: divide by zero encountered in log\n",
      "  \"\"\"\n",
      "c:\\users\\radio_pc\\.conda\\envs\\bml3.6\\lib\\site-packages\\ipykernel_launcher.py:5: RuntimeWarning: invalid value encountered in log\n",
      "  \"\"\"\n",
      "c:\\users\\radio_pc\\.conda\\envs\\bml3.6\\lib\\site-packages\\ipykernel_launcher.py:5: RuntimeWarning: divide by zero encountered in log\n",
      "  \"\"\"\n",
      "c:\\users\\radio_pc\\.conda\\envs\\bml3.6\\lib\\site-packages\\ipykernel_launcher.py:5: RuntimeWarning: invalid value encountered in log\n",
      "  \"\"\"\n"
     ]
    },
    {
     "name": "stdout",
     "output_type": "stream",
     "text": [
      "RMSLE: inf\n",
      "R2 value: -10.4162\n",
      "RMSLE: inf\n",
      "R2 value: -6.2489\n"
     ]
    },
    {
     "name": "stderr",
     "output_type": "stream",
     "text": [
      "c:\\users\\radio_pc\\.conda\\envs\\bml3.6\\lib\\site-packages\\ipykernel_launcher.py:5: RuntimeWarning: divide by zero encountered in log\n",
      "  \"\"\"\n",
      "c:\\users\\radio_pc\\.conda\\envs\\bml3.6\\lib\\site-packages\\ipykernel_launcher.py:5: RuntimeWarning: invalid value encountered in log\n",
      "  \"\"\"\n",
      "c:\\users\\radio_pc\\.conda\\envs\\bml3.6\\lib\\site-packages\\ipykernel_launcher.py:5: RuntimeWarning: divide by zero encountered in log\n",
      "  \"\"\"\n",
      "c:\\users\\radio_pc\\.conda\\envs\\bml3.6\\lib\\site-packages\\ipykernel_launcher.py:5: RuntimeWarning: invalid value encountered in log\n",
      "  \"\"\"\n"
     ]
    },
    {
     "name": "stdout",
     "output_type": "stream",
     "text": [
      "RMSLE: inf\n",
      "R2 value: -10.4162\n",
      "RMSLE: inf\n",
      "R2 value: -6.2489\n"
     ]
    },
    {
     "name": "stderr",
     "output_type": "stream",
     "text": [
      "c:\\users\\radio_pc\\.conda\\envs\\bml3.6\\lib\\site-packages\\ipykernel_launcher.py:5: RuntimeWarning: divide by zero encountered in log\n",
      "  \"\"\"\n",
      "c:\\users\\radio_pc\\.conda\\envs\\bml3.6\\lib\\site-packages\\ipykernel_launcher.py:5: RuntimeWarning: invalid value encountered in log\n",
      "  \"\"\"\n",
      "c:\\users\\radio_pc\\.conda\\envs\\bml3.6\\lib\\site-packages\\ipykernel_launcher.py:5: RuntimeWarning: divide by zero encountered in log\n",
      "  \"\"\"\n",
      "c:\\users\\radio_pc\\.conda\\envs\\bml3.6\\lib\\site-packages\\ipykernel_launcher.py:5: RuntimeWarning: invalid value encountered in log\n",
      "  \"\"\"\n"
     ]
    },
    {
     "name": "stdout",
     "output_type": "stream",
     "text": [
      "RMSLE: inf\n",
      "R2 value: -10.4162\n",
      "RMSLE: inf\n",
      "R2 value: -6.2489\n"
     ]
    },
    {
     "name": "stderr",
     "output_type": "stream",
     "text": [
      "c:\\users\\radio_pc\\.conda\\envs\\bml3.6\\lib\\site-packages\\ipykernel_launcher.py:5: RuntimeWarning: divide by zero encountered in log\n",
      "  \"\"\"\n",
      "c:\\users\\radio_pc\\.conda\\envs\\bml3.6\\lib\\site-packages\\ipykernel_launcher.py:5: RuntimeWarning: invalid value encountered in log\n",
      "  \"\"\"\n",
      "c:\\users\\radio_pc\\.conda\\envs\\bml3.6\\lib\\site-packages\\ipykernel_launcher.py:5: RuntimeWarning: divide by zero encountered in log\n",
      "  \"\"\"\n",
      "c:\\users\\radio_pc\\.conda\\envs\\bml3.6\\lib\\site-packages\\ipykernel_launcher.py:5: RuntimeWarning: invalid value encountered in log\n",
      "  \"\"\"\n"
     ]
    },
    {
     "name": "stdout",
     "output_type": "stream",
     "text": [
      "RMSLE: inf\n",
      "R2 value: -10.4162\n",
      "RMSLE: inf\n",
      "R2 value: -6.2489\n"
     ]
    },
    {
     "name": "stderr",
     "output_type": "stream",
     "text": [
      "c:\\users\\radio_pc\\.conda\\envs\\bml3.6\\lib\\site-packages\\ipykernel_launcher.py:5: RuntimeWarning: divide by zero encountered in log\n",
      "  \"\"\"\n",
      "c:\\users\\radio_pc\\.conda\\envs\\bml3.6\\lib\\site-packages\\ipykernel_launcher.py:5: RuntimeWarning: invalid value encountered in log\n",
      "  \"\"\"\n",
      "c:\\users\\radio_pc\\.conda\\envs\\bml3.6\\lib\\site-packages\\ipykernel_launcher.py:5: RuntimeWarning: divide by zero encountered in log\n",
      "  \"\"\"\n",
      "c:\\users\\radio_pc\\.conda\\envs\\bml3.6\\lib\\site-packages\\ipykernel_launcher.py:5: RuntimeWarning: invalid value encountered in log\n",
      "  \"\"\"\n"
     ]
    },
    {
     "name": "stdout",
     "output_type": "stream",
     "text": [
      "RMSLE: inf\n",
      "R2 value: -10.4162\n",
      "RMSLE: inf\n",
      "R2 value: -6.2489\n"
     ]
    },
    {
     "name": "stderr",
     "output_type": "stream",
     "text": [
      "c:\\users\\radio_pc\\.conda\\envs\\bml3.6\\lib\\site-packages\\ipykernel_launcher.py:5: RuntimeWarning: divide by zero encountered in log\n",
      "  \"\"\"\n",
      "c:\\users\\radio_pc\\.conda\\envs\\bml3.6\\lib\\site-packages\\ipykernel_launcher.py:5: RuntimeWarning: invalid value encountered in log\n",
      "  \"\"\"\n",
      "c:\\users\\radio_pc\\.conda\\envs\\bml3.6\\lib\\site-packages\\ipykernel_launcher.py:5: RuntimeWarning: divide by zero encountered in log\n",
      "  \"\"\"\n",
      "c:\\users\\radio_pc\\.conda\\envs\\bml3.6\\lib\\site-packages\\ipykernel_launcher.py:5: RuntimeWarning: invalid value encountered in log\n",
      "  \"\"\"\n"
     ]
    },
    {
     "name": "stdout",
     "output_type": "stream",
     "text": [
      "RMSLE: inf\n",
      "R2 value: -10.4162\n",
      "RMSLE: inf\n",
      "R2 value: -6.2489\n"
     ]
    },
    {
     "name": "stderr",
     "output_type": "stream",
     "text": [
      "c:\\users\\radio_pc\\.conda\\envs\\bml3.6\\lib\\site-packages\\ipykernel_launcher.py:5: RuntimeWarning: divide by zero encountered in log\n",
      "  \"\"\"\n",
      "c:\\users\\radio_pc\\.conda\\envs\\bml3.6\\lib\\site-packages\\ipykernel_launcher.py:5: RuntimeWarning: invalid value encountered in log\n",
      "  \"\"\"\n",
      "c:\\users\\radio_pc\\.conda\\envs\\bml3.6\\lib\\site-packages\\ipykernel_launcher.py:5: RuntimeWarning: divide by zero encountered in log\n",
      "  \"\"\"\n",
      "c:\\users\\radio_pc\\.conda\\envs\\bml3.6\\lib\\site-packages\\ipykernel_launcher.py:5: RuntimeWarning: invalid value encountered in log\n",
      "  \"\"\"\n"
     ]
    },
    {
     "name": "stdout",
     "output_type": "stream",
     "text": [
      "RMSLE: inf\n",
      "R2 value: -10.4162\n",
      "RMSLE: inf\n",
      "R2 value: -6.2489\n"
     ]
    },
    {
     "name": "stderr",
     "output_type": "stream",
     "text": [
      "c:\\users\\radio_pc\\.conda\\envs\\bml3.6\\lib\\site-packages\\ipykernel_launcher.py:5: RuntimeWarning: divide by zero encountered in log\n",
      "  \"\"\"\n",
      "c:\\users\\radio_pc\\.conda\\envs\\bml3.6\\lib\\site-packages\\ipykernel_launcher.py:5: RuntimeWarning: invalid value encountered in log\n",
      "  \"\"\"\n",
      "c:\\users\\radio_pc\\.conda\\envs\\bml3.6\\lib\\site-packages\\ipykernel_launcher.py:5: RuntimeWarning: divide by zero encountered in log\n",
      "  \"\"\"\n",
      "c:\\users\\radio_pc\\.conda\\envs\\bml3.6\\lib\\site-packages\\ipykernel_launcher.py:5: RuntimeWarning: invalid value encountered in log\n",
      "  \"\"\"\n"
     ]
    },
    {
     "name": "stdout",
     "output_type": "stream",
     "text": [
      "RMSLE: inf\n",
      "R2 value: -10.4162\n",
      "RMSLE: inf\n",
      "R2 value: -6.2489\n"
     ]
    },
    {
     "name": "stderr",
     "output_type": "stream",
     "text": [
      "c:\\users\\radio_pc\\.conda\\envs\\bml3.6\\lib\\site-packages\\ipykernel_launcher.py:5: RuntimeWarning: divide by zero encountered in log\n",
      "  \"\"\"\n",
      "c:\\users\\radio_pc\\.conda\\envs\\bml3.6\\lib\\site-packages\\ipykernel_launcher.py:5: RuntimeWarning: invalid value encountered in log\n",
      "  \"\"\"\n",
      "c:\\users\\radio_pc\\.conda\\envs\\bml3.6\\lib\\site-packages\\ipykernel_launcher.py:5: RuntimeWarning: divide by zero encountered in log\n",
      "  \"\"\"\n",
      "c:\\users\\radio_pc\\.conda\\envs\\bml3.6\\lib\\site-packages\\ipykernel_launcher.py:5: RuntimeWarning: invalid value encountered in log\n",
      "  \"\"\"\n"
     ]
    },
    {
     "name": "stdout",
     "output_type": "stream",
     "text": [
      "RMSLE: inf\n",
      "R2 value: -10.4162\n",
      "RMSLE: inf\n",
      "R2 value: -6.2489\n"
     ]
    },
    {
     "name": "stderr",
     "output_type": "stream",
     "text": [
      "c:\\users\\radio_pc\\.conda\\envs\\bml3.6\\lib\\site-packages\\ipykernel_launcher.py:5: RuntimeWarning: divide by zero encountered in log\n",
      "  \"\"\"\n",
      "c:\\users\\radio_pc\\.conda\\envs\\bml3.6\\lib\\site-packages\\ipykernel_launcher.py:5: RuntimeWarning: invalid value encountered in log\n",
      "  \"\"\"\n",
      "c:\\users\\radio_pc\\.conda\\envs\\bml3.6\\lib\\site-packages\\ipykernel_launcher.py:5: RuntimeWarning: divide by zero encountered in log\n",
      "  \"\"\"\n",
      "c:\\users\\radio_pc\\.conda\\envs\\bml3.6\\lib\\site-packages\\ipykernel_launcher.py:5: RuntimeWarning: invalid value encountered in log\n",
      "  \"\"\"\n"
     ]
    },
    {
     "name": "stdout",
     "output_type": "stream",
     "text": [
      "RMSLE: inf\n",
      "R2 value: -10.4162\n",
      "RMSLE: inf\n",
      "R2 value: -6.2489\n"
     ]
    },
    {
     "name": "stderr",
     "output_type": "stream",
     "text": [
      "c:\\users\\radio_pc\\.conda\\envs\\bml3.6\\lib\\site-packages\\ipykernel_launcher.py:5: RuntimeWarning: divide by zero encountered in log\n",
      "  \"\"\"\n",
      "c:\\users\\radio_pc\\.conda\\envs\\bml3.6\\lib\\site-packages\\ipykernel_launcher.py:5: RuntimeWarning: invalid value encountered in log\n",
      "  \"\"\"\n",
      "c:\\users\\radio_pc\\.conda\\envs\\bml3.6\\lib\\site-packages\\ipykernel_launcher.py:5: RuntimeWarning: divide by zero encountered in log\n",
      "  \"\"\"\n",
      "c:\\users\\radio_pc\\.conda\\envs\\bml3.6\\lib\\site-packages\\ipykernel_launcher.py:5: RuntimeWarning: invalid value encountered in log\n",
      "  \"\"\"\n"
     ]
    },
    {
     "name": "stdout",
     "output_type": "stream",
     "text": [
      "RMSLE: inf\n",
      "R2 value: -10.4162\n",
      "RMSLE: inf\n",
      "R2 value: -6.2489\n"
     ]
    },
    {
     "name": "stderr",
     "output_type": "stream",
     "text": [
      "c:\\users\\radio_pc\\.conda\\envs\\bml3.6\\lib\\site-packages\\ipykernel_launcher.py:5: RuntimeWarning: divide by zero encountered in log\n",
      "  \"\"\"\n",
      "c:\\users\\radio_pc\\.conda\\envs\\bml3.6\\lib\\site-packages\\ipykernel_launcher.py:5: RuntimeWarning: invalid value encountered in log\n",
      "  \"\"\"\n",
      "c:\\users\\radio_pc\\.conda\\envs\\bml3.6\\lib\\site-packages\\ipykernel_launcher.py:5: RuntimeWarning: divide by zero encountered in log\n",
      "  \"\"\"\n",
      "c:\\users\\radio_pc\\.conda\\envs\\bml3.6\\lib\\site-packages\\ipykernel_launcher.py:5: RuntimeWarning: invalid value encountered in log\n",
      "  \"\"\"\n"
     ]
    },
    {
     "name": "stdout",
     "output_type": "stream",
     "text": [
      "RMSLE: inf\n",
      "R2 value: -10.4162\n",
      "RMSLE: inf\n",
      "R2 value: -6.2490\n"
     ]
    },
    {
     "name": "stderr",
     "output_type": "stream",
     "text": [
      "c:\\users\\radio_pc\\.conda\\envs\\bml3.6\\lib\\site-packages\\ipykernel_launcher.py:5: RuntimeWarning: divide by zero encountered in log\n",
      "  \"\"\"\n",
      "c:\\users\\radio_pc\\.conda\\envs\\bml3.6\\lib\\site-packages\\ipykernel_launcher.py:5: RuntimeWarning: invalid value encountered in log\n",
      "  \"\"\"\n",
      "c:\\users\\radio_pc\\.conda\\envs\\bml3.6\\lib\\site-packages\\ipykernel_launcher.py:5: RuntimeWarning: divide by zero encountered in log\n",
      "  \"\"\"\n",
      "c:\\users\\radio_pc\\.conda\\envs\\bml3.6\\lib\\site-packages\\ipykernel_launcher.py:5: RuntimeWarning: invalid value encountered in log\n",
      "  \"\"\"\n"
     ]
    },
    {
     "name": "stdout",
     "output_type": "stream",
     "text": [
      "RMSLE: inf\n",
      "R2 value: -10.4162\n",
      "RMSLE: inf\n",
      "R2 value: -6.2490\n"
     ]
    },
    {
     "name": "stderr",
     "output_type": "stream",
     "text": [
      "c:\\users\\radio_pc\\.conda\\envs\\bml3.6\\lib\\site-packages\\ipykernel_launcher.py:5: RuntimeWarning: divide by zero encountered in log\n",
      "  \"\"\"\n",
      "c:\\users\\radio_pc\\.conda\\envs\\bml3.6\\lib\\site-packages\\ipykernel_launcher.py:5: RuntimeWarning: invalid value encountered in log\n",
      "  \"\"\"\n",
      "c:\\users\\radio_pc\\.conda\\envs\\bml3.6\\lib\\site-packages\\ipykernel_launcher.py:5: RuntimeWarning: divide by zero encountered in log\n",
      "  \"\"\"\n",
      "c:\\users\\radio_pc\\.conda\\envs\\bml3.6\\lib\\site-packages\\ipykernel_launcher.py:5: RuntimeWarning: invalid value encountered in log\n",
      "  \"\"\"\n"
     ]
    },
    {
     "name": "stdout",
     "output_type": "stream",
     "text": [
      "RMSLE: inf\n",
      "R2 value: -10.4162\n",
      "RMSLE: inf\n",
      "R2 value: -6.2490\n"
     ]
    },
    {
     "name": "stderr",
     "output_type": "stream",
     "text": [
      "c:\\users\\radio_pc\\.conda\\envs\\bml3.6\\lib\\site-packages\\ipykernel_launcher.py:5: RuntimeWarning: divide by zero encountered in log\n",
      "  \"\"\"\n",
      "c:\\users\\radio_pc\\.conda\\envs\\bml3.6\\lib\\site-packages\\ipykernel_launcher.py:5: RuntimeWarning: invalid value encountered in log\n",
      "  \"\"\"\n",
      "c:\\users\\radio_pc\\.conda\\envs\\bml3.6\\lib\\site-packages\\ipykernel_launcher.py:5: RuntimeWarning: divide by zero encountered in log\n",
      "  \"\"\"\n",
      "c:\\users\\radio_pc\\.conda\\envs\\bml3.6\\lib\\site-packages\\ipykernel_launcher.py:5: RuntimeWarning: invalid value encountered in log\n",
      "  \"\"\"\n"
     ]
    },
    {
     "name": "stdout",
     "output_type": "stream",
     "text": [
      "RMSLE: inf\n",
      "R2 value: -10.4162\n",
      "RMSLE: inf\n",
      "R2 value: -6.2490\n"
     ]
    },
    {
     "name": "stderr",
     "output_type": "stream",
     "text": [
      "c:\\users\\radio_pc\\.conda\\envs\\bml3.6\\lib\\site-packages\\ipykernel_launcher.py:5: RuntimeWarning: divide by zero encountered in log\n",
      "  \"\"\"\n",
      "c:\\users\\radio_pc\\.conda\\envs\\bml3.6\\lib\\site-packages\\ipykernel_launcher.py:5: RuntimeWarning: invalid value encountered in log\n",
      "  \"\"\"\n",
      "c:\\users\\radio_pc\\.conda\\envs\\bml3.6\\lib\\site-packages\\ipykernel_launcher.py:5: RuntimeWarning: divide by zero encountered in log\n",
      "  \"\"\"\n",
      "c:\\users\\radio_pc\\.conda\\envs\\bml3.6\\lib\\site-packages\\ipykernel_launcher.py:5: RuntimeWarning: invalid value encountered in log\n",
      "  \"\"\"\n"
     ]
    },
    {
     "name": "stdout",
     "output_type": "stream",
     "text": [
      "RMSLE: inf\n",
      "R2 value: -10.4162\n",
      "RMSLE: inf\n",
      "R2 value: -6.2490\n"
     ]
    },
    {
     "name": "stderr",
     "output_type": "stream",
     "text": [
      "c:\\users\\radio_pc\\.conda\\envs\\bml3.6\\lib\\site-packages\\ipykernel_launcher.py:5: RuntimeWarning: divide by zero encountered in log\n",
      "  \"\"\"\n",
      "c:\\users\\radio_pc\\.conda\\envs\\bml3.6\\lib\\site-packages\\ipykernel_launcher.py:5: RuntimeWarning: invalid value encountered in log\n",
      "  \"\"\"\n",
      "c:\\users\\radio_pc\\.conda\\envs\\bml3.6\\lib\\site-packages\\ipykernel_launcher.py:5: RuntimeWarning: divide by zero encountered in log\n",
      "  \"\"\"\n",
      "c:\\users\\radio_pc\\.conda\\envs\\bml3.6\\lib\\site-packages\\ipykernel_launcher.py:5: RuntimeWarning: invalid value encountered in log\n",
      "  \"\"\"\n"
     ]
    },
    {
     "name": "stdout",
     "output_type": "stream",
     "text": [
      "RMSLE: inf\n",
      "R2 value: -10.4162\n",
      "RMSLE: inf\n",
      "R2 value: -6.2490\n"
     ]
    },
    {
     "name": "stderr",
     "output_type": "stream",
     "text": [
      "c:\\users\\radio_pc\\.conda\\envs\\bml3.6\\lib\\site-packages\\ipykernel_launcher.py:5: RuntimeWarning: divide by zero encountered in log\n",
      "  \"\"\"\n",
      "c:\\users\\radio_pc\\.conda\\envs\\bml3.6\\lib\\site-packages\\ipykernel_launcher.py:5: RuntimeWarning: invalid value encountered in log\n",
      "  \"\"\"\n",
      "c:\\users\\radio_pc\\.conda\\envs\\bml3.6\\lib\\site-packages\\ipykernel_launcher.py:5: RuntimeWarning: divide by zero encountered in log\n",
      "  \"\"\"\n",
      "c:\\users\\radio_pc\\.conda\\envs\\bml3.6\\lib\\site-packages\\ipykernel_launcher.py:5: RuntimeWarning: invalid value encountered in log\n",
      "  \"\"\"\n"
     ]
    },
    {
     "name": "stdout",
     "output_type": "stream",
     "text": [
      "RMSLE: inf\n",
      "R2 value: -10.4162\n",
      "RMSLE: inf\n",
      "R2 value: -6.2490\n"
     ]
    },
    {
     "name": "stderr",
     "output_type": "stream",
     "text": [
      "c:\\users\\radio_pc\\.conda\\envs\\bml3.6\\lib\\site-packages\\ipykernel_launcher.py:5: RuntimeWarning: divide by zero encountered in log\n",
      "  \"\"\"\n",
      "c:\\users\\radio_pc\\.conda\\envs\\bml3.6\\lib\\site-packages\\ipykernel_launcher.py:5: RuntimeWarning: invalid value encountered in log\n",
      "  \"\"\"\n",
      "c:\\users\\radio_pc\\.conda\\envs\\bml3.6\\lib\\site-packages\\ipykernel_launcher.py:5: RuntimeWarning: divide by zero encountered in log\n",
      "  \"\"\"\n",
      "c:\\users\\radio_pc\\.conda\\envs\\bml3.6\\lib\\site-packages\\ipykernel_launcher.py:5: RuntimeWarning: invalid value encountered in log\n",
      "  \"\"\"\n"
     ]
    },
    {
     "name": "stdout",
     "output_type": "stream",
     "text": [
      "RMSLE: inf\n",
      "R2 value: -10.4162\n",
      "RMSLE: inf\n",
      "R2 value: -6.2490\n"
     ]
    },
    {
     "name": "stderr",
     "output_type": "stream",
     "text": [
      "c:\\users\\radio_pc\\.conda\\envs\\bml3.6\\lib\\site-packages\\ipykernel_launcher.py:5: RuntimeWarning: divide by zero encountered in log\n",
      "  \"\"\"\n",
      "c:\\users\\radio_pc\\.conda\\envs\\bml3.6\\lib\\site-packages\\ipykernel_launcher.py:5: RuntimeWarning: invalid value encountered in log\n",
      "  \"\"\"\n",
      "c:\\users\\radio_pc\\.conda\\envs\\bml3.6\\lib\\site-packages\\ipykernel_launcher.py:5: RuntimeWarning: divide by zero encountered in log\n",
      "  \"\"\"\n",
      "c:\\users\\radio_pc\\.conda\\envs\\bml3.6\\lib\\site-packages\\ipykernel_launcher.py:5: RuntimeWarning: invalid value encountered in log\n",
      "  \"\"\"\n"
     ]
    },
    {
     "name": "stdout",
     "output_type": "stream",
     "text": [
      "RMSLE: inf\n",
      "R2 value: -10.4162\n",
      "RMSLE: inf\n",
      "R2 value: -6.2490\n"
     ]
    },
    {
     "name": "stderr",
     "output_type": "stream",
     "text": [
      "c:\\users\\radio_pc\\.conda\\envs\\bml3.6\\lib\\site-packages\\ipykernel_launcher.py:5: RuntimeWarning: divide by zero encountered in log\n",
      "  \"\"\"\n",
      "c:\\users\\radio_pc\\.conda\\envs\\bml3.6\\lib\\site-packages\\ipykernel_launcher.py:5: RuntimeWarning: invalid value encountered in log\n",
      "  \"\"\"\n",
      "c:\\users\\radio_pc\\.conda\\envs\\bml3.6\\lib\\site-packages\\ipykernel_launcher.py:5: RuntimeWarning: divide by zero encountered in log\n",
      "  \"\"\"\n",
      "c:\\users\\radio_pc\\.conda\\envs\\bml3.6\\lib\\site-packages\\ipykernel_launcher.py:5: RuntimeWarning: invalid value encountered in log\n",
      "  \"\"\"\n"
     ]
    },
    {
     "name": "stdout",
     "output_type": "stream",
     "text": [
      "RMSLE: inf\n",
      "R2 value: -10.4162\n",
      "RMSLE: inf\n",
      "R2 value: -6.2490\n"
     ]
    },
    {
     "name": "stderr",
     "output_type": "stream",
     "text": [
      "c:\\users\\radio_pc\\.conda\\envs\\bml3.6\\lib\\site-packages\\ipykernel_launcher.py:5: RuntimeWarning: divide by zero encountered in log\n",
      "  \"\"\"\n",
      "c:\\users\\radio_pc\\.conda\\envs\\bml3.6\\lib\\site-packages\\ipykernel_launcher.py:5: RuntimeWarning: invalid value encountered in log\n",
      "  \"\"\"\n",
      "c:\\users\\radio_pc\\.conda\\envs\\bml3.6\\lib\\site-packages\\ipykernel_launcher.py:5: RuntimeWarning: divide by zero encountered in log\n",
      "  \"\"\"\n",
      "c:\\users\\radio_pc\\.conda\\envs\\bml3.6\\lib\\site-packages\\ipykernel_launcher.py:5: RuntimeWarning: invalid value encountered in log\n",
      "  \"\"\"\n"
     ]
    },
    {
     "name": "stdout",
     "output_type": "stream",
     "text": [
      "RMSLE: inf\n",
      "R2 value: -10.4162\n",
      "RMSLE: inf\n",
      "R2 value: -6.2490\n"
     ]
    },
    {
     "name": "stderr",
     "output_type": "stream",
     "text": [
      "c:\\users\\radio_pc\\.conda\\envs\\bml3.6\\lib\\site-packages\\ipykernel_launcher.py:5: RuntimeWarning: divide by zero encountered in log\n",
      "  \"\"\"\n",
      "c:\\users\\radio_pc\\.conda\\envs\\bml3.6\\lib\\site-packages\\ipykernel_launcher.py:5: RuntimeWarning: invalid value encountered in log\n",
      "  \"\"\"\n",
      "c:\\users\\radio_pc\\.conda\\envs\\bml3.6\\lib\\site-packages\\ipykernel_launcher.py:5: RuntimeWarning: divide by zero encountered in log\n",
      "  \"\"\"\n",
      "c:\\users\\radio_pc\\.conda\\envs\\bml3.6\\lib\\site-packages\\ipykernel_launcher.py:5: RuntimeWarning: invalid value encountered in log\n",
      "  \"\"\"\n"
     ]
    },
    {
     "name": "stdout",
     "output_type": "stream",
     "text": [
      "RMSLE: inf\n",
      "R2 value: -10.4162\n",
      "RMSLE: inf\n",
      "R2 value: -6.2490\n"
     ]
    },
    {
     "name": "stderr",
     "output_type": "stream",
     "text": [
      "c:\\users\\radio_pc\\.conda\\envs\\bml3.6\\lib\\site-packages\\ipykernel_launcher.py:5: RuntimeWarning: divide by zero encountered in log\n",
      "  \"\"\"\n",
      "c:\\users\\radio_pc\\.conda\\envs\\bml3.6\\lib\\site-packages\\ipykernel_launcher.py:5: RuntimeWarning: invalid value encountered in log\n",
      "  \"\"\"\n",
      "c:\\users\\radio_pc\\.conda\\envs\\bml3.6\\lib\\site-packages\\ipykernel_launcher.py:5: RuntimeWarning: divide by zero encountered in log\n",
      "  \"\"\"\n",
      "c:\\users\\radio_pc\\.conda\\envs\\bml3.6\\lib\\site-packages\\ipykernel_launcher.py:5: RuntimeWarning: invalid value encountered in log\n",
      "  \"\"\"\n"
     ]
    },
    {
     "name": "stdout",
     "output_type": "stream",
     "text": [
      "RMSLE: inf\n",
      "R2 value: -10.4162\n",
      "RMSLE: inf\n",
      "R2 value: -6.2490\n"
     ]
    },
    {
     "name": "stderr",
     "output_type": "stream",
     "text": [
      "c:\\users\\radio_pc\\.conda\\envs\\bml3.6\\lib\\site-packages\\ipykernel_launcher.py:5: RuntimeWarning: divide by zero encountered in log\n",
      "  \"\"\"\n",
      "c:\\users\\radio_pc\\.conda\\envs\\bml3.6\\lib\\site-packages\\ipykernel_launcher.py:5: RuntimeWarning: invalid value encountered in log\n",
      "  \"\"\"\n",
      "c:\\users\\radio_pc\\.conda\\envs\\bml3.6\\lib\\site-packages\\ipykernel_launcher.py:5: RuntimeWarning: divide by zero encountered in log\n",
      "  \"\"\"\n",
      "c:\\users\\radio_pc\\.conda\\envs\\bml3.6\\lib\\site-packages\\ipykernel_launcher.py:5: RuntimeWarning: invalid value encountered in log\n",
      "  \"\"\"\n"
     ]
    },
    {
     "name": "stdout",
     "output_type": "stream",
     "text": [
      "RMSLE: inf\n",
      "R2 value: -10.4162\n",
      "RMSLE: inf\n",
      "R2 value: -6.2490\n"
     ]
    },
    {
     "name": "stderr",
     "output_type": "stream",
     "text": [
      "c:\\users\\radio_pc\\.conda\\envs\\bml3.6\\lib\\site-packages\\ipykernel_launcher.py:5: RuntimeWarning: divide by zero encountered in log\n",
      "  \"\"\"\n",
      "c:\\users\\radio_pc\\.conda\\envs\\bml3.6\\lib\\site-packages\\ipykernel_launcher.py:5: RuntimeWarning: invalid value encountered in log\n",
      "  \"\"\"\n",
      "c:\\users\\radio_pc\\.conda\\envs\\bml3.6\\lib\\site-packages\\ipykernel_launcher.py:5: RuntimeWarning: divide by zero encountered in log\n",
      "  \"\"\"\n",
      "c:\\users\\radio_pc\\.conda\\envs\\bml3.6\\lib\\site-packages\\ipykernel_launcher.py:5: RuntimeWarning: invalid value encountered in log\n",
      "  \"\"\"\n"
     ]
    },
    {
     "name": "stdout",
     "output_type": "stream",
     "text": [
      "RMSLE: inf\n",
      "R2 value: -10.4162\n",
      "RMSLE: inf\n",
      "R2 value: -6.2490\n"
     ]
    },
    {
     "name": "stderr",
     "output_type": "stream",
     "text": [
      "c:\\users\\radio_pc\\.conda\\envs\\bml3.6\\lib\\site-packages\\ipykernel_launcher.py:5: RuntimeWarning: divide by zero encountered in log\n",
      "  \"\"\"\n",
      "c:\\users\\radio_pc\\.conda\\envs\\bml3.6\\lib\\site-packages\\ipykernel_launcher.py:5: RuntimeWarning: invalid value encountered in log\n",
      "  \"\"\"\n",
      "c:\\users\\radio_pc\\.conda\\envs\\bml3.6\\lib\\site-packages\\ipykernel_launcher.py:5: RuntimeWarning: divide by zero encountered in log\n",
      "  \"\"\"\n",
      "c:\\users\\radio_pc\\.conda\\envs\\bml3.6\\lib\\site-packages\\ipykernel_launcher.py:5: RuntimeWarning: invalid value encountered in log\n",
      "  \"\"\"\n"
     ]
    },
    {
     "name": "stdout",
     "output_type": "stream",
     "text": [
      "RMSLE: inf\n",
      "R2 value: -10.4162\n",
      "RMSLE: inf\n",
      "R2 value: -6.2490\n"
     ]
    },
    {
     "name": "stderr",
     "output_type": "stream",
     "text": [
      "c:\\users\\radio_pc\\.conda\\envs\\bml3.6\\lib\\site-packages\\ipykernel_launcher.py:5: RuntimeWarning: divide by zero encountered in log\n",
      "  \"\"\"\n",
      "c:\\users\\radio_pc\\.conda\\envs\\bml3.6\\lib\\site-packages\\ipykernel_launcher.py:5: RuntimeWarning: invalid value encountered in log\n",
      "  \"\"\"\n",
      "c:\\users\\radio_pc\\.conda\\envs\\bml3.6\\lib\\site-packages\\ipykernel_launcher.py:5: RuntimeWarning: divide by zero encountered in log\n",
      "  \"\"\"\n",
      "c:\\users\\radio_pc\\.conda\\envs\\bml3.6\\lib\\site-packages\\ipykernel_launcher.py:5: RuntimeWarning: invalid value encountered in log\n",
      "  \"\"\"\n"
     ]
    },
    {
     "name": "stdout",
     "output_type": "stream",
     "text": [
      "RMSLE: inf\n",
      "R2 value: -10.4162\n",
      "RMSLE: inf\n",
      "R2 value: -6.2490\n"
     ]
    },
    {
     "name": "stderr",
     "output_type": "stream",
     "text": [
      "c:\\users\\radio_pc\\.conda\\envs\\bml3.6\\lib\\site-packages\\ipykernel_launcher.py:5: RuntimeWarning: divide by zero encountered in log\n",
      "  \"\"\"\n",
      "c:\\users\\radio_pc\\.conda\\envs\\bml3.6\\lib\\site-packages\\ipykernel_launcher.py:5: RuntimeWarning: invalid value encountered in log\n",
      "  \"\"\"\n",
      "c:\\users\\radio_pc\\.conda\\envs\\bml3.6\\lib\\site-packages\\ipykernel_launcher.py:5: RuntimeWarning: divide by zero encountered in log\n",
      "  \"\"\"\n",
      "c:\\users\\radio_pc\\.conda\\envs\\bml3.6\\lib\\site-packages\\ipykernel_launcher.py:5: RuntimeWarning: invalid value encountered in log\n",
      "  \"\"\"\n"
     ]
    },
    {
     "name": "stdout",
     "output_type": "stream",
     "text": [
      "RMSLE: inf\n",
      "R2 value: -10.4162\n",
      "RMSLE: inf\n",
      "R2 value: -6.2490\n"
     ]
    },
    {
     "name": "stderr",
     "output_type": "stream",
     "text": [
      "c:\\users\\radio_pc\\.conda\\envs\\bml3.6\\lib\\site-packages\\ipykernel_launcher.py:5: RuntimeWarning: divide by zero encountered in log\n",
      "  \"\"\"\n",
      "c:\\users\\radio_pc\\.conda\\envs\\bml3.6\\lib\\site-packages\\ipykernel_launcher.py:5: RuntimeWarning: invalid value encountered in log\n",
      "  \"\"\"\n",
      "c:\\users\\radio_pc\\.conda\\envs\\bml3.6\\lib\\site-packages\\ipykernel_launcher.py:5: RuntimeWarning: divide by zero encountered in log\n",
      "  \"\"\"\n",
      "c:\\users\\radio_pc\\.conda\\envs\\bml3.6\\lib\\site-packages\\ipykernel_launcher.py:5: RuntimeWarning: invalid value encountered in log\n",
      "  \"\"\"\n"
     ]
    },
    {
     "name": "stdout",
     "output_type": "stream",
     "text": [
      "RMSLE: inf\n",
      "R2 value: -10.4162\n",
      "RMSLE: inf\n",
      "R2 value: -6.2490\n"
     ]
    },
    {
     "name": "stderr",
     "output_type": "stream",
     "text": [
      "c:\\users\\radio_pc\\.conda\\envs\\bml3.6\\lib\\site-packages\\ipykernel_launcher.py:5: RuntimeWarning: divide by zero encountered in log\n",
      "  \"\"\"\n",
      "c:\\users\\radio_pc\\.conda\\envs\\bml3.6\\lib\\site-packages\\ipykernel_launcher.py:5: RuntimeWarning: invalid value encountered in log\n",
      "  \"\"\"\n",
      "c:\\users\\radio_pc\\.conda\\envs\\bml3.6\\lib\\site-packages\\ipykernel_launcher.py:5: RuntimeWarning: divide by zero encountered in log\n",
      "  \"\"\"\n",
      "c:\\users\\radio_pc\\.conda\\envs\\bml3.6\\lib\\site-packages\\ipykernel_launcher.py:5: RuntimeWarning: invalid value encountered in log\n",
      "  \"\"\"\n"
     ]
    },
    {
     "name": "stdout",
     "output_type": "stream",
     "text": [
      "RMSLE: inf\n",
      "R2 value: -10.4162\n",
      "RMSLE: inf\n",
      "R2 value: -6.2490\n"
     ]
    },
    {
     "name": "stderr",
     "output_type": "stream",
     "text": [
      "c:\\users\\radio_pc\\.conda\\envs\\bml3.6\\lib\\site-packages\\ipykernel_launcher.py:5: RuntimeWarning: divide by zero encountered in log\n",
      "  \"\"\"\n",
      "c:\\users\\radio_pc\\.conda\\envs\\bml3.6\\lib\\site-packages\\ipykernel_launcher.py:5: RuntimeWarning: invalid value encountered in log\n",
      "  \"\"\"\n",
      "c:\\users\\radio_pc\\.conda\\envs\\bml3.6\\lib\\site-packages\\ipykernel_launcher.py:5: RuntimeWarning: divide by zero encountered in log\n",
      "  \"\"\"\n",
      "c:\\users\\radio_pc\\.conda\\envs\\bml3.6\\lib\\site-packages\\ipykernel_launcher.py:5: RuntimeWarning: invalid value encountered in log\n",
      "  \"\"\"\n"
     ]
    },
    {
     "name": "stdout",
     "output_type": "stream",
     "text": [
      "RMSLE: inf\n",
      "R2 value: -10.4162\n",
      "RMSLE: inf\n",
      "R2 value: -6.2490\n"
     ]
    },
    {
     "name": "stderr",
     "output_type": "stream",
     "text": [
      "c:\\users\\radio_pc\\.conda\\envs\\bml3.6\\lib\\site-packages\\ipykernel_launcher.py:5: RuntimeWarning: divide by zero encountered in log\n",
      "  \"\"\"\n",
      "c:\\users\\radio_pc\\.conda\\envs\\bml3.6\\lib\\site-packages\\ipykernel_launcher.py:5: RuntimeWarning: invalid value encountered in log\n",
      "  \"\"\"\n",
      "c:\\users\\radio_pc\\.conda\\envs\\bml3.6\\lib\\site-packages\\ipykernel_launcher.py:5: RuntimeWarning: divide by zero encountered in log\n",
      "  \"\"\"\n",
      "c:\\users\\radio_pc\\.conda\\envs\\bml3.6\\lib\\site-packages\\ipykernel_launcher.py:5: RuntimeWarning: invalid value encountered in log\n",
      "  \"\"\"\n"
     ]
    },
    {
     "name": "stdout",
     "output_type": "stream",
     "text": [
      "RMSLE: inf\n",
      "R2 value: -10.4162\n",
      "RMSLE: inf\n",
      "R2 value: -6.2490\n"
     ]
    },
    {
     "name": "stderr",
     "output_type": "stream",
     "text": [
      "c:\\users\\radio_pc\\.conda\\envs\\bml3.6\\lib\\site-packages\\ipykernel_launcher.py:5: RuntimeWarning: divide by zero encountered in log\n",
      "  \"\"\"\n",
      "c:\\users\\radio_pc\\.conda\\envs\\bml3.6\\lib\\site-packages\\ipykernel_launcher.py:5: RuntimeWarning: invalid value encountered in log\n",
      "  \"\"\"\n",
      "c:\\users\\radio_pc\\.conda\\envs\\bml3.6\\lib\\site-packages\\ipykernel_launcher.py:5: RuntimeWarning: divide by zero encountered in log\n",
      "  \"\"\"\n",
      "c:\\users\\radio_pc\\.conda\\envs\\bml3.6\\lib\\site-packages\\ipykernel_launcher.py:5: RuntimeWarning: invalid value encountered in log\n",
      "  \"\"\"\n"
     ]
    },
    {
     "name": "stdout",
     "output_type": "stream",
     "text": [
      "RMSLE: inf\n",
      "R2 value: -10.4162\n",
      "RMSLE: inf\n",
      "R2 value: -6.2490\n"
     ]
    },
    {
     "name": "stderr",
     "output_type": "stream",
     "text": [
      "c:\\users\\radio_pc\\.conda\\envs\\bml3.6\\lib\\site-packages\\ipykernel_launcher.py:5: RuntimeWarning: divide by zero encountered in log\n",
      "  \"\"\"\n",
      "c:\\users\\radio_pc\\.conda\\envs\\bml3.6\\lib\\site-packages\\ipykernel_launcher.py:5: RuntimeWarning: invalid value encountered in log\n",
      "  \"\"\"\n",
      "c:\\users\\radio_pc\\.conda\\envs\\bml3.6\\lib\\site-packages\\ipykernel_launcher.py:5: RuntimeWarning: divide by zero encountered in log\n",
      "  \"\"\"\n",
      "c:\\users\\radio_pc\\.conda\\envs\\bml3.6\\lib\\site-packages\\ipykernel_launcher.py:5: RuntimeWarning: invalid value encountered in log\n",
      "  \"\"\"\n"
     ]
    },
    {
     "name": "stdout",
     "output_type": "stream",
     "text": [
      "RMSLE: inf\n",
      "R2 value: -10.4162\n",
      "RMSLE: inf\n",
      "R2 value: -6.2490\n"
     ]
    },
    {
     "name": "stderr",
     "output_type": "stream",
     "text": [
      "c:\\users\\radio_pc\\.conda\\envs\\bml3.6\\lib\\site-packages\\ipykernel_launcher.py:5: RuntimeWarning: divide by zero encountered in log\n",
      "  \"\"\"\n",
      "c:\\users\\radio_pc\\.conda\\envs\\bml3.6\\lib\\site-packages\\ipykernel_launcher.py:5: RuntimeWarning: invalid value encountered in log\n",
      "  \"\"\"\n",
      "c:\\users\\radio_pc\\.conda\\envs\\bml3.6\\lib\\site-packages\\ipykernel_launcher.py:5: RuntimeWarning: divide by zero encountered in log\n",
      "  \"\"\"\n",
      "c:\\users\\radio_pc\\.conda\\envs\\bml3.6\\lib\\site-packages\\ipykernel_launcher.py:5: RuntimeWarning: invalid value encountered in log\n",
      "  \"\"\"\n"
     ]
    },
    {
     "name": "stdout",
     "output_type": "stream",
     "text": [
      "RMSLE: inf\n",
      "R2 value: -10.4162\n",
      "RMSLE: inf\n",
      "R2 value: -6.2490\n"
     ]
    },
    {
     "name": "stderr",
     "output_type": "stream",
     "text": [
      "c:\\users\\radio_pc\\.conda\\envs\\bml3.6\\lib\\site-packages\\ipykernel_launcher.py:5: RuntimeWarning: divide by zero encountered in log\n",
      "  \"\"\"\n",
      "c:\\users\\radio_pc\\.conda\\envs\\bml3.6\\lib\\site-packages\\ipykernel_launcher.py:5: RuntimeWarning: invalid value encountered in log\n",
      "  \"\"\"\n",
      "c:\\users\\radio_pc\\.conda\\envs\\bml3.6\\lib\\site-packages\\ipykernel_launcher.py:5: RuntimeWarning: divide by zero encountered in log\n",
      "  \"\"\"\n",
      "c:\\users\\radio_pc\\.conda\\envs\\bml3.6\\lib\\site-packages\\ipykernel_launcher.py:5: RuntimeWarning: invalid value encountered in log\n",
      "  \"\"\"\n"
     ]
    },
    {
     "name": "stdout",
     "output_type": "stream",
     "text": [
      "RMSLE: inf\n",
      "R2 value: -10.4162\n",
      "RMSLE: inf\n",
      "R2 value: -6.2490\n"
     ]
    },
    {
     "name": "stderr",
     "output_type": "stream",
     "text": [
      "c:\\users\\radio_pc\\.conda\\envs\\bml3.6\\lib\\site-packages\\ipykernel_launcher.py:5: RuntimeWarning: divide by zero encountered in log\n",
      "  \"\"\"\n",
      "c:\\users\\radio_pc\\.conda\\envs\\bml3.6\\lib\\site-packages\\ipykernel_launcher.py:5: RuntimeWarning: invalid value encountered in log\n",
      "  \"\"\"\n",
      "c:\\users\\radio_pc\\.conda\\envs\\bml3.6\\lib\\site-packages\\ipykernel_launcher.py:5: RuntimeWarning: divide by zero encountered in log\n",
      "  \"\"\"\n",
      "c:\\users\\radio_pc\\.conda\\envs\\bml3.6\\lib\\site-packages\\ipykernel_launcher.py:5: RuntimeWarning: invalid value encountered in log\n",
      "  \"\"\"\n"
     ]
    },
    {
     "name": "stdout",
     "output_type": "stream",
     "text": [
      "RMSLE: inf\n",
      "R2 value: -10.4162\n",
      "RMSLE: inf\n",
      "R2 value: -6.2490\n"
     ]
    },
    {
     "name": "stderr",
     "output_type": "stream",
     "text": [
      "c:\\users\\radio_pc\\.conda\\envs\\bml3.6\\lib\\site-packages\\ipykernel_launcher.py:5: RuntimeWarning: divide by zero encountered in log\n",
      "  \"\"\"\n",
      "c:\\users\\radio_pc\\.conda\\envs\\bml3.6\\lib\\site-packages\\ipykernel_launcher.py:5: RuntimeWarning: invalid value encountered in log\n",
      "  \"\"\"\n",
      "c:\\users\\radio_pc\\.conda\\envs\\bml3.6\\lib\\site-packages\\ipykernel_launcher.py:5: RuntimeWarning: divide by zero encountered in log\n",
      "  \"\"\"\n",
      "c:\\users\\radio_pc\\.conda\\envs\\bml3.6\\lib\\site-packages\\ipykernel_launcher.py:5: RuntimeWarning: invalid value encountered in log\n",
      "  \"\"\"\n"
     ]
    },
    {
     "name": "stdout",
     "output_type": "stream",
     "text": [
      "RMSLE: inf\n",
      "R2 value: -10.4162\n",
      "RMSLE: inf\n",
      "R2 value: -6.2490\n"
     ]
    },
    {
     "name": "stderr",
     "output_type": "stream",
     "text": [
      "c:\\users\\radio_pc\\.conda\\envs\\bml3.6\\lib\\site-packages\\ipykernel_launcher.py:5: RuntimeWarning: divide by zero encountered in log\n",
      "  \"\"\"\n",
      "c:\\users\\radio_pc\\.conda\\envs\\bml3.6\\lib\\site-packages\\ipykernel_launcher.py:5: RuntimeWarning: invalid value encountered in log\n",
      "  \"\"\"\n",
      "c:\\users\\radio_pc\\.conda\\envs\\bml3.6\\lib\\site-packages\\ipykernel_launcher.py:5: RuntimeWarning: divide by zero encountered in log\n",
      "  \"\"\"\n",
      "c:\\users\\radio_pc\\.conda\\envs\\bml3.6\\lib\\site-packages\\ipykernel_launcher.py:5: RuntimeWarning: invalid value encountered in log\n",
      "  \"\"\"\n"
     ]
    },
    {
     "name": "stdout",
     "output_type": "stream",
     "text": [
      "RMSLE: inf\n",
      "R2 value: -10.4162\n",
      "RMSLE: inf\n",
      "R2 value: -6.2490\n"
     ]
    },
    {
     "name": "stderr",
     "output_type": "stream",
     "text": [
      "c:\\users\\radio_pc\\.conda\\envs\\bml3.6\\lib\\site-packages\\ipykernel_launcher.py:5: RuntimeWarning: divide by zero encountered in log\n",
      "  \"\"\"\n",
      "c:\\users\\radio_pc\\.conda\\envs\\bml3.6\\lib\\site-packages\\ipykernel_launcher.py:5: RuntimeWarning: invalid value encountered in log\n",
      "  \"\"\"\n",
      "c:\\users\\radio_pc\\.conda\\envs\\bml3.6\\lib\\site-packages\\ipykernel_launcher.py:5: RuntimeWarning: divide by zero encountered in log\n",
      "  \"\"\"\n",
      "c:\\users\\radio_pc\\.conda\\envs\\bml3.6\\lib\\site-packages\\ipykernel_launcher.py:5: RuntimeWarning: invalid value encountered in log\n",
      "  \"\"\"\n"
     ]
    },
    {
     "name": "stdout",
     "output_type": "stream",
     "text": [
      "RMSLE: inf\n",
      "R2 value: -10.4162\n",
      "RMSLE: inf\n",
      "R2 value: -6.2490\n"
     ]
    },
    {
     "name": "stderr",
     "output_type": "stream",
     "text": [
      "c:\\users\\radio_pc\\.conda\\envs\\bml3.6\\lib\\site-packages\\ipykernel_launcher.py:5: RuntimeWarning: divide by zero encountered in log\n",
      "  \"\"\"\n",
      "c:\\users\\radio_pc\\.conda\\envs\\bml3.6\\lib\\site-packages\\ipykernel_launcher.py:5: RuntimeWarning: invalid value encountered in log\n",
      "  \"\"\"\n",
      "c:\\users\\radio_pc\\.conda\\envs\\bml3.6\\lib\\site-packages\\ipykernel_launcher.py:5: RuntimeWarning: divide by zero encountered in log\n",
      "  \"\"\"\n",
      "c:\\users\\radio_pc\\.conda\\envs\\bml3.6\\lib\\site-packages\\ipykernel_launcher.py:5: RuntimeWarning: invalid value encountered in log\n",
      "  \"\"\"\n"
     ]
    },
    {
     "name": "stdout",
     "output_type": "stream",
     "text": [
      "RMSLE: inf\n",
      "R2 value: -10.4162\n",
      "RMSLE: inf\n",
      "R2 value: -6.2490\n"
     ]
    },
    {
     "name": "stderr",
     "output_type": "stream",
     "text": [
      "c:\\users\\radio_pc\\.conda\\envs\\bml3.6\\lib\\site-packages\\ipykernel_launcher.py:5: RuntimeWarning: divide by zero encountered in log\n",
      "  \"\"\"\n",
      "c:\\users\\radio_pc\\.conda\\envs\\bml3.6\\lib\\site-packages\\ipykernel_launcher.py:5: RuntimeWarning: invalid value encountered in log\n",
      "  \"\"\"\n",
      "c:\\users\\radio_pc\\.conda\\envs\\bml3.6\\lib\\site-packages\\ipykernel_launcher.py:5: RuntimeWarning: divide by zero encountered in log\n",
      "  \"\"\"\n",
      "c:\\users\\radio_pc\\.conda\\envs\\bml3.6\\lib\\site-packages\\ipykernel_launcher.py:5: RuntimeWarning: invalid value encountered in log\n",
      "  \"\"\"\n"
     ]
    },
    {
     "name": "stdout",
     "output_type": "stream",
     "text": [
      "RMSLE: inf\n",
      "R2 value: -10.4162\n",
      "RMSLE: inf\n",
      "R2 value: -6.2490\n"
     ]
    },
    {
     "name": "stderr",
     "output_type": "stream",
     "text": [
      "c:\\users\\radio_pc\\.conda\\envs\\bml3.6\\lib\\site-packages\\ipykernel_launcher.py:5: RuntimeWarning: divide by zero encountered in log\n",
      "  \"\"\"\n",
      "c:\\users\\radio_pc\\.conda\\envs\\bml3.6\\lib\\site-packages\\ipykernel_launcher.py:5: RuntimeWarning: invalid value encountered in log\n",
      "  \"\"\"\n",
      "c:\\users\\radio_pc\\.conda\\envs\\bml3.6\\lib\\site-packages\\ipykernel_launcher.py:5: RuntimeWarning: divide by zero encountered in log\n",
      "  \"\"\"\n",
      "c:\\users\\radio_pc\\.conda\\envs\\bml3.6\\lib\\site-packages\\ipykernel_launcher.py:5: RuntimeWarning: invalid value encountered in log\n",
      "  \"\"\"\n"
     ]
    },
    {
     "name": "stdout",
     "output_type": "stream",
     "text": [
      "RMSLE: inf\n",
      "R2 value: -10.4162\n",
      "RMSLE: inf\n",
      "R2 value: -6.2490\n"
     ]
    },
    {
     "name": "stderr",
     "output_type": "stream",
     "text": [
      "c:\\users\\radio_pc\\.conda\\envs\\bml3.6\\lib\\site-packages\\ipykernel_launcher.py:5: RuntimeWarning: divide by zero encountered in log\n",
      "  \"\"\"\n",
      "c:\\users\\radio_pc\\.conda\\envs\\bml3.6\\lib\\site-packages\\ipykernel_launcher.py:5: RuntimeWarning: invalid value encountered in log\n",
      "  \"\"\"\n",
      "c:\\users\\radio_pc\\.conda\\envs\\bml3.6\\lib\\site-packages\\ipykernel_launcher.py:5: RuntimeWarning: divide by zero encountered in log\n",
      "  \"\"\"\n",
      "c:\\users\\radio_pc\\.conda\\envs\\bml3.6\\lib\\site-packages\\ipykernel_launcher.py:5: RuntimeWarning: invalid value encountered in log\n",
      "  \"\"\"\n"
     ]
    },
    {
     "name": "stdout",
     "output_type": "stream",
     "text": [
      "RMSLE: inf\n",
      "R2 value: -10.4162\n",
      "RMSLE: inf\n",
      "R2 value: -6.2490\n"
     ]
    },
    {
     "name": "stderr",
     "output_type": "stream",
     "text": [
      "c:\\users\\radio_pc\\.conda\\envs\\bml3.6\\lib\\site-packages\\ipykernel_launcher.py:5: RuntimeWarning: divide by zero encountered in log\n",
      "  \"\"\"\n",
      "c:\\users\\radio_pc\\.conda\\envs\\bml3.6\\lib\\site-packages\\ipykernel_launcher.py:5: RuntimeWarning: invalid value encountered in log\n",
      "  \"\"\"\n",
      "c:\\users\\radio_pc\\.conda\\envs\\bml3.6\\lib\\site-packages\\ipykernel_launcher.py:5: RuntimeWarning: divide by zero encountered in log\n",
      "  \"\"\"\n",
      "c:\\users\\radio_pc\\.conda\\envs\\bml3.6\\lib\\site-packages\\ipykernel_launcher.py:5: RuntimeWarning: invalid value encountered in log\n",
      "  \"\"\"\n"
     ]
    },
    {
     "name": "stdout",
     "output_type": "stream",
     "text": [
      "RMSLE: inf\n",
      "R2 value: -10.4162\n",
      "RMSLE: inf\n",
      "R2 value: -6.2490\n"
     ]
    },
    {
     "name": "stderr",
     "output_type": "stream",
     "text": [
      "c:\\users\\radio_pc\\.conda\\envs\\bml3.6\\lib\\site-packages\\ipykernel_launcher.py:5: RuntimeWarning: divide by zero encountered in log\n",
      "  \"\"\"\n",
      "c:\\users\\radio_pc\\.conda\\envs\\bml3.6\\lib\\site-packages\\ipykernel_launcher.py:5: RuntimeWarning: invalid value encountered in log\n",
      "  \"\"\"\n",
      "c:\\users\\radio_pc\\.conda\\envs\\bml3.6\\lib\\site-packages\\ipykernel_launcher.py:5: RuntimeWarning: divide by zero encountered in log\n",
      "  \"\"\"\n",
      "c:\\users\\radio_pc\\.conda\\envs\\bml3.6\\lib\\site-packages\\ipykernel_launcher.py:5: RuntimeWarning: invalid value encountered in log\n",
      "  \"\"\"\n"
     ]
    },
    {
     "name": "stdout",
     "output_type": "stream",
     "text": [
      "RMSLE: inf\n",
      "R2 value: -10.4162\n",
      "RMSLE: inf\n",
      "R2 value: -6.2490\n"
     ]
    },
    {
     "name": "stderr",
     "output_type": "stream",
     "text": [
      "c:\\users\\radio_pc\\.conda\\envs\\bml3.6\\lib\\site-packages\\ipykernel_launcher.py:5: RuntimeWarning: divide by zero encountered in log\n",
      "  \"\"\"\n",
      "c:\\users\\radio_pc\\.conda\\envs\\bml3.6\\lib\\site-packages\\ipykernel_launcher.py:5: RuntimeWarning: invalid value encountered in log\n",
      "  \"\"\"\n",
      "c:\\users\\radio_pc\\.conda\\envs\\bml3.6\\lib\\site-packages\\ipykernel_launcher.py:5: RuntimeWarning: divide by zero encountered in log\n",
      "  \"\"\"\n",
      "c:\\users\\radio_pc\\.conda\\envs\\bml3.6\\lib\\site-packages\\ipykernel_launcher.py:5: RuntimeWarning: invalid value encountered in log\n",
      "  \"\"\"\n"
     ]
    },
    {
     "name": "stdout",
     "output_type": "stream",
     "text": [
      "RMSLE: inf\n",
      "R2 value: -10.4162\n",
      "RMSLE: inf\n",
      "R2 value: -6.2490\n"
     ]
    },
    {
     "name": "stderr",
     "output_type": "stream",
     "text": [
      "c:\\users\\radio_pc\\.conda\\envs\\bml3.6\\lib\\site-packages\\ipykernel_launcher.py:5: RuntimeWarning: divide by zero encountered in log\n",
      "  \"\"\"\n",
      "c:\\users\\radio_pc\\.conda\\envs\\bml3.6\\lib\\site-packages\\ipykernel_launcher.py:5: RuntimeWarning: invalid value encountered in log\n",
      "  \"\"\"\n",
      "c:\\users\\radio_pc\\.conda\\envs\\bml3.6\\lib\\site-packages\\ipykernel_launcher.py:5: RuntimeWarning: divide by zero encountered in log\n",
      "  \"\"\"\n",
      "c:\\users\\radio_pc\\.conda\\envs\\bml3.6\\lib\\site-packages\\ipykernel_launcher.py:5: RuntimeWarning: invalid value encountered in log\n",
      "  \"\"\"\n"
     ]
    },
    {
     "name": "stdout",
     "output_type": "stream",
     "text": [
      "RMSLE: inf\n",
      "R2 value: -10.4162\n",
      "RMSLE: inf\n",
      "R2 value: -6.2490\n"
     ]
    },
    {
     "name": "stderr",
     "output_type": "stream",
     "text": [
      "c:\\users\\radio_pc\\.conda\\envs\\bml3.6\\lib\\site-packages\\ipykernel_launcher.py:5: RuntimeWarning: divide by zero encountered in log\n",
      "  \"\"\"\n",
      "c:\\users\\radio_pc\\.conda\\envs\\bml3.6\\lib\\site-packages\\ipykernel_launcher.py:5: RuntimeWarning: invalid value encountered in log\n",
      "  \"\"\"\n",
      "c:\\users\\radio_pc\\.conda\\envs\\bml3.6\\lib\\site-packages\\ipykernel_launcher.py:5: RuntimeWarning: divide by zero encountered in log\n",
      "  \"\"\"\n",
      "c:\\users\\radio_pc\\.conda\\envs\\bml3.6\\lib\\site-packages\\ipykernel_launcher.py:5: RuntimeWarning: invalid value encountered in log\n",
      "  \"\"\"\n"
     ]
    },
    {
     "name": "stdout",
     "output_type": "stream",
     "text": [
      "RMSLE: inf\n",
      "R2 value: -10.4162\n",
      "RMSLE: inf\n",
      "R2 value: -6.2489\n"
     ]
    },
    {
     "name": "stderr",
     "output_type": "stream",
     "text": [
      "c:\\users\\radio_pc\\.conda\\envs\\bml3.6\\lib\\site-packages\\ipykernel_launcher.py:5: RuntimeWarning: divide by zero encountered in log\n",
      "  \"\"\"\n",
      "c:\\users\\radio_pc\\.conda\\envs\\bml3.6\\lib\\site-packages\\ipykernel_launcher.py:5: RuntimeWarning: invalid value encountered in log\n",
      "  \"\"\"\n",
      "c:\\users\\radio_pc\\.conda\\envs\\bml3.6\\lib\\site-packages\\ipykernel_launcher.py:5: RuntimeWarning: divide by zero encountered in log\n",
      "  \"\"\"\n",
      "c:\\users\\radio_pc\\.conda\\envs\\bml3.6\\lib\\site-packages\\ipykernel_launcher.py:5: RuntimeWarning: invalid value encountered in log\n",
      "  \"\"\"\n"
     ]
    },
    {
     "name": "stdout",
     "output_type": "stream",
     "text": [
      "RMSLE: inf\n",
      "R2 value: -10.4162\n",
      "RMSLE: inf\n",
      "R2 value: -6.2489\n"
     ]
    },
    {
     "name": "stderr",
     "output_type": "stream",
     "text": [
      "c:\\users\\radio_pc\\.conda\\envs\\bml3.6\\lib\\site-packages\\ipykernel_launcher.py:5: RuntimeWarning: divide by zero encountered in log\n",
      "  \"\"\"\n",
      "c:\\users\\radio_pc\\.conda\\envs\\bml3.6\\lib\\site-packages\\ipykernel_launcher.py:5: RuntimeWarning: invalid value encountered in log\n",
      "  \"\"\"\n",
      "c:\\users\\radio_pc\\.conda\\envs\\bml3.6\\lib\\site-packages\\ipykernel_launcher.py:5: RuntimeWarning: divide by zero encountered in log\n",
      "  \"\"\"\n",
      "c:\\users\\radio_pc\\.conda\\envs\\bml3.6\\lib\\site-packages\\ipykernel_launcher.py:5: RuntimeWarning: invalid value encountered in log\n",
      "  \"\"\"\n"
     ]
    },
    {
     "name": "stdout",
     "output_type": "stream",
     "text": [
      "RMSLE: inf\n",
      "R2 value: -10.4162\n",
      "RMSLE: inf\n",
      "R2 value: -6.2489\n"
     ]
    },
    {
     "name": "stderr",
     "output_type": "stream",
     "text": [
      "c:\\users\\radio_pc\\.conda\\envs\\bml3.6\\lib\\site-packages\\ipykernel_launcher.py:5: RuntimeWarning: divide by zero encountered in log\n",
      "  \"\"\"\n",
      "c:\\users\\radio_pc\\.conda\\envs\\bml3.6\\lib\\site-packages\\ipykernel_launcher.py:5: RuntimeWarning: invalid value encountered in log\n",
      "  \"\"\"\n",
      "c:\\users\\radio_pc\\.conda\\envs\\bml3.6\\lib\\site-packages\\ipykernel_launcher.py:5: RuntimeWarning: divide by zero encountered in log\n",
      "  \"\"\"\n",
      "c:\\users\\radio_pc\\.conda\\envs\\bml3.6\\lib\\site-packages\\ipykernel_launcher.py:5: RuntimeWarning: invalid value encountered in log\n",
      "  \"\"\"\n"
     ]
    },
    {
     "name": "stdout",
     "output_type": "stream",
     "text": [
      "RMSLE: inf\n",
      "R2 value: -10.4162\n",
      "RMSLE: inf\n",
      "R2 value: -6.2489\n"
     ]
    },
    {
     "name": "stderr",
     "output_type": "stream",
     "text": [
      "c:\\users\\radio_pc\\.conda\\envs\\bml3.6\\lib\\site-packages\\ipykernel_launcher.py:5: RuntimeWarning: divide by zero encountered in log\n",
      "  \"\"\"\n",
      "c:\\users\\radio_pc\\.conda\\envs\\bml3.6\\lib\\site-packages\\ipykernel_launcher.py:5: RuntimeWarning: invalid value encountered in log\n",
      "  \"\"\"\n",
      "c:\\users\\radio_pc\\.conda\\envs\\bml3.6\\lib\\site-packages\\ipykernel_launcher.py:5: RuntimeWarning: divide by zero encountered in log\n",
      "  \"\"\"\n",
      "c:\\users\\radio_pc\\.conda\\envs\\bml3.6\\lib\\site-packages\\ipykernel_launcher.py:5: RuntimeWarning: invalid value encountered in log\n",
      "  \"\"\"\n"
     ]
    },
    {
     "name": "stdout",
     "output_type": "stream",
     "text": [
      "RMSLE: inf\n",
      "R2 value: -10.4162\n",
      "RMSLE: inf\n",
      "R2 value: -6.2489\n"
     ]
    },
    {
     "name": "stderr",
     "output_type": "stream",
     "text": [
      "c:\\users\\radio_pc\\.conda\\envs\\bml3.6\\lib\\site-packages\\ipykernel_launcher.py:5: RuntimeWarning: divide by zero encountered in log\n",
      "  \"\"\"\n",
      "c:\\users\\radio_pc\\.conda\\envs\\bml3.6\\lib\\site-packages\\ipykernel_launcher.py:5: RuntimeWarning: invalid value encountered in log\n",
      "  \"\"\"\n",
      "c:\\users\\radio_pc\\.conda\\envs\\bml3.6\\lib\\site-packages\\ipykernel_launcher.py:5: RuntimeWarning: divide by zero encountered in log\n",
      "  \"\"\"\n",
      "c:\\users\\radio_pc\\.conda\\envs\\bml3.6\\lib\\site-packages\\ipykernel_launcher.py:5: RuntimeWarning: invalid value encountered in log\n",
      "  \"\"\"\n"
     ]
    },
    {
     "name": "stdout",
     "output_type": "stream",
     "text": [
      "RMSLE: inf\n",
      "R2 value: -10.4162\n",
      "RMSLE: inf\n",
      "R2 value: -6.2489\n"
     ]
    },
    {
     "name": "stderr",
     "output_type": "stream",
     "text": [
      "c:\\users\\radio_pc\\.conda\\envs\\bml3.6\\lib\\site-packages\\ipykernel_launcher.py:5: RuntimeWarning: divide by zero encountered in log\n",
      "  \"\"\"\n",
      "c:\\users\\radio_pc\\.conda\\envs\\bml3.6\\lib\\site-packages\\ipykernel_launcher.py:5: RuntimeWarning: invalid value encountered in log\n",
      "  \"\"\"\n",
      "c:\\users\\radio_pc\\.conda\\envs\\bml3.6\\lib\\site-packages\\ipykernel_launcher.py:5: RuntimeWarning: divide by zero encountered in log\n",
      "  \"\"\"\n",
      "c:\\users\\radio_pc\\.conda\\envs\\bml3.6\\lib\\site-packages\\ipykernel_launcher.py:5: RuntimeWarning: invalid value encountered in log\n",
      "  \"\"\"\n"
     ]
    },
    {
     "name": "stdout",
     "output_type": "stream",
     "text": [
      "RMSLE: inf\n",
      "R2 value: -10.4162\n",
      "RMSLE: inf\n",
      "R2 value: -6.2489\n"
     ]
    },
    {
     "name": "stderr",
     "output_type": "stream",
     "text": [
      "c:\\users\\radio_pc\\.conda\\envs\\bml3.6\\lib\\site-packages\\ipykernel_launcher.py:5: RuntimeWarning: divide by zero encountered in log\n",
      "  \"\"\"\n",
      "c:\\users\\radio_pc\\.conda\\envs\\bml3.6\\lib\\site-packages\\ipykernel_launcher.py:5: RuntimeWarning: invalid value encountered in log\n",
      "  \"\"\"\n",
      "c:\\users\\radio_pc\\.conda\\envs\\bml3.6\\lib\\site-packages\\ipykernel_launcher.py:5: RuntimeWarning: divide by zero encountered in log\n",
      "  \"\"\"\n",
      "c:\\users\\radio_pc\\.conda\\envs\\bml3.6\\lib\\site-packages\\ipykernel_launcher.py:5: RuntimeWarning: invalid value encountered in log\n",
      "  \"\"\"\n"
     ]
    },
    {
     "name": "stdout",
     "output_type": "stream",
     "text": [
      "RMSLE: inf\n",
      "R2 value: -10.4162\n",
      "RMSLE: inf\n",
      "R2 value: -6.2489\n"
     ]
    },
    {
     "name": "stderr",
     "output_type": "stream",
     "text": [
      "c:\\users\\radio_pc\\.conda\\envs\\bml3.6\\lib\\site-packages\\ipykernel_launcher.py:5: RuntimeWarning: divide by zero encountered in log\n",
      "  \"\"\"\n",
      "c:\\users\\radio_pc\\.conda\\envs\\bml3.6\\lib\\site-packages\\ipykernel_launcher.py:5: RuntimeWarning: invalid value encountered in log\n",
      "  \"\"\"\n",
      "c:\\users\\radio_pc\\.conda\\envs\\bml3.6\\lib\\site-packages\\ipykernel_launcher.py:5: RuntimeWarning: divide by zero encountered in log\n",
      "  \"\"\"\n",
      "c:\\users\\radio_pc\\.conda\\envs\\bml3.6\\lib\\site-packages\\ipykernel_launcher.py:5: RuntimeWarning: invalid value encountered in log\n",
      "  \"\"\"\n"
     ]
    },
    {
     "name": "stdout",
     "output_type": "stream",
     "text": [
      "RMSLE: inf\n",
      "R2 value: -10.4162\n",
      "RMSLE: inf\n",
      "R2 value: -6.2489\n"
     ]
    },
    {
     "name": "stderr",
     "output_type": "stream",
     "text": [
      "c:\\users\\radio_pc\\.conda\\envs\\bml3.6\\lib\\site-packages\\ipykernel_launcher.py:5: RuntimeWarning: divide by zero encountered in log\n",
      "  \"\"\"\n",
      "c:\\users\\radio_pc\\.conda\\envs\\bml3.6\\lib\\site-packages\\ipykernel_launcher.py:5: RuntimeWarning: invalid value encountered in log\n",
      "  \"\"\"\n",
      "c:\\users\\radio_pc\\.conda\\envs\\bml3.6\\lib\\site-packages\\ipykernel_launcher.py:5: RuntimeWarning: divide by zero encountered in log\n",
      "  \"\"\"\n",
      "c:\\users\\radio_pc\\.conda\\envs\\bml3.6\\lib\\site-packages\\ipykernel_launcher.py:5: RuntimeWarning: invalid value encountered in log\n",
      "  \"\"\"\n"
     ]
    },
    {
     "name": "stdout",
     "output_type": "stream",
     "text": [
      "RMSLE: inf\n",
      "R2 value: -10.4162\n",
      "RMSLE: inf\n",
      "R2 value: -6.2489\n"
     ]
    },
    {
     "name": "stderr",
     "output_type": "stream",
     "text": [
      "c:\\users\\radio_pc\\.conda\\envs\\bml3.6\\lib\\site-packages\\ipykernel_launcher.py:5: RuntimeWarning: divide by zero encountered in log\n",
      "  \"\"\"\n",
      "c:\\users\\radio_pc\\.conda\\envs\\bml3.6\\lib\\site-packages\\ipykernel_launcher.py:5: RuntimeWarning: invalid value encountered in log\n",
      "  \"\"\"\n",
      "c:\\users\\radio_pc\\.conda\\envs\\bml3.6\\lib\\site-packages\\ipykernel_launcher.py:5: RuntimeWarning: divide by zero encountered in log\n",
      "  \"\"\"\n",
      "c:\\users\\radio_pc\\.conda\\envs\\bml3.6\\lib\\site-packages\\ipykernel_launcher.py:5: RuntimeWarning: invalid value encountered in log\n",
      "  \"\"\"\n"
     ]
    },
    {
     "name": "stdout",
     "output_type": "stream",
     "text": [
      "RMSLE: inf\n",
      "R2 value: -10.4162\n",
      "RMSLE: inf\n",
      "R2 value: -6.2488\n"
     ]
    },
    {
     "name": "stderr",
     "output_type": "stream",
     "text": [
      "c:\\users\\radio_pc\\.conda\\envs\\bml3.6\\lib\\site-packages\\ipykernel_launcher.py:5: RuntimeWarning: divide by zero encountered in log\n",
      "  \"\"\"\n",
      "c:\\users\\radio_pc\\.conda\\envs\\bml3.6\\lib\\site-packages\\ipykernel_launcher.py:5: RuntimeWarning: invalid value encountered in log\n",
      "  \"\"\"\n",
      "c:\\users\\radio_pc\\.conda\\envs\\bml3.6\\lib\\site-packages\\ipykernel_launcher.py:5: RuntimeWarning: divide by zero encountered in log\n",
      "  \"\"\"\n",
      "c:\\users\\radio_pc\\.conda\\envs\\bml3.6\\lib\\site-packages\\ipykernel_launcher.py:5: RuntimeWarning: invalid value encountered in log\n",
      "  \"\"\"\n"
     ]
    },
    {
     "name": "stdout",
     "output_type": "stream",
     "text": [
      "RMSLE: inf\n",
      "R2 value: -10.4162\n",
      "RMSLE: inf\n",
      "R2 value: -6.2488\n"
     ]
    },
    {
     "name": "stderr",
     "output_type": "stream",
     "text": [
      "c:\\users\\radio_pc\\.conda\\envs\\bml3.6\\lib\\site-packages\\ipykernel_launcher.py:5: RuntimeWarning: divide by zero encountered in log\n",
      "  \"\"\"\n",
      "c:\\users\\radio_pc\\.conda\\envs\\bml3.6\\lib\\site-packages\\ipykernel_launcher.py:5: RuntimeWarning: invalid value encountered in log\n",
      "  \"\"\"\n",
      "c:\\users\\radio_pc\\.conda\\envs\\bml3.6\\lib\\site-packages\\ipykernel_launcher.py:5: RuntimeWarning: divide by zero encountered in log\n",
      "  \"\"\"\n",
      "c:\\users\\radio_pc\\.conda\\envs\\bml3.6\\lib\\site-packages\\ipykernel_launcher.py:5: RuntimeWarning: invalid value encountered in log\n",
      "  \"\"\"\n"
     ]
    },
    {
     "name": "stdout",
     "output_type": "stream",
     "text": [
      "RMSLE: inf\n",
      "R2 value: -10.4162\n",
      "RMSLE: inf\n",
      "R2 value: -6.2488\n"
     ]
    },
    {
     "name": "stderr",
     "output_type": "stream",
     "text": [
      "c:\\users\\radio_pc\\.conda\\envs\\bml3.6\\lib\\site-packages\\ipykernel_launcher.py:5: RuntimeWarning: divide by zero encountered in log\n",
      "  \"\"\"\n",
      "c:\\users\\radio_pc\\.conda\\envs\\bml3.6\\lib\\site-packages\\ipykernel_launcher.py:5: RuntimeWarning: invalid value encountered in log\n",
      "  \"\"\"\n",
      "c:\\users\\radio_pc\\.conda\\envs\\bml3.6\\lib\\site-packages\\ipykernel_launcher.py:5: RuntimeWarning: divide by zero encountered in log\n",
      "  \"\"\"\n",
      "c:\\users\\radio_pc\\.conda\\envs\\bml3.6\\lib\\site-packages\\ipykernel_launcher.py:5: RuntimeWarning: invalid value encountered in log\n",
      "  \"\"\"\n"
     ]
    },
    {
     "name": "stdout",
     "output_type": "stream",
     "text": [
      "RMSLE: inf\n",
      "R2 value: -10.4162\n",
      "RMSLE: inf\n",
      "R2 value: -6.2488\n"
     ]
    },
    {
     "name": "stderr",
     "output_type": "stream",
     "text": [
      "c:\\users\\radio_pc\\.conda\\envs\\bml3.6\\lib\\site-packages\\ipykernel_launcher.py:5: RuntimeWarning: divide by zero encountered in log\n",
      "  \"\"\"\n",
      "c:\\users\\radio_pc\\.conda\\envs\\bml3.6\\lib\\site-packages\\ipykernel_launcher.py:5: RuntimeWarning: invalid value encountered in log\n",
      "  \"\"\"\n",
      "c:\\users\\radio_pc\\.conda\\envs\\bml3.6\\lib\\site-packages\\ipykernel_launcher.py:5: RuntimeWarning: divide by zero encountered in log\n",
      "  \"\"\"\n",
      "c:\\users\\radio_pc\\.conda\\envs\\bml3.6\\lib\\site-packages\\ipykernel_launcher.py:5: RuntimeWarning: invalid value encountered in log\n",
      "  \"\"\"\n"
     ]
    },
    {
     "name": "stdout",
     "output_type": "stream",
     "text": [
      "RMSLE: inf\n",
      "R2 value: -10.4162\n",
      "RMSLE: inf\n",
      "R2 value: -6.2488\n"
     ]
    },
    {
     "name": "stderr",
     "output_type": "stream",
     "text": [
      "c:\\users\\radio_pc\\.conda\\envs\\bml3.6\\lib\\site-packages\\ipykernel_launcher.py:5: RuntimeWarning: divide by zero encountered in log\n",
      "  \"\"\"\n",
      "c:\\users\\radio_pc\\.conda\\envs\\bml3.6\\lib\\site-packages\\ipykernel_launcher.py:5: RuntimeWarning: invalid value encountered in log\n",
      "  \"\"\"\n",
      "c:\\users\\radio_pc\\.conda\\envs\\bml3.6\\lib\\site-packages\\ipykernel_launcher.py:5: RuntimeWarning: divide by zero encountered in log\n",
      "  \"\"\"\n",
      "c:\\users\\radio_pc\\.conda\\envs\\bml3.6\\lib\\site-packages\\ipykernel_launcher.py:5: RuntimeWarning: invalid value encountered in log\n",
      "  \"\"\"\n"
     ]
    },
    {
     "name": "stdout",
     "output_type": "stream",
     "text": [
      "RMSLE: inf\n",
      "R2 value: -10.4162\n",
      "RMSLE: inf\n",
      "R2 value: -6.2488\n"
     ]
    },
    {
     "name": "stderr",
     "output_type": "stream",
     "text": [
      "c:\\users\\radio_pc\\.conda\\envs\\bml3.6\\lib\\site-packages\\ipykernel_launcher.py:5: RuntimeWarning: divide by zero encountered in log\n",
      "  \"\"\"\n",
      "c:\\users\\radio_pc\\.conda\\envs\\bml3.6\\lib\\site-packages\\ipykernel_launcher.py:5: RuntimeWarning: invalid value encountered in log\n",
      "  \"\"\"\n",
      "c:\\users\\radio_pc\\.conda\\envs\\bml3.6\\lib\\site-packages\\ipykernel_launcher.py:5: RuntimeWarning: divide by zero encountered in log\n",
      "  \"\"\"\n",
      "c:\\users\\radio_pc\\.conda\\envs\\bml3.6\\lib\\site-packages\\ipykernel_launcher.py:5: RuntimeWarning: invalid value encountered in log\n",
      "  \"\"\"\n"
     ]
    },
    {
     "name": "stdout",
     "output_type": "stream",
     "text": [
      "RMSLE: inf\n",
      "R2 value: -10.4162\n",
      "RMSLE: inf\n",
      "R2 value: -6.2487\n"
     ]
    },
    {
     "name": "stderr",
     "output_type": "stream",
     "text": [
      "c:\\users\\radio_pc\\.conda\\envs\\bml3.6\\lib\\site-packages\\ipykernel_launcher.py:5: RuntimeWarning: divide by zero encountered in log\n",
      "  \"\"\"\n",
      "c:\\users\\radio_pc\\.conda\\envs\\bml3.6\\lib\\site-packages\\ipykernel_launcher.py:5: RuntimeWarning: invalid value encountered in log\n",
      "  \"\"\"\n",
      "c:\\users\\radio_pc\\.conda\\envs\\bml3.6\\lib\\site-packages\\ipykernel_launcher.py:5: RuntimeWarning: divide by zero encountered in log\n",
      "  \"\"\"\n",
      "c:\\users\\radio_pc\\.conda\\envs\\bml3.6\\lib\\site-packages\\ipykernel_launcher.py:5: RuntimeWarning: invalid value encountered in log\n",
      "  \"\"\"\n"
     ]
    },
    {
     "name": "stdout",
     "output_type": "stream",
     "text": [
      "RMSLE: inf\n",
      "R2 value: -10.4162\n",
      "RMSLE: inf\n",
      "R2 value: -6.2487\n"
     ]
    },
    {
     "name": "stderr",
     "output_type": "stream",
     "text": [
      "c:\\users\\radio_pc\\.conda\\envs\\bml3.6\\lib\\site-packages\\ipykernel_launcher.py:5: RuntimeWarning: divide by zero encountered in log\n",
      "  \"\"\"\n",
      "c:\\users\\radio_pc\\.conda\\envs\\bml3.6\\lib\\site-packages\\ipykernel_launcher.py:5: RuntimeWarning: invalid value encountered in log\n",
      "  \"\"\"\n",
      "c:\\users\\radio_pc\\.conda\\envs\\bml3.6\\lib\\site-packages\\ipykernel_launcher.py:5: RuntimeWarning: divide by zero encountered in log\n",
      "  \"\"\"\n",
      "c:\\users\\radio_pc\\.conda\\envs\\bml3.6\\lib\\site-packages\\ipykernel_launcher.py:5: RuntimeWarning: invalid value encountered in log\n",
      "  \"\"\"\n"
     ]
    },
    {
     "name": "stdout",
     "output_type": "stream",
     "text": [
      "RMSLE: inf\n",
      "R2 value: -10.4162\n",
      "RMSLE: inf\n",
      "R2 value: -6.2487\n"
     ]
    },
    {
     "name": "stderr",
     "output_type": "stream",
     "text": [
      "c:\\users\\radio_pc\\.conda\\envs\\bml3.6\\lib\\site-packages\\ipykernel_launcher.py:5: RuntimeWarning: divide by zero encountered in log\n",
      "  \"\"\"\n",
      "c:\\users\\radio_pc\\.conda\\envs\\bml3.6\\lib\\site-packages\\ipykernel_launcher.py:5: RuntimeWarning: invalid value encountered in log\n",
      "  \"\"\"\n",
      "c:\\users\\radio_pc\\.conda\\envs\\bml3.6\\lib\\site-packages\\ipykernel_launcher.py:5: RuntimeWarning: divide by zero encountered in log\n",
      "  \"\"\"\n",
      "c:\\users\\radio_pc\\.conda\\envs\\bml3.6\\lib\\site-packages\\ipykernel_launcher.py:5: RuntimeWarning: invalid value encountered in log\n",
      "  \"\"\"\n"
     ]
    },
    {
     "name": "stdout",
     "output_type": "stream",
     "text": [
      "RMSLE: inf\n",
      "R2 value: -10.4162\n",
      "RMSLE: inf\n",
      "R2 value: -6.2487\n"
     ]
    },
    {
     "name": "stderr",
     "output_type": "stream",
     "text": [
      "c:\\users\\radio_pc\\.conda\\envs\\bml3.6\\lib\\site-packages\\ipykernel_launcher.py:5: RuntimeWarning: divide by zero encountered in log\n",
      "  \"\"\"\n",
      "c:\\users\\radio_pc\\.conda\\envs\\bml3.6\\lib\\site-packages\\ipykernel_launcher.py:5: RuntimeWarning: invalid value encountered in log\n",
      "  \"\"\"\n",
      "c:\\users\\radio_pc\\.conda\\envs\\bml3.6\\lib\\site-packages\\ipykernel_launcher.py:5: RuntimeWarning: divide by zero encountered in log\n",
      "  \"\"\"\n",
      "c:\\users\\radio_pc\\.conda\\envs\\bml3.6\\lib\\site-packages\\ipykernel_launcher.py:5: RuntimeWarning: invalid value encountered in log\n",
      "  \"\"\"\n"
     ]
    },
    {
     "name": "stdout",
     "output_type": "stream",
     "text": [
      "RMSLE: inf\n",
      "R2 value: -10.4162\n",
      "RMSLE: inf\n",
      "R2 value: -6.2487\n"
     ]
    },
    {
     "name": "stderr",
     "output_type": "stream",
     "text": [
      "c:\\users\\radio_pc\\.conda\\envs\\bml3.6\\lib\\site-packages\\ipykernel_launcher.py:5: RuntimeWarning: divide by zero encountered in log\n",
      "  \"\"\"\n",
      "c:\\users\\radio_pc\\.conda\\envs\\bml3.6\\lib\\site-packages\\ipykernel_launcher.py:5: RuntimeWarning: invalid value encountered in log\n",
      "  \"\"\"\n",
      "c:\\users\\radio_pc\\.conda\\envs\\bml3.6\\lib\\site-packages\\ipykernel_launcher.py:5: RuntimeWarning: divide by zero encountered in log\n",
      "  \"\"\"\n",
      "c:\\users\\radio_pc\\.conda\\envs\\bml3.6\\lib\\site-packages\\ipykernel_launcher.py:5: RuntimeWarning: invalid value encountered in log\n",
      "  \"\"\"\n"
     ]
    },
    {
     "name": "stdout",
     "output_type": "stream",
     "text": [
      "RMSLE: inf\n",
      "R2 value: -10.4162\n",
      "RMSLE: inf\n",
      "R2 value: -6.2486\n"
     ]
    },
    {
     "name": "stderr",
     "output_type": "stream",
     "text": [
      "c:\\users\\radio_pc\\.conda\\envs\\bml3.6\\lib\\site-packages\\ipykernel_launcher.py:5: RuntimeWarning: divide by zero encountered in log\n",
      "  \"\"\"\n",
      "c:\\users\\radio_pc\\.conda\\envs\\bml3.6\\lib\\site-packages\\ipykernel_launcher.py:5: RuntimeWarning: invalid value encountered in log\n",
      "  \"\"\"\n",
      "c:\\users\\radio_pc\\.conda\\envs\\bml3.6\\lib\\site-packages\\ipykernel_launcher.py:5: RuntimeWarning: divide by zero encountered in log\n",
      "  \"\"\"\n",
      "c:\\users\\radio_pc\\.conda\\envs\\bml3.6\\lib\\site-packages\\ipykernel_launcher.py:5: RuntimeWarning: invalid value encountered in log\n",
      "  \"\"\"\n"
     ]
    },
    {
     "name": "stdout",
     "output_type": "stream",
     "text": [
      "RMSLE: inf\n",
      "R2 value: -10.4162\n",
      "RMSLE: inf\n",
      "R2 value: -6.2486\n"
     ]
    },
    {
     "name": "stderr",
     "output_type": "stream",
     "text": [
      "c:\\users\\radio_pc\\.conda\\envs\\bml3.6\\lib\\site-packages\\ipykernel_launcher.py:5: RuntimeWarning: divide by zero encountered in log\n",
      "  \"\"\"\n",
      "c:\\users\\radio_pc\\.conda\\envs\\bml3.6\\lib\\site-packages\\ipykernel_launcher.py:5: RuntimeWarning: invalid value encountered in log\n",
      "  \"\"\"\n",
      "c:\\users\\radio_pc\\.conda\\envs\\bml3.6\\lib\\site-packages\\ipykernel_launcher.py:5: RuntimeWarning: divide by zero encountered in log\n",
      "  \"\"\"\n",
      "c:\\users\\radio_pc\\.conda\\envs\\bml3.6\\lib\\site-packages\\ipykernel_launcher.py:5: RuntimeWarning: invalid value encountered in log\n",
      "  \"\"\"\n"
     ]
    },
    {
     "name": "stdout",
     "output_type": "stream",
     "text": [
      "RMSLE: inf\n",
      "R2 value: -10.4162\n",
      "RMSLE: inf\n",
      "R2 value: -6.2486\n"
     ]
    },
    {
     "name": "stderr",
     "output_type": "stream",
     "text": [
      "c:\\users\\radio_pc\\.conda\\envs\\bml3.6\\lib\\site-packages\\ipykernel_launcher.py:5: RuntimeWarning: divide by zero encountered in log\n",
      "  \"\"\"\n",
      "c:\\users\\radio_pc\\.conda\\envs\\bml3.6\\lib\\site-packages\\ipykernel_launcher.py:5: RuntimeWarning: invalid value encountered in log\n",
      "  \"\"\"\n",
      "c:\\users\\radio_pc\\.conda\\envs\\bml3.6\\lib\\site-packages\\ipykernel_launcher.py:5: RuntimeWarning: divide by zero encountered in log\n",
      "  \"\"\"\n",
      "c:\\users\\radio_pc\\.conda\\envs\\bml3.6\\lib\\site-packages\\ipykernel_launcher.py:5: RuntimeWarning: invalid value encountered in log\n",
      "  \"\"\"\n"
     ]
    },
    {
     "name": "stdout",
     "output_type": "stream",
     "text": [
      "RMSLE: inf\n",
      "R2 value: -10.4162\n",
      "RMSLE: inf\n",
      "R2 value: -6.2485\n"
     ]
    },
    {
     "name": "stderr",
     "output_type": "stream",
     "text": [
      "c:\\users\\radio_pc\\.conda\\envs\\bml3.6\\lib\\site-packages\\ipykernel_launcher.py:5: RuntimeWarning: divide by zero encountered in log\n",
      "  \"\"\"\n",
      "c:\\users\\radio_pc\\.conda\\envs\\bml3.6\\lib\\site-packages\\ipykernel_launcher.py:5: RuntimeWarning: invalid value encountered in log\n",
      "  \"\"\"\n",
      "c:\\users\\radio_pc\\.conda\\envs\\bml3.6\\lib\\site-packages\\ipykernel_launcher.py:5: RuntimeWarning: divide by zero encountered in log\n",
      "  \"\"\"\n",
      "c:\\users\\radio_pc\\.conda\\envs\\bml3.6\\lib\\site-packages\\ipykernel_launcher.py:5: RuntimeWarning: invalid value encountered in log\n",
      "  \"\"\"\n"
     ]
    },
    {
     "name": "stdout",
     "output_type": "stream",
     "text": [
      "RMSLE: inf\n",
      "R2 value: -10.4162\n",
      "RMSLE: inf\n",
      "R2 value: -6.2485\n"
     ]
    },
    {
     "name": "stderr",
     "output_type": "stream",
     "text": [
      "c:\\users\\radio_pc\\.conda\\envs\\bml3.6\\lib\\site-packages\\ipykernel_launcher.py:5: RuntimeWarning: divide by zero encountered in log\n",
      "  \"\"\"\n",
      "c:\\users\\radio_pc\\.conda\\envs\\bml3.6\\lib\\site-packages\\ipykernel_launcher.py:5: RuntimeWarning: invalid value encountered in log\n",
      "  \"\"\"\n",
      "c:\\users\\radio_pc\\.conda\\envs\\bml3.6\\lib\\site-packages\\ipykernel_launcher.py:5: RuntimeWarning: divide by zero encountered in log\n",
      "  \"\"\"\n",
      "c:\\users\\radio_pc\\.conda\\envs\\bml3.6\\lib\\site-packages\\ipykernel_launcher.py:5: RuntimeWarning: invalid value encountered in log\n",
      "  \"\"\"\n"
     ]
    },
    {
     "name": "stdout",
     "output_type": "stream",
     "text": [
      "RMSLE: inf\n",
      "R2 value: -10.4162\n",
      "RMSLE: inf\n",
      "R2 value: -6.2485\n"
     ]
    },
    {
     "name": "stderr",
     "output_type": "stream",
     "text": [
      "c:\\users\\radio_pc\\.conda\\envs\\bml3.6\\lib\\site-packages\\ipykernel_launcher.py:5: RuntimeWarning: divide by zero encountered in log\n",
      "  \"\"\"\n",
      "c:\\users\\radio_pc\\.conda\\envs\\bml3.6\\lib\\site-packages\\ipykernel_launcher.py:5: RuntimeWarning: invalid value encountered in log\n",
      "  \"\"\"\n",
      "c:\\users\\radio_pc\\.conda\\envs\\bml3.6\\lib\\site-packages\\ipykernel_launcher.py:5: RuntimeWarning: divide by zero encountered in log\n",
      "  \"\"\"\n",
      "c:\\users\\radio_pc\\.conda\\envs\\bml3.6\\lib\\site-packages\\ipykernel_launcher.py:5: RuntimeWarning: invalid value encountered in log\n",
      "  \"\"\"\n"
     ]
    },
    {
     "name": "stdout",
     "output_type": "stream",
     "text": [
      "RMSLE: inf\n",
      "R2 value: -10.4162\n",
      "RMSLE: inf\n",
      "R2 value: -6.2484\n"
     ]
    },
    {
     "name": "stderr",
     "output_type": "stream",
     "text": [
      "c:\\users\\radio_pc\\.conda\\envs\\bml3.6\\lib\\site-packages\\ipykernel_launcher.py:5: RuntimeWarning: divide by zero encountered in log\n",
      "  \"\"\"\n",
      "c:\\users\\radio_pc\\.conda\\envs\\bml3.6\\lib\\site-packages\\ipykernel_launcher.py:5: RuntimeWarning: invalid value encountered in log\n",
      "  \"\"\"\n",
      "c:\\users\\radio_pc\\.conda\\envs\\bml3.6\\lib\\site-packages\\ipykernel_launcher.py:5: RuntimeWarning: divide by zero encountered in log\n",
      "  \"\"\"\n",
      "c:\\users\\radio_pc\\.conda\\envs\\bml3.6\\lib\\site-packages\\ipykernel_launcher.py:5: RuntimeWarning: invalid value encountered in log\n",
      "  \"\"\"\n"
     ]
    },
    {
     "name": "stdout",
     "output_type": "stream",
     "text": [
      "RMSLE: inf\n",
      "R2 value: -10.4162\n",
      "RMSLE: inf\n",
      "R2 value: -6.2484\n"
     ]
    },
    {
     "name": "stderr",
     "output_type": "stream",
     "text": [
      "c:\\users\\radio_pc\\.conda\\envs\\bml3.6\\lib\\site-packages\\ipykernel_launcher.py:5: RuntimeWarning: divide by zero encountered in log\n",
      "  \"\"\"\n",
      "c:\\users\\radio_pc\\.conda\\envs\\bml3.6\\lib\\site-packages\\ipykernel_launcher.py:5: RuntimeWarning: invalid value encountered in log\n",
      "  \"\"\"\n",
      "c:\\users\\radio_pc\\.conda\\envs\\bml3.6\\lib\\site-packages\\ipykernel_launcher.py:5: RuntimeWarning: divide by zero encountered in log\n",
      "  \"\"\"\n",
      "c:\\users\\radio_pc\\.conda\\envs\\bml3.6\\lib\\site-packages\\ipykernel_launcher.py:5: RuntimeWarning: invalid value encountered in log\n",
      "  \"\"\"\n"
     ]
    },
    {
     "name": "stdout",
     "output_type": "stream",
     "text": [
      "RMSLE: inf\n",
      "R2 value: -10.4162\n",
      "RMSLE: inf\n",
      "R2 value: -6.2483\n"
     ]
    },
    {
     "name": "stderr",
     "output_type": "stream",
     "text": [
      "c:\\users\\radio_pc\\.conda\\envs\\bml3.6\\lib\\site-packages\\ipykernel_launcher.py:5: RuntimeWarning: divide by zero encountered in log\n",
      "  \"\"\"\n",
      "c:\\users\\radio_pc\\.conda\\envs\\bml3.6\\lib\\site-packages\\ipykernel_launcher.py:5: RuntimeWarning: invalid value encountered in log\n",
      "  \"\"\"\n",
      "c:\\users\\radio_pc\\.conda\\envs\\bml3.6\\lib\\site-packages\\ipykernel_launcher.py:5: RuntimeWarning: divide by zero encountered in log\n",
      "  \"\"\"\n",
      "c:\\users\\radio_pc\\.conda\\envs\\bml3.6\\lib\\site-packages\\ipykernel_launcher.py:5: RuntimeWarning: invalid value encountered in log\n",
      "  \"\"\"\n"
     ]
    },
    {
     "name": "stdout",
     "output_type": "stream",
     "text": [
      "RMSLE: inf\n",
      "R2 value: -10.4162\n",
      "RMSLE: inf\n",
      "R2 value: -6.2483\n"
     ]
    },
    {
     "name": "stderr",
     "output_type": "stream",
     "text": [
      "c:\\users\\radio_pc\\.conda\\envs\\bml3.6\\lib\\site-packages\\ipykernel_launcher.py:5: RuntimeWarning: divide by zero encountered in log\n",
      "  \"\"\"\n",
      "c:\\users\\radio_pc\\.conda\\envs\\bml3.6\\lib\\site-packages\\ipykernel_launcher.py:5: RuntimeWarning: invalid value encountered in log\n",
      "  \"\"\"\n",
      "c:\\users\\radio_pc\\.conda\\envs\\bml3.6\\lib\\site-packages\\ipykernel_launcher.py:5: RuntimeWarning: divide by zero encountered in log\n",
      "  \"\"\"\n",
      "c:\\users\\radio_pc\\.conda\\envs\\bml3.6\\lib\\site-packages\\ipykernel_launcher.py:5: RuntimeWarning: invalid value encountered in log\n",
      "  \"\"\"\n"
     ]
    },
    {
     "name": "stdout",
     "output_type": "stream",
     "text": [
      "RMSLE: inf\n",
      "R2 value: -10.4162\n",
      "RMSLE: inf\n",
      "R2 value: -6.2482\n"
     ]
    },
    {
     "name": "stderr",
     "output_type": "stream",
     "text": [
      "c:\\users\\radio_pc\\.conda\\envs\\bml3.6\\lib\\site-packages\\ipykernel_launcher.py:5: RuntimeWarning: divide by zero encountered in log\n",
      "  \"\"\"\n",
      "c:\\users\\radio_pc\\.conda\\envs\\bml3.6\\lib\\site-packages\\ipykernel_launcher.py:5: RuntimeWarning: invalid value encountered in log\n",
      "  \"\"\"\n",
      "c:\\users\\radio_pc\\.conda\\envs\\bml3.6\\lib\\site-packages\\ipykernel_launcher.py:5: RuntimeWarning: divide by zero encountered in log\n",
      "  \"\"\"\n",
      "c:\\users\\radio_pc\\.conda\\envs\\bml3.6\\lib\\site-packages\\ipykernel_launcher.py:5: RuntimeWarning: invalid value encountered in log\n",
      "  \"\"\"\n"
     ]
    },
    {
     "name": "stdout",
     "output_type": "stream",
     "text": [
      "RMSLE: inf\n",
      "R2 value: -10.4162\n",
      "RMSLE: inf\n",
      "R2 value: -6.2482\n"
     ]
    },
    {
     "name": "stderr",
     "output_type": "stream",
     "text": [
      "c:\\users\\radio_pc\\.conda\\envs\\bml3.6\\lib\\site-packages\\ipykernel_launcher.py:5: RuntimeWarning: divide by zero encountered in log\n",
      "  \"\"\"\n",
      "c:\\users\\radio_pc\\.conda\\envs\\bml3.6\\lib\\site-packages\\ipykernel_launcher.py:5: RuntimeWarning: invalid value encountered in log\n",
      "  \"\"\"\n",
      "c:\\users\\radio_pc\\.conda\\envs\\bml3.6\\lib\\site-packages\\ipykernel_launcher.py:5: RuntimeWarning: divide by zero encountered in log\n",
      "  \"\"\"\n",
      "c:\\users\\radio_pc\\.conda\\envs\\bml3.6\\lib\\site-packages\\ipykernel_launcher.py:5: RuntimeWarning: invalid value encountered in log\n",
      "  \"\"\"\n"
     ]
    },
    {
     "name": "stdout",
     "output_type": "stream",
     "text": [
      "RMSLE: inf\n",
      "R2 value: -10.4162\n",
      "RMSLE: inf\n",
      "R2 value: -6.2481\n"
     ]
    },
    {
     "name": "stderr",
     "output_type": "stream",
     "text": [
      "c:\\users\\radio_pc\\.conda\\envs\\bml3.6\\lib\\site-packages\\ipykernel_launcher.py:5: RuntimeWarning: divide by zero encountered in log\n",
      "  \"\"\"\n",
      "c:\\users\\radio_pc\\.conda\\envs\\bml3.6\\lib\\site-packages\\ipykernel_launcher.py:5: RuntimeWarning: invalid value encountered in log\n",
      "  \"\"\"\n",
      "c:\\users\\radio_pc\\.conda\\envs\\bml3.6\\lib\\site-packages\\ipykernel_launcher.py:5: RuntimeWarning: divide by zero encountered in log\n",
      "  \"\"\"\n",
      "c:\\users\\radio_pc\\.conda\\envs\\bml3.6\\lib\\site-packages\\ipykernel_launcher.py:5: RuntimeWarning: invalid value encountered in log\n",
      "  \"\"\"\n"
     ]
    },
    {
     "name": "stdout",
     "output_type": "stream",
     "text": [
      "RMSLE: inf\n",
      "R2 value: -10.4162\n",
      "RMSLE: inf\n",
      "R2 value: -6.2481\n"
     ]
    },
    {
     "name": "stderr",
     "output_type": "stream",
     "text": [
      "c:\\users\\radio_pc\\.conda\\envs\\bml3.6\\lib\\site-packages\\ipykernel_launcher.py:5: RuntimeWarning: divide by zero encountered in log\n",
      "  \"\"\"\n",
      "c:\\users\\radio_pc\\.conda\\envs\\bml3.6\\lib\\site-packages\\ipykernel_launcher.py:5: RuntimeWarning: invalid value encountered in log\n",
      "  \"\"\"\n",
      "c:\\users\\radio_pc\\.conda\\envs\\bml3.6\\lib\\site-packages\\ipykernel_launcher.py:5: RuntimeWarning: divide by zero encountered in log\n",
      "  \"\"\"\n",
      "c:\\users\\radio_pc\\.conda\\envs\\bml3.6\\lib\\site-packages\\ipykernel_launcher.py:5: RuntimeWarning: invalid value encountered in log\n",
      "  \"\"\"\n"
     ]
    },
    {
     "name": "stdout",
     "output_type": "stream",
     "text": [
      "RMSLE: inf\n",
      "R2 value: -10.4162\n",
      "RMSLE: inf\n",
      "R2 value: -6.2480\n"
     ]
    },
    {
     "name": "stderr",
     "output_type": "stream",
     "text": [
      "c:\\users\\radio_pc\\.conda\\envs\\bml3.6\\lib\\site-packages\\ipykernel_launcher.py:5: RuntimeWarning: divide by zero encountered in log\n",
      "  \"\"\"\n",
      "c:\\users\\radio_pc\\.conda\\envs\\bml3.6\\lib\\site-packages\\ipykernel_launcher.py:5: RuntimeWarning: invalid value encountered in log\n",
      "  \"\"\"\n",
      "c:\\users\\radio_pc\\.conda\\envs\\bml3.6\\lib\\site-packages\\ipykernel_launcher.py:5: RuntimeWarning: divide by zero encountered in log\n",
      "  \"\"\"\n",
      "c:\\users\\radio_pc\\.conda\\envs\\bml3.6\\lib\\site-packages\\ipykernel_launcher.py:5: RuntimeWarning: invalid value encountered in log\n",
      "  \"\"\"\n"
     ]
    },
    {
     "name": "stdout",
     "output_type": "stream",
     "text": [
      "RMSLE: inf\n",
      "R2 value: -10.4162\n",
      "RMSLE: inf\n",
      "R2 value: -6.2479\n"
     ]
    },
    {
     "name": "stderr",
     "output_type": "stream",
     "text": [
      "c:\\users\\radio_pc\\.conda\\envs\\bml3.6\\lib\\site-packages\\ipykernel_launcher.py:5: RuntimeWarning: divide by zero encountered in log\n",
      "  \"\"\"\n",
      "c:\\users\\radio_pc\\.conda\\envs\\bml3.6\\lib\\site-packages\\ipykernel_launcher.py:5: RuntimeWarning: invalid value encountered in log\n",
      "  \"\"\"\n",
      "c:\\users\\radio_pc\\.conda\\envs\\bml3.6\\lib\\site-packages\\ipykernel_launcher.py:5: RuntimeWarning: divide by zero encountered in log\n",
      "  \"\"\"\n",
      "c:\\users\\radio_pc\\.conda\\envs\\bml3.6\\lib\\site-packages\\ipykernel_launcher.py:5: RuntimeWarning: invalid value encountered in log\n",
      "  \"\"\"\n"
     ]
    },
    {
     "name": "stdout",
     "output_type": "stream",
     "text": [
      "RMSLE: inf\n",
      "R2 value: -10.4162\n",
      "RMSLE: inf\n",
      "R2 value: -6.2479\n"
     ]
    },
    {
     "name": "stderr",
     "output_type": "stream",
     "text": [
      "c:\\users\\radio_pc\\.conda\\envs\\bml3.6\\lib\\site-packages\\ipykernel_launcher.py:5: RuntimeWarning: divide by zero encountered in log\n",
      "  \"\"\"\n",
      "c:\\users\\radio_pc\\.conda\\envs\\bml3.6\\lib\\site-packages\\ipykernel_launcher.py:5: RuntimeWarning: invalid value encountered in log\n",
      "  \"\"\"\n",
      "c:\\users\\radio_pc\\.conda\\envs\\bml3.6\\lib\\site-packages\\ipykernel_launcher.py:5: RuntimeWarning: divide by zero encountered in log\n",
      "  \"\"\"\n",
      "c:\\users\\radio_pc\\.conda\\envs\\bml3.6\\lib\\site-packages\\ipykernel_launcher.py:5: RuntimeWarning: invalid value encountered in log\n",
      "  \"\"\"\n"
     ]
    },
    {
     "name": "stdout",
     "output_type": "stream",
     "text": [
      "RMSLE: inf\n",
      "R2 value: -10.4162\n",
      "RMSLE: inf\n",
      "R2 value: -6.2478\n"
     ]
    },
    {
     "name": "stderr",
     "output_type": "stream",
     "text": [
      "c:\\users\\radio_pc\\.conda\\envs\\bml3.6\\lib\\site-packages\\ipykernel_launcher.py:5: RuntimeWarning: divide by zero encountered in log\n",
      "  \"\"\"\n",
      "c:\\users\\radio_pc\\.conda\\envs\\bml3.6\\lib\\site-packages\\ipykernel_launcher.py:5: RuntimeWarning: invalid value encountered in log\n",
      "  \"\"\"\n",
      "c:\\users\\radio_pc\\.conda\\envs\\bml3.6\\lib\\site-packages\\ipykernel_launcher.py:5: RuntimeWarning: divide by zero encountered in log\n",
      "  \"\"\"\n",
      "c:\\users\\radio_pc\\.conda\\envs\\bml3.6\\lib\\site-packages\\ipykernel_launcher.py:5: RuntimeWarning: invalid value encountered in log\n",
      "  \"\"\"\n"
     ]
    },
    {
     "name": "stdout",
     "output_type": "stream",
     "text": [
      "RMSLE: inf\n",
      "R2 value: -10.4162\n",
      "RMSLE: inf\n",
      "R2 value: -6.2477\n"
     ]
    },
    {
     "name": "stderr",
     "output_type": "stream",
     "text": [
      "c:\\users\\radio_pc\\.conda\\envs\\bml3.6\\lib\\site-packages\\ipykernel_launcher.py:5: RuntimeWarning: divide by zero encountered in log\n",
      "  \"\"\"\n",
      "c:\\users\\radio_pc\\.conda\\envs\\bml3.6\\lib\\site-packages\\ipykernel_launcher.py:5: RuntimeWarning: invalid value encountered in log\n",
      "  \"\"\"\n",
      "c:\\users\\radio_pc\\.conda\\envs\\bml3.6\\lib\\site-packages\\ipykernel_launcher.py:5: RuntimeWarning: divide by zero encountered in log\n",
      "  \"\"\"\n",
      "c:\\users\\radio_pc\\.conda\\envs\\bml3.6\\lib\\site-packages\\ipykernel_launcher.py:5: RuntimeWarning: invalid value encountered in log\n",
      "  \"\"\"\n"
     ]
    },
    {
     "name": "stdout",
     "output_type": "stream",
     "text": [
      "RMSLE: inf\n",
      "R2 value: -10.4162\n",
      "RMSLE: inf\n",
      "R2 value: -6.2476\n"
     ]
    },
    {
     "name": "stderr",
     "output_type": "stream",
     "text": [
      "c:\\users\\radio_pc\\.conda\\envs\\bml3.6\\lib\\site-packages\\ipykernel_launcher.py:5: RuntimeWarning: divide by zero encountered in log\n",
      "  \"\"\"\n",
      "c:\\users\\radio_pc\\.conda\\envs\\bml3.6\\lib\\site-packages\\ipykernel_launcher.py:5: RuntimeWarning: invalid value encountered in log\n",
      "  \"\"\"\n",
      "c:\\users\\radio_pc\\.conda\\envs\\bml3.6\\lib\\site-packages\\ipykernel_launcher.py:5: RuntimeWarning: divide by zero encountered in log\n",
      "  \"\"\"\n",
      "c:\\users\\radio_pc\\.conda\\envs\\bml3.6\\lib\\site-packages\\ipykernel_launcher.py:5: RuntimeWarning: invalid value encountered in log\n",
      "  \"\"\"\n"
     ]
    },
    {
     "name": "stdout",
     "output_type": "stream",
     "text": [
      "RMSLE: inf\n",
      "R2 value: -10.4162\n",
      "RMSLE: inf\n",
      "R2 value: -6.2475\n"
     ]
    },
    {
     "name": "stderr",
     "output_type": "stream",
     "text": [
      "c:\\users\\radio_pc\\.conda\\envs\\bml3.6\\lib\\site-packages\\ipykernel_launcher.py:5: RuntimeWarning: divide by zero encountered in log\n",
      "  \"\"\"\n",
      "c:\\users\\radio_pc\\.conda\\envs\\bml3.6\\lib\\site-packages\\ipykernel_launcher.py:5: RuntimeWarning: invalid value encountered in log\n",
      "  \"\"\"\n",
      "c:\\users\\radio_pc\\.conda\\envs\\bml3.6\\lib\\site-packages\\ipykernel_launcher.py:5: RuntimeWarning: divide by zero encountered in log\n",
      "  \"\"\"\n",
      "c:\\users\\radio_pc\\.conda\\envs\\bml3.6\\lib\\site-packages\\ipykernel_launcher.py:5: RuntimeWarning: invalid value encountered in log\n",
      "  \"\"\"\n"
     ]
    },
    {
     "name": "stdout",
     "output_type": "stream",
     "text": [
      "RMSLE: inf\n",
      "R2 value: -10.4162\n",
      "RMSLE: inf\n",
      "R2 value: -6.2474\n"
     ]
    },
    {
     "name": "stderr",
     "output_type": "stream",
     "text": [
      "c:\\users\\radio_pc\\.conda\\envs\\bml3.6\\lib\\site-packages\\ipykernel_launcher.py:5: RuntimeWarning: divide by zero encountered in log\n",
      "  \"\"\"\n",
      "c:\\users\\radio_pc\\.conda\\envs\\bml3.6\\lib\\site-packages\\ipykernel_launcher.py:5: RuntimeWarning: invalid value encountered in log\n",
      "  \"\"\"\n",
      "c:\\users\\radio_pc\\.conda\\envs\\bml3.6\\lib\\site-packages\\ipykernel_launcher.py:5: RuntimeWarning: divide by zero encountered in log\n",
      "  \"\"\"\n",
      "c:\\users\\radio_pc\\.conda\\envs\\bml3.6\\lib\\site-packages\\ipykernel_launcher.py:5: RuntimeWarning: invalid value encountered in log\n",
      "  \"\"\"\n"
     ]
    },
    {
     "name": "stdout",
     "output_type": "stream",
     "text": [
      "RMSLE: inf\n",
      "R2 value: -10.4162\n",
      "RMSLE: inf\n",
      "R2 value: -6.2473\n"
     ]
    },
    {
     "name": "stderr",
     "output_type": "stream",
     "text": [
      "c:\\users\\radio_pc\\.conda\\envs\\bml3.6\\lib\\site-packages\\ipykernel_launcher.py:5: RuntimeWarning: divide by zero encountered in log\n",
      "  \"\"\"\n",
      "c:\\users\\radio_pc\\.conda\\envs\\bml3.6\\lib\\site-packages\\ipykernel_launcher.py:5: RuntimeWarning: invalid value encountered in log\n",
      "  \"\"\"\n",
      "c:\\users\\radio_pc\\.conda\\envs\\bml3.6\\lib\\site-packages\\ipykernel_launcher.py:5: RuntimeWarning: divide by zero encountered in log\n",
      "  \"\"\"\n",
      "c:\\users\\radio_pc\\.conda\\envs\\bml3.6\\lib\\site-packages\\ipykernel_launcher.py:5: RuntimeWarning: invalid value encountered in log\n",
      "  \"\"\"\n"
     ]
    },
    {
     "name": "stdout",
     "output_type": "stream",
     "text": [
      "RMSLE: inf\n",
      "R2 value: -10.4162\n",
      "RMSLE: inf\n",
      "R2 value: -6.2472\n"
     ]
    },
    {
     "name": "stderr",
     "output_type": "stream",
     "text": [
      "c:\\users\\radio_pc\\.conda\\envs\\bml3.6\\lib\\site-packages\\ipykernel_launcher.py:5: RuntimeWarning: divide by zero encountered in log\n",
      "  \"\"\"\n",
      "c:\\users\\radio_pc\\.conda\\envs\\bml3.6\\lib\\site-packages\\ipykernel_launcher.py:5: RuntimeWarning: invalid value encountered in log\n",
      "  \"\"\"\n",
      "c:\\users\\radio_pc\\.conda\\envs\\bml3.6\\lib\\site-packages\\ipykernel_launcher.py:5: RuntimeWarning: divide by zero encountered in log\n",
      "  \"\"\"\n",
      "c:\\users\\radio_pc\\.conda\\envs\\bml3.6\\lib\\site-packages\\ipykernel_launcher.py:5: RuntimeWarning: invalid value encountered in log\n",
      "  \"\"\"\n"
     ]
    },
    {
     "name": "stdout",
     "output_type": "stream",
     "text": [
      "RMSLE: inf\n",
      "R2 value: -10.4162\n",
      "RMSLE: inf\n",
      "R2 value: -6.2470\n"
     ]
    },
    {
     "name": "stderr",
     "output_type": "stream",
     "text": [
      "c:\\users\\radio_pc\\.conda\\envs\\bml3.6\\lib\\site-packages\\ipykernel_launcher.py:5: RuntimeWarning: divide by zero encountered in log\n",
      "  \"\"\"\n",
      "c:\\users\\radio_pc\\.conda\\envs\\bml3.6\\lib\\site-packages\\ipykernel_launcher.py:5: RuntimeWarning: invalid value encountered in log\n",
      "  \"\"\"\n",
      "c:\\users\\radio_pc\\.conda\\envs\\bml3.6\\lib\\site-packages\\ipykernel_launcher.py:5: RuntimeWarning: divide by zero encountered in log\n",
      "  \"\"\"\n",
      "c:\\users\\radio_pc\\.conda\\envs\\bml3.6\\lib\\site-packages\\ipykernel_launcher.py:5: RuntimeWarning: invalid value encountered in log\n",
      "  \"\"\"\n"
     ]
    },
    {
     "name": "stdout",
     "output_type": "stream",
     "text": [
      "RMSLE: inf\n",
      "R2 value: -10.4162\n",
      "RMSLE: inf\n",
      "R2 value: -6.2469\n"
     ]
    },
    {
     "name": "stderr",
     "output_type": "stream",
     "text": [
      "c:\\users\\radio_pc\\.conda\\envs\\bml3.6\\lib\\site-packages\\ipykernel_launcher.py:5: RuntimeWarning: divide by zero encountered in log\n",
      "  \"\"\"\n",
      "c:\\users\\radio_pc\\.conda\\envs\\bml3.6\\lib\\site-packages\\ipykernel_launcher.py:5: RuntimeWarning: invalid value encountered in log\n",
      "  \"\"\"\n",
      "c:\\users\\radio_pc\\.conda\\envs\\bml3.6\\lib\\site-packages\\ipykernel_launcher.py:5: RuntimeWarning: divide by zero encountered in log\n",
      "  \"\"\"\n",
      "c:\\users\\radio_pc\\.conda\\envs\\bml3.6\\lib\\site-packages\\ipykernel_launcher.py:5: RuntimeWarning: invalid value encountered in log\n",
      "  \"\"\"\n"
     ]
    },
    {
     "name": "stdout",
     "output_type": "stream",
     "text": [
      "RMSLE: inf\n",
      "R2 value: -10.4162\n",
      "RMSLE: inf\n",
      "R2 value: -6.2468\n"
     ]
    },
    {
     "name": "stderr",
     "output_type": "stream",
     "text": [
      "c:\\users\\radio_pc\\.conda\\envs\\bml3.6\\lib\\site-packages\\ipykernel_launcher.py:5: RuntimeWarning: divide by zero encountered in log\n",
      "  \"\"\"\n",
      "c:\\users\\radio_pc\\.conda\\envs\\bml3.6\\lib\\site-packages\\ipykernel_launcher.py:5: RuntimeWarning: invalid value encountered in log\n",
      "  \"\"\"\n",
      "c:\\users\\radio_pc\\.conda\\envs\\bml3.6\\lib\\site-packages\\ipykernel_launcher.py:5: RuntimeWarning: divide by zero encountered in log\n",
      "  \"\"\"\n",
      "c:\\users\\radio_pc\\.conda\\envs\\bml3.6\\lib\\site-packages\\ipykernel_launcher.py:5: RuntimeWarning: invalid value encountered in log\n",
      "  \"\"\"\n"
     ]
    },
    {
     "name": "stdout",
     "output_type": "stream",
     "text": [
      "RMSLE: inf\n",
      "R2 value: -10.4162\n",
      "RMSLE: inf\n",
      "R2 value: -6.2466\n"
     ]
    },
    {
     "name": "stderr",
     "output_type": "stream",
     "text": [
      "c:\\users\\radio_pc\\.conda\\envs\\bml3.6\\lib\\site-packages\\ipykernel_launcher.py:5: RuntimeWarning: divide by zero encountered in log\n",
      "  \"\"\"\n",
      "c:\\users\\radio_pc\\.conda\\envs\\bml3.6\\lib\\site-packages\\ipykernel_launcher.py:5: RuntimeWarning: invalid value encountered in log\n",
      "  \"\"\"\n",
      "c:\\users\\radio_pc\\.conda\\envs\\bml3.6\\lib\\site-packages\\ipykernel_launcher.py:5: RuntimeWarning: divide by zero encountered in log\n",
      "  \"\"\"\n",
      "c:\\users\\radio_pc\\.conda\\envs\\bml3.6\\lib\\site-packages\\ipykernel_launcher.py:5: RuntimeWarning: invalid value encountered in log\n",
      "  \"\"\"\n"
     ]
    },
    {
     "name": "stdout",
     "output_type": "stream",
     "text": [
      "RMSLE: inf\n",
      "R2 value: -10.4162\n",
      "RMSLE: inf\n",
      "R2 value: -6.2465\n"
     ]
    },
    {
     "name": "stderr",
     "output_type": "stream",
     "text": [
      "c:\\users\\radio_pc\\.conda\\envs\\bml3.6\\lib\\site-packages\\ipykernel_launcher.py:5: RuntimeWarning: divide by zero encountered in log\n",
      "  \"\"\"\n",
      "c:\\users\\radio_pc\\.conda\\envs\\bml3.6\\lib\\site-packages\\ipykernel_launcher.py:5: RuntimeWarning: invalid value encountered in log\n",
      "  \"\"\"\n",
      "c:\\users\\radio_pc\\.conda\\envs\\bml3.6\\lib\\site-packages\\ipykernel_launcher.py:5: RuntimeWarning: divide by zero encountered in log\n",
      "  \"\"\"\n",
      "c:\\users\\radio_pc\\.conda\\envs\\bml3.6\\lib\\site-packages\\ipykernel_launcher.py:5: RuntimeWarning: invalid value encountered in log\n",
      "  \"\"\"\n"
     ]
    },
    {
     "name": "stdout",
     "output_type": "stream",
     "text": [
      "RMSLE: inf\n",
      "R2 value: -10.4162\n",
      "RMSLE: inf\n",
      "R2 value: -6.2463\n"
     ]
    },
    {
     "name": "stderr",
     "output_type": "stream",
     "text": [
      "c:\\users\\radio_pc\\.conda\\envs\\bml3.6\\lib\\site-packages\\ipykernel_launcher.py:5: RuntimeWarning: divide by zero encountered in log\n",
      "  \"\"\"\n",
      "c:\\users\\radio_pc\\.conda\\envs\\bml3.6\\lib\\site-packages\\ipykernel_launcher.py:5: RuntimeWarning: invalid value encountered in log\n",
      "  \"\"\"\n",
      "c:\\users\\radio_pc\\.conda\\envs\\bml3.6\\lib\\site-packages\\ipykernel_launcher.py:5: RuntimeWarning: divide by zero encountered in log\n",
      "  \"\"\"\n",
      "c:\\users\\radio_pc\\.conda\\envs\\bml3.6\\lib\\site-packages\\ipykernel_launcher.py:5: RuntimeWarning: invalid value encountered in log\n",
      "  \"\"\"\n"
     ]
    },
    {
     "name": "stdout",
     "output_type": "stream",
     "text": [
      "RMSLE: inf\n",
      "R2 value: -10.4162\n",
      "RMSLE: inf\n",
      "R2 value: -6.2461\n"
     ]
    },
    {
     "name": "stderr",
     "output_type": "stream",
     "text": [
      "c:\\users\\radio_pc\\.conda\\envs\\bml3.6\\lib\\site-packages\\ipykernel_launcher.py:5: RuntimeWarning: divide by zero encountered in log\n",
      "  \"\"\"\n",
      "c:\\users\\radio_pc\\.conda\\envs\\bml3.6\\lib\\site-packages\\ipykernel_launcher.py:5: RuntimeWarning: invalid value encountered in log\n",
      "  \"\"\"\n",
      "c:\\users\\radio_pc\\.conda\\envs\\bml3.6\\lib\\site-packages\\ipykernel_launcher.py:5: RuntimeWarning: divide by zero encountered in log\n",
      "  \"\"\"\n",
      "c:\\users\\radio_pc\\.conda\\envs\\bml3.6\\lib\\site-packages\\ipykernel_launcher.py:5: RuntimeWarning: invalid value encountered in log\n",
      "  \"\"\"\n"
     ]
    },
    {
     "name": "stdout",
     "output_type": "stream",
     "text": [
      "RMSLE: inf\n",
      "R2 value: -10.4162\n",
      "RMSLE: inf\n",
      "R2 value: -6.2459\n"
     ]
    },
    {
     "name": "stderr",
     "output_type": "stream",
     "text": [
      "c:\\users\\radio_pc\\.conda\\envs\\bml3.6\\lib\\site-packages\\ipykernel_launcher.py:5: RuntimeWarning: divide by zero encountered in log\n",
      "  \"\"\"\n",
      "c:\\users\\radio_pc\\.conda\\envs\\bml3.6\\lib\\site-packages\\ipykernel_launcher.py:5: RuntimeWarning: invalid value encountered in log\n",
      "  \"\"\"\n",
      "c:\\users\\radio_pc\\.conda\\envs\\bml3.6\\lib\\site-packages\\ipykernel_launcher.py:5: RuntimeWarning: divide by zero encountered in log\n",
      "  \"\"\"\n",
      "c:\\users\\radio_pc\\.conda\\envs\\bml3.6\\lib\\site-packages\\ipykernel_launcher.py:5: RuntimeWarning: invalid value encountered in log\n",
      "  \"\"\"\n"
     ]
    },
    {
     "name": "stdout",
     "output_type": "stream",
     "text": [
      "RMSLE: inf\n",
      "R2 value: -10.4162\n",
      "RMSLE: inf\n",
      "R2 value: -6.2457\n"
     ]
    },
    {
     "name": "stderr",
     "output_type": "stream",
     "text": [
      "c:\\users\\radio_pc\\.conda\\envs\\bml3.6\\lib\\site-packages\\ipykernel_launcher.py:5: RuntimeWarning: divide by zero encountered in log\n",
      "  \"\"\"\n",
      "c:\\users\\radio_pc\\.conda\\envs\\bml3.6\\lib\\site-packages\\ipykernel_launcher.py:5: RuntimeWarning: invalid value encountered in log\n",
      "  \"\"\"\n",
      "c:\\users\\radio_pc\\.conda\\envs\\bml3.6\\lib\\site-packages\\ipykernel_launcher.py:5: RuntimeWarning: divide by zero encountered in log\n",
      "  \"\"\"\n",
      "c:\\users\\radio_pc\\.conda\\envs\\bml3.6\\lib\\site-packages\\ipykernel_launcher.py:5: RuntimeWarning: invalid value encountered in log\n",
      "  \"\"\"\n"
     ]
    },
    {
     "name": "stdout",
     "output_type": "stream",
     "text": [
      "RMSLE: inf\n",
      "R2 value: -10.4163\n",
      "RMSLE: inf\n",
      "R2 value: -6.2455\n"
     ]
    },
    {
     "name": "stderr",
     "output_type": "stream",
     "text": [
      "c:\\users\\radio_pc\\.conda\\envs\\bml3.6\\lib\\site-packages\\ipykernel_launcher.py:5: RuntimeWarning: divide by zero encountered in log\n",
      "  \"\"\"\n",
      "c:\\users\\radio_pc\\.conda\\envs\\bml3.6\\lib\\site-packages\\ipykernel_launcher.py:5: RuntimeWarning: invalid value encountered in log\n",
      "  \"\"\"\n",
      "c:\\users\\radio_pc\\.conda\\envs\\bml3.6\\lib\\site-packages\\ipykernel_launcher.py:5: RuntimeWarning: divide by zero encountered in log\n",
      "  \"\"\"\n",
      "c:\\users\\radio_pc\\.conda\\envs\\bml3.6\\lib\\site-packages\\ipykernel_launcher.py:5: RuntimeWarning: invalid value encountered in log\n",
      "  \"\"\"\n"
     ]
    },
    {
     "name": "stdout",
     "output_type": "stream",
     "text": [
      "RMSLE: inf\n",
      "R2 value: -10.4163\n",
      "RMSLE: inf\n",
      "R2 value: -6.2453\n"
     ]
    },
    {
     "name": "stderr",
     "output_type": "stream",
     "text": [
      "c:\\users\\radio_pc\\.conda\\envs\\bml3.6\\lib\\site-packages\\ipykernel_launcher.py:5: RuntimeWarning: divide by zero encountered in log\n",
      "  \"\"\"\n",
      "c:\\users\\radio_pc\\.conda\\envs\\bml3.6\\lib\\site-packages\\ipykernel_launcher.py:5: RuntimeWarning: invalid value encountered in log\n",
      "  \"\"\"\n",
      "c:\\users\\radio_pc\\.conda\\envs\\bml3.6\\lib\\site-packages\\ipykernel_launcher.py:5: RuntimeWarning: divide by zero encountered in log\n",
      "  \"\"\"\n",
      "c:\\users\\radio_pc\\.conda\\envs\\bml3.6\\lib\\site-packages\\ipykernel_launcher.py:5: RuntimeWarning: invalid value encountered in log\n",
      "  \"\"\"\n"
     ]
    },
    {
     "name": "stdout",
     "output_type": "stream",
     "text": [
      "RMSLE: inf\n",
      "R2 value: -10.4163\n",
      "RMSLE: inf\n",
      "R2 value: -6.2450\n"
     ]
    },
    {
     "name": "stderr",
     "output_type": "stream",
     "text": [
      "c:\\users\\radio_pc\\.conda\\envs\\bml3.6\\lib\\site-packages\\ipykernel_launcher.py:5: RuntimeWarning: divide by zero encountered in log\n",
      "  \"\"\"\n",
      "c:\\users\\radio_pc\\.conda\\envs\\bml3.6\\lib\\site-packages\\ipykernel_launcher.py:5: RuntimeWarning: invalid value encountered in log\n",
      "  \"\"\"\n",
      "c:\\users\\radio_pc\\.conda\\envs\\bml3.6\\lib\\site-packages\\ipykernel_launcher.py:5: RuntimeWarning: divide by zero encountered in log\n",
      "  \"\"\"\n",
      "c:\\users\\radio_pc\\.conda\\envs\\bml3.6\\lib\\site-packages\\ipykernel_launcher.py:5: RuntimeWarning: invalid value encountered in log\n",
      "  \"\"\"\n"
     ]
    },
    {
     "name": "stdout",
     "output_type": "stream",
     "text": [
      "RMSLE: inf\n",
      "R2 value: -10.4163\n",
      "RMSLE: inf\n",
      "R2 value: -6.2447\n"
     ]
    },
    {
     "name": "stderr",
     "output_type": "stream",
     "text": [
      "c:\\users\\radio_pc\\.conda\\envs\\bml3.6\\lib\\site-packages\\ipykernel_launcher.py:5: RuntimeWarning: divide by zero encountered in log\n",
      "  \"\"\"\n",
      "c:\\users\\radio_pc\\.conda\\envs\\bml3.6\\lib\\site-packages\\ipykernel_launcher.py:5: RuntimeWarning: invalid value encountered in log\n",
      "  \"\"\"\n",
      "c:\\users\\radio_pc\\.conda\\envs\\bml3.6\\lib\\site-packages\\ipykernel_launcher.py:5: RuntimeWarning: divide by zero encountered in log\n",
      "  \"\"\"\n",
      "c:\\users\\radio_pc\\.conda\\envs\\bml3.6\\lib\\site-packages\\ipykernel_launcher.py:5: RuntimeWarning: invalid value encountered in log\n",
      "  \"\"\"\n"
     ]
    },
    {
     "name": "stdout",
     "output_type": "stream",
     "text": [
      "RMSLE: inf\n",
      "R2 value: -10.4163\n",
      "RMSLE: inf\n",
      "R2 value: -6.2445\n"
     ]
    },
    {
     "name": "stderr",
     "output_type": "stream",
     "text": [
      "c:\\users\\radio_pc\\.conda\\envs\\bml3.6\\lib\\site-packages\\ipykernel_launcher.py:5: RuntimeWarning: divide by zero encountered in log\n",
      "  \"\"\"\n",
      "c:\\users\\radio_pc\\.conda\\envs\\bml3.6\\lib\\site-packages\\ipykernel_launcher.py:5: RuntimeWarning: invalid value encountered in log\n",
      "  \"\"\"\n",
      "c:\\users\\radio_pc\\.conda\\envs\\bml3.6\\lib\\site-packages\\ipykernel_launcher.py:5: RuntimeWarning: divide by zero encountered in log\n",
      "  \"\"\"\n",
      "c:\\users\\radio_pc\\.conda\\envs\\bml3.6\\lib\\site-packages\\ipykernel_launcher.py:5: RuntimeWarning: invalid value encountered in log\n",
      "  \"\"\"\n"
     ]
    },
    {
     "name": "stdout",
     "output_type": "stream",
     "text": [
      "RMSLE: inf\n",
      "R2 value: -10.4163\n",
      "RMSLE: inf\n",
      "R2 value: -6.2442\n"
     ]
    },
    {
     "name": "stderr",
     "output_type": "stream",
     "text": [
      "c:\\users\\radio_pc\\.conda\\envs\\bml3.6\\lib\\site-packages\\ipykernel_launcher.py:5: RuntimeWarning: divide by zero encountered in log\n",
      "  \"\"\"\n",
      "c:\\users\\radio_pc\\.conda\\envs\\bml3.6\\lib\\site-packages\\ipykernel_launcher.py:5: RuntimeWarning: invalid value encountered in log\n",
      "  \"\"\"\n",
      "c:\\users\\radio_pc\\.conda\\envs\\bml3.6\\lib\\site-packages\\ipykernel_launcher.py:5: RuntimeWarning: divide by zero encountered in log\n",
      "  \"\"\"\n",
      "c:\\users\\radio_pc\\.conda\\envs\\bml3.6\\lib\\site-packages\\ipykernel_launcher.py:5: RuntimeWarning: invalid value encountered in log\n",
      "  \"\"\"\n"
     ]
    },
    {
     "name": "stdout",
     "output_type": "stream",
     "text": [
      "RMSLE: inf\n",
      "R2 value: -10.4163\n",
      "RMSLE: inf\n",
      "R2 value: -6.2438\n"
     ]
    },
    {
     "name": "stderr",
     "output_type": "stream",
     "text": [
      "c:\\users\\radio_pc\\.conda\\envs\\bml3.6\\lib\\site-packages\\ipykernel_launcher.py:5: RuntimeWarning: divide by zero encountered in log\n",
      "  \"\"\"\n",
      "c:\\users\\radio_pc\\.conda\\envs\\bml3.6\\lib\\site-packages\\ipykernel_launcher.py:5: RuntimeWarning: invalid value encountered in log\n",
      "  \"\"\"\n",
      "c:\\users\\radio_pc\\.conda\\envs\\bml3.6\\lib\\site-packages\\ipykernel_launcher.py:5: RuntimeWarning: divide by zero encountered in log\n",
      "  \"\"\"\n",
      "c:\\users\\radio_pc\\.conda\\envs\\bml3.6\\lib\\site-packages\\ipykernel_launcher.py:5: RuntimeWarning: invalid value encountered in log\n",
      "  \"\"\"\n"
     ]
    },
    {
     "name": "stdout",
     "output_type": "stream",
     "text": [
      "RMSLE: inf\n",
      "R2 value: -10.4163\n",
      "RMSLE: inf\n",
      "R2 value: -6.2435\n"
     ]
    },
    {
     "name": "stderr",
     "output_type": "stream",
     "text": [
      "c:\\users\\radio_pc\\.conda\\envs\\bml3.6\\lib\\site-packages\\ipykernel_launcher.py:5: RuntimeWarning: divide by zero encountered in log\n",
      "  \"\"\"\n",
      "c:\\users\\radio_pc\\.conda\\envs\\bml3.6\\lib\\site-packages\\ipykernel_launcher.py:5: RuntimeWarning: invalid value encountered in log\n",
      "  \"\"\"\n",
      "c:\\users\\radio_pc\\.conda\\envs\\bml3.6\\lib\\site-packages\\ipykernel_launcher.py:5: RuntimeWarning: divide by zero encountered in log\n",
      "  \"\"\"\n",
      "c:\\users\\radio_pc\\.conda\\envs\\bml3.6\\lib\\site-packages\\ipykernel_launcher.py:5: RuntimeWarning: invalid value encountered in log\n",
      "  \"\"\"\n"
     ]
    },
    {
     "name": "stdout",
     "output_type": "stream",
     "text": [
      "RMSLE: inf\n",
      "R2 value: -10.4163\n",
      "RMSLE: inf\n",
      "R2 value: -6.2431\n"
     ]
    },
    {
     "name": "stderr",
     "output_type": "stream",
     "text": [
      "c:\\users\\radio_pc\\.conda\\envs\\bml3.6\\lib\\site-packages\\ipykernel_launcher.py:5: RuntimeWarning: divide by zero encountered in log\n",
      "  \"\"\"\n",
      "c:\\users\\radio_pc\\.conda\\envs\\bml3.6\\lib\\site-packages\\ipykernel_launcher.py:5: RuntimeWarning: invalid value encountered in log\n",
      "  \"\"\"\n",
      "c:\\users\\radio_pc\\.conda\\envs\\bml3.6\\lib\\site-packages\\ipykernel_launcher.py:5: RuntimeWarning: divide by zero encountered in log\n",
      "  \"\"\"\n",
      "c:\\users\\radio_pc\\.conda\\envs\\bml3.6\\lib\\site-packages\\ipykernel_launcher.py:5: RuntimeWarning: invalid value encountered in log\n",
      "  \"\"\"\n"
     ]
    },
    {
     "name": "stdout",
     "output_type": "stream",
     "text": [
      "RMSLE: inf\n",
      "R2 value: -10.4163\n",
      "RMSLE: inf\n",
      "R2 value: -6.2427\n"
     ]
    },
    {
     "name": "stderr",
     "output_type": "stream",
     "text": [
      "c:\\users\\radio_pc\\.conda\\envs\\bml3.6\\lib\\site-packages\\ipykernel_launcher.py:5: RuntimeWarning: divide by zero encountered in log\n",
      "  \"\"\"\n",
      "c:\\users\\radio_pc\\.conda\\envs\\bml3.6\\lib\\site-packages\\ipykernel_launcher.py:5: RuntimeWarning: invalid value encountered in log\n",
      "  \"\"\"\n",
      "c:\\users\\radio_pc\\.conda\\envs\\bml3.6\\lib\\site-packages\\ipykernel_launcher.py:5: RuntimeWarning: divide by zero encountered in log\n",
      "  \"\"\"\n",
      "c:\\users\\radio_pc\\.conda\\envs\\bml3.6\\lib\\site-packages\\ipykernel_launcher.py:5: RuntimeWarning: invalid value encountered in log\n",
      "  \"\"\"\n"
     ]
    },
    {
     "name": "stdout",
     "output_type": "stream",
     "text": [
      "RMSLE: inf\n",
      "R2 value: -10.4163\n",
      "RMSLE: inf\n",
      "R2 value: -6.2423\n"
     ]
    },
    {
     "name": "stderr",
     "output_type": "stream",
     "text": [
      "c:\\users\\radio_pc\\.conda\\envs\\bml3.6\\lib\\site-packages\\ipykernel_launcher.py:5: RuntimeWarning: divide by zero encountered in log\n",
      "  \"\"\"\n",
      "c:\\users\\radio_pc\\.conda\\envs\\bml3.6\\lib\\site-packages\\ipykernel_launcher.py:5: RuntimeWarning: invalid value encountered in log\n",
      "  \"\"\"\n",
      "c:\\users\\radio_pc\\.conda\\envs\\bml3.6\\lib\\site-packages\\ipykernel_launcher.py:5: RuntimeWarning: divide by zero encountered in log\n",
      "  \"\"\"\n",
      "c:\\users\\radio_pc\\.conda\\envs\\bml3.6\\lib\\site-packages\\ipykernel_launcher.py:5: RuntimeWarning: invalid value encountered in log\n",
      "  \"\"\"\n"
     ]
    },
    {
     "name": "stdout",
     "output_type": "stream",
     "text": [
      "RMSLE: inf\n",
      "R2 value: -10.4163\n",
      "RMSLE: inf\n",
      "R2 value: -6.2419\n"
     ]
    },
    {
     "name": "stderr",
     "output_type": "stream",
     "text": [
      "c:\\users\\radio_pc\\.conda\\envs\\bml3.6\\lib\\site-packages\\ipykernel_launcher.py:5: RuntimeWarning: divide by zero encountered in log\n",
      "  \"\"\"\n",
      "c:\\users\\radio_pc\\.conda\\envs\\bml3.6\\lib\\site-packages\\ipykernel_launcher.py:5: RuntimeWarning: invalid value encountered in log\n",
      "  \"\"\"\n",
      "c:\\users\\radio_pc\\.conda\\envs\\bml3.6\\lib\\site-packages\\ipykernel_launcher.py:5: RuntimeWarning: divide by zero encountered in log\n",
      "  \"\"\"\n",
      "c:\\users\\radio_pc\\.conda\\envs\\bml3.6\\lib\\site-packages\\ipykernel_launcher.py:5: RuntimeWarning: invalid value encountered in log\n",
      "  \"\"\"\n"
     ]
    },
    {
     "name": "stdout",
     "output_type": "stream",
     "text": [
      "RMSLE: inf\n",
      "R2 value: -10.4164\n",
      "RMSLE: inf\n",
      "R2 value: -6.2414\n"
     ]
    },
    {
     "name": "stderr",
     "output_type": "stream",
     "text": [
      "c:\\users\\radio_pc\\.conda\\envs\\bml3.6\\lib\\site-packages\\ipykernel_launcher.py:5: RuntimeWarning: divide by zero encountered in log\n",
      "  \"\"\"\n",
      "c:\\users\\radio_pc\\.conda\\envs\\bml3.6\\lib\\site-packages\\ipykernel_launcher.py:5: RuntimeWarning: invalid value encountered in log\n",
      "  \"\"\"\n",
      "c:\\users\\radio_pc\\.conda\\envs\\bml3.6\\lib\\site-packages\\ipykernel_launcher.py:5: RuntimeWarning: divide by zero encountered in log\n",
      "  \"\"\"\n",
      "c:\\users\\radio_pc\\.conda\\envs\\bml3.6\\lib\\site-packages\\ipykernel_launcher.py:5: RuntimeWarning: invalid value encountered in log\n",
      "  \"\"\"\n"
     ]
    },
    {
     "name": "stdout",
     "output_type": "stream",
     "text": [
      "RMSLE: inf\n",
      "R2 value: -10.4164\n",
      "RMSLE: inf\n",
      "R2 value: -6.2409\n"
     ]
    },
    {
     "name": "stderr",
     "output_type": "stream",
     "text": [
      "c:\\users\\radio_pc\\.conda\\envs\\bml3.6\\lib\\site-packages\\ipykernel_launcher.py:5: RuntimeWarning: divide by zero encountered in log\n",
      "  \"\"\"\n",
      "c:\\users\\radio_pc\\.conda\\envs\\bml3.6\\lib\\site-packages\\ipykernel_launcher.py:5: RuntimeWarning: invalid value encountered in log\n",
      "  \"\"\"\n",
      "c:\\users\\radio_pc\\.conda\\envs\\bml3.6\\lib\\site-packages\\ipykernel_launcher.py:5: RuntimeWarning: divide by zero encountered in log\n",
      "  \"\"\"\n",
      "c:\\users\\radio_pc\\.conda\\envs\\bml3.6\\lib\\site-packages\\ipykernel_launcher.py:5: RuntimeWarning: invalid value encountered in log\n",
      "  \"\"\"\n"
     ]
    },
    {
     "name": "stdout",
     "output_type": "stream",
     "text": [
      "RMSLE: inf\n",
      "R2 value: -10.4164\n",
      "RMSLE: inf\n",
      "R2 value: -6.2404\n"
     ]
    },
    {
     "name": "stderr",
     "output_type": "stream",
     "text": [
      "c:\\users\\radio_pc\\.conda\\envs\\bml3.6\\lib\\site-packages\\ipykernel_launcher.py:5: RuntimeWarning: divide by zero encountered in log\n",
      "  \"\"\"\n",
      "c:\\users\\radio_pc\\.conda\\envs\\bml3.6\\lib\\site-packages\\ipykernel_launcher.py:5: RuntimeWarning: invalid value encountered in log\n",
      "  \"\"\"\n",
      "c:\\users\\radio_pc\\.conda\\envs\\bml3.6\\lib\\site-packages\\ipykernel_launcher.py:5: RuntimeWarning: divide by zero encountered in log\n",
      "  \"\"\"\n",
      "c:\\users\\radio_pc\\.conda\\envs\\bml3.6\\lib\\site-packages\\ipykernel_launcher.py:5: RuntimeWarning: invalid value encountered in log\n",
      "  \"\"\"\n"
     ]
    },
    {
     "name": "stdout",
     "output_type": "stream",
     "text": [
      "RMSLE: inf\n",
      "R2 value: -10.4164\n",
      "RMSLE: inf\n",
      "R2 value: -6.2398\n"
     ]
    },
    {
     "name": "stderr",
     "output_type": "stream",
     "text": [
      "c:\\users\\radio_pc\\.conda\\envs\\bml3.6\\lib\\site-packages\\ipykernel_launcher.py:5: RuntimeWarning: divide by zero encountered in log\n",
      "  \"\"\"\n",
      "c:\\users\\radio_pc\\.conda\\envs\\bml3.6\\lib\\site-packages\\ipykernel_launcher.py:5: RuntimeWarning: invalid value encountered in log\n",
      "  \"\"\"\n",
      "c:\\users\\radio_pc\\.conda\\envs\\bml3.6\\lib\\site-packages\\ipykernel_launcher.py:5: RuntimeWarning: divide by zero encountered in log\n",
      "  \"\"\"\n",
      "c:\\users\\radio_pc\\.conda\\envs\\bml3.6\\lib\\site-packages\\ipykernel_launcher.py:5: RuntimeWarning: invalid value encountered in log\n",
      "  \"\"\"\n"
     ]
    },
    {
     "name": "stdout",
     "output_type": "stream",
     "text": [
      "RMSLE: inf\n",
      "R2 value: -10.4164\n",
      "RMSLE: inf\n",
      "R2 value: -6.2392\n"
     ]
    },
    {
     "name": "stderr",
     "output_type": "stream",
     "text": [
      "c:\\users\\radio_pc\\.conda\\envs\\bml3.6\\lib\\site-packages\\ipykernel_launcher.py:5: RuntimeWarning: divide by zero encountered in log\n",
      "  \"\"\"\n",
      "c:\\users\\radio_pc\\.conda\\envs\\bml3.6\\lib\\site-packages\\ipykernel_launcher.py:5: RuntimeWarning: invalid value encountered in log\n",
      "  \"\"\"\n",
      "c:\\users\\radio_pc\\.conda\\envs\\bml3.6\\lib\\site-packages\\ipykernel_launcher.py:5: RuntimeWarning: divide by zero encountered in log\n",
      "  \"\"\"\n",
      "c:\\users\\radio_pc\\.conda\\envs\\bml3.6\\lib\\site-packages\\ipykernel_launcher.py:5: RuntimeWarning: invalid value encountered in log\n",
      "  \"\"\"\n"
     ]
    },
    {
     "name": "stdout",
     "output_type": "stream",
     "text": [
      "RMSLE: inf\n",
      "R2 value: -10.4164\n",
      "RMSLE: inf\n",
      "R2 value: -6.2386\n"
     ]
    },
    {
     "name": "stderr",
     "output_type": "stream",
     "text": [
      "c:\\users\\radio_pc\\.conda\\envs\\bml3.6\\lib\\site-packages\\ipykernel_launcher.py:5: RuntimeWarning: divide by zero encountered in log\n",
      "  \"\"\"\n",
      "c:\\users\\radio_pc\\.conda\\envs\\bml3.6\\lib\\site-packages\\ipykernel_launcher.py:5: RuntimeWarning: invalid value encountered in log\n",
      "  \"\"\"\n",
      "c:\\users\\radio_pc\\.conda\\envs\\bml3.6\\lib\\site-packages\\ipykernel_launcher.py:5: RuntimeWarning: divide by zero encountered in log\n",
      "  \"\"\"\n",
      "c:\\users\\radio_pc\\.conda\\envs\\bml3.6\\lib\\site-packages\\ipykernel_launcher.py:5: RuntimeWarning: invalid value encountered in log\n",
      "  \"\"\"\n"
     ]
    },
    {
     "name": "stdout",
     "output_type": "stream",
     "text": [
      "RMSLE: inf\n",
      "R2 value: -10.4164\n",
      "RMSLE: inf\n",
      "R2 value: -6.2379\n"
     ]
    },
    {
     "name": "stderr",
     "output_type": "stream",
     "text": [
      "c:\\users\\radio_pc\\.conda\\envs\\bml3.6\\lib\\site-packages\\ipykernel_launcher.py:5: RuntimeWarning: divide by zero encountered in log\n",
      "  \"\"\"\n",
      "c:\\users\\radio_pc\\.conda\\envs\\bml3.6\\lib\\site-packages\\ipykernel_launcher.py:5: RuntimeWarning: invalid value encountered in log\n",
      "  \"\"\"\n",
      "c:\\users\\radio_pc\\.conda\\envs\\bml3.6\\lib\\site-packages\\ipykernel_launcher.py:5: RuntimeWarning: divide by zero encountered in log\n",
      "  \"\"\"\n",
      "c:\\users\\radio_pc\\.conda\\envs\\bml3.6\\lib\\site-packages\\ipykernel_launcher.py:5: RuntimeWarning: invalid value encountered in log\n",
      "  \"\"\"\n"
     ]
    },
    {
     "name": "stdout",
     "output_type": "stream",
     "text": [
      "RMSLE: inf\n",
      "R2 value: -10.4165\n",
      "RMSLE: inf\n",
      "R2 value: -6.2372\n"
     ]
    },
    {
     "name": "stderr",
     "output_type": "stream",
     "text": [
      "c:\\users\\radio_pc\\.conda\\envs\\bml3.6\\lib\\site-packages\\ipykernel_launcher.py:5: RuntimeWarning: divide by zero encountered in log\n",
      "  \"\"\"\n",
      "c:\\users\\radio_pc\\.conda\\envs\\bml3.6\\lib\\site-packages\\ipykernel_launcher.py:5: RuntimeWarning: invalid value encountered in log\n",
      "  \"\"\"\n",
      "c:\\users\\radio_pc\\.conda\\envs\\bml3.6\\lib\\site-packages\\ipykernel_launcher.py:5: RuntimeWarning: divide by zero encountered in log\n",
      "  \"\"\"\n",
      "c:\\users\\radio_pc\\.conda\\envs\\bml3.6\\lib\\site-packages\\ipykernel_launcher.py:5: RuntimeWarning: invalid value encountered in log\n",
      "  \"\"\"\n"
     ]
    },
    {
     "name": "stdout",
     "output_type": "stream",
     "text": [
      "RMSLE: inf\n",
      "R2 value: -10.4165\n",
      "RMSLE: inf\n",
      "R2 value: -6.2364\n"
     ]
    },
    {
     "name": "stderr",
     "output_type": "stream",
     "text": [
      "c:\\users\\radio_pc\\.conda\\envs\\bml3.6\\lib\\site-packages\\ipykernel_launcher.py:5: RuntimeWarning: divide by zero encountered in log\n",
      "  \"\"\"\n",
      "c:\\users\\radio_pc\\.conda\\envs\\bml3.6\\lib\\site-packages\\ipykernel_launcher.py:5: RuntimeWarning: invalid value encountered in log\n",
      "  \"\"\"\n",
      "c:\\users\\radio_pc\\.conda\\envs\\bml3.6\\lib\\site-packages\\ipykernel_launcher.py:5: RuntimeWarning: divide by zero encountered in log\n",
      "  \"\"\"\n",
      "c:\\users\\radio_pc\\.conda\\envs\\bml3.6\\lib\\site-packages\\ipykernel_launcher.py:5: RuntimeWarning: invalid value encountered in log\n",
      "  \"\"\"\n"
     ]
    },
    {
     "name": "stdout",
     "output_type": "stream",
     "text": [
      "RMSLE: inf\n",
      "R2 value: -10.4165\n",
      "RMSLE: inf\n",
      "R2 value: -6.2356\n"
     ]
    },
    {
     "name": "stderr",
     "output_type": "stream",
     "text": [
      "c:\\users\\radio_pc\\.conda\\envs\\bml3.6\\lib\\site-packages\\ipykernel_launcher.py:5: RuntimeWarning: divide by zero encountered in log\n",
      "  \"\"\"\n",
      "c:\\users\\radio_pc\\.conda\\envs\\bml3.6\\lib\\site-packages\\ipykernel_launcher.py:5: RuntimeWarning: invalid value encountered in log\n",
      "  \"\"\"\n",
      "c:\\users\\radio_pc\\.conda\\envs\\bml3.6\\lib\\site-packages\\ipykernel_launcher.py:5: RuntimeWarning: divide by zero encountered in log\n",
      "  \"\"\"\n",
      "c:\\users\\radio_pc\\.conda\\envs\\bml3.6\\lib\\site-packages\\ipykernel_launcher.py:5: RuntimeWarning: invalid value encountered in log\n",
      "  \"\"\"\n"
     ]
    },
    {
     "name": "stdout",
     "output_type": "stream",
     "text": [
      "RMSLE: inf\n",
      "R2 value: -10.4165\n",
      "RMSLE: inf\n",
      "R2 value: -6.2347\n"
     ]
    },
    {
     "name": "stderr",
     "output_type": "stream",
     "text": [
      "c:\\users\\radio_pc\\.conda\\envs\\bml3.6\\lib\\site-packages\\ipykernel_launcher.py:5: RuntimeWarning: divide by zero encountered in log\n",
      "  \"\"\"\n",
      "c:\\users\\radio_pc\\.conda\\envs\\bml3.6\\lib\\site-packages\\ipykernel_launcher.py:5: RuntimeWarning: invalid value encountered in log\n",
      "  \"\"\"\n",
      "c:\\users\\radio_pc\\.conda\\envs\\bml3.6\\lib\\site-packages\\ipykernel_launcher.py:5: RuntimeWarning: divide by zero encountered in log\n",
      "  \"\"\"\n",
      "c:\\users\\radio_pc\\.conda\\envs\\bml3.6\\lib\\site-packages\\ipykernel_launcher.py:5: RuntimeWarning: invalid value encountered in log\n",
      "  \"\"\"\n"
     ]
    },
    {
     "name": "stdout",
     "output_type": "stream",
     "text": [
      "RMSLE: inf\n",
      "R2 value: -10.4165\n",
      "RMSLE: inf\n",
      "R2 value: -6.2338\n"
     ]
    },
    {
     "name": "stderr",
     "output_type": "stream",
     "text": [
      "c:\\users\\radio_pc\\.conda\\envs\\bml3.6\\lib\\site-packages\\ipykernel_launcher.py:5: RuntimeWarning: divide by zero encountered in log\n",
      "  \"\"\"\n",
      "c:\\users\\radio_pc\\.conda\\envs\\bml3.6\\lib\\site-packages\\ipykernel_launcher.py:5: RuntimeWarning: invalid value encountered in log\n",
      "  \"\"\"\n",
      "c:\\users\\radio_pc\\.conda\\envs\\bml3.6\\lib\\site-packages\\ipykernel_launcher.py:5: RuntimeWarning: divide by zero encountered in log\n",
      "  \"\"\"\n",
      "c:\\users\\radio_pc\\.conda\\envs\\bml3.6\\lib\\site-packages\\ipykernel_launcher.py:5: RuntimeWarning: invalid value encountered in log\n",
      "  \"\"\"\n"
     ]
    },
    {
     "name": "stdout",
     "output_type": "stream",
     "text": [
      "RMSLE: inf\n",
      "R2 value: -10.4166\n",
      "RMSLE: inf\n",
      "R2 value: -6.2328\n"
     ]
    },
    {
     "name": "stderr",
     "output_type": "stream",
     "text": [
      "c:\\users\\radio_pc\\.conda\\envs\\bml3.6\\lib\\site-packages\\ipykernel_launcher.py:5: RuntimeWarning: divide by zero encountered in log\n",
      "  \"\"\"\n",
      "c:\\users\\radio_pc\\.conda\\envs\\bml3.6\\lib\\site-packages\\ipykernel_launcher.py:5: RuntimeWarning: invalid value encountered in log\n",
      "  \"\"\"\n",
      "c:\\users\\radio_pc\\.conda\\envs\\bml3.6\\lib\\site-packages\\ipykernel_launcher.py:5: RuntimeWarning: divide by zero encountered in log\n",
      "  \"\"\"\n",
      "c:\\users\\radio_pc\\.conda\\envs\\bml3.6\\lib\\site-packages\\ipykernel_launcher.py:5: RuntimeWarning: invalid value encountered in log\n",
      "  \"\"\"\n"
     ]
    },
    {
     "name": "stdout",
     "output_type": "stream",
     "text": [
      "RMSLE: inf\n",
      "R2 value: -10.4166\n",
      "RMSLE: inf\n",
      "R2 value: -6.2317\n"
     ]
    },
    {
     "name": "stderr",
     "output_type": "stream",
     "text": [
      "c:\\users\\radio_pc\\.conda\\envs\\bml3.6\\lib\\site-packages\\ipykernel_launcher.py:5: RuntimeWarning: divide by zero encountered in log\n",
      "  \"\"\"\n",
      "c:\\users\\radio_pc\\.conda\\envs\\bml3.6\\lib\\site-packages\\ipykernel_launcher.py:5: RuntimeWarning: invalid value encountered in log\n",
      "  \"\"\"\n",
      "c:\\users\\radio_pc\\.conda\\envs\\bml3.6\\lib\\site-packages\\ipykernel_launcher.py:5: RuntimeWarning: divide by zero encountered in log\n",
      "  \"\"\"\n",
      "c:\\users\\radio_pc\\.conda\\envs\\bml3.6\\lib\\site-packages\\ipykernel_launcher.py:5: RuntimeWarning: invalid value encountered in log\n",
      "  \"\"\"\n"
     ]
    },
    {
     "name": "stdout",
     "output_type": "stream",
     "text": [
      "RMSLE: inf\n",
      "R2 value: -10.4166\n",
      "RMSLE: inf\n",
      "R2 value: -6.2306\n"
     ]
    },
    {
     "name": "stderr",
     "output_type": "stream",
     "text": [
      "c:\\users\\radio_pc\\.conda\\envs\\bml3.6\\lib\\site-packages\\ipykernel_launcher.py:5: RuntimeWarning: divide by zero encountered in log\n",
      "  \"\"\"\n",
      "c:\\users\\radio_pc\\.conda\\envs\\bml3.6\\lib\\site-packages\\ipykernel_launcher.py:5: RuntimeWarning: invalid value encountered in log\n",
      "  \"\"\"\n",
      "c:\\users\\radio_pc\\.conda\\envs\\bml3.6\\lib\\site-packages\\ipykernel_launcher.py:5: RuntimeWarning: divide by zero encountered in log\n",
      "  \"\"\"\n",
      "c:\\users\\radio_pc\\.conda\\envs\\bml3.6\\lib\\site-packages\\ipykernel_launcher.py:5: RuntimeWarning: invalid value encountered in log\n",
      "  \"\"\"\n"
     ]
    },
    {
     "name": "stdout",
     "output_type": "stream",
     "text": [
      "RMSLE: inf\n",
      "R2 value: -10.4167\n",
      "RMSLE: inf\n",
      "R2 value: -6.2294\n"
     ]
    },
    {
     "name": "stderr",
     "output_type": "stream",
     "text": [
      "c:\\users\\radio_pc\\.conda\\envs\\bml3.6\\lib\\site-packages\\ipykernel_launcher.py:5: RuntimeWarning: divide by zero encountered in log\n",
      "  \"\"\"\n",
      "c:\\users\\radio_pc\\.conda\\envs\\bml3.6\\lib\\site-packages\\ipykernel_launcher.py:5: RuntimeWarning: invalid value encountered in log\n",
      "  \"\"\"\n",
      "c:\\users\\radio_pc\\.conda\\envs\\bml3.6\\lib\\site-packages\\ipykernel_launcher.py:5: RuntimeWarning: divide by zero encountered in log\n",
      "  \"\"\"\n",
      "c:\\users\\radio_pc\\.conda\\envs\\bml3.6\\lib\\site-packages\\ipykernel_launcher.py:5: RuntimeWarning: invalid value encountered in log\n",
      "  \"\"\"\n"
     ]
    },
    {
     "name": "stdout",
     "output_type": "stream",
     "text": [
      "RMSLE: inf\n",
      "R2 value: -10.4167\n",
      "RMSLE: inf\n",
      "R2 value: -6.2281\n"
     ]
    },
    {
     "name": "stderr",
     "output_type": "stream",
     "text": [
      "c:\\users\\radio_pc\\.conda\\envs\\bml3.6\\lib\\site-packages\\ipykernel_launcher.py:5: RuntimeWarning: divide by zero encountered in log\n",
      "  \"\"\"\n",
      "c:\\users\\radio_pc\\.conda\\envs\\bml3.6\\lib\\site-packages\\ipykernel_launcher.py:5: RuntimeWarning: invalid value encountered in log\n",
      "  \"\"\"\n",
      "c:\\users\\radio_pc\\.conda\\envs\\bml3.6\\lib\\site-packages\\ipykernel_launcher.py:5: RuntimeWarning: divide by zero encountered in log\n",
      "  \"\"\"\n",
      "c:\\users\\radio_pc\\.conda\\envs\\bml3.6\\lib\\site-packages\\ipykernel_launcher.py:5: RuntimeWarning: invalid value encountered in log\n",
      "  \"\"\"\n"
     ]
    },
    {
     "name": "stdout",
     "output_type": "stream",
     "text": [
      "RMSLE: inf\n",
      "R2 value: -10.4167\n",
      "RMSLE: inf\n",
      "R2 value: -6.2267\n"
     ]
    },
    {
     "name": "stderr",
     "output_type": "stream",
     "text": [
      "c:\\users\\radio_pc\\.conda\\envs\\bml3.6\\lib\\site-packages\\ipykernel_launcher.py:5: RuntimeWarning: divide by zero encountered in log\n",
      "  \"\"\"\n",
      "c:\\users\\radio_pc\\.conda\\envs\\bml3.6\\lib\\site-packages\\ipykernel_launcher.py:5: RuntimeWarning: invalid value encountered in log\n",
      "  \"\"\"\n",
      "c:\\users\\radio_pc\\.conda\\envs\\bml3.6\\lib\\site-packages\\ipykernel_launcher.py:5: RuntimeWarning: divide by zero encountered in log\n",
      "  \"\"\"\n",
      "c:\\users\\radio_pc\\.conda\\envs\\bml3.6\\lib\\site-packages\\ipykernel_launcher.py:5: RuntimeWarning: invalid value encountered in log\n",
      "  \"\"\"\n"
     ]
    },
    {
     "name": "stdout",
     "output_type": "stream",
     "text": [
      "RMSLE: inf\n",
      "R2 value: -10.4168\n",
      "RMSLE: inf\n",
      "R2 value: -6.2253\n"
     ]
    },
    {
     "name": "stderr",
     "output_type": "stream",
     "text": [
      "c:\\users\\radio_pc\\.conda\\envs\\bml3.6\\lib\\site-packages\\ipykernel_launcher.py:5: RuntimeWarning: divide by zero encountered in log\n",
      "  \"\"\"\n",
      "c:\\users\\radio_pc\\.conda\\envs\\bml3.6\\lib\\site-packages\\ipykernel_launcher.py:5: RuntimeWarning: invalid value encountered in log\n",
      "  \"\"\"\n",
      "c:\\users\\radio_pc\\.conda\\envs\\bml3.6\\lib\\site-packages\\ipykernel_launcher.py:5: RuntimeWarning: divide by zero encountered in log\n",
      "  \"\"\"\n",
      "c:\\users\\radio_pc\\.conda\\envs\\bml3.6\\lib\\site-packages\\ipykernel_launcher.py:5: RuntimeWarning: invalid value encountered in log\n",
      "  \"\"\"\n"
     ]
    },
    {
     "name": "stdout",
     "output_type": "stream",
     "text": [
      "RMSLE: inf\n",
      "R2 value: -10.4168\n",
      "RMSLE: inf\n",
      "R2 value: -6.2238\n"
     ]
    },
    {
     "name": "stderr",
     "output_type": "stream",
     "text": [
      "c:\\users\\radio_pc\\.conda\\envs\\bml3.6\\lib\\site-packages\\ipykernel_launcher.py:5: RuntimeWarning: divide by zero encountered in log\n",
      "  \"\"\"\n",
      "c:\\users\\radio_pc\\.conda\\envs\\bml3.6\\lib\\site-packages\\ipykernel_launcher.py:5: RuntimeWarning: invalid value encountered in log\n",
      "  \"\"\"\n",
      "c:\\users\\radio_pc\\.conda\\envs\\bml3.6\\lib\\site-packages\\ipykernel_launcher.py:5: RuntimeWarning: divide by zero encountered in log\n",
      "  \"\"\"\n",
      "c:\\users\\radio_pc\\.conda\\envs\\bml3.6\\lib\\site-packages\\ipykernel_launcher.py:5: RuntimeWarning: invalid value encountered in log\n",
      "  \"\"\"\n"
     ]
    },
    {
     "name": "stdout",
     "output_type": "stream",
     "text": [
      "RMSLE: inf\n",
      "R2 value: -10.4168\n",
      "RMSLE: inf\n",
      "R2 value: -6.2221\n"
     ]
    },
    {
     "name": "stderr",
     "output_type": "stream",
     "text": [
      "c:\\users\\radio_pc\\.conda\\envs\\bml3.6\\lib\\site-packages\\ipykernel_launcher.py:5: RuntimeWarning: divide by zero encountered in log\n",
      "  \"\"\"\n",
      "c:\\users\\radio_pc\\.conda\\envs\\bml3.6\\lib\\site-packages\\ipykernel_launcher.py:5: RuntimeWarning: invalid value encountered in log\n",
      "  \"\"\"\n",
      "c:\\users\\radio_pc\\.conda\\envs\\bml3.6\\lib\\site-packages\\ipykernel_launcher.py:5: RuntimeWarning: divide by zero encountered in log\n",
      "  \"\"\"\n",
      "c:\\users\\radio_pc\\.conda\\envs\\bml3.6\\lib\\site-packages\\ipykernel_launcher.py:5: RuntimeWarning: invalid value encountered in log\n",
      "  \"\"\"\n"
     ]
    },
    {
     "name": "stdout",
     "output_type": "stream",
     "text": [
      "RMSLE: inf\n",
      "R2 value: -10.4169\n",
      "RMSLE: inf\n",
      "R2 value: -6.2204\n"
     ]
    },
    {
     "name": "stderr",
     "output_type": "stream",
     "text": [
      "c:\\users\\radio_pc\\.conda\\envs\\bml3.6\\lib\\site-packages\\ipykernel_launcher.py:5: RuntimeWarning: divide by zero encountered in log\n",
      "  \"\"\"\n",
      "c:\\users\\radio_pc\\.conda\\envs\\bml3.6\\lib\\site-packages\\ipykernel_launcher.py:5: RuntimeWarning: invalid value encountered in log\n",
      "  \"\"\"\n",
      "c:\\users\\radio_pc\\.conda\\envs\\bml3.6\\lib\\site-packages\\ipykernel_launcher.py:5: RuntimeWarning: divide by zero encountered in log\n",
      "  \"\"\"\n",
      "c:\\users\\radio_pc\\.conda\\envs\\bml3.6\\lib\\site-packages\\ipykernel_launcher.py:5: RuntimeWarning: invalid value encountered in log\n",
      "  \"\"\"\n"
     ]
    },
    {
     "name": "stdout",
     "output_type": "stream",
     "text": [
      "RMSLE: inf\n",
      "R2 value: -10.4169\n",
      "RMSLE: inf\n",
      "R2 value: -6.2185\n"
     ]
    },
    {
     "name": "stderr",
     "output_type": "stream",
     "text": [
      "c:\\users\\radio_pc\\.conda\\envs\\bml3.6\\lib\\site-packages\\ipykernel_launcher.py:5: RuntimeWarning: divide by zero encountered in log\n",
      "  \"\"\"\n",
      "c:\\users\\radio_pc\\.conda\\envs\\bml3.6\\lib\\site-packages\\ipykernel_launcher.py:5: RuntimeWarning: invalid value encountered in log\n",
      "  \"\"\"\n",
      "c:\\users\\radio_pc\\.conda\\envs\\bml3.6\\lib\\site-packages\\ipykernel_launcher.py:5: RuntimeWarning: divide by zero encountered in log\n",
      "  \"\"\"\n",
      "c:\\users\\radio_pc\\.conda\\envs\\bml3.6\\lib\\site-packages\\ipykernel_launcher.py:5: RuntimeWarning: invalid value encountered in log\n",
      "  \"\"\"\n"
     ]
    },
    {
     "name": "stdout",
     "output_type": "stream",
     "text": [
      "RMSLE: inf\n",
      "R2 value: -10.4170\n",
      "RMSLE: inf\n",
      "R2 value: -6.2166\n"
     ]
    },
    {
     "name": "stderr",
     "output_type": "stream",
     "text": [
      "c:\\users\\radio_pc\\.conda\\envs\\bml3.6\\lib\\site-packages\\ipykernel_launcher.py:5: RuntimeWarning: divide by zero encountered in log\n",
      "  \"\"\"\n",
      "c:\\users\\radio_pc\\.conda\\envs\\bml3.6\\lib\\site-packages\\ipykernel_launcher.py:5: RuntimeWarning: invalid value encountered in log\n",
      "  \"\"\"\n",
      "c:\\users\\radio_pc\\.conda\\envs\\bml3.6\\lib\\site-packages\\ipykernel_launcher.py:5: RuntimeWarning: divide by zero encountered in log\n",
      "  \"\"\"\n",
      "c:\\users\\radio_pc\\.conda\\envs\\bml3.6\\lib\\site-packages\\ipykernel_launcher.py:5: RuntimeWarning: invalid value encountered in log\n",
      "  \"\"\"\n"
     ]
    },
    {
     "name": "stdout",
     "output_type": "stream",
     "text": [
      "RMSLE: inf\n",
      "R2 value: -10.4170\n",
      "RMSLE: inf\n",
      "R2 value: -6.2145\n"
     ]
    },
    {
     "name": "stderr",
     "output_type": "stream",
     "text": [
      "c:\\users\\radio_pc\\.conda\\envs\\bml3.6\\lib\\site-packages\\ipykernel_launcher.py:5: RuntimeWarning: divide by zero encountered in log\n",
      "  \"\"\"\n",
      "c:\\users\\radio_pc\\.conda\\envs\\bml3.6\\lib\\site-packages\\ipykernel_launcher.py:5: RuntimeWarning: invalid value encountered in log\n",
      "  \"\"\"\n",
      "c:\\users\\radio_pc\\.conda\\envs\\bml3.6\\lib\\site-packages\\ipykernel_launcher.py:5: RuntimeWarning: divide by zero encountered in log\n",
      "  \"\"\"\n",
      "c:\\users\\radio_pc\\.conda\\envs\\bml3.6\\lib\\site-packages\\ipykernel_launcher.py:5: RuntimeWarning: invalid value encountered in log\n",
      "  \"\"\"\n"
     ]
    },
    {
     "name": "stdout",
     "output_type": "stream",
     "text": [
      "RMSLE: inf\n",
      "R2 value: -10.4171\n",
      "RMSLE: inf\n",
      "R2 value: -6.2122\n"
     ]
    },
    {
     "name": "stderr",
     "output_type": "stream",
     "text": [
      "c:\\users\\radio_pc\\.conda\\envs\\bml3.6\\lib\\site-packages\\ipykernel_launcher.py:5: RuntimeWarning: divide by zero encountered in log\n",
      "  \"\"\"\n",
      "c:\\users\\radio_pc\\.conda\\envs\\bml3.6\\lib\\site-packages\\ipykernel_launcher.py:5: RuntimeWarning: invalid value encountered in log\n",
      "  \"\"\"\n",
      "c:\\users\\radio_pc\\.conda\\envs\\bml3.6\\lib\\site-packages\\ipykernel_launcher.py:5: RuntimeWarning: divide by zero encountered in log\n",
      "  \"\"\"\n",
      "c:\\users\\radio_pc\\.conda\\envs\\bml3.6\\lib\\site-packages\\ipykernel_launcher.py:5: RuntimeWarning: invalid value encountered in log\n",
      "  \"\"\"\n"
     ]
    },
    {
     "name": "stdout",
     "output_type": "stream",
     "text": [
      "RMSLE: inf\n",
      "R2 value: -10.4171\n",
      "RMSLE: inf\n",
      "R2 value: -6.2099\n"
     ]
    },
    {
     "name": "stderr",
     "output_type": "stream",
     "text": [
      "c:\\users\\radio_pc\\.conda\\envs\\bml3.6\\lib\\site-packages\\ipykernel_launcher.py:5: RuntimeWarning: divide by zero encountered in log\n",
      "  \"\"\"\n",
      "c:\\users\\radio_pc\\.conda\\envs\\bml3.6\\lib\\site-packages\\ipykernel_launcher.py:5: RuntimeWarning: invalid value encountered in log\n",
      "  \"\"\"\n",
      "c:\\users\\radio_pc\\.conda\\envs\\bml3.6\\lib\\site-packages\\ipykernel_launcher.py:5: RuntimeWarning: divide by zero encountered in log\n",
      "  \"\"\"\n",
      "c:\\users\\radio_pc\\.conda\\envs\\bml3.6\\lib\\site-packages\\ipykernel_launcher.py:5: RuntimeWarning: invalid value encountered in log\n",
      "  \"\"\"\n"
     ]
    },
    {
     "name": "stdout",
     "output_type": "stream",
     "text": [
      "RMSLE: inf\n",
      "R2 value: -10.4172\n",
      "RMSLE: inf\n",
      "R2 value: -6.2073\n"
     ]
    },
    {
     "name": "stderr",
     "output_type": "stream",
     "text": [
      "c:\\users\\radio_pc\\.conda\\envs\\bml3.6\\lib\\site-packages\\ipykernel_launcher.py:5: RuntimeWarning: divide by zero encountered in log\n",
      "  \"\"\"\n",
      "c:\\users\\radio_pc\\.conda\\envs\\bml3.6\\lib\\site-packages\\ipykernel_launcher.py:5: RuntimeWarning: invalid value encountered in log\n",
      "  \"\"\"\n",
      "c:\\users\\radio_pc\\.conda\\envs\\bml3.6\\lib\\site-packages\\ipykernel_launcher.py:5: RuntimeWarning: divide by zero encountered in log\n",
      "  \"\"\"\n",
      "c:\\users\\radio_pc\\.conda\\envs\\bml3.6\\lib\\site-packages\\ipykernel_launcher.py:5: RuntimeWarning: invalid value encountered in log\n",
      "  \"\"\"\n"
     ]
    },
    {
     "name": "stdout",
     "output_type": "stream",
     "text": [
      "RMSLE: inf\n",
      "R2 value: -10.4173\n",
      "RMSLE: inf\n",
      "R2 value: -6.2047\n"
     ]
    },
    {
     "name": "stderr",
     "output_type": "stream",
     "text": [
      "c:\\users\\radio_pc\\.conda\\envs\\bml3.6\\lib\\site-packages\\ipykernel_launcher.py:5: RuntimeWarning: divide by zero encountered in log\n",
      "  \"\"\"\n",
      "c:\\users\\radio_pc\\.conda\\envs\\bml3.6\\lib\\site-packages\\ipykernel_launcher.py:5: RuntimeWarning: invalid value encountered in log\n",
      "  \"\"\"\n",
      "c:\\users\\radio_pc\\.conda\\envs\\bml3.6\\lib\\site-packages\\ipykernel_launcher.py:5: RuntimeWarning: divide by zero encountered in log\n",
      "  \"\"\"\n",
      "c:\\users\\radio_pc\\.conda\\envs\\bml3.6\\lib\\site-packages\\ipykernel_launcher.py:5: RuntimeWarning: invalid value encountered in log\n",
      "  \"\"\"\n"
     ]
    },
    {
     "name": "stdout",
     "output_type": "stream",
     "text": [
      "RMSLE: inf\n",
      "R2 value: -10.4173\n",
      "RMSLE: inf\n",
      "R2 value: -6.2018\n"
     ]
    },
    {
     "name": "stderr",
     "output_type": "stream",
     "text": [
      "c:\\users\\radio_pc\\.conda\\envs\\bml3.6\\lib\\site-packages\\ipykernel_launcher.py:5: RuntimeWarning: divide by zero encountered in log\n",
      "  \"\"\"\n",
      "c:\\users\\radio_pc\\.conda\\envs\\bml3.6\\lib\\site-packages\\ipykernel_launcher.py:5: RuntimeWarning: invalid value encountered in log\n",
      "  \"\"\"\n",
      "c:\\users\\radio_pc\\.conda\\envs\\bml3.6\\lib\\site-packages\\ipykernel_launcher.py:5: RuntimeWarning: divide by zero encountered in log\n",
      "  \"\"\"\n",
      "c:\\users\\radio_pc\\.conda\\envs\\bml3.6\\lib\\site-packages\\ipykernel_launcher.py:5: RuntimeWarning: invalid value encountered in log\n",
      "  \"\"\"\n"
     ]
    },
    {
     "name": "stdout",
     "output_type": "stream",
     "text": [
      "RMSLE: inf\n",
      "R2 value: -10.4174\n",
      "RMSLE: inf\n",
      "R2 value: -6.1988\n"
     ]
    },
    {
     "name": "stderr",
     "output_type": "stream",
     "text": [
      "c:\\users\\radio_pc\\.conda\\envs\\bml3.6\\lib\\site-packages\\ipykernel_launcher.py:5: RuntimeWarning: divide by zero encountered in log\n",
      "  \"\"\"\n",
      "c:\\users\\radio_pc\\.conda\\envs\\bml3.6\\lib\\site-packages\\ipykernel_launcher.py:5: RuntimeWarning: invalid value encountered in log\n",
      "  \"\"\"\n",
      "c:\\users\\radio_pc\\.conda\\envs\\bml3.6\\lib\\site-packages\\ipykernel_launcher.py:5: RuntimeWarning: divide by zero encountered in log\n",
      "  \"\"\"\n",
      "c:\\users\\radio_pc\\.conda\\envs\\bml3.6\\lib\\site-packages\\ipykernel_launcher.py:5: RuntimeWarning: invalid value encountered in log\n",
      "  \"\"\"\n"
     ]
    },
    {
     "name": "stdout",
     "output_type": "stream",
     "text": [
      "RMSLE: inf\n",
      "R2 value: -10.4175\n",
      "RMSLE: inf\n",
      "R2 value: -6.1956\n"
     ]
    },
    {
     "name": "stderr",
     "output_type": "stream",
     "text": [
      "c:\\users\\radio_pc\\.conda\\envs\\bml3.6\\lib\\site-packages\\ipykernel_launcher.py:5: RuntimeWarning: divide by zero encountered in log\n",
      "  \"\"\"\n",
      "c:\\users\\radio_pc\\.conda\\envs\\bml3.6\\lib\\site-packages\\ipykernel_launcher.py:5: RuntimeWarning: invalid value encountered in log\n",
      "  \"\"\"\n",
      "c:\\users\\radio_pc\\.conda\\envs\\bml3.6\\lib\\site-packages\\ipykernel_launcher.py:5: RuntimeWarning: divide by zero encountered in log\n",
      "  \"\"\"\n",
      "c:\\users\\radio_pc\\.conda\\envs\\bml3.6\\lib\\site-packages\\ipykernel_launcher.py:5: RuntimeWarning: invalid value encountered in log\n",
      "  \"\"\"\n"
     ]
    },
    {
     "name": "stdout",
     "output_type": "stream",
     "text": [
      "RMSLE: inf\n",
      "R2 value: -10.4176\n",
      "RMSLE: inf\n",
      "R2 value: -6.1922\n"
     ]
    },
    {
     "name": "stderr",
     "output_type": "stream",
     "text": [
      "c:\\users\\radio_pc\\.conda\\envs\\bml3.6\\lib\\site-packages\\ipykernel_launcher.py:5: RuntimeWarning: divide by zero encountered in log\n",
      "  \"\"\"\n",
      "c:\\users\\radio_pc\\.conda\\envs\\bml3.6\\lib\\site-packages\\ipykernel_launcher.py:5: RuntimeWarning: invalid value encountered in log\n",
      "  \"\"\"\n",
      "c:\\users\\radio_pc\\.conda\\envs\\bml3.6\\lib\\site-packages\\ipykernel_launcher.py:5: RuntimeWarning: divide by zero encountered in log\n",
      "  \"\"\"\n",
      "c:\\users\\radio_pc\\.conda\\envs\\bml3.6\\lib\\site-packages\\ipykernel_launcher.py:5: RuntimeWarning: invalid value encountered in log\n",
      "  \"\"\"\n"
     ]
    },
    {
     "name": "stdout",
     "output_type": "stream",
     "text": [
      "RMSLE: inf\n",
      "R2 value: -10.4177\n",
      "RMSLE: inf\n",
      "R2 value: -6.1886\n"
     ]
    },
    {
     "name": "stderr",
     "output_type": "stream",
     "text": [
      "c:\\users\\radio_pc\\.conda\\envs\\bml3.6\\lib\\site-packages\\ipykernel_launcher.py:5: RuntimeWarning: divide by zero encountered in log\n",
      "  \"\"\"\n",
      "c:\\users\\radio_pc\\.conda\\envs\\bml3.6\\lib\\site-packages\\ipykernel_launcher.py:5: RuntimeWarning: invalid value encountered in log\n",
      "  \"\"\"\n",
      "c:\\users\\radio_pc\\.conda\\envs\\bml3.6\\lib\\site-packages\\ipykernel_launcher.py:5: RuntimeWarning: divide by zero encountered in log\n",
      "  \"\"\"\n",
      "c:\\users\\radio_pc\\.conda\\envs\\bml3.6\\lib\\site-packages\\ipykernel_launcher.py:5: RuntimeWarning: invalid value encountered in log\n",
      "  \"\"\"\n"
     ]
    },
    {
     "name": "stdout",
     "output_type": "stream",
     "text": [
      "RMSLE: inf\n",
      "R2 value: -10.4178\n",
      "RMSLE: inf\n",
      "R2 value: -6.1847\n"
     ]
    },
    {
     "name": "stderr",
     "output_type": "stream",
     "text": [
      "c:\\users\\radio_pc\\.conda\\envs\\bml3.6\\lib\\site-packages\\ipykernel_launcher.py:5: RuntimeWarning: divide by zero encountered in log\n",
      "  \"\"\"\n",
      "c:\\users\\radio_pc\\.conda\\envs\\bml3.6\\lib\\site-packages\\ipykernel_launcher.py:5: RuntimeWarning: invalid value encountered in log\n",
      "  \"\"\"\n",
      "c:\\users\\radio_pc\\.conda\\envs\\bml3.6\\lib\\site-packages\\ipykernel_launcher.py:5: RuntimeWarning: divide by zero encountered in log\n",
      "  \"\"\"\n",
      "c:\\users\\radio_pc\\.conda\\envs\\bml3.6\\lib\\site-packages\\ipykernel_launcher.py:5: RuntimeWarning: invalid value encountered in log\n",
      "  \"\"\"\n"
     ]
    },
    {
     "name": "stdout",
     "output_type": "stream",
     "text": [
      "RMSLE: inf\n",
      "R2 value: -10.4179\n",
      "RMSLE: inf\n",
      "R2 value: -6.1807\n"
     ]
    },
    {
     "name": "stderr",
     "output_type": "stream",
     "text": [
      "c:\\users\\radio_pc\\.conda\\envs\\bml3.6\\lib\\site-packages\\ipykernel_launcher.py:5: RuntimeWarning: divide by zero encountered in log\n",
      "  \"\"\"\n",
      "c:\\users\\radio_pc\\.conda\\envs\\bml3.6\\lib\\site-packages\\ipykernel_launcher.py:5: RuntimeWarning: invalid value encountered in log\n",
      "  \"\"\"\n",
      "c:\\users\\radio_pc\\.conda\\envs\\bml3.6\\lib\\site-packages\\ipykernel_launcher.py:5: RuntimeWarning: divide by zero encountered in log\n",
      "  \"\"\"\n",
      "c:\\users\\radio_pc\\.conda\\envs\\bml3.6\\lib\\site-packages\\ipykernel_launcher.py:5: RuntimeWarning: invalid value encountered in log\n",
      "  \"\"\"\n"
     ]
    },
    {
     "name": "stdout",
     "output_type": "stream",
     "text": [
      "RMSLE: inf\n",
      "R2 value: -10.4180\n",
      "RMSLE: inf\n",
      "R2 value: -6.1763\n"
     ]
    },
    {
     "name": "stderr",
     "output_type": "stream",
     "text": [
      "c:\\users\\radio_pc\\.conda\\envs\\bml3.6\\lib\\site-packages\\ipykernel_launcher.py:5: RuntimeWarning: divide by zero encountered in log\n",
      "  \"\"\"\n",
      "c:\\users\\radio_pc\\.conda\\envs\\bml3.6\\lib\\site-packages\\ipykernel_launcher.py:5: RuntimeWarning: invalid value encountered in log\n",
      "  \"\"\"\n",
      "c:\\users\\radio_pc\\.conda\\envs\\bml3.6\\lib\\site-packages\\ipykernel_launcher.py:5: RuntimeWarning: divide by zero encountered in log\n",
      "  \"\"\"\n",
      "c:\\users\\radio_pc\\.conda\\envs\\bml3.6\\lib\\site-packages\\ipykernel_launcher.py:5: RuntimeWarning: invalid value encountered in log\n",
      "  \"\"\"\n"
     ]
    },
    {
     "name": "stdout",
     "output_type": "stream",
     "text": [
      "RMSLE: inf\n",
      "R2 value: -10.4181\n",
      "RMSLE: inf\n",
      "R2 value: -6.1717\n"
     ]
    },
    {
     "name": "stderr",
     "output_type": "stream",
     "text": [
      "c:\\users\\radio_pc\\.conda\\envs\\bml3.6\\lib\\site-packages\\ipykernel_launcher.py:5: RuntimeWarning: divide by zero encountered in log\n",
      "  \"\"\"\n",
      "c:\\users\\radio_pc\\.conda\\envs\\bml3.6\\lib\\site-packages\\ipykernel_launcher.py:5: RuntimeWarning: invalid value encountered in log\n",
      "  \"\"\"\n",
      "c:\\users\\radio_pc\\.conda\\envs\\bml3.6\\lib\\site-packages\\ipykernel_launcher.py:5: RuntimeWarning: divide by zero encountered in log\n",
      "  \"\"\"\n",
      "c:\\users\\radio_pc\\.conda\\envs\\bml3.6\\lib\\site-packages\\ipykernel_launcher.py:5: RuntimeWarning: invalid value encountered in log\n",
      "  \"\"\"\n"
     ]
    },
    {
     "name": "stdout",
     "output_type": "stream",
     "text": [
      "RMSLE: inf\n",
      "R2 value: -10.4182\n",
      "RMSLE: inf\n",
      "R2 value: -6.1669\n"
     ]
    },
    {
     "name": "stderr",
     "output_type": "stream",
     "text": [
      "c:\\users\\radio_pc\\.conda\\envs\\bml3.6\\lib\\site-packages\\ipykernel_launcher.py:5: RuntimeWarning: divide by zero encountered in log\n",
      "  \"\"\"\n",
      "c:\\users\\radio_pc\\.conda\\envs\\bml3.6\\lib\\site-packages\\ipykernel_launcher.py:5: RuntimeWarning: invalid value encountered in log\n",
      "  \"\"\"\n",
      "c:\\users\\radio_pc\\.conda\\envs\\bml3.6\\lib\\site-packages\\ipykernel_launcher.py:5: RuntimeWarning: divide by zero encountered in log\n",
      "  \"\"\"\n",
      "c:\\users\\radio_pc\\.conda\\envs\\bml3.6\\lib\\site-packages\\ipykernel_launcher.py:5: RuntimeWarning: invalid value encountered in log\n",
      "  \"\"\"\n"
     ]
    },
    {
     "name": "stdout",
     "output_type": "stream",
     "text": [
      "RMSLE: inf\n",
      "R2 value: -10.4184\n",
      "RMSLE: inf\n",
      "R2 value: -6.1617\n"
     ]
    },
    {
     "name": "stderr",
     "output_type": "stream",
     "text": [
      "c:\\users\\radio_pc\\.conda\\envs\\bml3.6\\lib\\site-packages\\ipykernel_launcher.py:5: RuntimeWarning: divide by zero encountered in log\n",
      "  \"\"\"\n",
      "c:\\users\\radio_pc\\.conda\\envs\\bml3.6\\lib\\site-packages\\ipykernel_launcher.py:5: RuntimeWarning: invalid value encountered in log\n",
      "  \"\"\"\n",
      "c:\\users\\radio_pc\\.conda\\envs\\bml3.6\\lib\\site-packages\\ipykernel_launcher.py:5: RuntimeWarning: divide by zero encountered in log\n",
      "  \"\"\"\n",
      "c:\\users\\radio_pc\\.conda\\envs\\bml3.6\\lib\\site-packages\\ipykernel_launcher.py:5: RuntimeWarning: invalid value encountered in log\n",
      "  \"\"\"\n"
     ]
    },
    {
     "name": "stdout",
     "output_type": "stream",
     "text": [
      "RMSLE: inf\n",
      "R2 value: -10.4185\n",
      "RMSLE: inf\n",
      "R2 value: -6.1563\n"
     ]
    },
    {
     "name": "stderr",
     "output_type": "stream",
     "text": [
      "c:\\users\\radio_pc\\.conda\\envs\\bml3.6\\lib\\site-packages\\ipykernel_launcher.py:5: RuntimeWarning: divide by zero encountered in log\n",
      "  \"\"\"\n",
      "c:\\users\\radio_pc\\.conda\\envs\\bml3.6\\lib\\site-packages\\ipykernel_launcher.py:5: RuntimeWarning: invalid value encountered in log\n",
      "  \"\"\"\n",
      "c:\\users\\radio_pc\\.conda\\envs\\bml3.6\\lib\\site-packages\\ipykernel_launcher.py:5: RuntimeWarning: divide by zero encountered in log\n",
      "  \"\"\"\n",
      "c:\\users\\radio_pc\\.conda\\envs\\bml3.6\\lib\\site-packages\\ipykernel_launcher.py:5: RuntimeWarning: invalid value encountered in log\n",
      "  \"\"\"\n"
     ]
    },
    {
     "name": "stdout",
     "output_type": "stream",
     "text": [
      "RMSLE: inf\n",
      "R2 value: -10.4186\n",
      "RMSLE: inf\n",
      "R2 value: -6.1505\n"
     ]
    },
    {
     "name": "stderr",
     "output_type": "stream",
     "text": [
      "c:\\users\\radio_pc\\.conda\\envs\\bml3.6\\lib\\site-packages\\ipykernel_launcher.py:5: RuntimeWarning: divide by zero encountered in log\n",
      "  \"\"\"\n",
      "c:\\users\\radio_pc\\.conda\\envs\\bml3.6\\lib\\site-packages\\ipykernel_launcher.py:5: RuntimeWarning: invalid value encountered in log\n",
      "  \"\"\"\n",
      "c:\\users\\radio_pc\\.conda\\envs\\bml3.6\\lib\\site-packages\\ipykernel_launcher.py:5: RuntimeWarning: divide by zero encountered in log\n",
      "  \"\"\"\n",
      "c:\\users\\radio_pc\\.conda\\envs\\bml3.6\\lib\\site-packages\\ipykernel_launcher.py:5: RuntimeWarning: invalid value encountered in log\n",
      "  \"\"\"\n"
     ]
    },
    {
     "name": "stdout",
     "output_type": "stream",
     "text": [
      "RMSLE: inf\n",
      "R2 value: -10.4188\n",
      "RMSLE: inf\n",
      "R2 value: -6.1443\n"
     ]
    },
    {
     "name": "stderr",
     "output_type": "stream",
     "text": [
      "c:\\users\\radio_pc\\.conda\\envs\\bml3.6\\lib\\site-packages\\ipykernel_launcher.py:5: RuntimeWarning: divide by zero encountered in log\n",
      "  \"\"\"\n",
      "c:\\users\\radio_pc\\.conda\\envs\\bml3.6\\lib\\site-packages\\ipykernel_launcher.py:5: RuntimeWarning: invalid value encountered in log\n",
      "  \"\"\"\n",
      "c:\\users\\radio_pc\\.conda\\envs\\bml3.6\\lib\\site-packages\\ipykernel_launcher.py:5: RuntimeWarning: divide by zero encountered in log\n",
      "  \"\"\"\n",
      "c:\\users\\radio_pc\\.conda\\envs\\bml3.6\\lib\\site-packages\\ipykernel_launcher.py:5: RuntimeWarning: invalid value encountered in log\n",
      "  \"\"\"\n"
     ]
    },
    {
     "name": "stdout",
     "output_type": "stream",
     "text": [
      "RMSLE: inf\n",
      "R2 value: -10.4190\n",
      "RMSLE: inf\n",
      "R2 value: -6.1378\n"
     ]
    },
    {
     "name": "stderr",
     "output_type": "stream",
     "text": [
      "c:\\users\\radio_pc\\.conda\\envs\\bml3.6\\lib\\site-packages\\ipykernel_launcher.py:5: RuntimeWarning: divide by zero encountered in log\n",
      "  \"\"\"\n",
      "c:\\users\\radio_pc\\.conda\\envs\\bml3.6\\lib\\site-packages\\ipykernel_launcher.py:5: RuntimeWarning: invalid value encountered in log\n",
      "  \"\"\"\n",
      "c:\\users\\radio_pc\\.conda\\envs\\bml3.6\\lib\\site-packages\\ipykernel_launcher.py:5: RuntimeWarning: divide by zero encountered in log\n",
      "  \"\"\"\n",
      "c:\\users\\radio_pc\\.conda\\envs\\bml3.6\\lib\\site-packages\\ipykernel_launcher.py:5: RuntimeWarning: invalid value encountered in log\n",
      "  \"\"\"\n"
     ]
    },
    {
     "name": "stdout",
     "output_type": "stream",
     "text": [
      "RMSLE: inf\n",
      "R2 value: -10.4192\n",
      "RMSLE: inf\n",
      "R2 value: -6.1310\n"
     ]
    },
    {
     "name": "stderr",
     "output_type": "stream",
     "text": [
      "c:\\users\\radio_pc\\.conda\\envs\\bml3.6\\lib\\site-packages\\ipykernel_launcher.py:5: RuntimeWarning: divide by zero encountered in log\n",
      "  \"\"\"\n",
      "c:\\users\\radio_pc\\.conda\\envs\\bml3.6\\lib\\site-packages\\ipykernel_launcher.py:5: RuntimeWarning: invalid value encountered in log\n",
      "  \"\"\"\n",
      "c:\\users\\radio_pc\\.conda\\envs\\bml3.6\\lib\\site-packages\\ipykernel_launcher.py:5: RuntimeWarning: divide by zero encountered in log\n",
      "  \"\"\"\n",
      "c:\\users\\radio_pc\\.conda\\envs\\bml3.6\\lib\\site-packages\\ipykernel_launcher.py:5: RuntimeWarning: invalid value encountered in log\n",
      "  \"\"\"\n"
     ]
    },
    {
     "name": "stdout",
     "output_type": "stream",
     "text": [
      "RMSLE: inf\n",
      "R2 value: -10.4193\n",
      "RMSLE: inf\n",
      "R2 value: -6.1237\n"
     ]
    },
    {
     "name": "stderr",
     "output_type": "stream",
     "text": [
      "c:\\users\\radio_pc\\.conda\\envs\\bml3.6\\lib\\site-packages\\ipykernel_launcher.py:5: RuntimeWarning: divide by zero encountered in log\n",
      "  \"\"\"\n",
      "c:\\users\\radio_pc\\.conda\\envs\\bml3.6\\lib\\site-packages\\ipykernel_launcher.py:5: RuntimeWarning: invalid value encountered in log\n",
      "  \"\"\"\n",
      "c:\\users\\radio_pc\\.conda\\envs\\bml3.6\\lib\\site-packages\\ipykernel_launcher.py:5: RuntimeWarning: divide by zero encountered in log\n",
      "  \"\"\"\n",
      "c:\\users\\radio_pc\\.conda\\envs\\bml3.6\\lib\\site-packages\\ipykernel_launcher.py:5: RuntimeWarning: invalid value encountered in log\n",
      "  \"\"\"\n"
     ]
    },
    {
     "name": "stdout",
     "output_type": "stream",
     "text": [
      "RMSLE: inf\n",
      "R2 value: -10.4195\n",
      "RMSLE: inf\n",
      "R2 value: -6.1160\n"
     ]
    },
    {
     "name": "stderr",
     "output_type": "stream",
     "text": [
      "c:\\users\\radio_pc\\.conda\\envs\\bml3.6\\lib\\site-packages\\ipykernel_launcher.py:5: RuntimeWarning: divide by zero encountered in log\n",
      "  \"\"\"\n",
      "c:\\users\\radio_pc\\.conda\\envs\\bml3.6\\lib\\site-packages\\ipykernel_launcher.py:5: RuntimeWarning: invalid value encountered in log\n",
      "  \"\"\"\n",
      "c:\\users\\radio_pc\\.conda\\envs\\bml3.6\\lib\\site-packages\\ipykernel_launcher.py:5: RuntimeWarning: divide by zero encountered in log\n",
      "  \"\"\"\n",
      "c:\\users\\radio_pc\\.conda\\envs\\bml3.6\\lib\\site-packages\\ipykernel_launcher.py:5: RuntimeWarning: invalid value encountered in log\n",
      "  \"\"\"\n"
     ]
    },
    {
     "name": "stdout",
     "output_type": "stream",
     "text": [
      "RMSLE: inf\n",
      "R2 value: -10.4198\n",
      "RMSLE: inf\n",
      "R2 value: -6.1079\n"
     ]
    },
    {
     "name": "stderr",
     "output_type": "stream",
     "text": [
      "c:\\users\\radio_pc\\.conda\\envs\\bml3.6\\lib\\site-packages\\ipykernel_launcher.py:5: RuntimeWarning: divide by zero encountered in log\n",
      "  \"\"\"\n",
      "c:\\users\\radio_pc\\.conda\\envs\\bml3.6\\lib\\site-packages\\ipykernel_launcher.py:5: RuntimeWarning: invalid value encountered in log\n",
      "  \"\"\"\n",
      "c:\\users\\radio_pc\\.conda\\envs\\bml3.6\\lib\\site-packages\\ipykernel_launcher.py:5: RuntimeWarning: divide by zero encountered in log\n",
      "  \"\"\"\n",
      "c:\\users\\radio_pc\\.conda\\envs\\bml3.6\\lib\\site-packages\\ipykernel_launcher.py:5: RuntimeWarning: invalid value encountered in log\n",
      "  \"\"\"\n"
     ]
    },
    {
     "name": "stdout",
     "output_type": "stream",
     "text": [
      "RMSLE: inf\n",
      "R2 value: -10.4200\n",
      "RMSLE: inf\n",
      "R2 value: -6.0993\n"
     ]
    },
    {
     "name": "stderr",
     "output_type": "stream",
     "text": [
      "c:\\users\\radio_pc\\.conda\\envs\\bml3.6\\lib\\site-packages\\ipykernel_launcher.py:5: RuntimeWarning: divide by zero encountered in log\n",
      "  \"\"\"\n",
      "c:\\users\\radio_pc\\.conda\\envs\\bml3.6\\lib\\site-packages\\ipykernel_launcher.py:5: RuntimeWarning: invalid value encountered in log\n",
      "  \"\"\"\n",
      "c:\\users\\radio_pc\\.conda\\envs\\bml3.6\\lib\\site-packages\\ipykernel_launcher.py:5: RuntimeWarning: divide by zero encountered in log\n",
      "  \"\"\"\n",
      "c:\\users\\radio_pc\\.conda\\envs\\bml3.6\\lib\\site-packages\\ipykernel_launcher.py:5: RuntimeWarning: invalid value encountered in log\n",
      "  \"\"\"\n"
     ]
    },
    {
     "name": "stdout",
     "output_type": "stream",
     "text": [
      "RMSLE: inf\n",
      "R2 value: -10.4202\n",
      "RMSLE: inf\n",
      "R2 value: -6.0903\n"
     ]
    },
    {
     "name": "stderr",
     "output_type": "stream",
     "text": [
      "c:\\users\\radio_pc\\.conda\\envs\\bml3.6\\lib\\site-packages\\ipykernel_launcher.py:5: RuntimeWarning: divide by zero encountered in log\n",
      "  \"\"\"\n",
      "c:\\users\\radio_pc\\.conda\\envs\\bml3.6\\lib\\site-packages\\ipykernel_launcher.py:5: RuntimeWarning: invalid value encountered in log\n",
      "  \"\"\"\n",
      "c:\\users\\radio_pc\\.conda\\envs\\bml3.6\\lib\\site-packages\\ipykernel_launcher.py:5: RuntimeWarning: divide by zero encountered in log\n",
      "  \"\"\"\n",
      "c:\\users\\radio_pc\\.conda\\envs\\bml3.6\\lib\\site-packages\\ipykernel_launcher.py:5: RuntimeWarning: invalid value encountered in log\n",
      "  \"\"\"\n"
     ]
    },
    {
     "name": "stdout",
     "output_type": "stream",
     "text": [
      "RMSLE: inf\n",
      "R2 value: -10.4205\n",
      "RMSLE: inf\n",
      "R2 value: -6.0807\n"
     ]
    },
    {
     "name": "stderr",
     "output_type": "stream",
     "text": [
      "c:\\users\\radio_pc\\.conda\\envs\\bml3.6\\lib\\site-packages\\ipykernel_launcher.py:5: RuntimeWarning: divide by zero encountered in log\n",
      "  \"\"\"\n",
      "c:\\users\\radio_pc\\.conda\\envs\\bml3.6\\lib\\site-packages\\ipykernel_launcher.py:5: RuntimeWarning: invalid value encountered in log\n",
      "  \"\"\"\n",
      "c:\\users\\radio_pc\\.conda\\envs\\bml3.6\\lib\\site-packages\\ipykernel_launcher.py:5: RuntimeWarning: divide by zero encountered in log\n",
      "  \"\"\"\n",
      "c:\\users\\radio_pc\\.conda\\envs\\bml3.6\\lib\\site-packages\\ipykernel_launcher.py:5: RuntimeWarning: invalid value encountered in log\n",
      "  \"\"\"\n"
     ]
    },
    {
     "name": "stdout",
     "output_type": "stream",
     "text": [
      "RMSLE: inf\n",
      "R2 value: -10.4208\n",
      "RMSLE: inf\n",
      "R2 value: -6.0707\n"
     ]
    },
    {
     "name": "stderr",
     "output_type": "stream",
     "text": [
      "c:\\users\\radio_pc\\.conda\\envs\\bml3.6\\lib\\site-packages\\ipykernel_launcher.py:5: RuntimeWarning: divide by zero encountered in log\n",
      "  \"\"\"\n",
      "c:\\users\\radio_pc\\.conda\\envs\\bml3.6\\lib\\site-packages\\ipykernel_launcher.py:5: RuntimeWarning: invalid value encountered in log\n",
      "  \"\"\"\n",
      "c:\\users\\radio_pc\\.conda\\envs\\bml3.6\\lib\\site-packages\\ipykernel_launcher.py:5: RuntimeWarning: divide by zero encountered in log\n",
      "  \"\"\"\n",
      "c:\\users\\radio_pc\\.conda\\envs\\bml3.6\\lib\\site-packages\\ipykernel_launcher.py:5: RuntimeWarning: invalid value encountered in log\n",
      "  \"\"\"\n"
     ]
    },
    {
     "name": "stdout",
     "output_type": "stream",
     "text": [
      "RMSLE: inf\n",
      "R2 value: -10.4210\n",
      "RMSLE: inf\n",
      "R2 value: -6.0601\n"
     ]
    },
    {
     "name": "stderr",
     "output_type": "stream",
     "text": [
      "c:\\users\\radio_pc\\.conda\\envs\\bml3.6\\lib\\site-packages\\ipykernel_launcher.py:5: RuntimeWarning: divide by zero encountered in log\n",
      "  \"\"\"\n",
      "c:\\users\\radio_pc\\.conda\\envs\\bml3.6\\lib\\site-packages\\ipykernel_launcher.py:5: RuntimeWarning: invalid value encountered in log\n",
      "  \"\"\"\n",
      "c:\\users\\radio_pc\\.conda\\envs\\bml3.6\\lib\\site-packages\\ipykernel_launcher.py:5: RuntimeWarning: divide by zero encountered in log\n",
      "  \"\"\"\n",
      "c:\\users\\radio_pc\\.conda\\envs\\bml3.6\\lib\\site-packages\\ipykernel_launcher.py:5: RuntimeWarning: invalid value encountered in log\n",
      "  \"\"\"\n"
     ]
    },
    {
     "name": "stdout",
     "output_type": "stream",
     "text": [
      "RMSLE: inf\n",
      "R2 value: -10.4213\n",
      "RMSLE: inf\n",
      "R2 value: -6.0489\n"
     ]
    },
    {
     "name": "stderr",
     "output_type": "stream",
     "text": [
      "c:\\users\\radio_pc\\.conda\\envs\\bml3.6\\lib\\site-packages\\ipykernel_launcher.py:5: RuntimeWarning: divide by zero encountered in log\n",
      "  \"\"\"\n",
      "c:\\users\\radio_pc\\.conda\\envs\\bml3.6\\lib\\site-packages\\ipykernel_launcher.py:5: RuntimeWarning: invalid value encountered in log\n",
      "  \"\"\"\n",
      "c:\\users\\radio_pc\\.conda\\envs\\bml3.6\\lib\\site-packages\\ipykernel_launcher.py:5: RuntimeWarning: divide by zero encountered in log\n",
      "  \"\"\"\n",
      "c:\\users\\radio_pc\\.conda\\envs\\bml3.6\\lib\\site-packages\\ipykernel_launcher.py:5: RuntimeWarning: invalid value encountered in log\n",
      "  \"\"\"\n"
     ]
    },
    {
     "name": "stdout",
     "output_type": "stream",
     "text": [
      "RMSLE: inf\n",
      "R2 value: -10.4217\n",
      "RMSLE: inf\n",
      "R2 value: -6.0371\n"
     ]
    },
    {
     "name": "stderr",
     "output_type": "stream",
     "text": [
      "c:\\users\\radio_pc\\.conda\\envs\\bml3.6\\lib\\site-packages\\ipykernel_launcher.py:5: RuntimeWarning: divide by zero encountered in log\n",
      "  \"\"\"\n",
      "c:\\users\\radio_pc\\.conda\\envs\\bml3.6\\lib\\site-packages\\ipykernel_launcher.py:5: RuntimeWarning: invalid value encountered in log\n",
      "  \"\"\"\n",
      "c:\\users\\radio_pc\\.conda\\envs\\bml3.6\\lib\\site-packages\\ipykernel_launcher.py:5: RuntimeWarning: divide by zero encountered in log\n",
      "  \"\"\"\n",
      "c:\\users\\radio_pc\\.conda\\envs\\bml3.6\\lib\\site-packages\\ipykernel_launcher.py:5: RuntimeWarning: invalid value encountered in log\n",
      "  \"\"\"\n"
     ]
    },
    {
     "name": "stdout",
     "output_type": "stream",
     "text": [
      "RMSLE: inf\n",
      "R2 value: -10.4220\n",
      "RMSLE: inf\n",
      "R2 value: -6.0247\n"
     ]
    },
    {
     "name": "stderr",
     "output_type": "stream",
     "text": [
      "c:\\users\\radio_pc\\.conda\\envs\\bml3.6\\lib\\site-packages\\ipykernel_launcher.py:5: RuntimeWarning: divide by zero encountered in log\n",
      "  \"\"\"\n",
      "c:\\users\\radio_pc\\.conda\\envs\\bml3.6\\lib\\site-packages\\ipykernel_launcher.py:5: RuntimeWarning: invalid value encountered in log\n",
      "  \"\"\"\n",
      "c:\\users\\radio_pc\\.conda\\envs\\bml3.6\\lib\\site-packages\\ipykernel_launcher.py:5: RuntimeWarning: divide by zero encountered in log\n",
      "  \"\"\"\n",
      "c:\\users\\radio_pc\\.conda\\envs\\bml3.6\\lib\\site-packages\\ipykernel_launcher.py:5: RuntimeWarning: invalid value encountered in log\n",
      "  \"\"\"\n"
     ]
    },
    {
     "name": "stdout",
     "output_type": "stream",
     "text": [
      "RMSLE: inf\n",
      "R2 value: -10.4224\n",
      "RMSLE: inf\n",
      "R2 value: -6.0117\n"
     ]
    },
    {
     "name": "stderr",
     "output_type": "stream",
     "text": [
      "c:\\users\\radio_pc\\.conda\\envs\\bml3.6\\lib\\site-packages\\ipykernel_launcher.py:5: RuntimeWarning: divide by zero encountered in log\n",
      "  \"\"\"\n",
      "c:\\users\\radio_pc\\.conda\\envs\\bml3.6\\lib\\site-packages\\ipykernel_launcher.py:5: RuntimeWarning: invalid value encountered in log\n",
      "  \"\"\"\n",
      "c:\\users\\radio_pc\\.conda\\envs\\bml3.6\\lib\\site-packages\\ipykernel_launcher.py:5: RuntimeWarning: divide by zero encountered in log\n",
      "  \"\"\"\n",
      "c:\\users\\radio_pc\\.conda\\envs\\bml3.6\\lib\\site-packages\\ipykernel_launcher.py:5: RuntimeWarning: invalid value encountered in log\n",
      "  \"\"\"\n"
     ]
    },
    {
     "name": "stdout",
     "output_type": "stream",
     "text": [
      "RMSLE: inf\n",
      "R2 value: -10.4228\n",
      "RMSLE: inf\n",
      "R2 value: -5.9981\n"
     ]
    },
    {
     "name": "stderr",
     "output_type": "stream",
     "text": [
      "c:\\users\\radio_pc\\.conda\\envs\\bml3.6\\lib\\site-packages\\ipykernel_launcher.py:5: RuntimeWarning: divide by zero encountered in log\n",
      "  \"\"\"\n",
      "c:\\users\\radio_pc\\.conda\\envs\\bml3.6\\lib\\site-packages\\ipykernel_launcher.py:5: RuntimeWarning: invalid value encountered in log\n",
      "  \"\"\"\n",
      "c:\\users\\radio_pc\\.conda\\envs\\bml3.6\\lib\\site-packages\\ipykernel_launcher.py:5: RuntimeWarning: divide by zero encountered in log\n",
      "  \"\"\"\n",
      "c:\\users\\radio_pc\\.conda\\envs\\bml3.6\\lib\\site-packages\\ipykernel_launcher.py:5: RuntimeWarning: invalid value encountered in log\n",
      "  \"\"\"\n"
     ]
    },
    {
     "name": "stdout",
     "output_type": "stream",
     "text": [
      "RMSLE: inf\n",
      "R2 value: -10.4232\n",
      "RMSLE: inf\n",
      "R2 value: -5.9838\n"
     ]
    },
    {
     "name": "stderr",
     "output_type": "stream",
     "text": [
      "c:\\users\\radio_pc\\.conda\\envs\\bml3.6\\lib\\site-packages\\ipykernel_launcher.py:5: RuntimeWarning: divide by zero encountered in log\n",
      "  \"\"\"\n",
      "c:\\users\\radio_pc\\.conda\\envs\\bml3.6\\lib\\site-packages\\ipykernel_launcher.py:5: RuntimeWarning: invalid value encountered in log\n",
      "  \"\"\"\n",
      "c:\\users\\radio_pc\\.conda\\envs\\bml3.6\\lib\\site-packages\\ipykernel_launcher.py:5: RuntimeWarning: divide by zero encountered in log\n",
      "  \"\"\"\n",
      "c:\\users\\radio_pc\\.conda\\envs\\bml3.6\\lib\\site-packages\\ipykernel_launcher.py:5: RuntimeWarning: invalid value encountered in log\n",
      "  \"\"\"\n"
     ]
    },
    {
     "name": "stdout",
     "output_type": "stream",
     "text": [
      "RMSLE: inf\n",
      "R2 value: -10.4236\n",
      "RMSLE: inf\n",
      "R2 value: -5.9688\n"
     ]
    },
    {
     "name": "stderr",
     "output_type": "stream",
     "text": [
      "c:\\users\\radio_pc\\.conda\\envs\\bml3.6\\lib\\site-packages\\ipykernel_launcher.py:5: RuntimeWarning: divide by zero encountered in log\n",
      "  \"\"\"\n",
      "c:\\users\\radio_pc\\.conda\\envs\\bml3.6\\lib\\site-packages\\ipykernel_launcher.py:5: RuntimeWarning: invalid value encountered in log\n",
      "  \"\"\"\n",
      "c:\\users\\radio_pc\\.conda\\envs\\bml3.6\\lib\\site-packages\\ipykernel_launcher.py:5: RuntimeWarning: divide by zero encountered in log\n",
      "  \"\"\"\n",
      "c:\\users\\radio_pc\\.conda\\envs\\bml3.6\\lib\\site-packages\\ipykernel_launcher.py:5: RuntimeWarning: invalid value encountered in log\n",
      "  \"\"\"\n"
     ]
    },
    {
     "name": "stdout",
     "output_type": "stream",
     "text": [
      "RMSLE: inf\n",
      "R2 value: -10.4241\n",
      "RMSLE: inf\n",
      "R2 value: -5.9530\n"
     ]
    },
    {
     "name": "stderr",
     "output_type": "stream",
     "text": [
      "c:\\users\\radio_pc\\.conda\\envs\\bml3.6\\lib\\site-packages\\ipykernel_launcher.py:5: RuntimeWarning: divide by zero encountered in log\n",
      "  \"\"\"\n",
      "c:\\users\\radio_pc\\.conda\\envs\\bml3.6\\lib\\site-packages\\ipykernel_launcher.py:5: RuntimeWarning: invalid value encountered in log\n",
      "  \"\"\"\n",
      "c:\\users\\radio_pc\\.conda\\envs\\bml3.6\\lib\\site-packages\\ipykernel_launcher.py:5: RuntimeWarning: divide by zero encountered in log\n",
      "  \"\"\"\n",
      "c:\\users\\radio_pc\\.conda\\envs\\bml3.6\\lib\\site-packages\\ipykernel_launcher.py:5: RuntimeWarning: invalid value encountered in log\n",
      "  \"\"\"\n"
     ]
    },
    {
     "name": "stdout",
     "output_type": "stream",
     "text": [
      "RMSLE: inf\n",
      "R2 value: -10.4245\n",
      "RMSLE: inf\n",
      "R2 value: -5.9366\n"
     ]
    },
    {
     "name": "stderr",
     "output_type": "stream",
     "text": [
      "c:\\users\\radio_pc\\.conda\\envs\\bml3.6\\lib\\site-packages\\ipykernel_launcher.py:5: RuntimeWarning: divide by zero encountered in log\n",
      "  \"\"\"\n",
      "c:\\users\\radio_pc\\.conda\\envs\\bml3.6\\lib\\site-packages\\ipykernel_launcher.py:5: RuntimeWarning: invalid value encountered in log\n",
      "  \"\"\"\n",
      "c:\\users\\radio_pc\\.conda\\envs\\bml3.6\\lib\\site-packages\\ipykernel_launcher.py:5: RuntimeWarning: divide by zero encountered in log\n",
      "  \"\"\"\n",
      "c:\\users\\radio_pc\\.conda\\envs\\bml3.6\\lib\\site-packages\\ipykernel_launcher.py:5: RuntimeWarning: invalid value encountered in log\n",
      "  \"\"\"\n"
     ]
    },
    {
     "name": "stdout",
     "output_type": "stream",
     "text": [
      "RMSLE: inf\n",
      "R2 value: -10.4251\n",
      "RMSLE: inf\n",
      "R2 value: -5.9194\n"
     ]
    },
    {
     "name": "stderr",
     "output_type": "stream",
     "text": [
      "c:\\users\\radio_pc\\.conda\\envs\\bml3.6\\lib\\site-packages\\ipykernel_launcher.py:5: RuntimeWarning: divide by zero encountered in log\n",
      "  \"\"\"\n",
      "c:\\users\\radio_pc\\.conda\\envs\\bml3.6\\lib\\site-packages\\ipykernel_launcher.py:5: RuntimeWarning: invalid value encountered in log\n",
      "  \"\"\"\n",
      "c:\\users\\radio_pc\\.conda\\envs\\bml3.6\\lib\\site-packages\\ipykernel_launcher.py:5: RuntimeWarning: divide by zero encountered in log\n",
      "  \"\"\"\n",
      "c:\\users\\radio_pc\\.conda\\envs\\bml3.6\\lib\\site-packages\\ipykernel_launcher.py:5: RuntimeWarning: invalid value encountered in log\n",
      "  \"\"\"\n"
     ]
    },
    {
     "name": "stdout",
     "output_type": "stream",
     "text": [
      "RMSLE: inf\n",
      "R2 value: -10.4256\n",
      "RMSLE: inf\n",
      "R2 value: -5.9015\n"
     ]
    },
    {
     "name": "stderr",
     "output_type": "stream",
     "text": [
      "c:\\users\\radio_pc\\.conda\\envs\\bml3.6\\lib\\site-packages\\ipykernel_launcher.py:5: RuntimeWarning: divide by zero encountered in log\n",
      "  \"\"\"\n",
      "c:\\users\\radio_pc\\.conda\\envs\\bml3.6\\lib\\site-packages\\ipykernel_launcher.py:5: RuntimeWarning: invalid value encountered in log\n",
      "  \"\"\"\n",
      "c:\\users\\radio_pc\\.conda\\envs\\bml3.6\\lib\\site-packages\\ipykernel_launcher.py:5: RuntimeWarning: divide by zero encountered in log\n",
      "  \"\"\"\n",
      "c:\\users\\radio_pc\\.conda\\envs\\bml3.6\\lib\\site-packages\\ipykernel_launcher.py:5: RuntimeWarning: invalid value encountered in log\n",
      "  \"\"\"\n"
     ]
    },
    {
     "name": "stdout",
     "output_type": "stream",
     "text": [
      "RMSLE: inf\n",
      "R2 value: -10.4262\n",
      "RMSLE: inf\n",
      "R2 value: -5.8828\n"
     ]
    },
    {
     "name": "stderr",
     "output_type": "stream",
     "text": [
      "c:\\users\\radio_pc\\.conda\\envs\\bml3.6\\lib\\site-packages\\ipykernel_launcher.py:5: RuntimeWarning: divide by zero encountered in log\n",
      "  \"\"\"\n",
      "c:\\users\\radio_pc\\.conda\\envs\\bml3.6\\lib\\site-packages\\ipykernel_launcher.py:5: RuntimeWarning: invalid value encountered in log\n",
      "  \"\"\"\n",
      "c:\\users\\radio_pc\\.conda\\envs\\bml3.6\\lib\\site-packages\\ipykernel_launcher.py:5: RuntimeWarning: divide by zero encountered in log\n",
      "  \"\"\"\n",
      "c:\\users\\radio_pc\\.conda\\envs\\bml3.6\\lib\\site-packages\\ipykernel_launcher.py:5: RuntimeWarning: invalid value encountered in log\n",
      "  \"\"\"\n"
     ]
    },
    {
     "name": "stdout",
     "output_type": "stream",
     "text": [
      "RMSLE: inf\n",
      "R2 value: -10.4268\n",
      "RMSLE: inf\n",
      "R2 value: -5.8633\n"
     ]
    },
    {
     "name": "stderr",
     "output_type": "stream",
     "text": [
      "c:\\users\\radio_pc\\.conda\\envs\\bml3.6\\lib\\site-packages\\ipykernel_launcher.py:5: RuntimeWarning: divide by zero encountered in log\n",
      "  \"\"\"\n",
      "c:\\users\\radio_pc\\.conda\\envs\\bml3.6\\lib\\site-packages\\ipykernel_launcher.py:5: RuntimeWarning: invalid value encountered in log\n",
      "  \"\"\"\n",
      "c:\\users\\radio_pc\\.conda\\envs\\bml3.6\\lib\\site-packages\\ipykernel_launcher.py:5: RuntimeWarning: divide by zero encountered in log\n",
      "  \"\"\"\n",
      "c:\\users\\radio_pc\\.conda\\envs\\bml3.6\\lib\\site-packages\\ipykernel_launcher.py:5: RuntimeWarning: invalid value encountered in log\n",
      "  \"\"\"\n"
     ]
    },
    {
     "name": "stdout",
     "output_type": "stream",
     "text": [
      "RMSLE: inf\n",
      "R2 value: -10.4274\n",
      "RMSLE: inf\n",
      "R2 value: -5.8430\n"
     ]
    },
    {
     "name": "stderr",
     "output_type": "stream",
     "text": [
      "c:\\users\\radio_pc\\.conda\\envs\\bml3.6\\lib\\site-packages\\ipykernel_launcher.py:5: RuntimeWarning: divide by zero encountered in log\n",
      "  \"\"\"\n",
      "c:\\users\\radio_pc\\.conda\\envs\\bml3.6\\lib\\site-packages\\ipykernel_launcher.py:5: RuntimeWarning: invalid value encountered in log\n",
      "  \"\"\"\n",
      "c:\\users\\radio_pc\\.conda\\envs\\bml3.6\\lib\\site-packages\\ipykernel_launcher.py:5: RuntimeWarning: divide by zero encountered in log\n",
      "  \"\"\"\n",
      "c:\\users\\radio_pc\\.conda\\envs\\bml3.6\\lib\\site-packages\\ipykernel_launcher.py:5: RuntimeWarning: invalid value encountered in log\n",
      "  \"\"\"\n"
     ]
    },
    {
     "name": "stdout",
     "output_type": "stream",
     "text": [
      "RMSLE: inf\n",
      "R2 value: -10.4281\n",
      "RMSLE: inf\n",
      "R2 value: -5.8220\n"
     ]
    },
    {
     "name": "stderr",
     "output_type": "stream",
     "text": [
      "c:\\users\\radio_pc\\.conda\\envs\\bml3.6\\lib\\site-packages\\ipykernel_launcher.py:5: RuntimeWarning: divide by zero encountered in log\n",
      "  \"\"\"\n",
      "c:\\users\\radio_pc\\.conda\\envs\\bml3.6\\lib\\site-packages\\ipykernel_launcher.py:5: RuntimeWarning: invalid value encountered in log\n",
      "  \"\"\"\n",
      "c:\\users\\radio_pc\\.conda\\envs\\bml3.6\\lib\\site-packages\\ipykernel_launcher.py:5: RuntimeWarning: divide by zero encountered in log\n",
      "  \"\"\"\n",
      "c:\\users\\radio_pc\\.conda\\envs\\bml3.6\\lib\\site-packages\\ipykernel_launcher.py:5: RuntimeWarning: invalid value encountered in log\n",
      "  \"\"\"\n"
     ]
    },
    {
     "name": "stdout",
     "output_type": "stream",
     "text": [
      "RMSLE: inf\n",
      "R2 value: -10.4288\n",
      "RMSLE: inf\n",
      "R2 value: -5.8001\n"
     ]
    },
    {
     "name": "stderr",
     "output_type": "stream",
     "text": [
      "c:\\users\\radio_pc\\.conda\\envs\\bml3.6\\lib\\site-packages\\ipykernel_launcher.py:5: RuntimeWarning: divide by zero encountered in log\n",
      "  \"\"\"\n",
      "c:\\users\\radio_pc\\.conda\\envs\\bml3.6\\lib\\site-packages\\ipykernel_launcher.py:5: RuntimeWarning: invalid value encountered in log\n",
      "  \"\"\"\n",
      "c:\\users\\radio_pc\\.conda\\envs\\bml3.6\\lib\\site-packages\\ipykernel_launcher.py:5: RuntimeWarning: divide by zero encountered in log\n",
      "  \"\"\"\n",
      "c:\\users\\radio_pc\\.conda\\envs\\bml3.6\\lib\\site-packages\\ipykernel_launcher.py:5: RuntimeWarning: invalid value encountered in log\n",
      "  \"\"\"\n"
     ]
    },
    {
     "name": "stdout",
     "output_type": "stream",
     "text": [
      "RMSLE: inf\n",
      "R2 value: -10.4296\n",
      "RMSLE: inf\n",
      "R2 value: -5.7775\n"
     ]
    },
    {
     "name": "stderr",
     "output_type": "stream",
     "text": [
      "c:\\users\\radio_pc\\.conda\\envs\\bml3.6\\lib\\site-packages\\ipykernel_launcher.py:5: RuntimeWarning: divide by zero encountered in log\n",
      "  \"\"\"\n",
      "c:\\users\\radio_pc\\.conda\\envs\\bml3.6\\lib\\site-packages\\ipykernel_launcher.py:5: RuntimeWarning: invalid value encountered in log\n",
      "  \"\"\"\n",
      "c:\\users\\radio_pc\\.conda\\envs\\bml3.6\\lib\\site-packages\\ipykernel_launcher.py:5: RuntimeWarning: divide by zero encountered in log\n",
      "  \"\"\"\n",
      "c:\\users\\radio_pc\\.conda\\envs\\bml3.6\\lib\\site-packages\\ipykernel_launcher.py:5: RuntimeWarning: invalid value encountered in log\n",
      "  \"\"\"\n"
     ]
    },
    {
     "name": "stdout",
     "output_type": "stream",
     "text": [
      "RMSLE: inf\n",
      "R2 value: -10.4304\n",
      "RMSLE: inf\n",
      "R2 value: -5.7540\n"
     ]
    },
    {
     "name": "stderr",
     "output_type": "stream",
     "text": [
      "c:\\users\\radio_pc\\.conda\\envs\\bml3.6\\lib\\site-packages\\ipykernel_launcher.py:5: RuntimeWarning: divide by zero encountered in log\n",
      "  \"\"\"\n",
      "c:\\users\\radio_pc\\.conda\\envs\\bml3.6\\lib\\site-packages\\ipykernel_launcher.py:5: RuntimeWarning: invalid value encountered in log\n",
      "  \"\"\"\n",
      "c:\\users\\radio_pc\\.conda\\envs\\bml3.6\\lib\\site-packages\\ipykernel_launcher.py:5: RuntimeWarning: divide by zero encountered in log\n",
      "  \"\"\"\n",
      "c:\\users\\radio_pc\\.conda\\envs\\bml3.6\\lib\\site-packages\\ipykernel_launcher.py:5: RuntimeWarning: invalid value encountered in log\n",
      "  \"\"\"\n"
     ]
    },
    {
     "name": "stdout",
     "output_type": "stream",
     "text": [
      "RMSLE: inf\n",
      "R2 value: -10.4312\n",
      "RMSLE: inf\n",
      "R2 value: -5.7298\n"
     ]
    },
    {
     "name": "stderr",
     "output_type": "stream",
     "text": [
      "c:\\users\\radio_pc\\.conda\\envs\\bml3.6\\lib\\site-packages\\ipykernel_launcher.py:5: RuntimeWarning: divide by zero encountered in log\n",
      "  \"\"\"\n",
      "c:\\users\\radio_pc\\.conda\\envs\\bml3.6\\lib\\site-packages\\ipykernel_launcher.py:5: RuntimeWarning: invalid value encountered in log\n",
      "  \"\"\"\n",
      "c:\\users\\radio_pc\\.conda\\envs\\bml3.6\\lib\\site-packages\\ipykernel_launcher.py:5: RuntimeWarning: divide by zero encountered in log\n",
      "  \"\"\"\n",
      "c:\\users\\radio_pc\\.conda\\envs\\bml3.6\\lib\\site-packages\\ipykernel_launcher.py:5: RuntimeWarning: invalid value encountered in log\n",
      "  \"\"\"\n"
     ]
    },
    {
     "name": "stdout",
     "output_type": "stream",
     "text": [
      "RMSLE: inf\n",
      "R2 value: -10.4321\n",
      "RMSLE: inf\n",
      "R2 value: -5.7048\n"
     ]
    },
    {
     "name": "stderr",
     "output_type": "stream",
     "text": [
      "c:\\users\\radio_pc\\.conda\\envs\\bml3.6\\lib\\site-packages\\ipykernel_launcher.py:5: RuntimeWarning: divide by zero encountered in log\n",
      "  \"\"\"\n",
      "c:\\users\\radio_pc\\.conda\\envs\\bml3.6\\lib\\site-packages\\ipykernel_launcher.py:5: RuntimeWarning: invalid value encountered in log\n",
      "  \"\"\"\n",
      "c:\\users\\radio_pc\\.conda\\envs\\bml3.6\\lib\\site-packages\\ipykernel_launcher.py:5: RuntimeWarning: divide by zero encountered in log\n",
      "  \"\"\"\n",
      "c:\\users\\radio_pc\\.conda\\envs\\bml3.6\\lib\\site-packages\\ipykernel_launcher.py:5: RuntimeWarning: invalid value encountered in log\n",
      "  \"\"\"\n"
     ]
    },
    {
     "name": "stdout",
     "output_type": "stream",
     "text": [
      "RMSLE: inf\n",
      "R2 value: -10.4330\n",
      "RMSLE: inf\n",
      "R2 value: -5.6791\n"
     ]
    },
    {
     "name": "stderr",
     "output_type": "stream",
     "text": [
      "c:\\users\\radio_pc\\.conda\\envs\\bml3.6\\lib\\site-packages\\ipykernel_launcher.py:5: RuntimeWarning: divide by zero encountered in log\n",
      "  \"\"\"\n",
      "c:\\users\\radio_pc\\.conda\\envs\\bml3.6\\lib\\site-packages\\ipykernel_launcher.py:5: RuntimeWarning: invalid value encountered in log\n",
      "  \"\"\"\n",
      "c:\\users\\radio_pc\\.conda\\envs\\bml3.6\\lib\\site-packages\\ipykernel_launcher.py:5: RuntimeWarning: divide by zero encountered in log\n",
      "  \"\"\"\n",
      "c:\\users\\radio_pc\\.conda\\envs\\bml3.6\\lib\\site-packages\\ipykernel_launcher.py:5: RuntimeWarning: invalid value encountered in log\n",
      "  \"\"\"\n"
     ]
    },
    {
     "name": "stdout",
     "output_type": "stream",
     "text": [
      "RMSLE: inf\n",
      "R2 value: -10.4340\n",
      "RMSLE: inf\n",
      "R2 value: -5.6527\n"
     ]
    },
    {
     "name": "stderr",
     "output_type": "stream",
     "text": [
      "c:\\users\\radio_pc\\.conda\\envs\\bml3.6\\lib\\site-packages\\ipykernel_launcher.py:5: RuntimeWarning: divide by zero encountered in log\n",
      "  \"\"\"\n",
      "c:\\users\\radio_pc\\.conda\\envs\\bml3.6\\lib\\site-packages\\ipykernel_launcher.py:5: RuntimeWarning: invalid value encountered in log\n",
      "  \"\"\"\n",
      "c:\\users\\radio_pc\\.conda\\envs\\bml3.6\\lib\\site-packages\\ipykernel_launcher.py:5: RuntimeWarning: divide by zero encountered in log\n",
      "  \"\"\"\n",
      "c:\\users\\radio_pc\\.conda\\envs\\bml3.6\\lib\\site-packages\\ipykernel_launcher.py:5: RuntimeWarning: invalid value encountered in log\n",
      "  \"\"\"\n"
     ]
    },
    {
     "name": "stdout",
     "output_type": "stream",
     "text": [
      "RMSLE: inf\n",
      "R2 value: -10.4351\n",
      "RMSLE: inf\n",
      "R2 value: -5.6255\n"
     ]
    },
    {
     "name": "stderr",
     "output_type": "stream",
     "text": [
      "c:\\users\\radio_pc\\.conda\\envs\\bml3.6\\lib\\site-packages\\ipykernel_launcher.py:5: RuntimeWarning: divide by zero encountered in log\n",
      "  \"\"\"\n",
      "c:\\users\\radio_pc\\.conda\\envs\\bml3.6\\lib\\site-packages\\ipykernel_launcher.py:5: RuntimeWarning: invalid value encountered in log\n",
      "  \"\"\"\n",
      "c:\\users\\radio_pc\\.conda\\envs\\bml3.6\\lib\\site-packages\\ipykernel_launcher.py:5: RuntimeWarning: divide by zero encountered in log\n",
      "  \"\"\"\n",
      "c:\\users\\radio_pc\\.conda\\envs\\bml3.6\\lib\\site-packages\\ipykernel_launcher.py:5: RuntimeWarning: invalid value encountered in log\n",
      "  \"\"\"\n"
     ]
    },
    {
     "name": "stdout",
     "output_type": "stream",
     "text": [
      "RMSLE: inf\n",
      "R2 value: -10.4362\n",
      "RMSLE: inf\n",
      "R2 value: -5.5977\n"
     ]
    },
    {
     "name": "stderr",
     "output_type": "stream",
     "text": [
      "c:\\users\\radio_pc\\.conda\\envs\\bml3.6\\lib\\site-packages\\ipykernel_launcher.py:5: RuntimeWarning: divide by zero encountered in log\n",
      "  \"\"\"\n",
      "c:\\users\\radio_pc\\.conda\\envs\\bml3.6\\lib\\site-packages\\ipykernel_launcher.py:5: RuntimeWarning: invalid value encountered in log\n",
      "  \"\"\"\n",
      "c:\\users\\radio_pc\\.conda\\envs\\bml3.6\\lib\\site-packages\\ipykernel_launcher.py:5: RuntimeWarning: divide by zero encountered in log\n",
      "  \"\"\"\n",
      "c:\\users\\radio_pc\\.conda\\envs\\bml3.6\\lib\\site-packages\\ipykernel_launcher.py:5: RuntimeWarning: invalid value encountered in log\n",
      "  \"\"\"\n"
     ]
    },
    {
     "name": "stdout",
     "output_type": "stream",
     "text": [
      "RMSLE: inf\n",
      "R2 value: -10.4373\n",
      "RMSLE: inf\n",
      "R2 value: -5.5693\n"
     ]
    },
    {
     "name": "stderr",
     "output_type": "stream",
     "text": [
      "c:\\users\\radio_pc\\.conda\\envs\\bml3.6\\lib\\site-packages\\ipykernel_launcher.py:5: RuntimeWarning: divide by zero encountered in log\n",
      "  \"\"\"\n",
      "c:\\users\\radio_pc\\.conda\\envs\\bml3.6\\lib\\site-packages\\ipykernel_launcher.py:5: RuntimeWarning: invalid value encountered in log\n",
      "  \"\"\"\n",
      "c:\\users\\radio_pc\\.conda\\envs\\bml3.6\\lib\\site-packages\\ipykernel_launcher.py:5: RuntimeWarning: divide by zero encountered in log\n",
      "  \"\"\"\n",
      "c:\\users\\radio_pc\\.conda\\envs\\bml3.6\\lib\\site-packages\\ipykernel_launcher.py:5: RuntimeWarning: invalid value encountered in log\n",
      "  \"\"\"\n"
     ]
    },
    {
     "name": "stdout",
     "output_type": "stream",
     "text": [
      "RMSLE: inf\n",
      "R2 value: -10.4386\n",
      "RMSLE: inf\n",
      "R2 value: -5.5402\n"
     ]
    },
    {
     "name": "stderr",
     "output_type": "stream",
     "text": [
      "c:\\users\\radio_pc\\.conda\\envs\\bml3.6\\lib\\site-packages\\ipykernel_launcher.py:5: RuntimeWarning: divide by zero encountered in log\n",
      "  \"\"\"\n",
      "c:\\users\\radio_pc\\.conda\\envs\\bml3.6\\lib\\site-packages\\ipykernel_launcher.py:5: RuntimeWarning: invalid value encountered in log\n",
      "  \"\"\"\n",
      "c:\\users\\radio_pc\\.conda\\envs\\bml3.6\\lib\\site-packages\\ipykernel_launcher.py:5: RuntimeWarning: divide by zero encountered in log\n",
      "  \"\"\"\n",
      "c:\\users\\radio_pc\\.conda\\envs\\bml3.6\\lib\\site-packages\\ipykernel_launcher.py:5: RuntimeWarning: invalid value encountered in log\n",
      "  \"\"\"\n"
     ]
    },
    {
     "name": "stdout",
     "output_type": "stream",
     "text": [
      "RMSLE: inf\n",
      "R2 value: -10.4399\n",
      "RMSLE: inf\n",
      "R2 value: -5.5106\n"
     ]
    },
    {
     "name": "stderr",
     "output_type": "stream",
     "text": [
      "c:\\users\\radio_pc\\.conda\\envs\\bml3.6\\lib\\site-packages\\ipykernel_launcher.py:5: RuntimeWarning: divide by zero encountered in log\n",
      "  \"\"\"\n",
      "c:\\users\\radio_pc\\.conda\\envs\\bml3.6\\lib\\site-packages\\ipykernel_launcher.py:5: RuntimeWarning: invalid value encountered in log\n",
      "  \"\"\"\n",
      "c:\\users\\radio_pc\\.conda\\envs\\bml3.6\\lib\\site-packages\\ipykernel_launcher.py:5: RuntimeWarning: divide by zero encountered in log\n",
      "  \"\"\"\n",
      "c:\\users\\radio_pc\\.conda\\envs\\bml3.6\\lib\\site-packages\\ipykernel_launcher.py:5: RuntimeWarning: invalid value encountered in log\n",
      "  \"\"\"\n"
     ]
    },
    {
     "name": "stdout",
     "output_type": "stream",
     "text": [
      "RMSLE: inf\n",
      "R2 value: -10.4412\n",
      "RMSLE: inf\n",
      "R2 value: -5.4805\n"
     ]
    },
    {
     "name": "stderr",
     "output_type": "stream",
     "text": [
      "c:\\users\\radio_pc\\.conda\\envs\\bml3.6\\lib\\site-packages\\ipykernel_launcher.py:5: RuntimeWarning: divide by zero encountered in log\n",
      "  \"\"\"\n",
      "c:\\users\\radio_pc\\.conda\\envs\\bml3.6\\lib\\site-packages\\ipykernel_launcher.py:5: RuntimeWarning: invalid value encountered in log\n",
      "  \"\"\"\n",
      "c:\\users\\radio_pc\\.conda\\envs\\bml3.6\\lib\\site-packages\\ipykernel_launcher.py:5: RuntimeWarning: divide by zero encountered in log\n",
      "  \"\"\"\n",
      "c:\\users\\radio_pc\\.conda\\envs\\bml3.6\\lib\\site-packages\\ipykernel_launcher.py:5: RuntimeWarning: invalid value encountered in log\n",
      "  \"\"\"\n"
     ]
    },
    {
     "name": "stdout",
     "output_type": "stream",
     "text": [
      "RMSLE: inf\n",
      "R2 value: -10.4427\n",
      "RMSLE: inf\n",
      "R2 value: -5.4500\n"
     ]
    },
    {
     "name": "stderr",
     "output_type": "stream",
     "text": [
      "c:\\users\\radio_pc\\.conda\\envs\\bml3.6\\lib\\site-packages\\ipykernel_launcher.py:5: RuntimeWarning: divide by zero encountered in log\n",
      "  \"\"\"\n",
      "c:\\users\\radio_pc\\.conda\\envs\\bml3.6\\lib\\site-packages\\ipykernel_launcher.py:5: RuntimeWarning: invalid value encountered in log\n",
      "  \"\"\"\n",
      "c:\\users\\radio_pc\\.conda\\envs\\bml3.6\\lib\\site-packages\\ipykernel_launcher.py:5: RuntimeWarning: divide by zero encountered in log\n",
      "  \"\"\"\n",
      "c:\\users\\radio_pc\\.conda\\envs\\bml3.6\\lib\\site-packages\\ipykernel_launcher.py:5: RuntimeWarning: invalid value encountered in log\n",
      "  \"\"\"\n"
     ]
    },
    {
     "name": "stdout",
     "output_type": "stream",
     "text": [
      "RMSLE: inf\n",
      "R2 value: -10.4442\n",
      "RMSLE: inf\n",
      "R2 value: -5.4191\n"
     ]
    },
    {
     "name": "stderr",
     "output_type": "stream",
     "text": [
      "c:\\users\\radio_pc\\.conda\\envs\\bml3.6\\lib\\site-packages\\ipykernel_launcher.py:5: RuntimeWarning: divide by zero encountered in log\n",
      "  \"\"\"\n",
      "c:\\users\\radio_pc\\.conda\\envs\\bml3.6\\lib\\site-packages\\ipykernel_launcher.py:5: RuntimeWarning: invalid value encountered in log\n",
      "  \"\"\"\n",
      "c:\\users\\radio_pc\\.conda\\envs\\bml3.6\\lib\\site-packages\\ipykernel_launcher.py:5: RuntimeWarning: divide by zero encountered in log\n",
      "  \"\"\"\n",
      "c:\\users\\radio_pc\\.conda\\envs\\bml3.6\\lib\\site-packages\\ipykernel_launcher.py:5: RuntimeWarning: invalid value encountered in log\n",
      "  \"\"\"\n"
     ]
    },
    {
     "name": "stdout",
     "output_type": "stream",
     "text": [
      "RMSLE: inf\n",
      "R2 value: -10.4458\n",
      "RMSLE: inf\n",
      "R2 value: -5.3878\n"
     ]
    },
    {
     "name": "stderr",
     "output_type": "stream",
     "text": [
      "c:\\users\\radio_pc\\.conda\\envs\\bml3.6\\lib\\site-packages\\ipykernel_launcher.py:5: RuntimeWarning: divide by zero encountered in log\n",
      "  \"\"\"\n",
      "c:\\users\\radio_pc\\.conda\\envs\\bml3.6\\lib\\site-packages\\ipykernel_launcher.py:5: RuntimeWarning: invalid value encountered in log\n",
      "  \"\"\"\n",
      "c:\\users\\radio_pc\\.conda\\envs\\bml3.6\\lib\\site-packages\\ipykernel_launcher.py:5: RuntimeWarning: divide by zero encountered in log\n",
      "  \"\"\"\n",
      "c:\\users\\radio_pc\\.conda\\envs\\bml3.6\\lib\\site-packages\\ipykernel_launcher.py:5: RuntimeWarning: invalid value encountered in log\n",
      "  \"\"\"\n"
     ]
    },
    {
     "name": "stdout",
     "output_type": "stream",
     "text": [
      "RMSLE: inf\n",
      "R2 value: -10.4475\n",
      "RMSLE: inf\n",
      "R2 value: -5.3564\n"
     ]
    },
    {
     "name": "stderr",
     "output_type": "stream",
     "text": [
      "c:\\users\\radio_pc\\.conda\\envs\\bml3.6\\lib\\site-packages\\ipykernel_launcher.py:5: RuntimeWarning: divide by zero encountered in log\n",
      "  \"\"\"\n",
      "c:\\users\\radio_pc\\.conda\\envs\\bml3.6\\lib\\site-packages\\ipykernel_launcher.py:5: RuntimeWarning: invalid value encountered in log\n",
      "  \"\"\"\n",
      "c:\\users\\radio_pc\\.conda\\envs\\bml3.6\\lib\\site-packages\\ipykernel_launcher.py:5: RuntimeWarning: divide by zero encountered in log\n",
      "  \"\"\"\n",
      "c:\\users\\radio_pc\\.conda\\envs\\bml3.6\\lib\\site-packages\\ipykernel_launcher.py:5: RuntimeWarning: invalid value encountered in log\n",
      "  \"\"\"\n"
     ]
    },
    {
     "name": "stdout",
     "output_type": "stream",
     "text": [
      "RMSLE: inf\n",
      "R2 value: -10.4493\n",
      "RMSLE: inf\n",
      "R2 value: -5.3247\n"
     ]
    },
    {
     "name": "stderr",
     "output_type": "stream",
     "text": [
      "c:\\users\\radio_pc\\.conda\\envs\\bml3.6\\lib\\site-packages\\ipykernel_launcher.py:5: RuntimeWarning: divide by zero encountered in log\n",
      "  \"\"\"\n",
      "c:\\users\\radio_pc\\.conda\\envs\\bml3.6\\lib\\site-packages\\ipykernel_launcher.py:5: RuntimeWarning: invalid value encountered in log\n",
      "  \"\"\"\n",
      "c:\\users\\radio_pc\\.conda\\envs\\bml3.6\\lib\\site-packages\\ipykernel_launcher.py:5: RuntimeWarning: divide by zero encountered in log\n",
      "  \"\"\"\n",
      "c:\\users\\radio_pc\\.conda\\envs\\bml3.6\\lib\\site-packages\\ipykernel_launcher.py:5: RuntimeWarning: invalid value encountered in log\n",
      "  \"\"\"\n"
     ]
    },
    {
     "name": "stdout",
     "output_type": "stream",
     "text": [
      "RMSLE: inf\n",
      "R2 value: -10.4512\n",
      "RMSLE: inf\n",
      "R2 value: -5.2929\n"
     ]
    },
    {
     "name": "stderr",
     "output_type": "stream",
     "text": [
      "c:\\users\\radio_pc\\.conda\\envs\\bml3.6\\lib\\site-packages\\ipykernel_launcher.py:5: RuntimeWarning: divide by zero encountered in log\n",
      "  \"\"\"\n",
      "c:\\users\\radio_pc\\.conda\\envs\\bml3.6\\lib\\site-packages\\ipykernel_launcher.py:5: RuntimeWarning: invalid value encountered in log\n",
      "  \"\"\"\n",
      "c:\\users\\radio_pc\\.conda\\envs\\bml3.6\\lib\\site-packages\\ipykernel_launcher.py:5: RuntimeWarning: divide by zero encountered in log\n",
      "  \"\"\"\n",
      "c:\\users\\radio_pc\\.conda\\envs\\bml3.6\\lib\\site-packages\\ipykernel_launcher.py:5: RuntimeWarning: invalid value encountered in log\n",
      "  \"\"\"\n"
     ]
    },
    {
     "name": "stdout",
     "output_type": "stream",
     "text": [
      "RMSLE: inf\n",
      "R2 value: -10.4532\n",
      "RMSLE: inf\n",
      "R2 value: -5.2611\n"
     ]
    },
    {
     "name": "stderr",
     "output_type": "stream",
     "text": [
      "c:\\users\\radio_pc\\.conda\\envs\\bml3.6\\lib\\site-packages\\ipykernel_launcher.py:5: RuntimeWarning: divide by zero encountered in log\n",
      "  \"\"\"\n",
      "c:\\users\\radio_pc\\.conda\\envs\\bml3.6\\lib\\site-packages\\ipykernel_launcher.py:5: RuntimeWarning: invalid value encountered in log\n",
      "  \"\"\"\n",
      "c:\\users\\radio_pc\\.conda\\envs\\bml3.6\\lib\\site-packages\\ipykernel_launcher.py:5: RuntimeWarning: divide by zero encountered in log\n",
      "  \"\"\"\n",
      "c:\\users\\radio_pc\\.conda\\envs\\bml3.6\\lib\\site-packages\\ipykernel_launcher.py:5: RuntimeWarning: invalid value encountered in log\n",
      "  \"\"\"\n"
     ]
    },
    {
     "name": "stdout",
     "output_type": "stream",
     "text": [
      "RMSLE: inf\n",
      "R2 value: -10.4554\n",
      "RMSLE: inf\n",
      "R2 value: -5.2294\n"
     ]
    },
    {
     "name": "stderr",
     "output_type": "stream",
     "text": [
      "c:\\users\\radio_pc\\.conda\\envs\\bml3.6\\lib\\site-packages\\ipykernel_launcher.py:5: RuntimeWarning: divide by zero encountered in log\n",
      "  \"\"\"\n",
      "c:\\users\\radio_pc\\.conda\\envs\\bml3.6\\lib\\site-packages\\ipykernel_launcher.py:5: RuntimeWarning: invalid value encountered in log\n",
      "  \"\"\"\n",
      "c:\\users\\radio_pc\\.conda\\envs\\bml3.6\\lib\\site-packages\\ipykernel_launcher.py:5: RuntimeWarning: divide by zero encountered in log\n",
      "  \"\"\"\n",
      "c:\\users\\radio_pc\\.conda\\envs\\bml3.6\\lib\\site-packages\\ipykernel_launcher.py:5: RuntimeWarning: invalid value encountered in log\n",
      "  \"\"\"\n"
     ]
    },
    {
     "name": "stdout",
     "output_type": "stream",
     "text": [
      "RMSLE: inf\n",
      "R2 value: -10.4576\n",
      "RMSLE: inf\n",
      "R2 value: -5.1978\n"
     ]
    },
    {
     "name": "stderr",
     "output_type": "stream",
     "text": [
      "c:\\users\\radio_pc\\.conda\\envs\\bml3.6\\lib\\site-packages\\ipykernel_launcher.py:5: RuntimeWarning: divide by zero encountered in log\n",
      "  \"\"\"\n",
      "c:\\users\\radio_pc\\.conda\\envs\\bml3.6\\lib\\site-packages\\ipykernel_launcher.py:5: RuntimeWarning: invalid value encountered in log\n",
      "  \"\"\"\n",
      "c:\\users\\radio_pc\\.conda\\envs\\bml3.6\\lib\\site-packages\\ipykernel_launcher.py:5: RuntimeWarning: divide by zero encountered in log\n",
      "  \"\"\"\n",
      "c:\\users\\radio_pc\\.conda\\envs\\bml3.6\\lib\\site-packages\\ipykernel_launcher.py:5: RuntimeWarning: invalid value encountered in log\n",
      "  \"\"\"\n"
     ]
    },
    {
     "name": "stdout",
     "output_type": "stream",
     "text": [
      "RMSLE: inf\n",
      "R2 value: -10.4600\n",
      "RMSLE: inf\n",
      "R2 value: -5.1664\n"
     ]
    },
    {
     "name": "stderr",
     "output_type": "stream",
     "text": [
      "c:\\users\\radio_pc\\.conda\\envs\\bml3.6\\lib\\site-packages\\ipykernel_launcher.py:5: RuntimeWarning: divide by zero encountered in log\n",
      "  \"\"\"\n",
      "c:\\users\\radio_pc\\.conda\\envs\\bml3.6\\lib\\site-packages\\ipykernel_launcher.py:5: RuntimeWarning: invalid value encountered in log\n",
      "  \"\"\"\n",
      "c:\\users\\radio_pc\\.conda\\envs\\bml3.6\\lib\\site-packages\\ipykernel_launcher.py:5: RuntimeWarning: divide by zero encountered in log\n",
      "  \"\"\"\n",
      "c:\\users\\radio_pc\\.conda\\envs\\bml3.6\\lib\\site-packages\\ipykernel_launcher.py:5: RuntimeWarning: invalid value encountered in log\n",
      "  \"\"\"\n"
     ]
    },
    {
     "name": "stdout",
     "output_type": "stream",
     "text": [
      "RMSLE: inf\n",
      "R2 value: -10.4625\n",
      "RMSLE: inf\n",
      "R2 value: -5.1354\n"
     ]
    },
    {
     "name": "stderr",
     "output_type": "stream",
     "text": [
      "c:\\users\\radio_pc\\.conda\\envs\\bml3.6\\lib\\site-packages\\ipykernel_launcher.py:5: RuntimeWarning: divide by zero encountered in log\n",
      "  \"\"\"\n",
      "c:\\users\\radio_pc\\.conda\\envs\\bml3.6\\lib\\site-packages\\ipykernel_launcher.py:5: RuntimeWarning: invalid value encountered in log\n",
      "  \"\"\"\n",
      "c:\\users\\radio_pc\\.conda\\envs\\bml3.6\\lib\\site-packages\\ipykernel_launcher.py:5: RuntimeWarning: divide by zero encountered in log\n",
      "  \"\"\"\n",
      "c:\\users\\radio_pc\\.conda\\envs\\bml3.6\\lib\\site-packages\\ipykernel_launcher.py:5: RuntimeWarning: invalid value encountered in log\n",
      "  \"\"\"\n"
     ]
    },
    {
     "name": "stdout",
     "output_type": "stream",
     "text": [
      "RMSLE: inf\n",
      "R2 value: -10.4651\n",
      "RMSLE: inf\n",
      "R2 value: -5.1048\n"
     ]
    },
    {
     "name": "stderr",
     "output_type": "stream",
     "text": [
      "c:\\users\\radio_pc\\.conda\\envs\\bml3.6\\lib\\site-packages\\ipykernel_launcher.py:5: RuntimeWarning: divide by zero encountered in log\n",
      "  \"\"\"\n",
      "c:\\users\\radio_pc\\.conda\\envs\\bml3.6\\lib\\site-packages\\ipykernel_launcher.py:5: RuntimeWarning: invalid value encountered in log\n",
      "  \"\"\"\n",
      "c:\\users\\radio_pc\\.conda\\envs\\bml3.6\\lib\\site-packages\\ipykernel_launcher.py:5: RuntimeWarning: divide by zero encountered in log\n",
      "  \"\"\"\n",
      "c:\\users\\radio_pc\\.conda\\envs\\bml3.6\\lib\\site-packages\\ipykernel_launcher.py:5: RuntimeWarning: invalid value encountered in log\n",
      "  \"\"\"\n"
     ]
    },
    {
     "name": "stdout",
     "output_type": "stream",
     "text": [
      "RMSLE: inf\n",
      "R2 value: -10.4679\n",
      "RMSLE: inf\n",
      "R2 value: -5.0747\n"
     ]
    },
    {
     "name": "stderr",
     "output_type": "stream",
     "text": [
      "c:\\users\\radio_pc\\.conda\\envs\\bml3.6\\lib\\site-packages\\ipykernel_launcher.py:5: RuntimeWarning: divide by zero encountered in log\n",
      "  \"\"\"\n",
      "c:\\users\\radio_pc\\.conda\\envs\\bml3.6\\lib\\site-packages\\ipykernel_launcher.py:5: RuntimeWarning: invalid value encountered in log\n",
      "  \"\"\"\n",
      "c:\\users\\radio_pc\\.conda\\envs\\bml3.6\\lib\\site-packages\\ipykernel_launcher.py:5: RuntimeWarning: divide by zero encountered in log\n",
      "  \"\"\"\n",
      "c:\\users\\radio_pc\\.conda\\envs\\bml3.6\\lib\\site-packages\\ipykernel_launcher.py:5: RuntimeWarning: invalid value encountered in log\n",
      "  \"\"\"\n"
     ]
    },
    {
     "name": "stdout",
     "output_type": "stream",
     "text": [
      "RMSLE: inf\n",
      "R2 value: -10.4709\n",
      "RMSLE: inf\n",
      "R2 value: -5.0451\n"
     ]
    },
    {
     "name": "stderr",
     "output_type": "stream",
     "text": [
      "c:\\users\\radio_pc\\.conda\\envs\\bml3.6\\lib\\site-packages\\ipykernel_launcher.py:5: RuntimeWarning: divide by zero encountered in log\n",
      "  \"\"\"\n",
      "c:\\users\\radio_pc\\.conda\\envs\\bml3.6\\lib\\site-packages\\ipykernel_launcher.py:5: RuntimeWarning: invalid value encountered in log\n",
      "  \"\"\"\n",
      "c:\\users\\radio_pc\\.conda\\envs\\bml3.6\\lib\\site-packages\\ipykernel_launcher.py:5: RuntimeWarning: divide by zero encountered in log\n",
      "  \"\"\"\n",
      "c:\\users\\radio_pc\\.conda\\envs\\bml3.6\\lib\\site-packages\\ipykernel_launcher.py:5: RuntimeWarning: invalid value encountered in log\n",
      "  \"\"\"\n"
     ]
    },
    {
     "name": "stdout",
     "output_type": "stream",
     "text": [
      "RMSLE: inf\n",
      "R2 value: -10.4740\n",
      "RMSLE: inf\n",
      "R2 value: -5.0163\n"
     ]
    },
    {
     "name": "stderr",
     "output_type": "stream",
     "text": [
      "c:\\users\\radio_pc\\.conda\\envs\\bml3.6\\lib\\site-packages\\ipykernel_launcher.py:5: RuntimeWarning: divide by zero encountered in log\n",
      "  \"\"\"\n",
      "c:\\users\\radio_pc\\.conda\\envs\\bml3.6\\lib\\site-packages\\ipykernel_launcher.py:5: RuntimeWarning: invalid value encountered in log\n",
      "  \"\"\"\n",
      "c:\\users\\radio_pc\\.conda\\envs\\bml3.6\\lib\\site-packages\\ipykernel_launcher.py:5: RuntimeWarning: divide by zero encountered in log\n",
      "  \"\"\"\n",
      "c:\\users\\radio_pc\\.conda\\envs\\bml3.6\\lib\\site-packages\\ipykernel_launcher.py:5: RuntimeWarning: invalid value encountered in log\n",
      "  \"\"\"\n"
     ]
    },
    {
     "name": "stdout",
     "output_type": "stream",
     "text": [
      "RMSLE: inf\n",
      "R2 value: -10.4774\n",
      "RMSLE: inf\n",
      "R2 value: -4.9882\n"
     ]
    },
    {
     "name": "stderr",
     "output_type": "stream",
     "text": [
      "c:\\users\\radio_pc\\.conda\\envs\\bml3.6\\lib\\site-packages\\ipykernel_launcher.py:5: RuntimeWarning: divide by zero encountered in log\n",
      "  \"\"\"\n",
      "c:\\users\\radio_pc\\.conda\\envs\\bml3.6\\lib\\site-packages\\ipykernel_launcher.py:5: RuntimeWarning: invalid value encountered in log\n",
      "  \"\"\"\n",
      "c:\\users\\radio_pc\\.conda\\envs\\bml3.6\\lib\\site-packages\\ipykernel_launcher.py:5: RuntimeWarning: divide by zero encountered in log\n",
      "  \"\"\"\n",
      "c:\\users\\radio_pc\\.conda\\envs\\bml3.6\\lib\\site-packages\\ipykernel_launcher.py:5: RuntimeWarning: invalid value encountered in log\n",
      "  \"\"\"\n"
     ]
    },
    {
     "name": "stdout",
     "output_type": "stream",
     "text": [
      "RMSLE: inf\n",
      "R2 value: -10.4809\n",
      "RMSLE: inf\n",
      "R2 value: -4.9610\n"
     ]
    },
    {
     "name": "stderr",
     "output_type": "stream",
     "text": [
      "c:\\users\\radio_pc\\.conda\\envs\\bml3.6\\lib\\site-packages\\ipykernel_launcher.py:5: RuntimeWarning: divide by zero encountered in log\n",
      "  \"\"\"\n",
      "c:\\users\\radio_pc\\.conda\\envs\\bml3.6\\lib\\site-packages\\ipykernel_launcher.py:5: RuntimeWarning: invalid value encountered in log\n",
      "  \"\"\"\n",
      "c:\\users\\radio_pc\\.conda\\envs\\bml3.6\\lib\\site-packages\\ipykernel_launcher.py:5: RuntimeWarning: divide by zero encountered in log\n",
      "  \"\"\"\n",
      "c:\\users\\radio_pc\\.conda\\envs\\bml3.6\\lib\\site-packages\\ipykernel_launcher.py:5: RuntimeWarning: invalid value encountered in log\n",
      "  \"\"\"\n"
     ]
    },
    {
     "name": "stdout",
     "output_type": "stream",
     "text": [
      "RMSLE: inf\n",
      "R2 value: -10.4846\n",
      "RMSLE: inf\n",
      "R2 value: -4.9347\n"
     ]
    },
    {
     "name": "stderr",
     "output_type": "stream",
     "text": [
      "c:\\users\\radio_pc\\.conda\\envs\\bml3.6\\lib\\site-packages\\ipykernel_launcher.py:5: RuntimeWarning: divide by zero encountered in log\n",
      "  \"\"\"\n",
      "c:\\users\\radio_pc\\.conda\\envs\\bml3.6\\lib\\site-packages\\ipykernel_launcher.py:5: RuntimeWarning: invalid value encountered in log\n",
      "  \"\"\"\n",
      "c:\\users\\radio_pc\\.conda\\envs\\bml3.6\\lib\\site-packages\\ipykernel_launcher.py:5: RuntimeWarning: divide by zero encountered in log\n",
      "  \"\"\"\n",
      "c:\\users\\radio_pc\\.conda\\envs\\bml3.6\\lib\\site-packages\\ipykernel_launcher.py:5: RuntimeWarning: invalid value encountered in log\n",
      "  \"\"\"\n"
     ]
    },
    {
     "name": "stdout",
     "output_type": "stream",
     "text": [
      "RMSLE: inf\n",
      "R2 value: -10.4885\n",
      "RMSLE: inf\n",
      "R2 value: -4.9095\n"
     ]
    },
    {
     "name": "stderr",
     "output_type": "stream",
     "text": [
      "c:\\users\\radio_pc\\.conda\\envs\\bml3.6\\lib\\site-packages\\ipykernel_launcher.py:5: RuntimeWarning: divide by zero encountered in log\n",
      "  \"\"\"\n",
      "c:\\users\\radio_pc\\.conda\\envs\\bml3.6\\lib\\site-packages\\ipykernel_launcher.py:5: RuntimeWarning: invalid value encountered in log\n",
      "  \"\"\"\n",
      "c:\\users\\radio_pc\\.conda\\envs\\bml3.6\\lib\\site-packages\\ipykernel_launcher.py:5: RuntimeWarning: divide by zero encountered in log\n",
      "  \"\"\"\n",
      "c:\\users\\radio_pc\\.conda\\envs\\bml3.6\\lib\\site-packages\\ipykernel_launcher.py:5: RuntimeWarning: invalid value encountered in log\n",
      "  \"\"\"\n"
     ]
    },
    {
     "name": "stdout",
     "output_type": "stream",
     "text": [
      "RMSLE: inf\n",
      "R2 value: -10.4927\n",
      "RMSLE: inf\n",
      "R2 value: -4.8854\n"
     ]
    },
    {
     "name": "stderr",
     "output_type": "stream",
     "text": [
      "c:\\users\\radio_pc\\.conda\\envs\\bml3.6\\lib\\site-packages\\ipykernel_launcher.py:5: RuntimeWarning: divide by zero encountered in log\n",
      "  \"\"\"\n",
      "c:\\users\\radio_pc\\.conda\\envs\\bml3.6\\lib\\site-packages\\ipykernel_launcher.py:5: RuntimeWarning: invalid value encountered in log\n",
      "  \"\"\"\n",
      "c:\\users\\radio_pc\\.conda\\envs\\bml3.6\\lib\\site-packages\\ipykernel_launcher.py:5: RuntimeWarning: divide by zero encountered in log\n",
      "  \"\"\"\n",
      "c:\\users\\radio_pc\\.conda\\envs\\bml3.6\\lib\\site-packages\\ipykernel_launcher.py:5: RuntimeWarning: invalid value encountered in log\n",
      "  \"\"\"\n"
     ]
    },
    {
     "name": "stdout",
     "output_type": "stream",
     "text": [
      "RMSLE: inf\n",
      "R2 value: -10.4971\n",
      "RMSLE: inf\n",
      "R2 value: -4.8626\n"
     ]
    },
    {
     "name": "stderr",
     "output_type": "stream",
     "text": [
      "c:\\users\\radio_pc\\.conda\\envs\\bml3.6\\lib\\site-packages\\ipykernel_launcher.py:5: RuntimeWarning: divide by zero encountered in log\n",
      "  \"\"\"\n",
      "c:\\users\\radio_pc\\.conda\\envs\\bml3.6\\lib\\site-packages\\ipykernel_launcher.py:5: RuntimeWarning: invalid value encountered in log\n",
      "  \"\"\"\n",
      "c:\\users\\radio_pc\\.conda\\envs\\bml3.6\\lib\\site-packages\\ipykernel_launcher.py:5: RuntimeWarning: divide by zero encountered in log\n",
      "  \"\"\"\n",
      "c:\\users\\radio_pc\\.conda\\envs\\bml3.6\\lib\\site-packages\\ipykernel_launcher.py:5: RuntimeWarning: invalid value encountered in log\n",
      "  \"\"\"\n"
     ]
    },
    {
     "name": "stdout",
     "output_type": "stream",
     "text": [
      "RMSLE: inf\n",
      "R2 value: -10.5017\n",
      "RMSLE: inf\n",
      "R2 value: -4.8410\n"
     ]
    },
    {
     "name": "stderr",
     "output_type": "stream",
     "text": [
      "c:\\users\\radio_pc\\.conda\\envs\\bml3.6\\lib\\site-packages\\ipykernel_launcher.py:5: RuntimeWarning: divide by zero encountered in log\n",
      "  \"\"\"\n",
      "c:\\users\\radio_pc\\.conda\\envs\\bml3.6\\lib\\site-packages\\ipykernel_launcher.py:5: RuntimeWarning: invalid value encountered in log\n",
      "  \"\"\"\n",
      "c:\\users\\radio_pc\\.conda\\envs\\bml3.6\\lib\\site-packages\\ipykernel_launcher.py:5: RuntimeWarning: divide by zero encountered in log\n",
      "  \"\"\"\n",
      "c:\\users\\radio_pc\\.conda\\envs\\bml3.6\\lib\\site-packages\\ipykernel_launcher.py:5: RuntimeWarning: invalid value encountered in log\n",
      "  \"\"\"\n"
     ]
    },
    {
     "name": "stdout",
     "output_type": "stream",
     "text": [
      "RMSLE: inf\n",
      "R2 value: -10.5067\n",
      "RMSLE: inf\n",
      "R2 value: -4.8208\n"
     ]
    },
    {
     "name": "stderr",
     "output_type": "stream",
     "text": [
      "c:\\users\\radio_pc\\.conda\\envs\\bml3.6\\lib\\site-packages\\ipykernel_launcher.py:5: RuntimeWarning: divide by zero encountered in log\n",
      "  \"\"\"\n",
      "c:\\users\\radio_pc\\.conda\\envs\\bml3.6\\lib\\site-packages\\ipykernel_launcher.py:5: RuntimeWarning: invalid value encountered in log\n",
      "  \"\"\"\n",
      "c:\\users\\radio_pc\\.conda\\envs\\bml3.6\\lib\\site-packages\\ipykernel_launcher.py:5: RuntimeWarning: divide by zero encountered in log\n",
      "  \"\"\"\n",
      "c:\\users\\radio_pc\\.conda\\envs\\bml3.6\\lib\\site-packages\\ipykernel_launcher.py:5: RuntimeWarning: invalid value encountered in log\n",
      "  \"\"\"\n"
     ]
    },
    {
     "name": "stdout",
     "output_type": "stream",
     "text": [
      "RMSLE: inf\n",
      "R2 value: -10.5119\n",
      "RMSLE: inf\n",
      "R2 value: -4.8021\n"
     ]
    },
    {
     "name": "stderr",
     "output_type": "stream",
     "text": [
      "c:\\users\\radio_pc\\.conda\\envs\\bml3.6\\lib\\site-packages\\ipykernel_launcher.py:5: RuntimeWarning: divide by zero encountered in log\n",
      "  \"\"\"\n",
      "c:\\users\\radio_pc\\.conda\\envs\\bml3.6\\lib\\site-packages\\ipykernel_launcher.py:5: RuntimeWarning: invalid value encountered in log\n",
      "  \"\"\"\n",
      "c:\\users\\radio_pc\\.conda\\envs\\bml3.6\\lib\\site-packages\\ipykernel_launcher.py:5: RuntimeWarning: divide by zero encountered in log\n",
      "  \"\"\"\n",
      "c:\\users\\radio_pc\\.conda\\envs\\bml3.6\\lib\\site-packages\\ipykernel_launcher.py:5: RuntimeWarning: invalid value encountered in log\n",
      "  \"\"\"\n"
     ]
    },
    {
     "name": "stdout",
     "output_type": "stream",
     "text": [
      "RMSLE: inf\n",
      "R2 value: -10.5174\n",
      "RMSLE: inf\n",
      "R2 value: -4.7849\n"
     ]
    },
    {
     "name": "stderr",
     "output_type": "stream",
     "text": [
      "c:\\users\\radio_pc\\.conda\\envs\\bml3.6\\lib\\site-packages\\ipykernel_launcher.py:5: RuntimeWarning: divide by zero encountered in log\n",
      "  \"\"\"\n",
      "c:\\users\\radio_pc\\.conda\\envs\\bml3.6\\lib\\site-packages\\ipykernel_launcher.py:5: RuntimeWarning: invalid value encountered in log\n",
      "  \"\"\"\n",
      "c:\\users\\radio_pc\\.conda\\envs\\bml3.6\\lib\\site-packages\\ipykernel_launcher.py:5: RuntimeWarning: divide by zero encountered in log\n",
      "  \"\"\"\n",
      "c:\\users\\radio_pc\\.conda\\envs\\bml3.6\\lib\\site-packages\\ipykernel_launcher.py:5: RuntimeWarning: invalid value encountered in log\n",
      "  \"\"\"\n"
     ]
    },
    {
     "name": "stdout",
     "output_type": "stream",
     "text": [
      "RMSLE: inf\n",
      "R2 value: -10.5232\n",
      "RMSLE: inf\n",
      "R2 value: -4.7693\n"
     ]
    },
    {
     "name": "stderr",
     "output_type": "stream",
     "text": [
      "c:\\users\\radio_pc\\.conda\\envs\\bml3.6\\lib\\site-packages\\ipykernel_launcher.py:5: RuntimeWarning: divide by zero encountered in log\n",
      "  \"\"\"\n",
      "c:\\users\\radio_pc\\.conda\\envs\\bml3.6\\lib\\site-packages\\ipykernel_launcher.py:5: RuntimeWarning: invalid value encountered in log\n",
      "  \"\"\"\n",
      "c:\\users\\radio_pc\\.conda\\envs\\bml3.6\\lib\\site-packages\\ipykernel_launcher.py:5: RuntimeWarning: divide by zero encountered in log\n",
      "  \"\"\"\n",
      "c:\\users\\radio_pc\\.conda\\envs\\bml3.6\\lib\\site-packages\\ipykernel_launcher.py:5: RuntimeWarning: invalid value encountered in log\n",
      "  \"\"\"\n"
     ]
    },
    {
     "name": "stdout",
     "output_type": "stream",
     "text": [
      "RMSLE: inf\n",
      "R2 value: -10.5294\n",
      "RMSLE: inf\n",
      "R2 value: -4.7554\n"
     ]
    },
    {
     "name": "stderr",
     "output_type": "stream",
     "text": [
      "c:\\users\\radio_pc\\.conda\\envs\\bml3.6\\lib\\site-packages\\ipykernel_launcher.py:5: RuntimeWarning: divide by zero encountered in log\n",
      "  \"\"\"\n",
      "c:\\users\\radio_pc\\.conda\\envs\\bml3.6\\lib\\site-packages\\ipykernel_launcher.py:5: RuntimeWarning: invalid value encountered in log\n",
      "  \"\"\"\n",
      "c:\\users\\radio_pc\\.conda\\envs\\bml3.6\\lib\\site-packages\\ipykernel_launcher.py:5: RuntimeWarning: divide by zero encountered in log\n",
      "  \"\"\"\n",
      "c:\\users\\radio_pc\\.conda\\envs\\bml3.6\\lib\\site-packages\\ipykernel_launcher.py:5: RuntimeWarning: invalid value encountered in log\n",
      "  \"\"\"\n"
     ]
    },
    {
     "name": "stdout",
     "output_type": "stream",
     "text": [
      "RMSLE: inf\n",
      "R2 value: -10.5359\n",
      "RMSLE: inf\n",
      "R2 value: -4.7432\n"
     ]
    },
    {
     "name": "stderr",
     "output_type": "stream",
     "text": [
      "c:\\users\\radio_pc\\.conda\\envs\\bml3.6\\lib\\site-packages\\ipykernel_launcher.py:5: RuntimeWarning: divide by zero encountered in log\n",
      "  \"\"\"\n",
      "c:\\users\\radio_pc\\.conda\\envs\\bml3.6\\lib\\site-packages\\ipykernel_launcher.py:5: RuntimeWarning: invalid value encountered in log\n",
      "  \"\"\"\n",
      "c:\\users\\radio_pc\\.conda\\envs\\bml3.6\\lib\\site-packages\\ipykernel_launcher.py:5: RuntimeWarning: divide by zero encountered in log\n",
      "  \"\"\"\n",
      "c:\\users\\radio_pc\\.conda\\envs\\bml3.6\\lib\\site-packages\\ipykernel_launcher.py:5: RuntimeWarning: invalid value encountered in log\n",
      "  \"\"\"\n"
     ]
    },
    {
     "name": "stdout",
     "output_type": "stream",
     "text": [
      "RMSLE: inf\n",
      "R2 value: -10.5428\n",
      "RMSLE: inf\n",
      "R2 value: -4.7329\n"
     ]
    },
    {
     "name": "stderr",
     "output_type": "stream",
     "text": [
      "c:\\users\\radio_pc\\.conda\\envs\\bml3.6\\lib\\site-packages\\ipykernel_launcher.py:5: RuntimeWarning: divide by zero encountered in log\n",
      "  \"\"\"\n",
      "c:\\users\\radio_pc\\.conda\\envs\\bml3.6\\lib\\site-packages\\ipykernel_launcher.py:5: RuntimeWarning: invalid value encountered in log\n",
      "  \"\"\"\n",
      "c:\\users\\radio_pc\\.conda\\envs\\bml3.6\\lib\\site-packages\\ipykernel_launcher.py:5: RuntimeWarning: divide by zero encountered in log\n",
      "  \"\"\"\n",
      "c:\\users\\radio_pc\\.conda\\envs\\bml3.6\\lib\\site-packages\\ipykernel_launcher.py:5: RuntimeWarning: invalid value encountered in log\n",
      "  \"\"\"\n"
     ]
    },
    {
     "name": "stdout",
     "output_type": "stream",
     "text": [
      "RMSLE: inf\n",
      "R2 value: -10.5501\n",
      "RMSLE: inf\n",
      "R2 value: -4.7244\n"
     ]
    },
    {
     "name": "stderr",
     "output_type": "stream",
     "text": [
      "c:\\users\\radio_pc\\.conda\\envs\\bml3.6\\lib\\site-packages\\ipykernel_launcher.py:5: RuntimeWarning: divide by zero encountered in log\n",
      "  \"\"\"\n",
      "c:\\users\\radio_pc\\.conda\\envs\\bml3.6\\lib\\site-packages\\ipykernel_launcher.py:5: RuntimeWarning: invalid value encountered in log\n",
      "  \"\"\"\n",
      "c:\\users\\radio_pc\\.conda\\envs\\bml3.6\\lib\\site-packages\\ipykernel_launcher.py:5: RuntimeWarning: divide by zero encountered in log\n",
      "  \"\"\"\n",
      "c:\\users\\radio_pc\\.conda\\envs\\bml3.6\\lib\\site-packages\\ipykernel_launcher.py:5: RuntimeWarning: invalid value encountered in log\n",
      "  \"\"\"\n"
     ]
    },
    {
     "name": "stdout",
     "output_type": "stream",
     "text": [
      "RMSLE: inf\n",
      "R2 value: -10.5578\n",
      "RMSLE: inf\n",
      "R2 value: -4.7179\n"
     ]
    },
    {
     "name": "stderr",
     "output_type": "stream",
     "text": [
      "c:\\users\\radio_pc\\.conda\\envs\\bml3.6\\lib\\site-packages\\ipykernel_launcher.py:5: RuntimeWarning: divide by zero encountered in log\n",
      "  \"\"\"\n",
      "c:\\users\\radio_pc\\.conda\\envs\\bml3.6\\lib\\site-packages\\ipykernel_launcher.py:5: RuntimeWarning: invalid value encountered in log\n",
      "  \"\"\"\n",
      "c:\\users\\radio_pc\\.conda\\envs\\bml3.6\\lib\\site-packages\\ipykernel_launcher.py:5: RuntimeWarning: divide by zero encountered in log\n",
      "  \"\"\"\n",
      "c:\\users\\radio_pc\\.conda\\envs\\bml3.6\\lib\\site-packages\\ipykernel_launcher.py:5: RuntimeWarning: invalid value encountered in log\n",
      "  \"\"\"\n"
     ]
    },
    {
     "name": "stdout",
     "output_type": "stream",
     "text": [
      "RMSLE: inf\n",
      "R2 value: -10.5660\n",
      "RMSLE: inf\n",
      "R2 value: -4.7135\n"
     ]
    },
    {
     "name": "stderr",
     "output_type": "stream",
     "text": [
      "c:\\users\\radio_pc\\.conda\\envs\\bml3.6\\lib\\site-packages\\ipykernel_launcher.py:5: RuntimeWarning: divide by zero encountered in log\n",
      "  \"\"\"\n",
      "c:\\users\\radio_pc\\.conda\\envs\\bml3.6\\lib\\site-packages\\ipykernel_launcher.py:5: RuntimeWarning: invalid value encountered in log\n",
      "  \"\"\"\n",
      "c:\\users\\radio_pc\\.conda\\envs\\bml3.6\\lib\\site-packages\\ipykernel_launcher.py:5: RuntimeWarning: divide by zero encountered in log\n",
      "  \"\"\"\n",
      "c:\\users\\radio_pc\\.conda\\envs\\bml3.6\\lib\\site-packages\\ipykernel_launcher.py:5: RuntimeWarning: invalid value encountered in log\n",
      "  \"\"\"\n"
     ]
    },
    {
     "name": "stdout",
     "output_type": "stream",
     "text": [
      "RMSLE: inf\n",
      "R2 value: -10.5746\n",
      "RMSLE: inf\n",
      "R2 value: -4.7111\n"
     ]
    },
    {
     "name": "stderr",
     "output_type": "stream",
     "text": [
      "c:\\users\\radio_pc\\.conda\\envs\\bml3.6\\lib\\site-packages\\ipykernel_launcher.py:5: RuntimeWarning: divide by zero encountered in log\n",
      "  \"\"\"\n",
      "c:\\users\\radio_pc\\.conda\\envs\\bml3.6\\lib\\site-packages\\ipykernel_launcher.py:5: RuntimeWarning: invalid value encountered in log\n",
      "  \"\"\"\n",
      "c:\\users\\radio_pc\\.conda\\envs\\bml3.6\\lib\\site-packages\\ipykernel_launcher.py:5: RuntimeWarning: divide by zero encountered in log\n",
      "  \"\"\"\n",
      "c:\\users\\radio_pc\\.conda\\envs\\bml3.6\\lib\\site-packages\\ipykernel_launcher.py:5: RuntimeWarning: invalid value encountered in log\n",
      "  \"\"\"\n"
     ]
    },
    {
     "name": "stdout",
     "output_type": "stream",
     "text": [
      "RMSLE: inf\n",
      "R2 value: -10.5837\n",
      "RMSLE: inf\n",
      "R2 value: -4.7109\n"
     ]
    },
    {
     "name": "stderr",
     "output_type": "stream",
     "text": [
      "c:\\users\\radio_pc\\.conda\\envs\\bml3.6\\lib\\site-packages\\ipykernel_launcher.py:5: RuntimeWarning: divide by zero encountered in log\n",
      "  \"\"\"\n",
      "c:\\users\\radio_pc\\.conda\\envs\\bml3.6\\lib\\site-packages\\ipykernel_launcher.py:5: RuntimeWarning: invalid value encountered in log\n",
      "  \"\"\"\n",
      "c:\\users\\radio_pc\\.conda\\envs\\bml3.6\\lib\\site-packages\\ipykernel_launcher.py:5: RuntimeWarning: divide by zero encountered in log\n",
      "  \"\"\"\n",
      "c:\\users\\radio_pc\\.conda\\envs\\bml3.6\\lib\\site-packages\\ipykernel_launcher.py:5: RuntimeWarning: invalid value encountered in log\n",
      "  \"\"\"\n"
     ]
    },
    {
     "name": "stdout",
     "output_type": "stream",
     "text": [
      "RMSLE: inf\n",
      "R2 value: -10.5933\n",
      "RMSLE: inf\n",
      "R2 value: -4.7130\n"
     ]
    },
    {
     "name": "stderr",
     "output_type": "stream",
     "text": [
      "c:\\users\\radio_pc\\.conda\\envs\\bml3.6\\lib\\site-packages\\ipykernel_launcher.py:5: RuntimeWarning: divide by zero encountered in log\n",
      "  \"\"\"\n",
      "c:\\users\\radio_pc\\.conda\\envs\\bml3.6\\lib\\site-packages\\ipykernel_launcher.py:5: RuntimeWarning: invalid value encountered in log\n",
      "  \"\"\"\n",
      "c:\\users\\radio_pc\\.conda\\envs\\bml3.6\\lib\\site-packages\\ipykernel_launcher.py:5: RuntimeWarning: divide by zero encountered in log\n",
      "  \"\"\"\n",
      "c:\\users\\radio_pc\\.conda\\envs\\bml3.6\\lib\\site-packages\\ipykernel_launcher.py:5: RuntimeWarning: invalid value encountered in log\n",
      "  \"\"\"\n"
     ]
    },
    {
     "name": "stdout",
     "output_type": "stream",
     "text": [
      "RMSLE: inf\n",
      "R2 value: -10.6035\n",
      "RMSLE: inf\n",
      "R2 value: -4.7173\n"
     ]
    },
    {
     "name": "stderr",
     "output_type": "stream",
     "text": [
      "c:\\users\\radio_pc\\.conda\\envs\\bml3.6\\lib\\site-packages\\ipykernel_launcher.py:5: RuntimeWarning: divide by zero encountered in log\n",
      "  \"\"\"\n",
      "c:\\users\\radio_pc\\.conda\\envs\\bml3.6\\lib\\site-packages\\ipykernel_launcher.py:5: RuntimeWarning: invalid value encountered in log\n",
      "  \"\"\"\n",
      "c:\\users\\radio_pc\\.conda\\envs\\bml3.6\\lib\\site-packages\\ipykernel_launcher.py:5: RuntimeWarning: divide by zero encountered in log\n",
      "  \"\"\"\n",
      "c:\\users\\radio_pc\\.conda\\envs\\bml3.6\\lib\\site-packages\\ipykernel_launcher.py:5: RuntimeWarning: invalid value encountered in log\n",
      "  \"\"\"\n"
     ]
    },
    {
     "name": "stdout",
     "output_type": "stream",
     "text": [
      "RMSLE: inf\n",
      "R2 value: -10.6142\n",
      "RMSLE: inf\n",
      "R2 value: -4.7240\n"
     ]
    },
    {
     "name": "stderr",
     "output_type": "stream",
     "text": [
      "c:\\users\\radio_pc\\.conda\\envs\\bml3.6\\lib\\site-packages\\ipykernel_launcher.py:5: RuntimeWarning: divide by zero encountered in log\n",
      "  \"\"\"\n",
      "c:\\users\\radio_pc\\.conda\\envs\\bml3.6\\lib\\site-packages\\ipykernel_launcher.py:5: RuntimeWarning: invalid value encountered in log\n",
      "  \"\"\"\n",
      "c:\\users\\radio_pc\\.conda\\envs\\bml3.6\\lib\\site-packages\\ipykernel_launcher.py:5: RuntimeWarning: divide by zero encountered in log\n",
      "  \"\"\"\n",
      "c:\\users\\radio_pc\\.conda\\envs\\bml3.6\\lib\\site-packages\\ipykernel_launcher.py:5: RuntimeWarning: invalid value encountered in log\n",
      "  \"\"\"\n"
     ]
    },
    {
     "name": "stdout",
     "output_type": "stream",
     "text": [
      "RMSLE: inf\n",
      "R2 value: -10.6255\n",
      "RMSLE: inf\n",
      "R2 value: -4.7332\n"
     ]
    },
    {
     "name": "stderr",
     "output_type": "stream",
     "text": [
      "c:\\users\\radio_pc\\.conda\\envs\\bml3.6\\lib\\site-packages\\ipykernel_launcher.py:5: RuntimeWarning: divide by zero encountered in log\n",
      "  \"\"\"\n",
      "c:\\users\\radio_pc\\.conda\\envs\\bml3.6\\lib\\site-packages\\ipykernel_launcher.py:5: RuntimeWarning: invalid value encountered in log\n",
      "  \"\"\"\n",
      "c:\\users\\radio_pc\\.conda\\envs\\bml3.6\\lib\\site-packages\\ipykernel_launcher.py:5: RuntimeWarning: divide by zero encountered in log\n",
      "  \"\"\"\n",
      "c:\\users\\radio_pc\\.conda\\envs\\bml3.6\\lib\\site-packages\\ipykernel_launcher.py:5: RuntimeWarning: invalid value encountered in log\n",
      "  \"\"\"\n"
     ]
    },
    {
     "name": "stdout",
     "output_type": "stream",
     "text": [
      "RMSLE: inf\n",
      "R2 value: -10.6374\n",
      "RMSLE: inf\n",
      "R2 value: -4.7450\n"
     ]
    },
    {
     "name": "stderr",
     "output_type": "stream",
     "text": [
      "c:\\users\\radio_pc\\.conda\\envs\\bml3.6\\lib\\site-packages\\ipykernel_launcher.py:5: RuntimeWarning: divide by zero encountered in log\n",
      "  \"\"\"\n",
      "c:\\users\\radio_pc\\.conda\\envs\\bml3.6\\lib\\site-packages\\ipykernel_launcher.py:5: RuntimeWarning: invalid value encountered in log\n",
      "  \"\"\"\n",
      "c:\\users\\radio_pc\\.conda\\envs\\bml3.6\\lib\\site-packages\\ipykernel_launcher.py:5: RuntimeWarning: divide by zero encountered in log\n",
      "  \"\"\"\n",
      "c:\\users\\radio_pc\\.conda\\envs\\bml3.6\\lib\\site-packages\\ipykernel_launcher.py:5: RuntimeWarning: invalid value encountered in log\n",
      "  \"\"\"\n"
     ]
    },
    {
     "name": "stdout",
     "output_type": "stream",
     "text": [
      "RMSLE: inf\n",
      "R2 value: -10.6499\n",
      "RMSLE: inf\n",
      "R2 value: -4.7593\n"
     ]
    },
    {
     "name": "stderr",
     "output_type": "stream",
     "text": [
      "c:\\users\\radio_pc\\.conda\\envs\\bml3.6\\lib\\site-packages\\ipykernel_launcher.py:5: RuntimeWarning: divide by zero encountered in log\n",
      "  \"\"\"\n",
      "c:\\users\\radio_pc\\.conda\\envs\\bml3.6\\lib\\site-packages\\ipykernel_launcher.py:5: RuntimeWarning: invalid value encountered in log\n",
      "  \"\"\"\n",
      "c:\\users\\radio_pc\\.conda\\envs\\bml3.6\\lib\\site-packages\\ipykernel_launcher.py:5: RuntimeWarning: divide by zero encountered in log\n",
      "  \"\"\"\n",
      "c:\\users\\radio_pc\\.conda\\envs\\bml3.6\\lib\\site-packages\\ipykernel_launcher.py:5: RuntimeWarning: invalid value encountered in log\n",
      "  \"\"\"\n"
     ]
    },
    {
     "name": "stdout",
     "output_type": "stream",
     "text": [
      "RMSLE: inf\n",
      "R2 value: -10.6632\n",
      "RMSLE: inf\n",
      "R2 value: -4.7764\n"
     ]
    },
    {
     "name": "stderr",
     "output_type": "stream",
     "text": [
      "c:\\users\\radio_pc\\.conda\\envs\\bml3.6\\lib\\site-packages\\ipykernel_launcher.py:5: RuntimeWarning: divide by zero encountered in log\n",
      "  \"\"\"\n",
      "c:\\users\\radio_pc\\.conda\\envs\\bml3.6\\lib\\site-packages\\ipykernel_launcher.py:5: RuntimeWarning: invalid value encountered in log\n",
      "  \"\"\"\n",
      "c:\\users\\radio_pc\\.conda\\envs\\bml3.6\\lib\\site-packages\\ipykernel_launcher.py:5: RuntimeWarning: divide by zero encountered in log\n",
      "  \"\"\"\n",
      "c:\\users\\radio_pc\\.conda\\envs\\bml3.6\\lib\\site-packages\\ipykernel_launcher.py:5: RuntimeWarning: invalid value encountered in log\n",
      "  \"\"\"\n"
     ]
    },
    {
     "name": "stdout",
     "output_type": "stream",
     "text": [
      "RMSLE: inf\n",
      "R2 value: -10.6772\n",
      "RMSLE: inf\n",
      "R2 value: -4.7962\n"
     ]
    },
    {
     "name": "stderr",
     "output_type": "stream",
     "text": [
      "c:\\users\\radio_pc\\.conda\\envs\\bml3.6\\lib\\site-packages\\ipykernel_launcher.py:5: RuntimeWarning: divide by zero encountered in log\n",
      "  \"\"\"\n",
      "c:\\users\\radio_pc\\.conda\\envs\\bml3.6\\lib\\site-packages\\ipykernel_launcher.py:5: RuntimeWarning: invalid value encountered in log\n",
      "  \"\"\"\n",
      "c:\\users\\radio_pc\\.conda\\envs\\bml3.6\\lib\\site-packages\\ipykernel_launcher.py:5: RuntimeWarning: divide by zero encountered in log\n",
      "  \"\"\"\n",
      "c:\\users\\radio_pc\\.conda\\envs\\bml3.6\\lib\\site-packages\\ipykernel_launcher.py:5: RuntimeWarning: invalid value encountered in log\n",
      "  \"\"\"\n"
     ]
    },
    {
     "name": "stdout",
     "output_type": "stream",
     "text": [
      "RMSLE: inf\n",
      "R2 value: -10.6919\n",
      "RMSLE: inf\n",
      "R2 value: -4.8189\n"
     ]
    },
    {
     "name": "stderr",
     "output_type": "stream",
     "text": [
      "c:\\users\\radio_pc\\.conda\\envs\\bml3.6\\lib\\site-packages\\ipykernel_launcher.py:5: RuntimeWarning: divide by zero encountered in log\n",
      "  \"\"\"\n",
      "c:\\users\\radio_pc\\.conda\\envs\\bml3.6\\lib\\site-packages\\ipykernel_launcher.py:5: RuntimeWarning: invalid value encountered in log\n",
      "  \"\"\"\n",
      "c:\\users\\radio_pc\\.conda\\envs\\bml3.6\\lib\\site-packages\\ipykernel_launcher.py:5: RuntimeWarning: divide by zero encountered in log\n",
      "  \"\"\"\n",
      "c:\\users\\radio_pc\\.conda\\envs\\bml3.6\\lib\\site-packages\\ipykernel_launcher.py:5: RuntimeWarning: invalid value encountered in log\n",
      "  \"\"\"\n"
     ]
    },
    {
     "name": "stdout",
     "output_type": "stream",
     "text": [
      "RMSLE: inf\n",
      "R2 value: -10.7074\n",
      "RMSLE: inf\n",
      "R2 value: -4.8447\n"
     ]
    },
    {
     "name": "stderr",
     "output_type": "stream",
     "text": [
      "c:\\users\\radio_pc\\.conda\\envs\\bml3.6\\lib\\site-packages\\ipykernel_launcher.py:5: RuntimeWarning: divide by zero encountered in log\n",
      "  \"\"\"\n",
      "c:\\users\\radio_pc\\.conda\\envs\\bml3.6\\lib\\site-packages\\ipykernel_launcher.py:5: RuntimeWarning: invalid value encountered in log\n",
      "  \"\"\"\n",
      "c:\\users\\radio_pc\\.conda\\envs\\bml3.6\\lib\\site-packages\\ipykernel_launcher.py:5: RuntimeWarning: divide by zero encountered in log\n",
      "  \"\"\"\n",
      "c:\\users\\radio_pc\\.conda\\envs\\bml3.6\\lib\\site-packages\\ipykernel_launcher.py:5: RuntimeWarning: invalid value encountered in log\n",
      "  \"\"\"\n"
     ]
    },
    {
     "name": "stdout",
     "output_type": "stream",
     "text": [
      "RMSLE: inf\n",
      "R2 value: -10.7237\n",
      "RMSLE: inf\n",
      "R2 value: -4.8735\n"
     ]
    },
    {
     "name": "stderr",
     "output_type": "stream",
     "text": [
      "c:\\users\\radio_pc\\.conda\\envs\\bml3.6\\lib\\site-packages\\ipykernel_launcher.py:5: RuntimeWarning: divide by zero encountered in log\n",
      "  \"\"\"\n",
      "c:\\users\\radio_pc\\.conda\\envs\\bml3.6\\lib\\site-packages\\ipykernel_launcher.py:5: RuntimeWarning: invalid value encountered in log\n",
      "  \"\"\"\n",
      "c:\\users\\radio_pc\\.conda\\envs\\bml3.6\\lib\\site-packages\\ipykernel_launcher.py:5: RuntimeWarning: divide by zero encountered in log\n",
      "  \"\"\"\n",
      "c:\\users\\radio_pc\\.conda\\envs\\bml3.6\\lib\\site-packages\\ipykernel_launcher.py:5: RuntimeWarning: invalid value encountered in log\n",
      "  \"\"\"\n"
     ]
    },
    {
     "name": "stdout",
     "output_type": "stream",
     "text": [
      "RMSLE: inf\n",
      "R2 value: -10.7408\n",
      "RMSLE: inf\n",
      "R2 value: -4.9056\n"
     ]
    },
    {
     "name": "stderr",
     "output_type": "stream",
     "text": [
      "c:\\users\\radio_pc\\.conda\\envs\\bml3.6\\lib\\site-packages\\ipykernel_launcher.py:5: RuntimeWarning: divide by zero encountered in log\n",
      "  \"\"\"\n",
      "c:\\users\\radio_pc\\.conda\\envs\\bml3.6\\lib\\site-packages\\ipykernel_launcher.py:5: RuntimeWarning: invalid value encountered in log\n",
      "  \"\"\"\n",
      "c:\\users\\radio_pc\\.conda\\envs\\bml3.6\\lib\\site-packages\\ipykernel_launcher.py:5: RuntimeWarning: divide by zero encountered in log\n",
      "  \"\"\"\n",
      "c:\\users\\radio_pc\\.conda\\envs\\bml3.6\\lib\\site-packages\\ipykernel_launcher.py:5: RuntimeWarning: invalid value encountered in log\n",
      "  \"\"\"\n"
     ]
    },
    {
     "name": "stdout",
     "output_type": "stream",
     "text": [
      "RMSLE: inf\n",
      "R2 value: -10.7589\n",
      "RMSLE: inf\n",
      "R2 value: -4.9411\n"
     ]
    },
    {
     "name": "stderr",
     "output_type": "stream",
     "text": [
      "c:\\users\\radio_pc\\.conda\\envs\\bml3.6\\lib\\site-packages\\ipykernel_launcher.py:5: RuntimeWarning: divide by zero encountered in log\n",
      "  \"\"\"\n",
      "c:\\users\\radio_pc\\.conda\\envs\\bml3.6\\lib\\site-packages\\ipykernel_launcher.py:5: RuntimeWarning: invalid value encountered in log\n",
      "  \"\"\"\n",
      "c:\\users\\radio_pc\\.conda\\envs\\bml3.6\\lib\\site-packages\\ipykernel_launcher.py:5: RuntimeWarning: divide by zero encountered in log\n",
      "  \"\"\"\n",
      "c:\\users\\radio_pc\\.conda\\envs\\bml3.6\\lib\\site-packages\\ipykernel_launcher.py:5: RuntimeWarning: invalid value encountered in log\n",
      "  \"\"\"\n"
     ]
    },
    {
     "name": "stdout",
     "output_type": "stream",
     "text": [
      "RMSLE: inf\n",
      "R2 value: -10.7779\n",
      "RMSLE: inf\n",
      "R2 value: -4.9800\n"
     ]
    },
    {
     "name": "stderr",
     "output_type": "stream",
     "text": [
      "c:\\users\\radio_pc\\.conda\\envs\\bml3.6\\lib\\site-packages\\ipykernel_launcher.py:5: RuntimeWarning: divide by zero encountered in log\n",
      "  \"\"\"\n",
      "c:\\users\\radio_pc\\.conda\\envs\\bml3.6\\lib\\site-packages\\ipykernel_launcher.py:5: RuntimeWarning: invalid value encountered in log\n",
      "  \"\"\"\n",
      "c:\\users\\radio_pc\\.conda\\envs\\bml3.6\\lib\\site-packages\\ipykernel_launcher.py:5: RuntimeWarning: divide by zero encountered in log\n",
      "  \"\"\"\n",
      "c:\\users\\radio_pc\\.conda\\envs\\bml3.6\\lib\\site-packages\\ipykernel_launcher.py:5: RuntimeWarning: invalid value encountered in log\n",
      "  \"\"\"\n"
     ]
    },
    {
     "name": "stdout",
     "output_type": "stream",
     "text": [
      "RMSLE: inf\n",
      "R2 value: -10.7979\n",
      "RMSLE: inf\n",
      "R2 value: -5.0225\n"
     ]
    },
    {
     "name": "stderr",
     "output_type": "stream",
     "text": [
      "c:\\users\\radio_pc\\.conda\\envs\\bml3.6\\lib\\site-packages\\ipykernel_launcher.py:5: RuntimeWarning: divide by zero encountered in log\n",
      "  \"\"\"\n",
      "c:\\users\\radio_pc\\.conda\\envs\\bml3.6\\lib\\site-packages\\ipykernel_launcher.py:5: RuntimeWarning: invalid value encountered in log\n",
      "  \"\"\"\n",
      "c:\\users\\radio_pc\\.conda\\envs\\bml3.6\\lib\\site-packages\\ipykernel_launcher.py:5: RuntimeWarning: divide by zero encountered in log\n",
      "  \"\"\"\n",
      "c:\\users\\radio_pc\\.conda\\envs\\bml3.6\\lib\\site-packages\\ipykernel_launcher.py:5: RuntimeWarning: invalid value encountered in log\n",
      "  \"\"\"\n"
     ]
    },
    {
     "name": "stdout",
     "output_type": "stream",
     "text": [
      "RMSLE: inf\n",
      "R2 value: -10.8189\n",
      "RMSLE: inf\n",
      "R2 value: -5.0688\n"
     ]
    },
    {
     "name": "stderr",
     "output_type": "stream",
     "text": [
      "c:\\users\\radio_pc\\.conda\\envs\\bml3.6\\lib\\site-packages\\ipykernel_launcher.py:5: RuntimeWarning: divide by zero encountered in log\n",
      "  \"\"\"\n",
      "c:\\users\\radio_pc\\.conda\\envs\\bml3.6\\lib\\site-packages\\ipykernel_launcher.py:5: RuntimeWarning: invalid value encountered in log\n",
      "  \"\"\"\n",
      "c:\\users\\radio_pc\\.conda\\envs\\bml3.6\\lib\\site-packages\\ipykernel_launcher.py:5: RuntimeWarning: divide by zero encountered in log\n",
      "  \"\"\"\n",
      "c:\\users\\radio_pc\\.conda\\envs\\bml3.6\\lib\\site-packages\\ipykernel_launcher.py:5: RuntimeWarning: invalid value encountered in log\n",
      "  \"\"\"\n"
     ]
    },
    {
     "name": "stdout",
     "output_type": "stream",
     "text": [
      "RMSLE: inf\n",
      "R2 value: -10.8410\n",
      "RMSLE: inf\n",
      "R2 value: -5.1191\n"
     ]
    },
    {
     "name": "stderr",
     "output_type": "stream",
     "text": [
      "c:\\users\\radio_pc\\.conda\\envs\\bml3.6\\lib\\site-packages\\ipykernel_launcher.py:5: RuntimeWarning: divide by zero encountered in log\n",
      "  \"\"\"\n",
      "c:\\users\\radio_pc\\.conda\\envs\\bml3.6\\lib\\site-packages\\ipykernel_launcher.py:5: RuntimeWarning: invalid value encountered in log\n",
      "  \"\"\"\n",
      "c:\\users\\radio_pc\\.conda\\envs\\bml3.6\\lib\\site-packages\\ipykernel_launcher.py:5: RuntimeWarning: divide by zero encountered in log\n",
      "  \"\"\"\n",
      "c:\\users\\radio_pc\\.conda\\envs\\bml3.6\\lib\\site-packages\\ipykernel_launcher.py:5: RuntimeWarning: invalid value encountered in log\n",
      "  \"\"\"\n"
     ]
    },
    {
     "name": "stdout",
     "output_type": "stream",
     "text": [
      "RMSLE: inf\n",
      "R2 value: -10.8642\n",
      "RMSLE: inf\n",
      "R2 value: -5.1735\n"
     ]
    },
    {
     "name": "stderr",
     "output_type": "stream",
     "text": [
      "c:\\users\\radio_pc\\.conda\\envs\\bml3.6\\lib\\site-packages\\ipykernel_launcher.py:5: RuntimeWarning: divide by zero encountered in log\n",
      "  \"\"\"\n",
      "c:\\users\\radio_pc\\.conda\\envs\\bml3.6\\lib\\site-packages\\ipykernel_launcher.py:5: RuntimeWarning: invalid value encountered in log\n",
      "  \"\"\"\n",
      "c:\\users\\radio_pc\\.conda\\envs\\bml3.6\\lib\\site-packages\\ipykernel_launcher.py:5: RuntimeWarning: divide by zero encountered in log\n",
      "  \"\"\"\n",
      "c:\\users\\radio_pc\\.conda\\envs\\bml3.6\\lib\\site-packages\\ipykernel_launcher.py:5: RuntimeWarning: invalid value encountered in log\n",
      "  \"\"\"\n"
     ]
    },
    {
     "name": "stdout",
     "output_type": "stream",
     "text": [
      "RMSLE: inf\n",
      "R2 value: -10.8885\n",
      "RMSLE: inf\n",
      "R2 value: -5.2322\n"
     ]
    },
    {
     "name": "stderr",
     "output_type": "stream",
     "text": [
      "c:\\users\\radio_pc\\.conda\\envs\\bml3.6\\lib\\site-packages\\ipykernel_launcher.py:5: RuntimeWarning: divide by zero encountered in log\n",
      "  \"\"\"\n",
      "c:\\users\\radio_pc\\.conda\\envs\\bml3.6\\lib\\site-packages\\ipykernel_launcher.py:5: RuntimeWarning: invalid value encountered in log\n",
      "  \"\"\"\n",
      "c:\\users\\radio_pc\\.conda\\envs\\bml3.6\\lib\\site-packages\\ipykernel_launcher.py:5: RuntimeWarning: divide by zero encountered in log\n",
      "  \"\"\"\n",
      "c:\\users\\radio_pc\\.conda\\envs\\bml3.6\\lib\\site-packages\\ipykernel_launcher.py:5: RuntimeWarning: invalid value encountered in log\n",
      "  \"\"\"\n"
     ]
    },
    {
     "name": "stdout",
     "output_type": "stream",
     "text": [
      "RMSLE: inf\n",
      "R2 value: -10.9141\n",
      "RMSLE: inf\n",
      "R2 value: -5.2953\n"
     ]
    },
    {
     "name": "stderr",
     "output_type": "stream",
     "text": [
      "c:\\users\\radio_pc\\.conda\\envs\\bml3.6\\lib\\site-packages\\ipykernel_launcher.py:5: RuntimeWarning: divide by zero encountered in log\n",
      "  \"\"\"\n",
      "c:\\users\\radio_pc\\.conda\\envs\\bml3.6\\lib\\site-packages\\ipykernel_launcher.py:5: RuntimeWarning: invalid value encountered in log\n",
      "  \"\"\"\n",
      "c:\\users\\radio_pc\\.conda\\envs\\bml3.6\\lib\\site-packages\\ipykernel_launcher.py:5: RuntimeWarning: divide by zero encountered in log\n",
      "  \"\"\"\n",
      "c:\\users\\radio_pc\\.conda\\envs\\bml3.6\\lib\\site-packages\\ipykernel_launcher.py:5: RuntimeWarning: invalid value encountered in log\n",
      "  \"\"\"\n"
     ]
    },
    {
     "name": "stdout",
     "output_type": "stream",
     "text": [
      "RMSLE: inf\n",
      "R2 value: -10.9409\n",
      "RMSLE: inf\n",
      "R2 value: -5.3632\n"
     ]
    },
    {
     "name": "stderr",
     "output_type": "stream",
     "text": [
      "c:\\users\\radio_pc\\.conda\\envs\\bml3.6\\lib\\site-packages\\ipykernel_launcher.py:5: RuntimeWarning: divide by zero encountered in log\n",
      "  \"\"\"\n",
      "c:\\users\\radio_pc\\.conda\\envs\\bml3.6\\lib\\site-packages\\ipykernel_launcher.py:5: RuntimeWarning: invalid value encountered in log\n",
      "  \"\"\"\n",
      "c:\\users\\radio_pc\\.conda\\envs\\bml3.6\\lib\\site-packages\\ipykernel_launcher.py:5: RuntimeWarning: divide by zero encountered in log\n",
      "  \"\"\"\n",
      "c:\\users\\radio_pc\\.conda\\envs\\bml3.6\\lib\\site-packages\\ipykernel_launcher.py:5: RuntimeWarning: invalid value encountered in log\n",
      "  \"\"\"\n"
     ]
    },
    {
     "name": "stdout",
     "output_type": "stream",
     "text": [
      "RMSLE: inf\n",
      "R2 value: -10.9690\n",
      "RMSLE: inf\n",
      "R2 value: -5.4359\n"
     ]
    },
    {
     "name": "stderr",
     "output_type": "stream",
     "text": [
      "c:\\users\\radio_pc\\.conda\\envs\\bml3.6\\lib\\site-packages\\ipykernel_launcher.py:5: RuntimeWarning: divide by zero encountered in log\n",
      "  \"\"\"\n",
      "c:\\users\\radio_pc\\.conda\\envs\\bml3.6\\lib\\site-packages\\ipykernel_launcher.py:5: RuntimeWarning: invalid value encountered in log\n",
      "  \"\"\"\n",
      "c:\\users\\radio_pc\\.conda\\envs\\bml3.6\\lib\\site-packages\\ipykernel_launcher.py:5: RuntimeWarning: divide by zero encountered in log\n",
      "  \"\"\"\n",
      "c:\\users\\radio_pc\\.conda\\envs\\bml3.6\\lib\\site-packages\\ipykernel_launcher.py:5: RuntimeWarning: invalid value encountered in log\n",
      "  \"\"\"\n"
     ]
    },
    {
     "name": "stdout",
     "output_type": "stream",
     "text": [
      "RMSLE: inf\n",
      "R2 value: -10.9986\n",
      "RMSLE: inf\n",
      "R2 value: -5.5138\n"
     ]
    },
    {
     "name": "stderr",
     "output_type": "stream",
     "text": [
      "c:\\users\\radio_pc\\.conda\\envs\\bml3.6\\lib\\site-packages\\ipykernel_launcher.py:5: RuntimeWarning: divide by zero encountered in log\n",
      "  \"\"\"\n",
      "c:\\users\\radio_pc\\.conda\\envs\\bml3.6\\lib\\site-packages\\ipykernel_launcher.py:5: RuntimeWarning: invalid value encountered in log\n",
      "  \"\"\"\n",
      "c:\\users\\radio_pc\\.conda\\envs\\bml3.6\\lib\\site-packages\\ipykernel_launcher.py:5: RuntimeWarning: divide by zero encountered in log\n",
      "  \"\"\"\n",
      "c:\\users\\radio_pc\\.conda\\envs\\bml3.6\\lib\\site-packages\\ipykernel_launcher.py:5: RuntimeWarning: invalid value encountered in log\n",
      "  \"\"\"\n"
     ]
    },
    {
     "name": "stdout",
     "output_type": "stream",
     "text": [
      "RMSLE: inf\n",
      "R2 value: -11.0295\n",
      "RMSLE: inf\n",
      "R2 value: -5.5970\n"
     ]
    },
    {
     "name": "stderr",
     "output_type": "stream",
     "text": [
      "c:\\users\\radio_pc\\.conda\\envs\\bml3.6\\lib\\site-packages\\ipykernel_launcher.py:5: RuntimeWarning: divide by zero encountered in log\n",
      "  \"\"\"\n",
      "c:\\users\\radio_pc\\.conda\\envs\\bml3.6\\lib\\site-packages\\ipykernel_launcher.py:5: RuntimeWarning: invalid value encountered in log\n",
      "  \"\"\"\n",
      "c:\\users\\radio_pc\\.conda\\envs\\bml3.6\\lib\\site-packages\\ipykernel_launcher.py:5: RuntimeWarning: divide by zero encountered in log\n",
      "  \"\"\"\n",
      "c:\\users\\radio_pc\\.conda\\envs\\bml3.6\\lib\\site-packages\\ipykernel_launcher.py:5: RuntimeWarning: invalid value encountered in log\n",
      "  \"\"\"\n"
     ]
    },
    {
     "name": "stdout",
     "output_type": "stream",
     "text": [
      "RMSLE: inf\n",
      "R2 value: -11.0620\n",
      "RMSLE: inf\n",
      "R2 value: -5.6858\n"
     ]
    },
    {
     "name": "stderr",
     "output_type": "stream",
     "text": [
      "c:\\users\\radio_pc\\.conda\\envs\\bml3.6\\lib\\site-packages\\ipykernel_launcher.py:5: RuntimeWarning: divide by zero encountered in log\n",
      "  \"\"\"\n",
      "c:\\users\\radio_pc\\.conda\\envs\\bml3.6\\lib\\site-packages\\ipykernel_launcher.py:5: RuntimeWarning: invalid value encountered in log\n",
      "  \"\"\"\n",
      "c:\\users\\radio_pc\\.conda\\envs\\bml3.6\\lib\\site-packages\\ipykernel_launcher.py:5: RuntimeWarning: divide by zero encountered in log\n",
      "  \"\"\"\n",
      "c:\\users\\radio_pc\\.conda\\envs\\bml3.6\\lib\\site-packages\\ipykernel_launcher.py:5: RuntimeWarning: invalid value encountered in log\n",
      "  \"\"\"\n"
     ]
    },
    {
     "name": "stdout",
     "output_type": "stream",
     "text": [
      "RMSLE: inf\n",
      "R2 value: -11.0960\n",
      "RMSLE: inf\n",
      "R2 value: -5.7804\n"
     ]
    },
    {
     "name": "stderr",
     "output_type": "stream",
     "text": [
      "c:\\users\\radio_pc\\.conda\\envs\\bml3.6\\lib\\site-packages\\ipykernel_launcher.py:5: RuntimeWarning: divide by zero encountered in log\n",
      "  \"\"\"\n",
      "c:\\users\\radio_pc\\.conda\\envs\\bml3.6\\lib\\site-packages\\ipykernel_launcher.py:5: RuntimeWarning: invalid value encountered in log\n",
      "  \"\"\"\n",
      "c:\\users\\radio_pc\\.conda\\envs\\bml3.6\\lib\\site-packages\\ipykernel_launcher.py:5: RuntimeWarning: divide by zero encountered in log\n",
      "  \"\"\"\n",
      "c:\\users\\radio_pc\\.conda\\envs\\bml3.6\\lib\\site-packages\\ipykernel_launcher.py:5: RuntimeWarning: invalid value encountered in log\n",
      "  \"\"\"\n"
     ]
    },
    {
     "name": "stdout",
     "output_type": "stream",
     "text": [
      "RMSLE: inf\n",
      "R2 value: -11.1316\n",
      "RMSLE: inf\n",
      "R2 value: -5.8812\n"
     ]
    },
    {
     "name": "stderr",
     "output_type": "stream",
     "text": [
      "c:\\users\\radio_pc\\.conda\\envs\\bml3.6\\lib\\site-packages\\ipykernel_launcher.py:5: RuntimeWarning: divide by zero encountered in log\n",
      "  \"\"\"\n",
      "c:\\users\\radio_pc\\.conda\\envs\\bml3.6\\lib\\site-packages\\ipykernel_launcher.py:5: RuntimeWarning: invalid value encountered in log\n",
      "  \"\"\"\n",
      "c:\\users\\radio_pc\\.conda\\envs\\bml3.6\\lib\\site-packages\\ipykernel_launcher.py:5: RuntimeWarning: divide by zero encountered in log\n",
      "  \"\"\"\n",
      "c:\\users\\radio_pc\\.conda\\envs\\bml3.6\\lib\\site-packages\\ipykernel_launcher.py:5: RuntimeWarning: invalid value encountered in log\n",
      "  \"\"\"\n"
     ]
    },
    {
     "name": "stdout",
     "output_type": "stream",
     "text": [
      "RMSLE: inf\n",
      "R2 value: -11.1689\n",
      "RMSLE: inf\n",
      "R2 value: -5.9883\n"
     ]
    },
    {
     "name": "stderr",
     "output_type": "stream",
     "text": [
      "c:\\users\\radio_pc\\.conda\\envs\\bml3.6\\lib\\site-packages\\ipykernel_launcher.py:5: RuntimeWarning: divide by zero encountered in log\n",
      "  \"\"\"\n",
      "c:\\users\\radio_pc\\.conda\\envs\\bml3.6\\lib\\site-packages\\ipykernel_launcher.py:5: RuntimeWarning: invalid value encountered in log\n",
      "  \"\"\"\n",
      "c:\\users\\radio_pc\\.conda\\envs\\bml3.6\\lib\\site-packages\\ipykernel_launcher.py:5: RuntimeWarning: divide by zero encountered in log\n",
      "  \"\"\"\n",
      "c:\\users\\radio_pc\\.conda\\envs\\bml3.6\\lib\\site-packages\\ipykernel_launcher.py:5: RuntimeWarning: invalid value encountered in log\n",
      "  \"\"\"\n"
     ]
    },
    {
     "name": "stdout",
     "output_type": "stream",
     "text": [
      "RMSLE: inf\n",
      "R2 value: -11.2080\n",
      "RMSLE: inf\n",
      "R2 value: -6.1021\n"
     ]
    },
    {
     "name": "stderr",
     "output_type": "stream",
     "text": [
      "c:\\users\\radio_pc\\.conda\\envs\\bml3.6\\lib\\site-packages\\ipykernel_launcher.py:5: RuntimeWarning: divide by zero encountered in log\n",
      "  \"\"\"\n",
      "c:\\users\\radio_pc\\.conda\\envs\\bml3.6\\lib\\site-packages\\ipykernel_launcher.py:5: RuntimeWarning: invalid value encountered in log\n",
      "  \"\"\"\n",
      "c:\\users\\radio_pc\\.conda\\envs\\bml3.6\\lib\\site-packages\\ipykernel_launcher.py:5: RuntimeWarning: divide by zero encountered in log\n",
      "  \"\"\"\n",
      "c:\\users\\radio_pc\\.conda\\envs\\bml3.6\\lib\\site-packages\\ipykernel_launcher.py:5: RuntimeWarning: invalid value encountered in log\n",
      "  \"\"\"\n"
     ]
    },
    {
     "name": "stdout",
     "output_type": "stream",
     "text": [
      "RMSLE: inf\n",
      "R2 value: -11.2488\n",
      "RMSLE: inf\n",
      "R2 value: -6.2228\n"
     ]
    },
    {
     "name": "stderr",
     "output_type": "stream",
     "text": [
      "c:\\users\\radio_pc\\.conda\\envs\\bml3.6\\lib\\site-packages\\ipykernel_launcher.py:5: RuntimeWarning: divide by zero encountered in log\n",
      "  \"\"\"\n",
      "c:\\users\\radio_pc\\.conda\\envs\\bml3.6\\lib\\site-packages\\ipykernel_launcher.py:5: RuntimeWarning: invalid value encountered in log\n",
      "  \"\"\"\n",
      "c:\\users\\radio_pc\\.conda\\envs\\bml3.6\\lib\\site-packages\\ipykernel_launcher.py:5: RuntimeWarning: divide by zero encountered in log\n",
      "  \"\"\"\n",
      "c:\\users\\radio_pc\\.conda\\envs\\bml3.6\\lib\\site-packages\\ipykernel_launcher.py:5: RuntimeWarning: invalid value encountered in log\n",
      "  \"\"\"\n"
     ]
    },
    {
     "name": "stdout",
     "output_type": "stream",
     "text": [
      "RMSLE: inf\n",
      "R2 value: -11.2916\n",
      "RMSLE: inf\n",
      "R2 value: -6.3506\n"
     ]
    },
    {
     "name": "stderr",
     "output_type": "stream",
     "text": [
      "c:\\users\\radio_pc\\.conda\\envs\\bml3.6\\lib\\site-packages\\ipykernel_launcher.py:5: RuntimeWarning: divide by zero encountered in log\n",
      "  \"\"\"\n",
      "c:\\users\\radio_pc\\.conda\\envs\\bml3.6\\lib\\site-packages\\ipykernel_launcher.py:5: RuntimeWarning: invalid value encountered in log\n",
      "  \"\"\"\n",
      "c:\\users\\radio_pc\\.conda\\envs\\bml3.6\\lib\\site-packages\\ipykernel_launcher.py:5: RuntimeWarning: divide by zero encountered in log\n",
      "  \"\"\"\n",
      "c:\\users\\radio_pc\\.conda\\envs\\bml3.6\\lib\\site-packages\\ipykernel_launcher.py:5: RuntimeWarning: invalid value encountered in log\n",
      "  \"\"\"\n"
     ]
    },
    {
     "name": "stdout",
     "output_type": "stream",
     "text": [
      "RMSLE: inf\n",
      "R2 value: -11.3363\n",
      "RMSLE: inf\n",
      "R2 value: -6.4859\n"
     ]
    },
    {
     "name": "stderr",
     "output_type": "stream",
     "text": [
      "c:\\users\\radio_pc\\.conda\\envs\\bml3.6\\lib\\site-packages\\ipykernel_launcher.py:5: RuntimeWarning: divide by zero encountered in log\n",
      "  \"\"\"\n",
      "c:\\users\\radio_pc\\.conda\\envs\\bml3.6\\lib\\site-packages\\ipykernel_launcher.py:5: RuntimeWarning: invalid value encountered in log\n",
      "  \"\"\"\n",
      "c:\\users\\radio_pc\\.conda\\envs\\bml3.6\\lib\\site-packages\\ipykernel_launcher.py:5: RuntimeWarning: divide by zero encountered in log\n",
      "  \"\"\"\n",
      "c:\\users\\radio_pc\\.conda\\envs\\bml3.6\\lib\\site-packages\\ipykernel_launcher.py:5: RuntimeWarning: invalid value encountered in log\n",
      "  \"\"\"\n"
     ]
    },
    {
     "name": "stdout",
     "output_type": "stream",
     "text": [
      "RMSLE: inf\n",
      "R2 value: -11.3831\n",
      "RMSLE: inf\n",
      "R2 value: -6.6288\n"
     ]
    },
    {
     "name": "stderr",
     "output_type": "stream",
     "text": [
      "c:\\users\\radio_pc\\.conda\\envs\\bml3.6\\lib\\site-packages\\ipykernel_launcher.py:5: RuntimeWarning: divide by zero encountered in log\n",
      "  \"\"\"\n",
      "c:\\users\\radio_pc\\.conda\\envs\\bml3.6\\lib\\site-packages\\ipykernel_launcher.py:5: RuntimeWarning: invalid value encountered in log\n",
      "  \"\"\"\n",
      "c:\\users\\radio_pc\\.conda\\envs\\bml3.6\\lib\\site-packages\\ipykernel_launcher.py:5: RuntimeWarning: divide by zero encountered in log\n",
      "  \"\"\"\n",
      "c:\\users\\radio_pc\\.conda\\envs\\bml3.6\\lib\\site-packages\\ipykernel_launcher.py:5: RuntimeWarning: invalid value encountered in log\n",
      "  \"\"\"\n"
     ]
    },
    {
     "name": "stdout",
     "output_type": "stream",
     "text": [
      "RMSLE: inf\n",
      "R2 value: -11.4320\n",
      "RMSLE: inf\n",
      "R2 value: -6.7798\n"
     ]
    },
    {
     "name": "stderr",
     "output_type": "stream",
     "text": [
      "c:\\users\\radio_pc\\.conda\\envs\\bml3.6\\lib\\site-packages\\ipykernel_launcher.py:5: RuntimeWarning: divide by zero encountered in log\n",
      "  \"\"\"\n",
      "c:\\users\\radio_pc\\.conda\\envs\\bml3.6\\lib\\site-packages\\ipykernel_launcher.py:5: RuntimeWarning: invalid value encountered in log\n",
      "  \"\"\"\n",
      "c:\\users\\radio_pc\\.conda\\envs\\bml3.6\\lib\\site-packages\\ipykernel_launcher.py:5: RuntimeWarning: divide by zero encountered in log\n",
      "  \"\"\"\n",
      "c:\\users\\radio_pc\\.conda\\envs\\bml3.6\\lib\\site-packages\\ipykernel_launcher.py:5: RuntimeWarning: invalid value encountered in log\n",
      "  \"\"\"\n"
     ]
    },
    {
     "name": "stdout",
     "output_type": "stream",
     "text": [
      "RMSLE: inf\n",
      "R2 value: -11.4831\n",
      "RMSLE: inf\n",
      "R2 value: -6.9388\n"
     ]
    },
    {
     "name": "stderr",
     "output_type": "stream",
     "text": [
      "c:\\users\\radio_pc\\.conda\\envs\\bml3.6\\lib\\site-packages\\ipykernel_launcher.py:5: RuntimeWarning: divide by zero encountered in log\n",
      "  \"\"\"\n",
      "c:\\users\\radio_pc\\.conda\\envs\\bml3.6\\lib\\site-packages\\ipykernel_launcher.py:5: RuntimeWarning: invalid value encountered in log\n",
      "  \"\"\"\n",
      "c:\\users\\radio_pc\\.conda\\envs\\bml3.6\\lib\\site-packages\\ipykernel_launcher.py:5: RuntimeWarning: divide by zero encountered in log\n",
      "  \"\"\"\n",
      "c:\\users\\radio_pc\\.conda\\envs\\bml3.6\\lib\\site-packages\\ipykernel_launcher.py:5: RuntimeWarning: invalid value encountered in log\n",
      "  \"\"\"\n"
     ]
    },
    {
     "name": "stdout",
     "output_type": "stream",
     "text": [
      "RMSLE: inf\n",
      "R2 value: -11.5364\n",
      "RMSLE: inf\n",
      "R2 value: -7.1063\n"
     ]
    },
    {
     "name": "stderr",
     "output_type": "stream",
     "text": [
      "c:\\users\\radio_pc\\.conda\\envs\\bml3.6\\lib\\site-packages\\ipykernel_launcher.py:5: RuntimeWarning: divide by zero encountered in log\n",
      "  \"\"\"\n",
      "c:\\users\\radio_pc\\.conda\\envs\\bml3.6\\lib\\site-packages\\ipykernel_launcher.py:5: RuntimeWarning: invalid value encountered in log\n",
      "  \"\"\"\n",
      "c:\\users\\radio_pc\\.conda\\envs\\bml3.6\\lib\\site-packages\\ipykernel_launcher.py:5: RuntimeWarning: divide by zero encountered in log\n",
      "  \"\"\"\n",
      "c:\\users\\radio_pc\\.conda\\envs\\bml3.6\\lib\\site-packages\\ipykernel_launcher.py:5: RuntimeWarning: invalid value encountered in log\n",
      "  \"\"\"\n"
     ]
    },
    {
     "name": "stdout",
     "output_type": "stream",
     "text": [
      "RMSLE: inf\n",
      "R2 value: -11.5922\n",
      "RMSLE: inf\n",
      "R2 value: -7.2824\n"
     ]
    },
    {
     "name": "stderr",
     "output_type": "stream",
     "text": [
      "c:\\users\\radio_pc\\.conda\\envs\\bml3.6\\lib\\site-packages\\ipykernel_launcher.py:5: RuntimeWarning: divide by zero encountered in log\n",
      "  \"\"\"\n",
      "c:\\users\\radio_pc\\.conda\\envs\\bml3.6\\lib\\site-packages\\ipykernel_launcher.py:5: RuntimeWarning: invalid value encountered in log\n",
      "  \"\"\"\n",
      "c:\\users\\radio_pc\\.conda\\envs\\bml3.6\\lib\\site-packages\\ipykernel_launcher.py:5: RuntimeWarning: divide by zero encountered in log\n",
      "  \"\"\"\n",
      "c:\\users\\radio_pc\\.conda\\envs\\bml3.6\\lib\\site-packages\\ipykernel_launcher.py:5: RuntimeWarning: invalid value encountered in log\n",
      "  \"\"\"\n"
     ]
    },
    {
     "name": "stdout",
     "output_type": "stream",
     "text": [
      "RMSLE: inf\n",
      "R2 value: -11.6503\n",
      "RMSLE: inf\n",
      "R2 value: -7.4671\n"
     ]
    },
    {
     "name": "stderr",
     "output_type": "stream",
     "text": [
      "c:\\users\\radio_pc\\.conda\\envs\\bml3.6\\lib\\site-packages\\ipykernel_launcher.py:5: RuntimeWarning: divide by zero encountered in log\n",
      "  \"\"\"\n",
      "c:\\users\\radio_pc\\.conda\\envs\\bml3.6\\lib\\site-packages\\ipykernel_launcher.py:5: RuntimeWarning: invalid value encountered in log\n",
      "  \"\"\"\n",
      "c:\\users\\radio_pc\\.conda\\envs\\bml3.6\\lib\\site-packages\\ipykernel_launcher.py:5: RuntimeWarning: divide by zero encountered in log\n",
      "  \"\"\"\n",
      "c:\\users\\radio_pc\\.conda\\envs\\bml3.6\\lib\\site-packages\\ipykernel_launcher.py:5: RuntimeWarning: invalid value encountered in log\n",
      "  \"\"\"\n"
     ]
    },
    {
     "name": "stdout",
     "output_type": "stream",
     "text": [
      "RMSLE: inf\n",
      "R2 value: -11.7110\n",
      "RMSLE: inf\n",
      "R2 value: -7.6608\n"
     ]
    },
    {
     "name": "stderr",
     "output_type": "stream",
     "text": [
      "c:\\users\\radio_pc\\.conda\\envs\\bml3.6\\lib\\site-packages\\ipykernel_launcher.py:5: RuntimeWarning: divide by zero encountered in log\n",
      "  \"\"\"\n",
      "c:\\users\\radio_pc\\.conda\\envs\\bml3.6\\lib\\site-packages\\ipykernel_launcher.py:5: RuntimeWarning: invalid value encountered in log\n",
      "  \"\"\"\n",
      "c:\\users\\radio_pc\\.conda\\envs\\bml3.6\\lib\\site-packages\\ipykernel_launcher.py:5: RuntimeWarning: divide by zero encountered in log\n",
      "  \"\"\"\n",
      "c:\\users\\radio_pc\\.conda\\envs\\bml3.6\\lib\\site-packages\\ipykernel_launcher.py:5: RuntimeWarning: invalid value encountered in log\n",
      "  \"\"\"\n"
     ]
    },
    {
     "name": "stdout",
     "output_type": "stream",
     "text": [
      "RMSLE: inf\n",
      "R2 value: -11.7744\n",
      "RMSLE: inf\n",
      "R2 value: -7.8633\n"
     ]
    },
    {
     "name": "stderr",
     "output_type": "stream",
     "text": [
      "c:\\users\\radio_pc\\.conda\\envs\\bml3.6\\lib\\site-packages\\ipykernel_launcher.py:5: RuntimeWarning: divide by zero encountered in log\n",
      "  \"\"\"\n",
      "c:\\users\\radio_pc\\.conda\\envs\\bml3.6\\lib\\site-packages\\ipykernel_launcher.py:5: RuntimeWarning: invalid value encountered in log\n",
      "  \"\"\"\n",
      "c:\\users\\radio_pc\\.conda\\envs\\bml3.6\\lib\\site-packages\\ipykernel_launcher.py:5: RuntimeWarning: divide by zero encountered in log\n",
      "  \"\"\"\n",
      "c:\\users\\radio_pc\\.conda\\envs\\bml3.6\\lib\\site-packages\\ipykernel_launcher.py:5: RuntimeWarning: invalid value encountered in log\n",
      "  \"\"\"\n"
     ]
    },
    {
     "name": "stdout",
     "output_type": "stream",
     "text": [
      "RMSLE: inf\n",
      "R2 value: -11.8405\n",
      "RMSLE: inf\n",
      "R2 value: -8.0748\n"
     ]
    },
    {
     "name": "stderr",
     "output_type": "stream",
     "text": [
      "c:\\users\\radio_pc\\.conda\\envs\\bml3.6\\lib\\site-packages\\ipykernel_launcher.py:5: RuntimeWarning: divide by zero encountered in log\n",
      "  \"\"\"\n",
      "c:\\users\\radio_pc\\.conda\\envs\\bml3.6\\lib\\site-packages\\ipykernel_launcher.py:5: RuntimeWarning: invalid value encountered in log\n",
      "  \"\"\"\n",
      "c:\\users\\radio_pc\\.conda\\envs\\bml3.6\\lib\\site-packages\\ipykernel_launcher.py:5: RuntimeWarning: divide by zero encountered in log\n",
      "  \"\"\"\n",
      "c:\\users\\radio_pc\\.conda\\envs\\bml3.6\\lib\\site-packages\\ipykernel_launcher.py:5: RuntimeWarning: invalid value encountered in log\n",
      "  \"\"\"\n"
     ]
    },
    {
     "name": "stdout",
     "output_type": "stream",
     "text": [
      "RMSLE: inf\n",
      "R2 value: -11.9093\n",
      "RMSLE: inf\n",
      "R2 value: -8.2951\n"
     ]
    },
    {
     "name": "stderr",
     "output_type": "stream",
     "text": [
      "c:\\users\\radio_pc\\.conda\\envs\\bml3.6\\lib\\site-packages\\ipykernel_launcher.py:5: RuntimeWarning: divide by zero encountered in log\n",
      "  \"\"\"\n",
      "c:\\users\\radio_pc\\.conda\\envs\\bml3.6\\lib\\site-packages\\ipykernel_launcher.py:5: RuntimeWarning: invalid value encountered in log\n",
      "  \"\"\"\n",
      "c:\\users\\radio_pc\\.conda\\envs\\bml3.6\\lib\\site-packages\\ipykernel_launcher.py:5: RuntimeWarning: divide by zero encountered in log\n",
      "  \"\"\"\n",
      "c:\\users\\radio_pc\\.conda\\envs\\bml3.6\\lib\\site-packages\\ipykernel_launcher.py:5: RuntimeWarning: invalid value encountered in log\n",
      "  \"\"\"\n"
     ]
    },
    {
     "name": "stdout",
     "output_type": "stream",
     "text": [
      "RMSLE: inf\n",
      "R2 value: -11.9811\n",
      "RMSLE: inf\n",
      "R2 value: -8.5243\n"
     ]
    },
    {
     "name": "stderr",
     "output_type": "stream",
     "text": [
      "c:\\users\\radio_pc\\.conda\\envs\\bml3.6\\lib\\site-packages\\ipykernel_launcher.py:5: RuntimeWarning: divide by zero encountered in log\n",
      "  \"\"\"\n",
      "c:\\users\\radio_pc\\.conda\\envs\\bml3.6\\lib\\site-packages\\ipykernel_launcher.py:5: RuntimeWarning: invalid value encountered in log\n",
      "  \"\"\"\n",
      "c:\\users\\radio_pc\\.conda\\envs\\bml3.6\\lib\\site-packages\\ipykernel_launcher.py:5: RuntimeWarning: divide by zero encountered in log\n",
      "  \"\"\"\n",
      "c:\\users\\radio_pc\\.conda\\envs\\bml3.6\\lib\\site-packages\\ipykernel_launcher.py:5: RuntimeWarning: invalid value encountered in log\n",
      "  \"\"\"\n"
     ]
    },
    {
     "name": "stdout",
     "output_type": "stream",
     "text": [
      "RMSLE: inf\n",
      "R2 value: -12.0559\n",
      "RMSLE: inf\n",
      "R2 value: -8.7621\n"
     ]
    },
    {
     "name": "stderr",
     "output_type": "stream",
     "text": [
      "c:\\users\\radio_pc\\.conda\\envs\\bml3.6\\lib\\site-packages\\ipykernel_launcher.py:5: RuntimeWarning: divide by zero encountered in log\n",
      "  \"\"\"\n",
      "c:\\users\\radio_pc\\.conda\\envs\\bml3.6\\lib\\site-packages\\ipykernel_launcher.py:5: RuntimeWarning: invalid value encountered in log\n",
      "  \"\"\"\n",
      "c:\\users\\radio_pc\\.conda\\envs\\bml3.6\\lib\\site-packages\\ipykernel_launcher.py:5: RuntimeWarning: divide by zero encountered in log\n",
      "  \"\"\"\n",
      "c:\\users\\radio_pc\\.conda\\envs\\bml3.6\\lib\\site-packages\\ipykernel_launcher.py:5: RuntimeWarning: invalid value encountered in log\n",
      "  \"\"\"\n"
     ]
    },
    {
     "name": "stdout",
     "output_type": "stream",
     "text": [
      "RMSLE: inf\n",
      "R2 value: -12.1338\n",
      "RMSLE: inf\n",
      "R2 value: -9.0083\n"
     ]
    },
    {
     "name": "stderr",
     "output_type": "stream",
     "text": [
      "c:\\users\\radio_pc\\.conda\\envs\\bml3.6\\lib\\site-packages\\ipykernel_launcher.py:5: RuntimeWarning: divide by zero encountered in log\n",
      "  \"\"\"\n",
      "c:\\users\\radio_pc\\.conda\\envs\\bml3.6\\lib\\site-packages\\ipykernel_launcher.py:5: RuntimeWarning: invalid value encountered in log\n",
      "  \"\"\"\n",
      "c:\\users\\radio_pc\\.conda\\envs\\bml3.6\\lib\\site-packages\\ipykernel_launcher.py:5: RuntimeWarning: divide by zero encountered in log\n",
      "  \"\"\"\n",
      "c:\\users\\radio_pc\\.conda\\envs\\bml3.6\\lib\\site-packages\\ipykernel_launcher.py:5: RuntimeWarning: invalid value encountered in log\n",
      "  \"\"\"\n"
     ]
    },
    {
     "name": "stdout",
     "output_type": "stream",
     "text": [
      "RMSLE: inf\n",
      "R2 value: -12.2150\n",
      "RMSLE: inf\n",
      "R2 value: -9.2626\n"
     ]
    },
    {
     "name": "stderr",
     "output_type": "stream",
     "text": [
      "c:\\users\\radio_pc\\.conda\\envs\\bml3.6\\lib\\site-packages\\ipykernel_launcher.py:5: RuntimeWarning: divide by zero encountered in log\n",
      "  \"\"\"\n",
      "c:\\users\\radio_pc\\.conda\\envs\\bml3.6\\lib\\site-packages\\ipykernel_launcher.py:5: RuntimeWarning: divide by zero encountered in log\n",
      "  \"\"\"\n",
      "c:\\users\\radio_pc\\.conda\\envs\\bml3.6\\lib\\site-packages\\ipykernel_launcher.py:5: RuntimeWarning: invalid value encountered in log\n",
      "  \"\"\"\n"
     ]
    },
    {
     "name": "stdout",
     "output_type": "stream",
     "text": [
      "RMSLE: inf\n",
      "R2 value: -12.2994\n",
      "RMSLE: inf\n",
      "R2 value: -9.5246\n"
     ]
    },
    {
     "name": "stderr",
     "output_type": "stream",
     "text": [
      "c:\\users\\radio_pc\\.conda\\envs\\bml3.6\\lib\\site-packages\\ipykernel_launcher.py:5: RuntimeWarning: divide by zero encountered in log\n",
      "  \"\"\"\n",
      "c:\\users\\radio_pc\\.conda\\envs\\bml3.6\\lib\\site-packages\\ipykernel_launcher.py:5: RuntimeWarning: divide by zero encountered in log\n",
      "  \"\"\"\n",
      "c:\\users\\radio_pc\\.conda\\envs\\bml3.6\\lib\\site-packages\\ipykernel_launcher.py:5: RuntimeWarning: invalid value encountered in log\n",
      "  \"\"\"\n"
     ]
    },
    {
     "name": "stdout",
     "output_type": "stream",
     "text": [
      "RMSLE: inf\n",
      "R2 value: -12.3873\n",
      "RMSLE: inf\n",
      "R2 value: -9.7938\n"
     ]
    },
    {
     "name": "stderr",
     "output_type": "stream",
     "text": [
      "c:\\users\\radio_pc\\.conda\\envs\\bml3.6\\lib\\site-packages\\ipykernel_launcher.py:5: RuntimeWarning: divide by zero encountered in log\n",
      "  \"\"\"\n",
      "c:\\users\\radio_pc\\.conda\\envs\\bml3.6\\lib\\site-packages\\ipykernel_launcher.py:5: RuntimeWarning: divide by zero encountered in log\n",
      "  \"\"\"\n",
      "c:\\users\\radio_pc\\.conda\\envs\\bml3.6\\lib\\site-packages\\ipykernel_launcher.py:5: RuntimeWarning: invalid value encountered in log\n",
      "  \"\"\"\n"
     ]
    },
    {
     "name": "stdout",
     "output_type": "stream",
     "text": [
      "RMSLE: inf\n",
      "R2 value: -12.4787\n",
      "RMSLE: inf\n",
      "R2 value: -10.0696\n"
     ]
    },
    {
     "name": "stderr",
     "output_type": "stream",
     "text": [
      "c:\\users\\radio_pc\\.conda\\envs\\bml3.6\\lib\\site-packages\\ipykernel_launcher.py:5: RuntimeWarning: divide by zero encountered in log\n",
      "  \"\"\"\n",
      "c:\\users\\radio_pc\\.conda\\envs\\bml3.6\\lib\\site-packages\\ipykernel_launcher.py:5: RuntimeWarning: divide by zero encountered in log\n",
      "  \"\"\"\n",
      "c:\\users\\radio_pc\\.conda\\envs\\bml3.6\\lib\\site-packages\\ipykernel_launcher.py:5: RuntimeWarning: invalid value encountered in log\n",
      "  \"\"\"\n"
     ]
    },
    {
     "name": "stdout",
     "output_type": "stream",
     "text": [
      "RMSLE: inf\n",
      "R2 value: -12.5738\n",
      "RMSLE: inf\n",
      "R2 value: -10.3516\n"
     ]
    },
    {
     "name": "stderr",
     "output_type": "stream",
     "text": [
      "c:\\users\\radio_pc\\.conda\\envs\\bml3.6\\lib\\site-packages\\ipykernel_launcher.py:5: RuntimeWarning: divide by zero encountered in log\n",
      "  \"\"\"\n",
      "c:\\users\\radio_pc\\.conda\\envs\\bml3.6\\lib\\site-packages\\ipykernel_launcher.py:5: RuntimeWarning: divide by zero encountered in log\n",
      "  \"\"\"\n",
      "c:\\users\\radio_pc\\.conda\\envs\\bml3.6\\lib\\site-packages\\ipykernel_launcher.py:5: RuntimeWarning: invalid value encountered in log\n",
      "  \"\"\"\n"
     ]
    },
    {
     "name": "stdout",
     "output_type": "stream",
     "text": [
      "RMSLE: inf\n",
      "R2 value: -12.6726\n",
      "RMSLE: inf\n",
      "R2 value: -10.6389\n"
     ]
    },
    {
     "name": "stderr",
     "output_type": "stream",
     "text": [
      "c:\\users\\radio_pc\\.conda\\envs\\bml3.6\\lib\\site-packages\\ipykernel_launcher.py:5: RuntimeWarning: divide by zero encountered in log\n",
      "  \"\"\"\n",
      "c:\\users\\radio_pc\\.conda\\envs\\bml3.6\\lib\\site-packages\\ipykernel_launcher.py:5: RuntimeWarning: divide by zero encountered in log\n",
      "  \"\"\"\n",
      "c:\\users\\radio_pc\\.conda\\envs\\bml3.6\\lib\\site-packages\\ipykernel_launcher.py:5: RuntimeWarning: invalid value encountered in log\n",
      "  \"\"\"\n"
     ]
    },
    {
     "name": "stdout",
     "output_type": "stream",
     "text": [
      "RMSLE: inf\n",
      "R2 value: -12.7754\n",
      "RMSLE: inf\n",
      "R2 value: -10.9310\n"
     ]
    },
    {
     "name": "stderr",
     "output_type": "stream",
     "text": [
      "c:\\users\\radio_pc\\.conda\\envs\\bml3.6\\lib\\site-packages\\ipykernel_launcher.py:5: RuntimeWarning: divide by zero encountered in log\n",
      "  \"\"\"\n",
      "c:\\users\\radio_pc\\.conda\\envs\\bml3.6\\lib\\site-packages\\ipykernel_launcher.py:5: RuntimeWarning: divide by zero encountered in log\n",
      "  \"\"\"\n",
      "c:\\users\\radio_pc\\.conda\\envs\\bml3.6\\lib\\site-packages\\ipykernel_launcher.py:5: RuntimeWarning: invalid value encountered in log\n",
      "  \"\"\"\n"
     ]
    },
    {
     "name": "stdout",
     "output_type": "stream",
     "text": [
      "RMSLE: inf\n",
      "R2 value: -12.8821\n",
      "RMSLE: inf\n",
      "R2 value: -11.2270\n"
     ]
    },
    {
     "name": "stderr",
     "output_type": "stream",
     "text": [
      "c:\\users\\radio_pc\\.conda\\envs\\bml3.6\\lib\\site-packages\\ipykernel_launcher.py:5: RuntimeWarning: divide by zero encountered in log\n",
      "  \"\"\"\n",
      "c:\\users\\radio_pc\\.conda\\envs\\bml3.6\\lib\\site-packages\\ipykernel_launcher.py:5: RuntimeWarning: divide by zero encountered in log\n",
      "  \"\"\"\n",
      "c:\\users\\radio_pc\\.conda\\envs\\bml3.6\\lib\\site-packages\\ipykernel_launcher.py:5: RuntimeWarning: invalid value encountered in log\n",
      "  \"\"\"\n"
     ]
    },
    {
     "name": "stdout",
     "output_type": "stream",
     "text": [
      "RMSLE: inf\n",
      "R2 value: -12.9929\n",
      "RMSLE: inf\n",
      "R2 value: -11.5262\n"
     ]
    },
    {
     "name": "stderr",
     "output_type": "stream",
     "text": [
      "c:\\users\\radio_pc\\.conda\\envs\\bml3.6\\lib\\site-packages\\ipykernel_launcher.py:5: RuntimeWarning: divide by zero encountered in log\n",
      "  \"\"\"\n",
      "c:\\users\\radio_pc\\.conda\\envs\\bml3.6\\lib\\site-packages\\ipykernel_launcher.py:5: RuntimeWarning: divide by zero encountered in log\n",
      "  \"\"\"\n",
      "c:\\users\\radio_pc\\.conda\\envs\\bml3.6\\lib\\site-packages\\ipykernel_launcher.py:5: RuntimeWarning: invalid value encountered in log\n",
      "  \"\"\"\n"
     ]
    },
    {
     "name": "stdout",
     "output_type": "stream",
     "text": [
      "RMSLE: inf\n",
      "R2 value: -13.1080\n",
      "RMSLE: inf\n",
      "R2 value: -11.8279\n"
     ]
    },
    {
     "name": "stderr",
     "output_type": "stream",
     "text": [
      "c:\\users\\radio_pc\\.conda\\envs\\bml3.6\\lib\\site-packages\\ipykernel_launcher.py:5: RuntimeWarning: divide by zero encountered in log\n",
      "  \"\"\"\n",
      "c:\\users\\radio_pc\\.conda\\envs\\bml3.6\\lib\\site-packages\\ipykernel_launcher.py:5: RuntimeWarning: divide by zero encountered in log\n",
      "  \"\"\"\n",
      "c:\\users\\radio_pc\\.conda\\envs\\bml3.6\\lib\\site-packages\\ipykernel_launcher.py:5: RuntimeWarning: invalid value encountered in log\n",
      "  \"\"\"\n"
     ]
    },
    {
     "name": "stdout",
     "output_type": "stream",
     "text": [
      "RMSLE: inf\n",
      "R2 value: -13.2275\n",
      "RMSLE: inf\n",
      "R2 value: -12.1312\n"
     ]
    },
    {
     "name": "stderr",
     "output_type": "stream",
     "text": [
      "c:\\users\\radio_pc\\.conda\\envs\\bml3.6\\lib\\site-packages\\ipykernel_launcher.py:5: RuntimeWarning: divide by zero encountered in log\n",
      "  \"\"\"\n",
      "c:\\users\\radio_pc\\.conda\\envs\\bml3.6\\lib\\site-packages\\ipykernel_launcher.py:5: RuntimeWarning: invalid value encountered in log\n",
      "  \"\"\"\n"
     ]
    },
    {
     "name": "stdout",
     "output_type": "stream",
     "text": [
      "RMSLE: inf\n",
      "R2 value: -13.3515\n",
      "RMSLE: 0.5183\n",
      "R2 value: -12.4354\n"
     ]
    },
    {
     "name": "stderr",
     "output_type": "stream",
     "text": [
      "c:\\users\\radio_pc\\.conda\\envs\\bml3.6\\lib\\site-packages\\ipykernel_launcher.py:5: RuntimeWarning: divide by zero encountered in log\n",
      "  \"\"\"\n",
      "c:\\users\\radio_pc\\.conda\\envs\\bml3.6\\lib\\site-packages\\ipykernel_launcher.py:5: RuntimeWarning: invalid value encountered in log\n",
      "  \"\"\"\n"
     ]
    },
    {
     "name": "stdout",
     "output_type": "stream",
     "text": [
      "RMSLE: inf\n",
      "R2 value: -13.4800\n",
      "RMSLE: 0.5182\n",
      "R2 value: -12.7399\n"
     ]
    },
    {
     "name": "stderr",
     "output_type": "stream",
     "text": [
      "c:\\users\\radio_pc\\.conda\\envs\\bml3.6\\lib\\site-packages\\ipykernel_launcher.py:5: RuntimeWarning: divide by zero encountered in log\n",
      "  \"\"\"\n",
      "c:\\users\\radio_pc\\.conda\\envs\\bml3.6\\lib\\site-packages\\ipykernel_launcher.py:5: RuntimeWarning: invalid value encountered in log\n",
      "  \"\"\"\n"
     ]
    },
    {
     "name": "stdout",
     "output_type": "stream",
     "text": [
      "RMSLE: inf\n",
      "R2 value: -13.6134\n",
      "RMSLE: 0.5182\n",
      "R2 value: -13.0442\n"
     ]
    },
    {
     "name": "stderr",
     "output_type": "stream",
     "text": [
      "c:\\users\\radio_pc\\.conda\\envs\\bml3.6\\lib\\site-packages\\ipykernel_launcher.py:5: RuntimeWarning: divide by zero encountered in log\n",
      "  \"\"\"\n",
      "c:\\users\\radio_pc\\.conda\\envs\\bml3.6\\lib\\site-packages\\ipykernel_launcher.py:5: RuntimeWarning: invalid value encountered in log\n",
      "  \"\"\"\n"
     ]
    },
    {
     "name": "stdout",
     "output_type": "stream",
     "text": [
      "RMSLE: inf\n",
      "R2 value: -13.7515\n",
      "RMSLE: 0.5180\n",
      "R2 value: -13.3475\n"
     ]
    },
    {
     "name": "stderr",
     "output_type": "stream",
     "text": [
      "c:\\users\\radio_pc\\.conda\\envs\\bml3.6\\lib\\site-packages\\ipykernel_launcher.py:5: RuntimeWarning: divide by zero encountered in log\n",
      "  \"\"\"\n",
      "c:\\users\\radio_pc\\.conda\\envs\\bml3.6\\lib\\site-packages\\ipykernel_launcher.py:5: RuntimeWarning: invalid value encountered in log\n",
      "  \"\"\"\n"
     ]
    },
    {
     "name": "stdout",
     "output_type": "stream",
     "text": [
      "RMSLE: inf\n",
      "R2 value: -13.8947\n",
      "RMSLE: 0.5180\n",
      "R2 value: -13.6497\n",
      "RMSLE: 0.5115\n",
      "R2 value: -14.0431\n",
      "RMSLE: 0.5181\n",
      "R2 value: -13.9502\n"
     ]
    },
    {
     "name": "stderr",
     "output_type": "stream",
     "text": [
      "c:\\users\\radio_pc\\.conda\\envs\\bml3.6\\lib\\site-packages\\ipykernel_launcher.py:5: RuntimeWarning: invalid value encountered in log\n",
      "  \"\"\"\n"
     ]
    },
    {
     "name": "stdout",
     "output_type": "stream",
     "text": [
      "RMSLE: 0.5114\n",
      "R2 value: -14.1967\n",
      "RMSLE: 0.5184\n",
      "R2 value: -14.2489\n"
     ]
    },
    {
     "name": "stderr",
     "output_type": "stream",
     "text": [
      "c:\\users\\radio_pc\\.conda\\envs\\bml3.6\\lib\\site-packages\\ipykernel_launcher.py:5: RuntimeWarning: invalid value encountered in log\n",
      "  \"\"\"\n"
     ]
    },
    {
     "name": "stdout",
     "output_type": "stream",
     "text": [
      "RMSLE: 0.5115\n",
      "R2 value: -14.3556\n",
      "RMSLE: 0.5188\n",
      "R2 value: -14.5458\n"
     ]
    },
    {
     "name": "stderr",
     "output_type": "stream",
     "text": [
      "c:\\users\\radio_pc\\.conda\\envs\\bml3.6\\lib\\site-packages\\ipykernel_launcher.py:5: RuntimeWarning: invalid value encountered in log\n",
      "  \"\"\"\n"
     ]
    },
    {
     "name": "stdout",
     "output_type": "stream",
     "text": [
      "RMSLE: 0.5115\n",
      "R2 value: -14.5201\n",
      "RMSLE: 0.5187\n",
      "R2 value: -14.8407\n"
     ]
    },
    {
     "name": "stderr",
     "output_type": "stream",
     "text": [
      "c:\\users\\radio_pc\\.conda\\envs\\bml3.6\\lib\\site-packages\\ipykernel_launcher.py:5: RuntimeWarning: invalid value encountered in log\n",
      "  \"\"\"\n"
     ]
    },
    {
     "name": "stdout",
     "output_type": "stream",
     "text": [
      "RMSLE: 0.5118\n",
      "R2 value: -14.6903\n",
      "RMSLE: 0.5188\n",
      "R2 value: -15.1338\n"
     ]
    },
    {
     "name": "stderr",
     "output_type": "stream",
     "text": [
      "c:\\users\\radio_pc\\.conda\\envs\\bml3.6\\lib\\site-packages\\ipykernel_launcher.py:5: RuntimeWarning: invalid value encountered in log\n",
      "  \"\"\"\n"
     ]
    },
    {
     "name": "stdout",
     "output_type": "stream",
     "text": [
      "RMSLE: 0.5119\n",
      "R2 value: -14.8662\n",
      "RMSLE: 0.5189\n",
      "R2 value: -15.4252\n"
     ]
    },
    {
     "name": "stderr",
     "output_type": "stream",
     "text": [
      "c:\\users\\radio_pc\\.conda\\envs\\bml3.6\\lib\\site-packages\\ipykernel_launcher.py:5: RuntimeWarning: invalid value encountered in log\n",
      "  \"\"\"\n"
     ]
    },
    {
     "name": "stdout",
     "output_type": "stream",
     "text": [
      "RMSLE: 0.5120\n",
      "R2 value: -15.0480\n",
      "RMSLE: 0.5193\n",
      "R2 value: -15.7153\n"
     ]
    },
    {
     "name": "stderr",
     "output_type": "stream",
     "text": [
      "c:\\users\\radio_pc\\.conda\\envs\\bml3.6\\lib\\site-packages\\ipykernel_launcher.py:5: RuntimeWarning: invalid value encountered in log\n",
      "  \"\"\"\n"
     ]
    },
    {
     "name": "stdout",
     "output_type": "stream",
     "text": [
      "RMSLE: 0.5122\n",
      "R2 value: -15.2359\n",
      "RMSLE: 0.5194\n",
      "R2 value: -16.0044\n"
     ]
    },
    {
     "name": "stderr",
     "output_type": "stream",
     "text": [
      "c:\\users\\radio_pc\\.conda\\envs\\bml3.6\\lib\\site-packages\\ipykernel_launcher.py:5: RuntimeWarning: invalid value encountered in log\n",
      "  \"\"\"\n"
     ]
    },
    {
     "name": "stdout",
     "output_type": "stream",
     "text": [
      "RMSLE: 0.5124\n",
      "R2 value: -15.4299\n",
      "RMSLE: 0.5197\n",
      "R2 value: -16.2929\n"
     ]
    },
    {
     "name": "stderr",
     "output_type": "stream",
     "text": [
      "c:\\users\\radio_pc\\.conda\\envs\\bml3.6\\lib\\site-packages\\ipykernel_launcher.py:5: RuntimeWarning: invalid value encountered in log\n",
      "  \"\"\"\n"
     ]
    },
    {
     "name": "stdout",
     "output_type": "stream",
     "text": [
      "RMSLE: 0.5125\n",
      "R2 value: -15.6302\n",
      "RMSLE: 0.5194\n",
      "R2 value: -16.5813\n",
      "RMSLE: 0.5128\n"
     ]
    },
    {
     "name": "stderr",
     "output_type": "stream",
     "text": [
      "c:\\users\\radio_pc\\.conda\\envs\\bml3.6\\lib\\site-packages\\ipykernel_launcher.py:5: RuntimeWarning: invalid value encountered in log\n",
      "  \"\"\"\n"
     ]
    },
    {
     "name": "stdout",
     "output_type": "stream",
     "text": [
      "R2 value: -15.8370\n",
      "RMSLE: 0.5195\n",
      "R2 value: -16.8701\n"
     ]
    },
    {
     "name": "stderr",
     "output_type": "stream",
     "text": [
      "c:\\users\\radio_pc\\.conda\\envs\\bml3.6\\lib\\site-packages\\ipykernel_launcher.py:5: RuntimeWarning: invalid value encountered in log\n",
      "  \"\"\"\n"
     ]
    },
    {
     "name": "stdout",
     "output_type": "stream",
     "text": [
      "RMSLE: 0.5132\n",
      "R2 value: -16.0503\n",
      "RMSLE: 0.5197\n",
      "R2 value: -17.1598\n"
     ]
    },
    {
     "name": "stderr",
     "output_type": "stream",
     "text": [
      "c:\\users\\radio_pc\\.conda\\envs\\bml3.6\\lib\\site-packages\\ipykernel_launcher.py:5: RuntimeWarning: invalid value encountered in log\n",
      "  \"\"\"\n"
     ]
    },
    {
     "name": "stdout",
     "output_type": "stream",
     "text": [
      "RMSLE: 0.5135\n",
      "R2 value: -16.2703\n",
      "RMSLE: 0.5198\n",
      "R2 value: -17.4510\n"
     ]
    },
    {
     "name": "stderr",
     "output_type": "stream",
     "text": [
      "c:\\users\\radio_pc\\.conda\\envs\\bml3.6\\lib\\site-packages\\ipykernel_launcher.py:5: RuntimeWarning: invalid value encountered in log\n",
      "  \"\"\"\n"
     ]
    },
    {
     "name": "stdout",
     "output_type": "stream",
     "text": [
      "RMSLE: 0.5136\n",
      "R2 value: -16.4972\n",
      "RMSLE: 0.5200\n",
      "R2 value: -17.7443\n"
     ]
    },
    {
     "name": "stderr",
     "output_type": "stream",
     "text": [
      "c:\\users\\radio_pc\\.conda\\envs\\bml3.6\\lib\\site-packages\\ipykernel_launcher.py:5: RuntimeWarning: invalid value encountered in log\n",
      "  \"\"\"\n"
     ]
    },
    {
     "name": "stdout",
     "output_type": "stream",
     "text": [
      "RMSLE: 0.5138\n",
      "R2 value: -16.7311\n",
      "RMSLE: 0.5203\n",
      "R2 value: -18.0402\n"
     ]
    },
    {
     "name": "stderr",
     "output_type": "stream",
     "text": [
      "c:\\users\\radio_pc\\.conda\\envs\\bml3.6\\lib\\site-packages\\ipykernel_launcher.py:5: RuntimeWarning: invalid value encountered in log\n",
      "  \"\"\"\n"
     ]
    },
    {
     "name": "stdout",
     "output_type": "stream",
     "text": [
      "RMSLE: 0.5142\n",
      "R2 value: -16.9722\n",
      "RMSLE: 0.5206\n",
      "R2 value: -18.3394\n"
     ]
    },
    {
     "name": "stderr",
     "output_type": "stream",
     "text": [
      "c:\\users\\radio_pc\\.conda\\envs\\bml3.6\\lib\\site-packages\\ipykernel_launcher.py:5: RuntimeWarning: invalid value encountered in log\n",
      "  \"\"\"\n"
     ]
    },
    {
     "name": "stdout",
     "output_type": "stream",
     "text": [
      "RMSLE: 0.5146\n",
      "R2 value: -17.2206\n",
      "RMSLE: 0.5208\n",
      "R2 value: -18.6425\n"
     ]
    },
    {
     "name": "stderr",
     "output_type": "stream",
     "text": [
      "c:\\users\\radio_pc\\.conda\\envs\\bml3.6\\lib\\site-packages\\ipykernel_launcher.py:5: RuntimeWarning: invalid value encountered in log\n",
      "  \"\"\"\n"
     ]
    },
    {
     "name": "stdout",
     "output_type": "stream",
     "text": [
      "RMSLE: 0.5150\n",
      "R2 value: -17.4766\n",
      "RMSLE: 0.5210\n",
      "R2 value: -18.9500\n"
     ]
    },
    {
     "name": "stderr",
     "output_type": "stream",
     "text": [
      "c:\\users\\radio_pc\\.conda\\envs\\bml3.6\\lib\\site-packages\\ipykernel_launcher.py:5: RuntimeWarning: invalid value encountered in log\n",
      "  \"\"\"\n"
     ]
    },
    {
     "name": "stdout",
     "output_type": "stream",
     "text": [
      "RMSLE: 0.5154\n",
      "R2 value: -17.7403\n",
      "RMSLE: 0.5214\n",
      "R2 value: -19.2625\n"
     ]
    },
    {
     "name": "stderr",
     "output_type": "stream",
     "text": [
      "c:\\users\\radio_pc\\.conda\\envs\\bml3.6\\lib\\site-packages\\ipykernel_launcher.py:5: RuntimeWarning: invalid value encountered in log\n",
      "  \"\"\"\n"
     ]
    },
    {
     "name": "stdout",
     "output_type": "stream",
     "text": [
      "RMSLE: 0.5157\n",
      "R2 value: -18.0120\n",
      "RMSLE: 0.5221\n",
      "R2 value: -19.5806\n"
     ]
    },
    {
     "name": "stderr",
     "output_type": "stream",
     "text": [
      "c:\\users\\radio_pc\\.conda\\envs\\bml3.6\\lib\\site-packages\\ipykernel_launcher.py:5: RuntimeWarning: invalid value encountered in log\n",
      "  \"\"\"\n"
     ]
    },
    {
     "name": "stdout",
     "output_type": "stream",
     "text": [
      "RMSLE: 0.5159\n",
      "R2 value: -18.2919\n",
      "RMSLE: 0.5227\n",
      "R2 value: -19.9048\n"
     ]
    },
    {
     "name": "stderr",
     "output_type": "stream",
     "text": [
      "c:\\users\\radio_pc\\.conda\\envs\\bml3.6\\lib\\site-packages\\ipykernel_launcher.py:5: RuntimeWarning: invalid value encountered in log\n",
      "  \"\"\"\n"
     ]
    },
    {
     "name": "stdout",
     "output_type": "stream",
     "text": [
      "RMSLE: 0.5162\n",
      "R2 value: -18.5803\n",
      "RMSLE: 0.5230\n",
      "R2 value: -20.2359\n"
     ]
    },
    {
     "name": "stderr",
     "output_type": "stream",
     "text": [
      "c:\\users\\radio_pc\\.conda\\envs\\bml3.6\\lib\\site-packages\\ipykernel_launcher.py:5: RuntimeWarning: invalid value encountered in log\n",
      "  \"\"\"\n"
     ]
    },
    {
     "name": "stdout",
     "output_type": "stream",
     "text": [
      "RMSLE: 0.5163\n",
      "R2 value: -18.8774\n",
      "RMSLE: 0.5228\n",
      "R2 value: -20.5743\n"
     ]
    },
    {
     "name": "stderr",
     "output_type": "stream",
     "text": [
      "c:\\users\\radio_pc\\.conda\\envs\\bml3.6\\lib\\site-packages\\ipykernel_launcher.py:5: RuntimeWarning: invalid value encountered in log\n",
      "  \"\"\"\n"
     ]
    },
    {
     "name": "stdout",
     "output_type": "stream",
     "text": [
      "RMSLE: 0.5163\n",
      "R2 value: -19.1837\n",
      "RMSLE: 0.5231\n",
      "R2 value: -20.9208\n"
     ]
    },
    {
     "name": "stderr",
     "output_type": "stream",
     "text": [
      "c:\\users\\radio_pc\\.conda\\envs\\bml3.6\\lib\\site-packages\\ipykernel_launcher.py:5: RuntimeWarning: invalid value encountered in log\n",
      "  \"\"\"\n"
     ]
    },
    {
     "name": "stdout",
     "output_type": "stream",
     "text": [
      "RMSLE: 0.5167\n",
      "R2 value: -19.4996\n",
      "RMSLE: 0.5233\n",
      "R2 value: -21.2758\n"
     ]
    },
    {
     "name": "stderr",
     "output_type": "stream",
     "text": [
      "c:\\users\\radio_pc\\.conda\\envs\\bml3.6\\lib\\site-packages\\ipykernel_launcher.py:5: RuntimeWarning: invalid value encountered in log\n",
      "  \"\"\"\n"
     ]
    },
    {
     "name": "stdout",
     "output_type": "stream",
     "text": [
      "RMSLE: 0.5168\n",
      "R2 value: -19.8254\n",
      "RMSLE: 0.5235\n",
      "R2 value: -21.6402\n"
     ]
    },
    {
     "name": "stderr",
     "output_type": "stream",
     "text": [
      "c:\\users\\radio_pc\\.conda\\envs\\bml3.6\\lib\\site-packages\\ipykernel_launcher.py:5: RuntimeWarning: invalid value encountered in log\n",
      "  \"\"\"\n"
     ]
    },
    {
     "name": "stdout",
     "output_type": "stream",
     "text": [
      "RMSLE: 0.5171\n",
      "R2 value: -20.1616\n",
      "RMSLE: 0.5237\n",
      "R2 value: -22.0146\n"
     ]
    },
    {
     "name": "stderr",
     "output_type": "stream",
     "text": [
      "c:\\users\\radio_pc\\.conda\\envs\\bml3.6\\lib\\site-packages\\ipykernel_launcher.py:5: RuntimeWarning: invalid value encountered in log\n",
      "  \"\"\"\n"
     ]
    },
    {
     "name": "stdout",
     "output_type": "stream",
     "text": [
      "RMSLE: 0.5175\n",
      "R2 value: -20.5088\n",
      "RMSLE: 0.5241\n",
      "R2 value: -22.3997\n"
     ]
    },
    {
     "name": "stderr",
     "output_type": "stream",
     "text": [
      "c:\\users\\radio_pc\\.conda\\envs\\bml3.6\\lib\\site-packages\\ipykernel_launcher.py:5: RuntimeWarning: invalid value encountered in log\n",
      "  \"\"\"\n"
     ]
    },
    {
     "name": "stdout",
     "output_type": "stream",
     "text": [
      "RMSLE: 0.5177\n",
      "R2 value: -20.8675\n",
      "RMSLE: 0.5240\n",
      "R2 value: -22.7964\n"
     ]
    },
    {
     "name": "stderr",
     "output_type": "stream",
     "text": [
      "c:\\users\\radio_pc\\.conda\\envs\\bml3.6\\lib\\site-packages\\ipykernel_launcher.py:5: RuntimeWarning: invalid value encountered in log\n",
      "  \"\"\"\n"
     ]
    },
    {
     "name": "stdout",
     "output_type": "stream",
     "text": [
      "RMSLE: 0.5179\n",
      "R2 value: -21.2385\n",
      "RMSLE: 0.5246\n",
      "R2 value: -23.2056\n"
     ]
    },
    {
     "name": "stderr",
     "output_type": "stream",
     "text": [
      "c:\\users\\radio_pc\\.conda\\envs\\bml3.6\\lib\\site-packages\\ipykernel_launcher.py:5: RuntimeWarning: invalid value encountered in log\n",
      "  \"\"\"\n"
     ]
    },
    {
     "name": "stdout",
     "output_type": "stream",
     "text": [
      "RMSLE: 0.5182\n",
      "R2 value: -21.6226\n",
      "RMSLE: 0.5247\n",
      "R2 value: -23.6281\n"
     ]
    },
    {
     "name": "stderr",
     "output_type": "stream",
     "text": [
      "c:\\users\\radio_pc\\.conda\\envs\\bml3.6\\lib\\site-packages\\ipykernel_launcher.py:5: RuntimeWarning: invalid value encountered in log\n",
      "  \"\"\"\n"
     ]
    },
    {
     "name": "stdout",
     "output_type": "stream",
     "text": [
      "RMSLE: 0.5185\n",
      "R2 value: -22.0205\n",
      "RMSLE: 0.5251\n",
      "R2 value: -24.0650\n"
     ]
    },
    {
     "name": "stderr",
     "output_type": "stream",
     "text": [
      "c:\\users\\radio_pc\\.conda\\envs\\bml3.6\\lib\\site-packages\\ipykernel_launcher.py:5: RuntimeWarning: invalid value encountered in log\n",
      "  \"\"\"\n"
     ]
    },
    {
     "name": "stdout",
     "output_type": "stream",
     "text": [
      "RMSLE: 0.5189\n",
      "R2 value: -22.4332\n",
      "RMSLE: 0.5254\n",
      "R2 value: -24.5175\n"
     ]
    },
    {
     "name": "stderr",
     "output_type": "stream",
     "text": [
      "c:\\users\\radio_pc\\.conda\\envs\\bml3.6\\lib\\site-packages\\ipykernel_launcher.py:5: RuntimeWarning: invalid value encountered in log\n",
      "  \"\"\"\n"
     ]
    },
    {
     "name": "stdout",
     "output_type": "stream",
     "text": [
      "RMSLE: 0.5191\n",
      "R2 value: -22.8618\n",
      "RMSLE: 0.5259\n",
      "R2 value: -24.9867\n"
     ]
    },
    {
     "name": "stderr",
     "output_type": "stream",
     "text": [
      "c:\\users\\radio_pc\\.conda\\envs\\bml3.6\\lib\\site-packages\\ipykernel_launcher.py:5: RuntimeWarning: invalid value encountered in log\n",
      "  \"\"\"\n"
     ]
    },
    {
     "name": "stdout",
     "output_type": "stream",
     "text": [
      "RMSLE: 0.5193\n",
      "R2 value: -23.3075\n",
      "RMSLE: 0.5261\n",
      "R2 value: -25.4740\n"
     ]
    },
    {
     "name": "stderr",
     "output_type": "stream",
     "text": [
      "c:\\users\\radio_pc\\.conda\\envs\\bml3.6\\lib\\site-packages\\ipykernel_launcher.py:5: RuntimeWarning: invalid value encountered in log\n",
      "  \"\"\"\n"
     ]
    },
    {
     "name": "stdout",
     "output_type": "stream",
     "text": [
      "RMSLE: 0.5198\n",
      "R2 value: -23.7715\n",
      "RMSLE: 0.5264\n",
      "R2 value: -25.9809\n"
     ]
    },
    {
     "name": "stderr",
     "output_type": "stream",
     "text": [
      "c:\\users\\radio_pc\\.conda\\envs\\bml3.6\\lib\\site-packages\\ipykernel_launcher.py:5: RuntimeWarning: invalid value encountered in log\n",
      "  \"\"\"\n"
     ]
    },
    {
     "name": "stdout",
     "output_type": "stream",
     "text": [
      "RMSLE: 0.5203\n",
      "R2 value: -24.2554\n",
      "RMSLE: 0.5269\n",
      "R2 value: -26.5091\n"
     ]
    },
    {
     "name": "stderr",
     "output_type": "stream",
     "text": [
      "c:\\users\\radio_pc\\.conda\\envs\\bml3.6\\lib\\site-packages\\ipykernel_launcher.py:5: RuntimeWarning: invalid value encountered in log\n",
      "  \"\"\"\n"
     ]
    },
    {
     "name": "stdout",
     "output_type": "stream",
     "text": [
      "RMSLE: 0.5206\n",
      "R2 value: -24.7607\n",
      "RMSLE: 0.5270\n",
      "R2 value: -27.0604\n"
     ]
    },
    {
     "name": "stderr",
     "output_type": "stream",
     "text": [
      "c:\\users\\radio_pc\\.conda\\envs\\bml3.6\\lib\\site-packages\\ipykernel_launcher.py:5: RuntimeWarning: invalid value encountered in log\n",
      "  \"\"\"\n"
     ]
    },
    {
     "name": "stdout",
     "output_type": "stream",
     "text": [
      "RMSLE: 0.5209\n",
      "R2 value: -25.2892\n",
      "RMSLE: 0.5272\n",
      "R2 value: -27.6367\n"
     ]
    },
    {
     "name": "stderr",
     "output_type": "stream",
     "text": [
      "c:\\users\\radio_pc\\.conda\\envs\\bml3.6\\lib\\site-packages\\ipykernel_launcher.py:5: RuntimeWarning: invalid value encountered in log\n",
      "  \"\"\"\n"
     ]
    },
    {
     "name": "stdout",
     "output_type": "stream",
     "text": [
      "RMSLE: 0.5213\n",
      "R2 value: -25.8429\n",
      "RMSLE: 0.5274\n",
      "R2 value: -28.2402\n",
      "RMSLE: 0.5216\n"
     ]
    },
    {
     "name": "stderr",
     "output_type": "stream",
     "text": [
      "c:\\users\\radio_pc\\.conda\\envs\\bml3.6\\lib\\site-packages\\ipykernel_launcher.py:5: RuntimeWarning: invalid value encountered in log\n",
      "  \"\"\"\n"
     ]
    },
    {
     "name": "stdout",
     "output_type": "stream",
     "text": [
      "R2 value: -26.4240\n",
      "RMSLE: 0.5274\n",
      "R2 value: -28.8733\n"
     ]
    },
    {
     "name": "stderr",
     "output_type": "stream",
     "text": [
      "c:\\users\\radio_pc\\.conda\\envs\\bml3.6\\lib\\site-packages\\ipykernel_launcher.py:5: RuntimeWarning: invalid value encountered in log\n",
      "  \"\"\"\n"
     ]
    },
    {
     "name": "stdout",
     "output_type": "stream",
     "text": [
      "RMSLE: 0.5219\n",
      "R2 value: -27.0350\n",
      "RMSLE: 0.5279\n",
      "R2 value: -29.5388\n"
     ]
    },
    {
     "name": "stderr",
     "output_type": "stream",
     "text": [
      "c:\\users\\radio_pc\\.conda\\envs\\bml3.6\\lib\\site-packages\\ipykernel_launcher.py:5: RuntimeWarning: invalid value encountered in log\n",
      "  \"\"\"\n"
     ]
    },
    {
     "name": "stdout",
     "output_type": "stream",
     "text": [
      "RMSLE: 0.5222\n",
      "R2 value: -27.6784\n",
      "RMSLE: 0.5280\n",
      "R2 value: -30.2395\n"
     ]
    },
    {
     "name": "stderr",
     "output_type": "stream",
     "text": [
      "c:\\users\\radio_pc\\.conda\\envs\\bml3.6\\lib\\site-packages\\ipykernel_launcher.py:5: RuntimeWarning: invalid value encountered in log\n",
      "  \"\"\"\n"
     ]
    },
    {
     "name": "stdout",
     "output_type": "stream",
     "text": [
      "RMSLE: 0.5227\n",
      "R2 value: -28.3572\n",
      "RMSLE: 0.5283\n",
      "R2 value: -30.9787\n"
     ]
    },
    {
     "name": "stderr",
     "output_type": "stream",
     "text": [
      "c:\\users\\radio_pc\\.conda\\envs\\bml3.6\\lib\\site-packages\\ipykernel_launcher.py:5: RuntimeWarning: invalid value encountered in log\n",
      "  \"\"\"\n"
     ]
    },
    {
     "name": "stdout",
     "output_type": "stream",
     "text": [
      "RMSLE: 0.5230\n",
      "R2 value: -29.0747\n",
      "RMSLE: 0.5286\n",
      "R2 value: -31.7598\n"
     ]
    },
    {
     "name": "stderr",
     "output_type": "stream",
     "text": [
      "c:\\users\\radio_pc\\.conda\\envs\\bml3.6\\lib\\site-packages\\ipykernel_launcher.py:5: RuntimeWarning: invalid value encountered in log\n",
      "  \"\"\"\n"
     ]
    },
    {
     "name": "stdout",
     "output_type": "stream",
     "text": [
      "RMSLE: 0.5231\n",
      "R2 value: -29.8343\n",
      "RMSLE: 0.5292\n",
      "R2 value: -32.5869\n"
     ]
    },
    {
     "name": "stderr",
     "output_type": "stream",
     "text": [
      "c:\\users\\radio_pc\\.conda\\envs\\bml3.6\\lib\\site-packages\\ipykernel_launcher.py:5: RuntimeWarning: invalid value encountered in log\n",
      "  \"\"\"\n"
     ]
    },
    {
     "name": "stdout",
     "output_type": "stream",
     "text": [
      "RMSLE: 0.5234\n",
      "R2 value: -30.6401\n",
      "RMSLE: 0.5296\n",
      "R2 value: -33.4641\n"
     ]
    },
    {
     "name": "stderr",
     "output_type": "stream",
     "text": [
      "c:\\users\\radio_pc\\.conda\\envs\\bml3.6\\lib\\site-packages\\ipykernel_launcher.py:5: RuntimeWarning: invalid value encountered in log\n",
      "  \"\"\"\n"
     ]
    },
    {
     "name": "stdout",
     "output_type": "stream",
     "text": [
      "RMSLE: 0.5237\n",
      "R2 value: -31.4964\n",
      "RMSLE: inf\n",
      "R2 value: -34.3961\n"
     ]
    },
    {
     "name": "stderr",
     "output_type": "stream",
     "text": [
      "c:\\users\\radio_pc\\.conda\\envs\\bml3.6\\lib\\site-packages\\ipykernel_launcher.py:5: RuntimeWarning: divide by zero encountered in log\n",
      "  \"\"\"\n"
     ]
    },
    {
     "name": "stdout",
     "output_type": "stream",
     "text": [
      "RMSLE: 0.5238\n",
      "R2 value: -32.4079\n",
      "RMSLE: inf\n",
      "R2 value: -35.3883\n"
     ]
    },
    {
     "name": "stderr",
     "output_type": "stream",
     "text": [
      "c:\\users\\radio_pc\\.conda\\envs\\bml3.6\\lib\\site-packages\\ipykernel_launcher.py:5: RuntimeWarning: divide by zero encountered in log\n",
      "  \"\"\"\n"
     ]
    },
    {
     "name": "stdout",
     "output_type": "stream",
     "text": [
      "RMSLE: 0.5240\n",
      "R2 value: -33.3798\n",
      "RMSLE: inf\n",
      "R2 value: -36.4462\n"
     ]
    },
    {
     "name": "stderr",
     "output_type": "stream",
     "text": [
      "c:\\users\\radio_pc\\.conda\\envs\\bml3.6\\lib\\site-packages\\ipykernel_launcher.py:5: RuntimeWarning: divide by zero encountered in log\n",
      "  \"\"\"\n"
     ]
    },
    {
     "name": "stdout",
     "output_type": "stream",
     "text": [
      "RMSLE: 0.5241\n",
      "R2 value: -34.4179\n",
      "RMSLE: inf\n",
      "R2 value: -37.5761\n"
     ]
    },
    {
     "name": "stderr",
     "output_type": "stream",
     "text": [
      "c:\\users\\radio_pc\\.conda\\envs\\bml3.6\\lib\\site-packages\\ipykernel_launcher.py:5: RuntimeWarning: divide by zero encountered in log\n",
      "  \"\"\"\n"
     ]
    },
    {
     "name": "stdout",
     "output_type": "stream",
     "text": [
      "RMSLE: 0.5245\n",
      "R2 value: -35.5285\n",
      "RMSLE: inf\n",
      "R2 value: -38.7851\n"
     ]
    },
    {
     "name": "stderr",
     "output_type": "stream",
     "text": [
      "c:\\users\\radio_pc\\.conda\\envs\\bml3.6\\lib\\site-packages\\ipykernel_launcher.py:5: RuntimeWarning: divide by zero encountered in log\n",
      "  \"\"\"\n"
     ]
    },
    {
     "name": "stdout",
     "output_type": "stream",
     "text": [
      "RMSLE: 0.5247\n",
      "R2 value: -36.7188\n",
      "RMSLE: inf\n",
      "R2 value: -40.0806\n"
     ]
    },
    {
     "name": "stderr",
     "output_type": "stream",
     "text": [
      "c:\\users\\radio_pc\\.conda\\envs\\bml3.6\\lib\\site-packages\\ipykernel_launcher.py:5: RuntimeWarning: divide by zero encountered in log\n",
      "  \"\"\"\n"
     ]
    },
    {
     "name": "stdout",
     "output_type": "stream",
     "text": [
      "RMSLE: 0.5248\n",
      "R2 value: -37.9963\n",
      "RMSLE: inf\n",
      "R2 value: -41.4712\n"
     ]
    },
    {
     "name": "stderr",
     "output_type": "stream",
     "text": [
      "c:\\users\\radio_pc\\.conda\\envs\\bml3.6\\lib\\site-packages\\ipykernel_launcher.py:5: RuntimeWarning: divide by zero encountered in log\n",
      "  \"\"\"\n"
     ]
    },
    {
     "name": "stdout",
     "output_type": "stream",
     "text": [
      "RMSLE: 0.5249\n",
      "R2 value: -39.3696\n",
      "RMSLE: inf\n",
      "R2 value: -42.9660\n"
     ]
    },
    {
     "name": "stderr",
     "output_type": "stream",
     "text": [
      "c:\\users\\radio_pc\\.conda\\envs\\bml3.6\\lib\\site-packages\\ipykernel_launcher.py:5: RuntimeWarning: divide by zero encountered in log\n",
      "  \"\"\"\n"
     ]
    },
    {
     "name": "stdout",
     "output_type": "stream",
     "text": [
      "RMSLE: 0.5249\n",
      "R2 value: -40.8482\n",
      "RMSLE: inf\n",
      "R2 value: -44.5754\n"
     ]
    },
    {
     "name": "stderr",
     "output_type": "stream",
     "text": [
      "c:\\users\\radio_pc\\.conda\\envs\\bml3.6\\lib\\site-packages\\ipykernel_launcher.py:5: RuntimeWarning: divide by zero encountered in log\n",
      "  \"\"\"\n"
     ]
    }
   ],
   "source": [
    "score = list()\n",
    "for alpha in alphas:\n",
    "    model = Ridge(alpha=alpha, normalize=True)\n",
    "    model.fit(X_train, y_train)\n",
    "    rmsle_train, r2_train = eval(model, X_train, y_train)\n",
    "    rmsle_test, r2_test = eval(model, X_test, y_test)\n",
    "    score.append([alpha, rmsle_train,rmsle_test])"
   ]
  },
  {
   "cell_type": "code",
   "execution_count": 31,
   "metadata": {
    "ExecuteTime": {
     "end_time": "2020-12-18T09:26:18.627810Z",
     "start_time": "2020-12-18T09:26:18.623820Z"
    }
   },
   "outputs": [],
   "source": [
    "df_score = pd.DataFrame(score,columns=['alpha','rmsle_train','rmsle_test'])"
   ]
  },
  {
   "cell_type": "code",
   "execution_count": 32,
   "metadata": {
    "ExecuteTime": {
     "end_time": "2020-12-18T09:26:21.176268Z",
     "start_time": "2020-12-18T09:26:21.168281Z"
    }
   },
   "outputs": [
    {
     "data": {
      "text/html": [
       "<div>\n",
       "<style scoped>\n",
       "    .dataframe tbody tr th:only-of-type {\n",
       "        vertical-align: middle;\n",
       "    }\n",
       "\n",
       "    .dataframe tbody tr th {\n",
       "        vertical-align: top;\n",
       "    }\n",
       "\n",
       "    .dataframe thead th {\n",
       "        text-align: right;\n",
       "    }\n",
       "</style>\n",
       "<table border=\"1\" class=\"dataframe\">\n",
       "  <thead>\n",
       "    <tr style=\"text-align: right;\">\n",
       "      <th></th>\n",
       "      <th>alpha</th>\n",
       "      <th>rmsle_train</th>\n",
       "      <th>rmsle_test</th>\n",
       "    </tr>\n",
       "  </thead>\n",
       "  <tbody>\n",
       "    <tr>\n",
       "      <th>0</th>\n",
       "      <td>1.000000e-10</td>\n",
       "      <td>inf</td>\n",
       "      <td>inf</td>\n",
       "    </tr>\n",
       "    <tr>\n",
       "      <th>1</th>\n",
       "      <td>1.065538e-10</td>\n",
       "      <td>inf</td>\n",
       "      <td>inf</td>\n",
       "    </tr>\n",
       "    <tr>\n",
       "      <th>2</th>\n",
       "      <td>1.135371e-10</td>\n",
       "      <td>inf</td>\n",
       "      <td>inf</td>\n",
       "    </tr>\n",
       "    <tr>\n",
       "      <th>3</th>\n",
       "      <td>1.209781e-10</td>\n",
       "      <td>inf</td>\n",
       "      <td>inf</td>\n",
       "    </tr>\n",
       "    <tr>\n",
       "      <th>4</th>\n",
       "      <td>1.289068e-10</td>\n",
       "      <td>inf</td>\n",
       "      <td>inf</td>\n",
       "    </tr>\n",
       "    <tr>\n",
       "      <th>...</th>\n",
       "      <td>...</td>\n",
       "      <td>...</td>\n",
       "      <td>...</td>\n",
       "    </tr>\n",
       "    <tr>\n",
       "      <th>395</th>\n",
       "      <td>7.757545e+00</td>\n",
       "      <td>0.524450</td>\n",
       "      <td>inf</td>\n",
       "    </tr>\n",
       "    <tr>\n",
       "      <th>396</th>\n",
       "      <td>8.265959e+00</td>\n",
       "      <td>0.524685</td>\n",
       "      <td>inf</td>\n",
       "    </tr>\n",
       "    <tr>\n",
       "      <th>397</th>\n",
       "      <td>8.807693e+00</td>\n",
       "      <td>0.524796</td>\n",
       "      <td>inf</td>\n",
       "    </tr>\n",
       "    <tr>\n",
       "      <th>398</th>\n",
       "      <td>9.384931e+00</td>\n",
       "      <td>0.524896</td>\n",
       "      <td>inf</td>\n",
       "    </tr>\n",
       "    <tr>\n",
       "      <th>399</th>\n",
       "      <td>1.000000e+01</td>\n",
       "      <td>0.524948</td>\n",
       "      <td>inf</td>\n",
       "    </tr>\n",
       "  </tbody>\n",
       "</table>\n",
       "<p>400 rows × 3 columns</p>\n",
       "</div>"
      ],
      "text/plain": [
       "            alpha  rmsle_train  rmsle_test\n",
       "0    1.000000e-10          inf         inf\n",
       "1    1.065538e-10          inf         inf\n",
       "2    1.135371e-10          inf         inf\n",
       "3    1.209781e-10          inf         inf\n",
       "4    1.289068e-10          inf         inf\n",
       "..            ...          ...         ...\n",
       "395  7.757545e+00     0.524450         inf\n",
       "396  8.265959e+00     0.524685         inf\n",
       "397  8.807693e+00     0.524796         inf\n",
       "398  9.384931e+00     0.524896         inf\n",
       "399  1.000000e+01     0.524948         inf\n",
       "\n",
       "[400 rows x 3 columns]"
      ]
     },
     "execution_count": 32,
     "metadata": {},
     "output_type": "execute_result"
    }
   ],
   "source": [
    "df_score"
   ]
  },
  {
   "cell_type": "code",
   "execution_count": 37,
   "metadata": {
    "ExecuteTime": {
     "end_time": "2020-12-18T11:44:35.888183Z",
     "start_time": "2020-12-18T11:44:35.484263Z"
    }
   },
   "outputs": [
    {
     "data": {
      "image/png": "[encoded data removed]",
      "text/plain": [
       "<Figure size 432x288 with 1 Axes>"
      ]
     },
     "metadata": {
      "needs_background": "light"
     },
     "output_type": "display_data"
    }
   ],
   "source": [
    "import matplotlib.pyplot as plt\n",
    "plt.plot(alphas, df_score['rmsle_train'],label='Training RMSLE')\n",
    "plt.plot(alphas, df_score['rmsle_test'],label='Test RMSLE')\n",
    "plt.xlabel('alpha')\n",
    "plt.legend()\n",
    "plt.show()"
   ]
  },
  {
   "cell_type": "code",
   "execution_count": 34,
   "metadata": {
    "ExecuteTime": {
     "end_time": "2020-12-18T09:26:44.094448Z",
     "start_time": "2020-12-18T09:26:44.088437Z"
    }
   },
   "outputs": [],
   "source": [
    "df_score.to_csv('../4.Evaluation/Ridge_score.csv',index=False)"
   ]
  },
  {
   "cell_type": "code",
   "execution_count": null,
   "metadata": {},
   "outputs": [],
   "source": [
    "#Giá trị tốt với alpha = 0.304585534067427"
   ]
  },
  {
   "cell_type": "code",
   "execution_count": 35,
   "metadata": {
    "ExecuteTime": {
     "end_time": "2020-12-18T09:28:16.542536Z",
     "start_time": "2020-12-18T09:28:16.305143Z"
    }
   },
   "outputs": [
    {
     "name": "stdout",
     "output_type": "stream",
     "text": [
      "RMSLE: 0.5115\n",
      "R2 value: -14.0431\n",
      "RMSLE: 0.5181\n",
      "R2 value: -13.9502\n"
     ]
    },
    {
     "name": "stderr",
     "output_type": "stream",
     "text": [
      "c:\\users\\radio_pc\\.conda\\envs\\bml3.6\\lib\\site-packages\\ipykernel_launcher.py:5: RuntimeWarning: invalid value encountered in log\n",
      "  \"\"\"\n"
     ]
    }
   ],
   "source": [
    "ridge = Ridge(alpha=0.304585534067427, normalize=True)\n",
    "ridge.fit(X_train, y_train)\n",
    "rmsle, r2 = eval(ridge, X_train, y_train)\n",
    "rmsle, r2 = eval(ridge, X_test, y_test)"
   ]
  },
  {
   "cell_type": "code",
   "execution_count": 36,
   "metadata": {
    "ExecuteTime": {
     "end_time": "2020-12-18T09:28:23.225462Z",
     "start_time": "2020-12-18T09:28:23.025414Z"
    }
   },
   "outputs": [],
   "source": [
    "yridge_pred_submit = ridge.predict(X_submit_scl)\n",
    "\n",
    "submission = pd.DataFrame()\n",
    "submission['MemberID'] = df_target['MemberID']\n",
    "\n",
    "yridge_pred_submit = yridge_pred_submit.clip(min=0)\n",
    "yridge_pred_submit = yridge_pred_submit.clip(max=15)\n",
    "#pred_y = pred_y.astype(int)\n",
    "\n",
    "submission['DIH'] = yridge_pred_submit\n",
    "submission.groupby(['DIH']).size()\n",
    "submission.to_csv('../4.Evaluation/ridge.csv',index=False)"
   ]
  },
  {
   "cell_type": "code",
   "execution_count": null,
   "metadata": {},
   "outputs": [],
   "source": []
  }
 ],
 "metadata": {
  "kernelspec": {
   "display_name": "Python 3",
   "language": "python",
   "name": "python3"
  },
  "language_info": {
   "codemirror_mode": {
    "name": "ipython",
    "version": 3
   },
   "file_extension": ".py",
   "mimetype": "text/x-python",
   "name": "python",
   "nbconvert_exporter": "python",
   "pygments_lexer": "ipython3",
   "version": "3.6.10"
  }
 },
 "nbformat": 4,
 "nbformat_minor": 4
}
