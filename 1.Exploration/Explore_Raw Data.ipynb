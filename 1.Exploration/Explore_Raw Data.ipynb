{
 "cells": [
  {
   "cell_type": "code",
   "execution_count": 86,
   "metadata": {
    "ExecuteTime": {
     "end_time": "2020-12-19T07:26:20.907259Z",
     "start_time": "2020-12-19T07:26:20.882224Z"
    }
   },
   "outputs": [],
   "source": [
    "import pandas as pd\n",
    "import numpy as np\n",
    "import matplotlib as mpl\n",
    "import matplotlib.pyplot as plt\n",
    "%matplotlib inline\n",
    "import seaborn as sns\n",
    "import scipy.stats as st\n",
    "from sklearn import ensemble, tree, linear_model"
   ]
  },
  {
   "cell_type": "code",
   "execution_count": 87,
   "metadata": {
    "ExecuteTime": {
     "end_time": "2020-12-19T07:26:27.836110Z",
     "start_time": "2020-12-19T07:26:24.480794Z"
    }
   },
   "outputs": [],
   "source": [
    "df_claims = pd.read_csv('../0.data/Claims.csv')\n",
    "df_drug = pd.read_csv('../0.data/DrugCount.csv')\n",
    "df_lab = pd.read_csv('../0.data/LabCount.csv')\n",
    "df_member = pd.read_csv('../0.data/Members.csv')\n",
    "df_Y2 = pd.read_csv('../0.data/DaysInHospital_Y2.csv')\n",
    "df_Y3 = pd.read_csv('../0.data/DaysInHospital_Y3.csv')\n"
   ]
  },
  {
   "cell_type": "code",
   "execution_count": 3,
   "metadata": {
    "ExecuteTime": {
     "end_time": "2020-12-18T15:53:16.886534Z",
     "start_time": "2020-12-18T15:53:16.869556Z"
    }
   },
   "outputs": [
    {
     "data": {
      "text/html": [
       "<div>\n",
       "<style scoped>\n",
       "    .dataframe tbody tr th:only-of-type {\n",
       "        vertical-align: middle;\n",
       "    }\n",
       "\n",
       "    .dataframe tbody tr th {\n",
       "        vertical-align: top;\n",
       "    }\n",
       "\n",
       "    .dataframe thead th {\n",
       "        text-align: right;\n",
       "    }\n",
       "</style>\n",
       "<table border=\"1\" class=\"dataframe\">\n",
       "  <thead>\n",
       "    <tr style=\"text-align: right;\">\n",
       "      <th></th>\n",
       "      <th>MemberID</th>\n",
       "      <th>ProviderID</th>\n",
       "      <th>Vendor</th>\n",
       "      <th>PCP</th>\n",
       "      <th>Year</th>\n",
       "      <th>Specialty</th>\n",
       "      <th>PlaceSvc</th>\n",
       "      <th>PayDelay</th>\n",
       "      <th>LengthOfStay</th>\n",
       "      <th>DSFS</th>\n",
       "      <th>PrimaryConditionGroup</th>\n",
       "      <th>CharlsonIndex</th>\n",
       "      <th>ProcedureGroup</th>\n",
       "      <th>SupLOS</th>\n",
       "    </tr>\n",
       "  </thead>\n",
       "  <tbody>\n",
       "    <tr>\n",
       "      <th>0</th>\n",
       "      <td>42286978</td>\n",
       "      <td>8013252.0</td>\n",
       "      <td>172193.0</td>\n",
       "      <td>37796.0</td>\n",
       "      <td>Y1</td>\n",
       "      <td>Surgery</td>\n",
       "      <td>Office</td>\n",
       "      <td>28</td>\n",
       "      <td>NaN</td>\n",
       "      <td>8- 9 months</td>\n",
       "      <td>NEUMENT</td>\n",
       "      <td>0</td>\n",
       "      <td>MED</td>\n",
       "      <td>0</td>\n",
       "    </tr>\n",
       "    <tr>\n",
       "      <th>1</th>\n",
       "      <td>97903248</td>\n",
       "      <td>3316066.0</td>\n",
       "      <td>726296.0</td>\n",
       "      <td>5300.0</td>\n",
       "      <td>Y3</td>\n",
       "      <td>Internal</td>\n",
       "      <td>Office</td>\n",
       "      <td>50</td>\n",
       "      <td>NaN</td>\n",
       "      <td>7- 8 months</td>\n",
       "      <td>NEUMENT</td>\n",
       "      <td>1-2</td>\n",
       "      <td>EM</td>\n",
       "      <td>0</td>\n",
       "    </tr>\n",
       "    <tr>\n",
       "      <th>2</th>\n",
       "      <td>2759427</td>\n",
       "      <td>2997752.0</td>\n",
       "      <td>140343.0</td>\n",
       "      <td>91972.0</td>\n",
       "      <td>Y3</td>\n",
       "      <td>Internal</td>\n",
       "      <td>Office</td>\n",
       "      <td>14</td>\n",
       "      <td>NaN</td>\n",
       "      <td>0- 1 month</td>\n",
       "      <td>METAB3</td>\n",
       "      <td>0</td>\n",
       "      <td>EM</td>\n",
       "      <td>0</td>\n",
       "    </tr>\n",
       "    <tr>\n",
       "      <th>3</th>\n",
       "      <td>73570559</td>\n",
       "      <td>7053364.0</td>\n",
       "      <td>240043.0</td>\n",
       "      <td>70119.0</td>\n",
       "      <td>Y3</td>\n",
       "      <td>Laboratory</td>\n",
       "      <td>Independent Lab</td>\n",
       "      <td>24</td>\n",
       "      <td>NaN</td>\n",
       "      <td>5- 6 months</td>\n",
       "      <td>METAB3</td>\n",
       "      <td>1-2</td>\n",
       "      <td>SCS</td>\n",
       "      <td>0</td>\n",
       "    </tr>\n",
       "    <tr>\n",
       "      <th>4</th>\n",
       "      <td>11837054</td>\n",
       "      <td>7557061.0</td>\n",
       "      <td>496247.0</td>\n",
       "      <td>68968.0</td>\n",
       "      <td>Y2</td>\n",
       "      <td>Surgery</td>\n",
       "      <td>Outpatient Hospital</td>\n",
       "      <td>27</td>\n",
       "      <td>NaN</td>\n",
       "      <td>4- 5 months</td>\n",
       "      <td>FXDISLC</td>\n",
       "      <td>1-2</td>\n",
       "      <td>EM</td>\n",
       "      <td>0</td>\n",
       "    </tr>\n",
       "  </tbody>\n",
       "</table>\n",
       "</div>"
      ],
      "text/plain": [
       "   MemberID  ProviderID    Vendor      PCP Year   Specialty  \\\n",
       "0  42286978   8013252.0  172193.0  37796.0   Y1     Surgery   \n",
       "1  97903248   3316066.0  726296.0   5300.0   Y3    Internal   \n",
       "2   2759427   2997752.0  140343.0  91972.0   Y3    Internal   \n",
       "3  73570559   7053364.0  240043.0  70119.0   Y3  Laboratory   \n",
       "4  11837054   7557061.0  496247.0  68968.0   Y2     Surgery   \n",
       "\n",
       "              PlaceSvc PayDelay LengthOfStay         DSFS  \\\n",
       "0               Office       28          NaN  8- 9 months   \n",
       "1               Office       50          NaN  7- 8 months   \n",
       "2               Office       14          NaN   0- 1 month   \n",
       "3      Independent Lab       24          NaN  5- 6 months   \n",
       "4  Outpatient Hospital       27          NaN  4- 5 months   \n",
       "\n",
       "  PrimaryConditionGroup CharlsonIndex ProcedureGroup  SupLOS  \n",
       "0               NEUMENT             0            MED       0  \n",
       "1               NEUMENT           1-2             EM       0  \n",
       "2                METAB3             0             EM       0  \n",
       "3                METAB3           1-2            SCS       0  \n",
       "4               FXDISLC           1-2             EM       0  "
      ]
     },
     "execution_count": 3,
     "metadata": {},
     "output_type": "execute_result"
    }
   ],
   "source": [
    "df_claims.head()"
   ]
  },
  {
   "cell_type": "code",
   "execution_count": 4,
   "metadata": {
    "ExecuteTime": {
     "end_time": "2020-12-18T15:53:45.463769Z",
     "start_time": "2020-12-18T15:53:45.459779Z"
    }
   },
   "outputs": [
    {
     "data": {
      "text/plain": [
       "(2668990, 14)"
      ]
     },
     "execution_count": 4,
     "metadata": {},
     "output_type": "execute_result"
    }
   ],
   "source": [
    "df_claims.shape"
   ]
  },
  {
   "cell_type": "code",
   "execution_count": 5,
   "metadata": {
    "ExecuteTime": {
     "end_time": "2020-12-18T15:53:49.915349Z",
     "start_time": "2020-12-18T15:53:49.164358Z"
    },
    "scrolled": false
   },
   "outputs": [
    {
     "data": {
      "text/html": [
       "<div>\n",
       "<style scoped>\n",
       "    .dataframe tbody tr th:only-of-type {\n",
       "        vertical-align: middle;\n",
       "    }\n",
       "\n",
       "    .dataframe tbody tr th {\n",
       "        vertical-align: top;\n",
       "    }\n",
       "\n",
       "    .dataframe thead th {\n",
       "        text-align: right;\n",
       "    }\n",
       "</style>\n",
       "<table border=\"1\" class=\"dataframe\">\n",
       "  <thead>\n",
       "    <tr style=\"text-align: right;\">\n",
       "      <th></th>\n",
       "      <th>MemberID</th>\n",
       "      <th>ProviderID</th>\n",
       "      <th>Vendor</th>\n",
       "      <th>PCP</th>\n",
       "      <th>SupLOS</th>\n",
       "    </tr>\n",
       "  </thead>\n",
       "  <tbody>\n",
       "    <tr>\n",
       "      <th>count</th>\n",
       "      <td>2.668990e+06</td>\n",
       "      <td>2.652726e+06</td>\n",
       "      <td>2.644134e+06</td>\n",
       "      <td>2.661498e+06</td>\n",
       "      <td>2.668990e+06</td>\n",
       "    </tr>\n",
       "    <tr>\n",
       "      <th>mean</th>\n",
       "      <td>4.998824e+07</td>\n",
       "      <td>5.070900e+06</td>\n",
       "      <td>3.806974e+05</td>\n",
       "      <td>5.133819e+04</td>\n",
       "      <td>4.245801e-03</td>\n",
       "    </tr>\n",
       "    <tr>\n",
       "      <th>std</th>\n",
       "      <td>2.892240e+07</td>\n",
       "      <td>2.868035e+06</td>\n",
       "      <td>2.729317e+05</td>\n",
       "      <td>2.920591e+04</td>\n",
       "      <td>6.502135e-02</td>\n",
       "    </tr>\n",
       "    <tr>\n",
       "      <th>min</th>\n",
       "      <td>4.000000e+00</td>\n",
       "      <td>4.720000e+02</td>\n",
       "      <td>3.900000e+01</td>\n",
       "      <td>7.400000e+01</td>\n",
       "      <td>0.000000e+00</td>\n",
       "    </tr>\n",
       "    <tr>\n",
       "      <th>25%</th>\n",
       "      <td>2.480119e+07</td>\n",
       "      <td>2.467684e+06</td>\n",
       "      <td>1.526100e+05</td>\n",
       "      <td>2.746700e+04</td>\n",
       "      <td>0.000000e+00</td>\n",
       "    </tr>\n",
       "    <tr>\n",
       "      <th>50%</th>\n",
       "      <td>4.992606e+07</td>\n",
       "      <td>5.442161e+06</td>\n",
       "      <td>2.518090e+05</td>\n",
       "      <td>4.799000e+04</td>\n",
       "      <td>0.000000e+00</td>\n",
       "    </tr>\n",
       "    <tr>\n",
       "      <th>75%</th>\n",
       "      <td>7.532789e+07</td>\n",
       "      <td>7.053364e+06</td>\n",
       "      <td>5.885440e+05</td>\n",
       "      <td>7.587600e+04</td>\n",
       "      <td>0.000000e+00</td>\n",
       "    </tr>\n",
       "    <tr>\n",
       "      <th>max</th>\n",
       "      <td>9.999882e+07</td>\n",
       "      <td>9.999241e+06</td>\n",
       "      <td>9.998740e+05</td>\n",
       "      <td>9.990500e+04</td>\n",
       "      <td>1.000000e+00</td>\n",
       "    </tr>\n",
       "  </tbody>\n",
       "</table>\n",
       "</div>"
      ],
      "text/plain": [
       "           MemberID    ProviderID        Vendor           PCP        SupLOS\n",
       "count  2.668990e+06  2.652726e+06  2.644134e+06  2.661498e+06  2.668990e+06\n",
       "mean   4.998824e+07  5.070900e+06  3.806974e+05  5.133819e+04  4.245801e-03\n",
       "std    2.892240e+07  2.868035e+06  2.729317e+05  2.920591e+04  6.502135e-02\n",
       "min    4.000000e+00  4.720000e+02  3.900000e+01  7.400000e+01  0.000000e+00\n",
       "25%    2.480119e+07  2.467684e+06  1.526100e+05  2.746700e+04  0.000000e+00\n",
       "50%    4.992606e+07  5.442161e+06  2.518090e+05  4.799000e+04  0.000000e+00\n",
       "75%    7.532789e+07  7.053364e+06  5.885440e+05  7.587600e+04  0.000000e+00\n",
       "max    9.999882e+07  9.999241e+06  9.998740e+05  9.990500e+04  1.000000e+00"
      ]
     },
     "execution_count": 5,
     "metadata": {},
     "output_type": "execute_result"
    }
   ],
   "source": [
    "df_claims.describe()"
   ]
  },
  {
   "cell_type": "code",
   "execution_count": 6,
   "metadata": {
    "ExecuteTime": {
     "end_time": "2020-12-18T15:53:54.265014Z",
     "start_time": "2020-12-18T15:53:54.259002Z"
    }
   },
   "outputs": [
    {
     "data": {
      "text/plain": [
       "MemberID                   int64\n",
       "ProviderID               float64\n",
       "Vendor                   float64\n",
       "PCP                      float64\n",
       "Year                      object\n",
       "Specialty                 object\n",
       "PlaceSvc                  object\n",
       "PayDelay                  object\n",
       "LengthOfStay              object\n",
       "DSFS                      object\n",
       "PrimaryConditionGroup     object\n",
       "CharlsonIndex             object\n",
       "ProcedureGroup            object\n",
       "SupLOS                     int64\n",
       "dtype: object"
      ]
     },
     "execution_count": 6,
     "metadata": {},
     "output_type": "execute_result"
    }
   ],
   "source": [
    "df_claims.dtypes"
   ]
  },
  {
   "cell_type": "code",
   "execution_count": 7,
   "metadata": {
    "ExecuteTime": {
     "end_time": "2020-12-18T15:53:59.440201Z",
     "start_time": "2020-12-18T15:53:57.514330Z"
    }
   },
   "outputs": [
    {
     "name": "stdout",
     "output_type": "stream",
     "text": [
      "                         Total   Percent\n",
      "LengthOfStay           2597392  0.973174\n",
      "DSFS                     52770  0.019772\n",
      "Vendor                   24856  0.009313\n",
      "ProviderID               16264  0.006094\n",
      "PrimaryConditionGroup    11410  0.004275\n",
      "Specialty                 8405  0.003149\n",
      "PlaceSvc                  7632  0.002860\n",
      "PCP                       7492  0.002807\n",
      "ProcedureGroup            3675  0.001377\n",
      "SupLOS                       0  0.000000\n",
      "CharlsonIndex                0  0.000000\n",
      "PayDelay                     0  0.000000\n",
      "Year                         0  0.000000\n",
      "MemberID                     0  0.000000\n"
     ]
    },
    {
     "data": {
      "text/html": [
       "<div>\n",
       "<style scoped>\n",
       "    .dataframe tbody tr th:only-of-type {\n",
       "        vertical-align: middle;\n",
       "    }\n",
       "\n",
       "    .dataframe tbody tr th {\n",
       "        vertical-align: top;\n",
       "    }\n",
       "\n",
       "    .dataframe thead th {\n",
       "        text-align: right;\n",
       "    }\n",
       "</style>\n",
       "<table border=\"1\" class=\"dataframe\">\n",
       "  <thead>\n",
       "    <tr style=\"text-align: right;\">\n",
       "      <th></th>\n",
       "      <th>Total</th>\n",
       "      <th>Percent</th>\n",
       "    </tr>\n",
       "  </thead>\n",
       "  <tbody>\n",
       "    <tr>\n",
       "      <th>LengthOfStay</th>\n",
       "      <td>2597392</td>\n",
       "      <td>0.973174</td>\n",
       "    </tr>\n",
       "    <tr>\n",
       "      <th>DSFS</th>\n",
       "      <td>52770</td>\n",
       "      <td>0.019772</td>\n",
       "    </tr>\n",
       "    <tr>\n",
       "      <th>Vendor</th>\n",
       "      <td>24856</td>\n",
       "      <td>0.009313</td>\n",
       "    </tr>\n",
       "    <tr>\n",
       "      <th>ProviderID</th>\n",
       "      <td>16264</td>\n",
       "      <td>0.006094</td>\n",
       "    </tr>\n",
       "    <tr>\n",
       "      <th>PrimaryConditionGroup</th>\n",
       "      <td>11410</td>\n",
       "      <td>0.004275</td>\n",
       "    </tr>\n",
       "    <tr>\n",
       "      <th>Specialty</th>\n",
       "      <td>8405</td>\n",
       "      <td>0.003149</td>\n",
       "    </tr>\n",
       "    <tr>\n",
       "      <th>PlaceSvc</th>\n",
       "      <td>7632</td>\n",
       "      <td>0.002860</td>\n",
       "    </tr>\n",
       "    <tr>\n",
       "      <th>PCP</th>\n",
       "      <td>7492</td>\n",
       "      <td>0.002807</td>\n",
       "    </tr>\n",
       "    <tr>\n",
       "      <th>ProcedureGroup</th>\n",
       "      <td>3675</td>\n",
       "      <td>0.001377</td>\n",
       "    </tr>\n",
       "    <tr>\n",
       "      <th>SupLOS</th>\n",
       "      <td>0</td>\n",
       "      <td>0.000000</td>\n",
       "    </tr>\n",
       "    <tr>\n",
       "      <th>CharlsonIndex</th>\n",
       "      <td>0</td>\n",
       "      <td>0.000000</td>\n",
       "    </tr>\n",
       "    <tr>\n",
       "      <th>PayDelay</th>\n",
       "      <td>0</td>\n",
       "      <td>0.000000</td>\n",
       "    </tr>\n",
       "    <tr>\n",
       "      <th>Year</th>\n",
       "      <td>0</td>\n",
       "      <td>0.000000</td>\n",
       "    </tr>\n",
       "    <tr>\n",
       "      <th>MemberID</th>\n",
       "      <td>0</td>\n",
       "      <td>0.000000</td>\n",
       "    </tr>\n",
       "  </tbody>\n",
       "</table>\n",
       "</div>"
      ],
      "text/plain": [
       "                         Total   Percent\n",
       "LengthOfStay           2597392  0.973174\n",
       "DSFS                     52770  0.019772\n",
       "Vendor                   24856  0.009313\n",
       "ProviderID               16264  0.006094\n",
       "PrimaryConditionGroup    11410  0.004275\n",
       "Specialty                 8405  0.003149\n",
       "PlaceSvc                  7632  0.002860\n",
       "PCP                       7492  0.002807\n",
       "ProcedureGroup            3675  0.001377\n",
       "SupLOS                       0  0.000000\n",
       "CharlsonIndex                0  0.000000\n",
       "PayDelay                     0  0.000000\n",
       "Year                         0  0.000000\n",
       "MemberID                     0  0.000000"
      ]
     },
     "execution_count": 7,
     "metadata": {},
     "output_type": "execute_result"
    }
   ],
   "source": [
    "def count_missing(df):   \n",
    "    total = df.isnull().sum().sort_values(ascending=False)\n",
    "    percent = (df.isnull().sum()/df.isnull().count()).sort_values(ascending=False)\n",
    "    missing_data  = pd.concat([total, percent], axis=1, keys=['Total', 'Percent'])\n",
    "    print(missing_data.head(20))\n",
    "    return missing_data\n",
    "\n",
    "count_missing(df_claims)"
   ]
  },
  {
   "cell_type": "code",
   "execution_count": 69,
   "metadata": {
    "ExecuteTime": {
     "end_time": "2020-12-18T16:42:58.373290Z",
     "start_time": "2020-12-18T16:42:58.058134Z"
    }
   },
   "outputs": [
    {
     "data": {
      "text/plain": [
       "<matplotlib.axes._subplots.AxesSubplot at 0x2315899b0b8>"
      ]
     },
     "execution_count": 69,
     "metadata": {},
     "output_type": "execute_result"
    },
    {
     "data": {
      "image/png": "[encoded data removed]",
      "text/plain": [
       "<Figure size 432x288 with 1 Axes>"
      ]
     },
     "metadata": {},
     "output_type": "display_data"
    }
   ],
   "source": [
    "import seaborn as sns # Library for plotting\n",
    "import itertools\n",
    "\n",
    "color = sns.color_palette()\n",
    "sns.set_style('darkgrid')\n",
    "\n",
    "plt.title(\"Days since first claim\")\n",
    "plt.ylabel('Count')\n",
    "plt.xlabel('Month')\n",
    "\n",
    "#Set tick colors:\n",
    "ax = plt.gca()\n",
    "ax.tick_params(axis='x', colors='blue')\n",
    "ax.tick_params(axis='y', colors='black')\n",
    "my_colors = ['orange', 'red', 'green', 'blue', 'cyan', 'pink']\n",
    "\n",
    "df_claims.groupby(['DSFS']).size().plot( \n",
    "    kind='bar',\n",
    "    alpha=0.4, linewidth=1,\n",
    "    color=my_colors\n",
    ")\n"
   ]
  },
  {
   "cell_type": "code",
   "execution_count": 70,
   "metadata": {
    "ExecuteTime": {
     "end_time": "2020-12-18T16:43:05.177273Z",
     "start_time": "2020-12-18T16:43:04.852171Z"
    }
   },
   "outputs": [
    {
     "data": {
      "text/plain": [
       "<matplotlib.axes._subplots.AxesSubplot at 0x23158a0d668>"
      ]
     },
     "execution_count": 70,
     "metadata": {},
     "output_type": "execute_result"
    },
    {
     "data": {
      "image/png": "[encoded data removed]",
      "text/plain": [
       "<Figure size 432x288 with 1 Axes>"
      ]
     },
     "metadata": {},
     "output_type": "display_data"
    }
   ],
   "source": [
    "color = sns.color_palette()\n",
    "sns.set_style('darkgrid')\n",
    "\n",
    "plt.title(\"Generalized specialty\")\n",
    "plt.ylabel('Count')\n",
    "plt.xlabel('Specialty')\n",
    "\n",
    "#Set tick colors:\n",
    "ax = plt.gca()\n",
    "ax.tick_params(axis='x', colors='blue')\n",
    "ax.tick_params(axis='y', colors='black')\n",
    "my_colors = ['orange', 'red', 'green', 'blue', 'cyan', 'pink']\n",
    "\n",
    "df_claims.groupby(['Specialty']).size().plot( \n",
    "    kind='bar',\n",
    "    alpha=0.8, linewidth=1,\n",
    "    color=my_colors\n",
    ")"
   ]
  },
  {
   "cell_type": "code",
   "execution_count": 71,
   "metadata": {
    "ExecuteTime": {
     "end_time": "2020-12-18T16:43:09.712297Z",
     "start_time": "2020-12-18T16:43:09.384144Z"
    },
    "scrolled": true
   },
   "outputs": [
    {
     "data": {
      "text/plain": [
       "<matplotlib.axes._subplots.AxesSubplot at 0x23158ab22e8>"
      ]
     },
     "execution_count": 71,
     "metadata": {},
     "output_type": "execute_result"
    },
    {
     "data": {
      "image/png": "[encoded data removed]",
      "text/plain": [
       "<Figure size 432x288 with 1 Axes>"
      ]
     },
     "metadata": {},
     "output_type": "display_data"
    }
   ],
   "source": [
    "color = sns.color_palette()\n",
    "sns.set_style('darkgrid')\n",
    "\n",
    "plt.title(\"Broad diagnostic categories\")\n",
    "plt.ylabel('Count')\n",
    "plt.xlabel('ProcedureGroup')\n",
    "\n",
    "#Set tick colors:\n",
    "ax = plt.gca()\n",
    "ax.tick_params(axis='x', colors='blue')\n",
    "ax.tick_params(axis='y', colors='black')\n",
    "my_colors = ['orange', 'red', 'green', 'blue', 'cyan', 'pink']\n",
    "\n",
    "df_claims.groupby(['ProcedureGroup']).size().plot( \n",
    "    kind='bar',\n",
    "    alpha=0.8, linewidth=1,\n",
    "    color=my_colors\n",
    ")"
   ]
  },
  {
   "cell_type": "code",
   "execution_count": 72,
   "metadata": {
    "ExecuteTime": {
     "end_time": "2020-12-18T16:43:45.242016Z",
     "start_time": "2020-12-18T16:43:45.207851Z"
    }
   },
   "outputs": [],
   "source": [
    "df_claims['PCP'].fillna((df_claims['PCP'].mean()), inplace=True)"
   ]
  },
  {
   "cell_type": "code",
   "execution_count": 73,
   "metadata": {
    "ExecuteTime": {
     "end_time": "2020-12-18T16:43:50.604478Z",
     "start_time": "2020-12-18T16:43:47.586449Z"
    }
   },
   "outputs": [
    {
     "data": {
      "text/plain": [
       "<matplotlib.axes._subplots.AxesSubplot at 0x23158b449b0>"
      ]
     },
     "execution_count": 73,
     "metadata": {},
     "output_type": "execute_result"
    },
    {
     "data": {
      "image/png": "[encoded data removed]",
      "text/plain": [
       "<Figure size 432x288 with 1 Axes>"
      ]
     },
     "metadata": {},
     "output_type": "display_data"
    }
   ],
   "source": [
    "sns.distplot(df_claims.skew(),color='blue',axlabel ='Skewness')"
   ]
  },
  {
   "cell_type": "code",
   "execution_count": 88,
   "metadata": {
    "ExecuteTime": {
     "end_time": "2020-12-19T07:28:49.754287Z",
     "start_time": "2020-12-19T07:28:49.593682Z"
    }
   },
   "outputs": [
    {
     "data": {
      "text/plain": [
       "<matplotlib.axes._subplots.AxesSubplot at 0x2315acb0ef0>"
      ]
     },
     "execution_count": 88,
     "metadata": {},
     "output_type": "execute_result"
    },
    {
     "data": {
      "image/png": "[encoded data removed]",
      "text/plain": [
       "<Figure size 432x288 with 1 Axes>"
      ]
     },
     "metadata": {
      "needs_background": "light"
     },
     "output_type": "display_data"
    }
   ],
   "source": [
    "plt.title(\"Member\")\n",
    "plt.ylabel('Count')\n",
    "plt.xlabel('Times')\n",
    "\n",
    "#Set tick colors:\n",
    "ax = plt.gca()\n",
    "ax.tick_params(axis='x', colors='blue')\n",
    "ax.tick_params(axis='y', colors='black')\n",
    "my_colors = ['orange', 'red', 'green', 'blue', 'cyan', 'pink']\n",
    "\n",
    "df_member.groupby(['AgeAtFirstClaim']).size().plot( \n",
    "    kind='bar',\n",
    "    alpha=0.8, linewidth=1,\n",
    "    color=my_colors\n",
    ")"
   ]
  },
  {
   "cell_type": "code",
   "execution_count": 89,
   "metadata": {
    "ExecuteTime": {
     "end_time": "2020-12-19T07:29:22.163419Z",
     "start_time": "2020-12-19T07:29:22.065653Z"
    }
   },
   "outputs": [
    {
     "data": {
      "text/plain": [
       "<matplotlib.axes._subplots.AxesSubplot at 0x2315ad2fb70>"
      ]
     },
     "execution_count": 89,
     "metadata": {},
     "output_type": "execute_result"
    },
    {
     "data": {
      "image/png": "[encoded data removed]",
      "text/plain": [
       "<Figure size 432x288 with 1 Axes>"
      ]
     },
     "metadata": {
      "needs_background": "light"
     },
     "output_type": "display_data"
    }
   ],
   "source": [
    "plt.title(\"Member\")\n",
    "plt.ylabel('Count')\n",
    "plt.xlabel('Times')\n",
    "\n",
    "#Set tick colors:\n",
    "ax = plt.gca()\n",
    "ax.tick_params(axis='x', colors='blue')\n",
    "ax.tick_params(axis='y', colors='black')\n",
    "my_colors = ['orange', 'red', 'green', 'blue', 'cyan', 'pink']\n",
    "\n",
    "df_member.groupby(['Sex']).size().plot( \n",
    "    kind='bar',\n",
    "    alpha=0.8, linewidth=1,\n",
    "    color=my_colors\n",
    ")"
   ]
  },
  {
   "cell_type": "code",
   "execution_count": 76,
   "metadata": {
    "ExecuteTime": {
     "end_time": "2020-12-18T17:24:48.984664Z",
     "start_time": "2020-12-18T17:24:48.824067Z"
    }
   },
   "outputs": [
    {
     "data": {
      "text/plain": [
       "<matplotlib.axes._subplots.AxesSubplot at 0x23157dde3c8>"
      ]
     },
     "execution_count": 76,
     "metadata": {},
     "output_type": "execute_result"
    },
    {
     "data": {
      "image/png": "[encoded data removed]",
      "text/plain": [
       "<Figure size 432x288 with 1 Axes>"
      ]
     },
     "metadata": {},
     "output_type": "display_data"
    }
   ],
   "source": [
    "color = sns.color_palette()\n",
    "sns.set_style('darkgrid')\n",
    "\n",
    "plt.title(\"LabCount\")\n",
    "plt.ylabel('Count')\n",
    "plt.xlabel('Times')\n",
    "\n",
    "#Set tick colors:\n",
    "ax = plt.gca()\n",
    "ax.tick_params(axis='x', colors='blue')\n",
    "ax.tick_params(axis='y', colors='black')\n",
    "my_colors = ['orange', 'red', 'green', 'blue', 'cyan', 'pink']\n",
    "\n",
    "df_lab.groupby(['LabCount']).size().plot( \n",
    "    kind='bar',\n",
    "    alpha=0.8, linewidth=1,\n",
    "    color=my_colors\n",
    ")\n"
   ]
  },
  {
   "cell_type": "code",
   "execution_count": 79,
   "metadata": {
    "ExecuteTime": {
     "end_time": "2020-12-18T17:28:13.732094Z",
     "start_time": "2020-12-18T17:28:13.582502Z"
    }
   },
   "outputs": [
    {
     "data": {
      "text/plain": [
       "<matplotlib.axes._subplots.AxesSubplot at 0x2315ac1bb70>"
      ]
     },
     "execution_count": 79,
     "metadata": {},
     "output_type": "execute_result"
    },
    {
     "data": {
      "image/png": "[encoded data removed]",
      "text/plain": [
       "<Figure size 432x288 with 1 Axes>"
      ]
     },
     "metadata": {},
     "output_type": "display_data"
    }
   ],
   "source": [
    "color = sns.color_palette()\n",
    "sns.set_style('darkgrid')\n",
    "\n",
    "plt.title(\"DrugCount\")\n",
    "plt.ylabel('Count')\n",
    "plt.xlabel('Times')\n",
    "\n",
    "#Set tick colors:\n",
    "ax = plt.gca()\n",
    "ax.tick_params(axis='x', colors='blue')\n",
    "ax.tick_params(axis='y', colors='black')\n",
    "my_colors = ['orange', 'red', 'green', 'blue', 'cyan', 'pink']\n",
    "\n",
    "df_drug.groupby(['DrugCount']).size().plot( \n",
    "    kind='bar',\n",
    "    alpha=0.8, linewidth=1,\n",
    "    color=my_colors\n",
    ")"
   ]
  },
  {
   "cell_type": "code",
   "execution_count": 81,
   "metadata": {
    "ExecuteTime": {
     "end_time": "2020-12-18T17:36:16.725214Z",
     "start_time": "2020-12-18T17:36:16.550681Z"
    }
   },
   "outputs": [
    {
     "data": {
      "text/plain": [
       "<matplotlib.axes._subplots.AxesSubplot at 0x2315accacc0>"
      ]
     },
     "execution_count": 81,
     "metadata": {},
     "output_type": "execute_result"
    },
    {
     "data": {
      "image/png": "[encoded data removed]",
      "text/plain": [
       "<Figure size 432x288 with 1 Axes>"
      ]
     },
     "metadata": {},
     "output_type": "display_data"
    }
   ],
   "source": [
    "color = sns.color_palette()\n",
    "sns.set_style('darkgrid')\n",
    "\n",
    "plt.title(\"DaysInHospital\")\n",
    "plt.ylabel('Count')\n",
    "plt.xlabel('Times')\n",
    "\n",
    "#Set tick colors:\n",
    "ax = plt.gca()\n",
    "ax.tick_params(axis='x', colors='blue')\n",
    "ax.tick_params(axis='y', colors='black')\n",
    "my_colors = ['orange', 'red', 'green', 'blue', 'cyan', 'pink']\n",
    "\n",
    "df_Y2.groupby(['DaysInHospital']).size().plot( \n",
    "    kind='bar',\n",
    "    alpha=0.8, linewidth=1,\n",
    "    color=my_colors\n",
    ")"
   ]
  },
  {
   "cell_type": "code",
   "execution_count": 83,
   "metadata": {
    "ExecuteTime": {
     "end_time": "2020-12-18T17:37:30.553852Z",
     "start_time": "2020-12-18T17:37:30.455145Z"
    }
   },
   "outputs": [
    {
     "data": {
      "text/plain": [
       "<matplotlib.axes._subplots.AxesSubplot at 0x230a21d2dd8>"
      ]
     },
     "execution_count": 83,
     "metadata": {},
     "output_type": "execute_result"
    },
    {
     "data": {
      "image/png": "[encoded data removed]",
      "text/plain": [
       "<Figure size 432x288 with 1 Axes>"
      ]
     },
     "metadata": {},
     "output_type": "display_data"
    }
   ],
   "source": [
    "color = sns.color_palette()\n",
    "sns.set_style('darkgrid')\n",
    "\n",
    "plt.title(\"ClaimsTruncated\")\n",
    "plt.ylabel('Count')\n",
    "plt.xlabel('Times')\n",
    "\n",
    "#Set tick colors:\n",
    "ax = plt.gca()\n",
    "ax.tick_params(axis='x', colors='blue')\n",
    "ax.tick_params(axis='y', colors='black')\n",
    "my_colors = ['orange', 'red', 'green', 'blue', 'cyan', 'pink']\n",
    "\n",
    "df_Y2.groupby(['ClaimsTruncated']).size().plot( \n",
    "    kind='bar',\n",
    "    alpha=0.8, linewidth=1,\n",
    "    color=my_colors\n",
    ")"
   ]
  },
  {
   "cell_type": "code",
   "execution_count": 84,
   "metadata": {
    "ExecuteTime": {
     "end_time": "2020-12-18T17:37:38.137281Z",
     "start_time": "2020-12-18T17:37:37.967702Z"
    }
   },
   "outputs": [
    {
     "data": {
      "text/plain": [
       "<matplotlib.axes._subplots.AxesSubplot at 0x230a2564c88>"
      ]
     },
     "execution_count": 84,
     "metadata": {},
     "output_type": "execute_result"
    },
    {
     "data": {
      "image/png": "[encoded data removed]",
      "text/plain": [
       "<Figure size 432x288 with 1 Axes>"
      ]
     },
     "metadata": {},
     "output_type": "display_data"
    }
   ],
   "source": [
    "color = sns.color_palette()\n",
    "sns.set_style('darkgrid')\n",
    "\n",
    "plt.title(\"DaysInHospital\")\n",
    "plt.ylabel('Count')\n",
    "plt.xlabel('Times')\n",
    "\n",
    "#Set tick colors:\n",
    "ax = plt.gca()\n",
    "ax.tick_params(axis='x', colors='blue')\n",
    "ax.tick_params(axis='y', colors='black')\n",
    "my_colors = ['orange', 'red', 'green', 'blue', 'cyan', 'pink']\n",
    "\n",
    "df_Y3.groupby(['DaysInHospital']).size().plot( \n",
    "    kind='bar',\n",
    "    alpha=0.8, linewidth=1,\n",
    "    color=my_colors\n",
    ")"
   ]
  },
  {
   "cell_type": "code",
   "execution_count": 85,
   "metadata": {
    "ExecuteTime": {
     "end_time": "2020-12-18T17:37:51.663589Z",
     "start_time": "2020-12-18T17:37:51.564826Z"
    }
   },
   "outputs": [
    {
     "data": {
      "text/plain": [
       "<matplotlib.axes._subplots.AxesSubplot at 0x230a255da90>"
      ]
     },
     "execution_count": 85,
     "metadata": {},
     "output_type": "execute_result"
    },
    {
     "data": {
      "image/png": "[encoded data removed]",
      "text/plain": [
       "<Figure size 432x288 with 1 Axes>"
      ]
     },
     "metadata": {},
     "output_type": "display_data"
    }
   ],
   "source": [
    "color = sns.color_palette()\n",
    "sns.set_style('darkgrid')\n",
    "\n",
    "plt.title(\"ClaimsTruncated\")\n",
    "plt.ylabel('Count')\n",
    "plt.xlabel('Times')\n",
    "\n",
    "#Set tick colors:\n",
    "ax = plt.gca()\n",
    "ax.tick_params(axis='x', colors='blue')\n",
    "ax.tick_params(axis='y', colors='black')\n",
    "my_colors = ['orange', 'red', 'green', 'blue', 'cyan', 'pink']\n",
    "\n",
    "df_Y3.groupby(['ClaimsTruncated']).size().plot( \n",
    "    kind='bar',\n",
    "    alpha=0.8, linewidth=1,\n",
    "    color=my_colors\n",
    ")"
   ]
  }
 ],
 "metadata": {
  "kernelspec": {
   "display_name": "Python 3",
   "language": "python",
   "name": "python3"
  },
  "language_info": {
   "codemirror_mode": {
    "name": "ipython",
    "version": 3
   },
   "file_extension": ".py",
   "mimetype": "text/x-python",
   "name": "python",
   "nbconvert_exporter": "python",
   "pygments_lexer": "ipython3",
   "version": "3.6.10"
  }
 },
 "nbformat": 4,
 "nbformat_minor": 2
}
